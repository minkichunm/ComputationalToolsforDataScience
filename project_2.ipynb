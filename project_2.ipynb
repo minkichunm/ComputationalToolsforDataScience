{
  "nbformat": 4,
  "nbformat_minor": 0,
  "metadata": {
    "colab": {
      "name": "project2.ipynb",
      "provenance": [],
      "collapsed_sections": []
    },
    "kernelspec": {
      "display_name": "Python 3",
      "language": "python",
      "name": "python3"
    },
    "language_info": {
      "codemirror_mode": {
        "name": "ipython",
        "version": 3
      },
      "file_extension": ".py",
      "mimetype": "text/x-python",
      "name": "python",
      "nbconvert_exporter": "python",
      "pygments_lexer": "ipython3",
      "version": "3.8.10"
    },
    "toc": {
      "base_numbering": 1,
      "nav_menu": {},
      "number_sections": true,
      "sideBar": true,
      "skip_h1_title": false,
      "title_cell": "Table of Contents",
      "title_sidebar": "Contents",
      "toc_cell": false,
      "toc_position": {
        "height": "calc(100% - 180px)",
        "left": "10px",
        "top": "150px",
        "width": "432.448px"
      },
      "toc_section_display": true,
      "toc_window_display": true
    }
  },
  "cells": [
    {
      "cell_type": "markdown",
      "metadata": {
        "id": "PlsPJUw7wCWZ"
      },
      "source": [
        "# 02807: Project 2\n",
        " \n",
        "## Practical information\n",
        " \n",
        "* This project must be completed in groups of 3 students.\n",
        "    * The group must be registered on the course site on DTU Learn: My Course > Groups\n",
        "    * Groups must be registered anew (even if you already registered for Project 1)\n",
        "* This project must be handed in as a jupyter notebook to the course site on DTU Learn. \n",
        "    * Go to the Course Content > Assignments tab to upload your submission. \n",
        "* This project is due on Monday, November 29, 20:00.\n",
        "\n",
        "## Submission rules\n",
        "\n",
        "* Each group has to hand in *one* notebook (`.ipynb`) with their solutions, including a filled out Contribution table (see below).\n",
        "* Your solution must be written in Python.\n",
        "* For each question you should use the cells provided (\"`# your code goes here`\" and \"*your explanation here*\") for your solution\n",
        "    * It is allowed to add code cells within a question block, but consider if it's really necessary.\n",
        "* You should not remove the problem statements, and you should not modify the structure of the notebook.\n",
        "* Your notebook should be runnable and readable from top to bottom.\n",
        "    * Meaning that your code cells work when run in order (from top to bottom).\n",
        "    * Output of any cell depends only on itself and cells above it.\n",
        "* Your notebook should be submitted after having been run from top to bottom.\n",
        "    * This means outputs are interpretable without necessarily running your cells.\n",
        "    * The simplest way to achieve this is using the jupyter menu item Kernel > Restart & Run All just prior to submission. If any cell fails when you do this, your notebook is not ready for submission.\n",
        "    * Exercise 3 in particular will take time to finish, plan accordingly, that is, make sure you have time to run your notebook from top to bottom.\n",
        "* Failure to comply may make it impossible for us to evaluate your submission properly, which will likely negatively impact the points awarded.\n",
        "\n",
        "## Solution guidelines\n",
        "* Data processing is via Spark for the first three exercises and pandas/SQL in the fourth exercise.\n",
        "* Where naming of dataframes and functions are explicitly stated, these must be used.\n",
        "* Your solutions will be evaluated by correctness, code quality and interpretability of the output. \n",
        "    * You have to write clean, readable and efficient Spark code that will generate sensible execution plans.\n",
        "    * You have to write clean, readable and efficient SQL queries.\n",
        "    * Your tables and visualisations should be meaningful and easy to read. This requires, but is not limited to, including headers, legends and well-written (brief) descriptions for graphs/charts. In this step you've found the data processing solution, so put also some effort into its presentation.\n",
        "\n",
        "## Colaboration policy\n",
        " \n",
        "* It is not allowed to collaborate on the exercises with students outside your group, except for discussing the text of the exercise with teachers and fellow students enrolled on the course in the same semester. \n",
        "* It is not allowed to exchange, hand-over or in any other way communicate solutions or parts of solutions to the exercises. \n",
        "* It is not allowed to use solutions from similar courses, or solutions found elsewhere."
      ]
    },
    {
      "cell_type": "markdown",
      "metadata": {
        "id": "ZP30rwxHDQyG"
      },
      "source": [
        "## Contribution table and grading\n",
        "\n",
        "* The total amount of points in the project is 150.\n",
        "* You have to indicate who has solved each part of each exercise in a **contribution table**. \n",
        "* A group member can take credit for solving a part of an exercise only if they have contributed **substantially** to the solution. \n",
        "    * Simple contributions, such as correcting a small bug or double-checking the results of functions, are not sufficient for taking credit for a solution.\n",
        "    * Several group members can take credit for the same solution if they all have contributed substantially to it.\n",
        "* Each group member must contribute **at least 65 points**. \n",
        "    * If no name is provided for an exercise's part, **all group members** are considered contributors to it.\n",
        "* Group members should decide amongst themselves how to collaborate on the project to meet these constraints.  \n",
        "* Scores are individual. The score $\\text{score}(m)$ for a group member $m$ ranges from 0 to 10 and is calculated as follows: \n",
        "\n",
        "  * $\\text{individual-score}(m) = \\frac{\\text{total number of points for the parts correctly solved by }m}{\\text{total number of points for the parts contributed by }m}$\n",
        "\n",
        "  * $\\text{group-score} = \\frac{\\text{total number of points correctly solved by any group member}}{\\text{total number of points in the project}}$\n",
        "\n",
        "  * $\\text{score}(m) =  7.5 \\cdot \\text{individual-score}(m) + 2.5 \\cdot \\text{group-score}$\n",
        "  \n",
        "  \n",
        "* The following is an example of a contributions table:\n",
        "\n",
        "|        | Exercise 1 | Exercise 2 | Exercise 3 | Exercise 4 |\n",
        "|--------|------------|------------|------------|------------|\n",
        "| **Part 1** | John       |    Mary        |     Ann       |   Mary, Ann         |\n",
        "| **Part 2** |     Mary       |    Mary        |   Ann         |    John, Ann        |\n",
        "| **Part 3** |     John, Mary, Ann       |      John, Ann      |   John         | John      |\n",
        "| **Part 4** | Ann       |  Ann          |     John, Mary       | John       |\n",
        "| **Part 5** | **n.a.**     | John, Mary, Ann           | **n.a.**       | **n.a.**       |\n",
        "\n",
        "\n",
        "* **Example**: in the contribution table above, suppose that all parts are solved correctly except for those of Exercise 4 which are all wrong. Then Ann's score is calculated as follows:\n",
        "\n",
        "  * $\\text{individual-score}(Ann) = \\frac{5+5+10+5+5+15+15}{5+5+10+5+5+15+15+15+5} = \\frac{60}{80} = 0.75$\n",
        "\n",
        "  * $\\text{group-score} = \\frac{95}{150} = 0.633$\n",
        "\n",
        "  * $\\text{score}(Ann) = 7.5\\cdot 0.75 + 2.5 \\cdot 0.633 = 7.21$\n"
      ]
    },
    {
      "cell_type": "markdown",
      "metadata": {
        "id": "vklet8XdRGVV"
      },
      "source": [
        "# Group contribution table \n",
        "\n",
        "This table must be filled before submission.\n",
        "\n"
      ]
    },
    {
      "cell_type": "code",
      "metadata": {
        "ExecuteTime": {
          "end_time": "2021-11-02T13:07:49.385821Z",
          "start_time": "2021-11-02T13:07:48.995596Z"
        },
        "colab": {
          "base_uri": "https://localhost:8080/",
          "height": 204
        },
        "id": "chiXA3CzRSA1",
        "outputId": "2f7b13ba-e22a-43f8-c898-dd596e84ca31"
      },
      "source": [
        "import pandas as pd\n",
        "\n",
        "d = {'Exercise 1' : ['', '', '', '', 'n.a'], \n",
        "     'Exercise 2' : ['', '', '', '', ''],\n",
        "     'Exercise 3' : ['', '', '', '', 'n.a'],\n",
        "     'Exercise 4' : ['', '', '', '', 'n.a'],\n",
        "     } \n",
        "  \n",
        "ct = pd.DataFrame(d, index=['Part 1', 'Part 2', 'Part 3', 'Part 4', 'Part 5']) \n",
        "\n",
        "ct"
      ],
      "execution_count": null,
      "outputs": [
        {
          "output_type": "execute_result",
          "data": {
            "text/html": [
              "<div>\n",
              "<style scoped>\n",
              "    .dataframe tbody tr th:only-of-type {\n",
              "        vertical-align: middle;\n",
              "    }\n",
              "\n",
              "    .dataframe tbody tr th {\n",
              "        vertical-align: top;\n",
              "    }\n",
              "\n",
              "    .dataframe thead th {\n",
              "        text-align: right;\n",
              "    }\n",
              "</style>\n",
              "<table border=\"1\" class=\"dataframe\">\n",
              "  <thead>\n",
              "    <tr style=\"text-align: right;\">\n",
              "      <th></th>\n",
              "      <th>Exercise 1</th>\n",
              "      <th>Exercise 2</th>\n",
              "      <th>Exercise 3</th>\n",
              "      <th>Exercise 4</th>\n",
              "    </tr>\n",
              "  </thead>\n",
              "  <tbody>\n",
              "    <tr>\n",
              "      <th>Part 1</th>\n",
              "      <td></td>\n",
              "      <td></td>\n",
              "      <td></td>\n",
              "      <td></td>\n",
              "    </tr>\n",
              "    <tr>\n",
              "      <th>Part 2</th>\n",
              "      <td></td>\n",
              "      <td></td>\n",
              "      <td></td>\n",
              "      <td></td>\n",
              "    </tr>\n",
              "    <tr>\n",
              "      <th>Part 3</th>\n",
              "      <td></td>\n",
              "      <td></td>\n",
              "      <td></td>\n",
              "      <td></td>\n",
              "    </tr>\n",
              "    <tr>\n",
              "      <th>Part 4</th>\n",
              "      <td></td>\n",
              "      <td></td>\n",
              "      <td></td>\n",
              "      <td></td>\n",
              "    </tr>\n",
              "    <tr>\n",
              "      <th>Part 5</th>\n",
              "      <td>n.a</td>\n",
              "      <td></td>\n",
              "      <td>n.a</td>\n",
              "      <td>n.a</td>\n",
              "    </tr>\n",
              "  </tbody>\n",
              "</table>\n",
              "</div>"
            ],
            "text/plain": [
              "       Exercise 1 Exercise 2 Exercise 3 Exercise 4\n",
              "Part 1                                            \n",
              "Part 2                                            \n",
              "Part 3                                            \n",
              "Part 4                                            \n",
              "Part 5        n.a                   n.a        n.a"
            ]
          },
          "metadata": {},
          "execution_count": 1
        }
      ]
    },
    {
      "cell_type": "markdown",
      "metadata": {
        "id": "dPlNQTICo9sH"
      },
      "source": [
        "# The AirBnB dataset\n",
        "\n",
        "<img src=\"https://www.esquireme.com/public/images/2019/11/03/airbnb-678x381.jpg\" alt=\"airbnb\" width=\"400\"/>\n",
        "\n",
        "[Airbnb](http://airbnb.com) is an online marketplace for arranging or offering lodgings. In the first three exercises you will use Spark to analyze data obtained from the Airbnb website (stricly speaking via data scraped by [insideairbnb](http://insideairbnb.com/get-the-data.html)). The purpose of your analysis is to extract insights about listings as a whole, specifics about London, and sentiment analysis of reviews (word positivity).\n",
        "\n",
        "\n",
        "## Loading data\n",
        "The dataset consists of listings (offered lodgings) and reviews (submitted by users). The `.csv`'s you'll work with vary between the first three exercises, but is structured so that the function below will load it into a spark dataframe."
      ]
    },
    {
      "cell_type": "code",
      "metadata": {
        "ExecuteTime": {
          "end_time": "2021-11-02T13:07:51.283648Z",
          "start_time": "2021-11-02T13:07:51.280806Z"
        },
        "id": "E9BEj7re4jnN"
      },
      "source": [
        "def load_csv_as_dataframe(path):\n",
        "    return spark.read.option('header', True) \\\n",
        "                .option('inferSchema', True) \\\n",
        "                .option('multiLine', 'True') \\\n",
        "                .option('escape', '\"') \\\n",
        "                .option('mode', 'DROPMALFORMED')\\\n",
        "                .csv(path)"
      ],
      "execution_count": null,
      "outputs": []
    },
    {
      "cell_type": "markdown",
      "metadata": {
        "id": "-4hk-43Io9sI"
      },
      "source": [
        "## Imports and Spark session\n",
        "\n",
        "* You'll need to adapt the `JAVA_HOME` environment variable to your setup. \n",
        "* You should set the `spark.driver.memory` value to the amount of memory on your machine. \n",
        "* It may be required for you to install some of the packages imported below (e.g. pandasql)."
      ]
    },
    {
      "cell_type": "code",
      "metadata": {
        "ExecuteTime": {
          "end_time": "2021-11-02T13:32:31.290655Z",
          "start_time": "2021-11-02T13:32:31.284171Z"
        },
        "id": "Zy1rMfRh4jnN",
        "colab": {
          "base_uri": "https://localhost:8080/"
        },
        "outputId": "a703d72b-31e7-418b-ec08-2093add859d1"
      },
      "source": [
        "# Instructions on p. 20 Learning Spark, 2nd ed.\n",
        "# Here's a quick-guide, googling may also be required\n",
        "# 1) Install pyspark via conda/pip\n",
        "#          pyspark requires the JAVA_HOME environment variable is set.\n",
        "# 2) Install JDK 8 or 11, figure out the install location\n",
        "#          Suggest to use https://adoptopenjdk.net/\n",
        "# 3) Update the JAVA_HOME environment variable set programmatically below \n",
        "#    with your install location specifics\n",
        "\n",
        "# JAVA_HOME environment variable is set programatically below\n",
        "# but you must point it to your local install\n",
        "\n",
        "import os\n",
        "# os.environ['JAVA_HOME'] = '/Library/Java/JavaVirtualMachines/adoptopenjdk-8.jdk/Contents/Home/'\n",
        "!pip install pyspark\n",
        "\n",
        "!pip install -U -q PyDrive\n",
        "\n",
        "!apt install openjdk-8-jdk-headless -qq\n",
        "!pip install pandasql==0.7.3\n",
        "os.environ[\"JAVA_HOME\"] = \"/usr/lib/jvm/java-8-openjdk-amd64\"\n",
        "\n",
        "# If you get \"Job aborted due to stage failure\" and \n",
        "# \"Python worker failed to connect back.\" exceptions, \n",
        "# this should be solved by additionally setting these \n",
        "# environment variables\n",
        "\n",
        "os.environ['PYSPARK_PYTHON'] = 'python'\n",
        "os.environ['PYSPARK_DRIVER_PYTHON'] = 'jupyter'\n",
        "os.environ['PYSPARK_DRIVER_PYTHON_OPTS'] = 'notebook'"
      ],
      "execution_count": null,
      "outputs": [
        {
          "output_type": "stream",
          "name": "stdout",
          "text": [
            "Collecting pyspark\n",
            "  Downloading pyspark-3.2.0.tar.gz (281.3 MB)\n",
            "\u001b[K     |████████████████████████████████| 281.3 MB 34 kB/s \n",
            "\u001b[?25hCollecting py4j==0.10.9.2\n",
            "  Downloading py4j-0.10.9.2-py2.py3-none-any.whl (198 kB)\n",
            "\u001b[K     |████████████████████████████████| 198 kB 11.0 MB/s \n",
            "\u001b[?25hBuilding wheels for collected packages: pyspark\n",
            "  Building wheel for pyspark (setup.py) ... \u001b[?25l\u001b[?25hdone\n",
            "  Created wheel for pyspark: filename=pyspark-3.2.0-py2.py3-none-any.whl size=281805912 sha256=f5c019481ab9bccb5d66c4d3459c908c28299aae5329245f94c814a0a1114bcc\n",
            "  Stored in directory: /root/.cache/pip/wheels/0b/de/d2/9be5d59d7331c6c2a7c1b6d1a4f463ce107332b1ecd4e80718\n",
            "Successfully built pyspark\n",
            "Installing collected packages: py4j, pyspark\n",
            "Successfully installed py4j-0.10.9.2 pyspark-3.2.0\n",
            "The following additional packages will be installed:\n",
            "  openjdk-8-jre-headless\n",
            "Suggested packages:\n",
            "  openjdk-8-demo openjdk-8-source libnss-mdns fonts-dejavu-extra\n",
            "  fonts-ipafont-gothic fonts-ipafont-mincho fonts-wqy-microhei\n",
            "  fonts-wqy-zenhei fonts-indic\n",
            "The following NEW packages will be installed:\n",
            "  openjdk-8-jdk-headless openjdk-8-jre-headless\n",
            "0 upgraded, 2 newly installed, 0 to remove and 37 not upgraded.\n",
            "Need to get 0 B/36.5 MB of archives.\n",
            "After this operation, 143 MB of additional disk space will be used.\n",
            "Selecting previously unselected package openjdk-8-jre-headless:amd64.\n",
            "(Reading database ... 155222 files and directories currently installed.)\n",
            "Preparing to unpack .../openjdk-8-jre-headless_8u292-b10-0ubuntu1~18.04_amd64.deb ...\n",
            "Unpacking openjdk-8-jre-headless:amd64 (8u292-b10-0ubuntu1~18.04) ...\n",
            "Selecting previously unselected package openjdk-8-jdk-headless:amd64.\n",
            "Preparing to unpack .../openjdk-8-jdk-headless_8u292-b10-0ubuntu1~18.04_amd64.deb ...\n",
            "Unpacking openjdk-8-jdk-headless:amd64 (8u292-b10-0ubuntu1~18.04) ...\n",
            "Setting up openjdk-8-jre-headless:amd64 (8u292-b10-0ubuntu1~18.04) ...\n",
            "update-alternatives: using /usr/lib/jvm/java-8-openjdk-amd64/jre/bin/orbd to provide /usr/bin/orbd (orbd) in auto mode\n",
            "update-alternatives: using /usr/lib/jvm/java-8-openjdk-amd64/jre/bin/servertool to provide /usr/bin/servertool (servertool) in auto mode\n",
            "update-alternatives: using /usr/lib/jvm/java-8-openjdk-amd64/jre/bin/tnameserv to provide /usr/bin/tnameserv (tnameserv) in auto mode\n",
            "Setting up openjdk-8-jdk-headless:amd64 (8u292-b10-0ubuntu1~18.04) ...\n",
            "update-alternatives: using /usr/lib/jvm/java-8-openjdk-amd64/bin/idlj to provide /usr/bin/idlj (idlj) in auto mode\n",
            "update-alternatives: using /usr/lib/jvm/java-8-openjdk-amd64/bin/wsimport to provide /usr/bin/wsimport (wsimport) in auto mode\n",
            "update-alternatives: using /usr/lib/jvm/java-8-openjdk-amd64/bin/jsadebugd to provide /usr/bin/jsadebugd (jsadebugd) in auto mode\n",
            "update-alternatives: using /usr/lib/jvm/java-8-openjdk-amd64/bin/native2ascii to provide /usr/bin/native2ascii (native2ascii) in auto mode\n",
            "update-alternatives: using /usr/lib/jvm/java-8-openjdk-amd64/bin/javah to provide /usr/bin/javah (javah) in auto mode\n",
            "update-alternatives: using /usr/lib/jvm/java-8-openjdk-amd64/bin/hsdb to provide /usr/bin/hsdb (hsdb) in auto mode\n",
            "update-alternatives: using /usr/lib/jvm/java-8-openjdk-amd64/bin/clhsdb to provide /usr/bin/clhsdb (clhsdb) in auto mode\n",
            "update-alternatives: using /usr/lib/jvm/java-8-openjdk-amd64/bin/extcheck to provide /usr/bin/extcheck (extcheck) in auto mode\n",
            "update-alternatives: using /usr/lib/jvm/java-8-openjdk-amd64/bin/schemagen to provide /usr/bin/schemagen (schemagen) in auto mode\n",
            "update-alternatives: using /usr/lib/jvm/java-8-openjdk-amd64/bin/xjc to provide /usr/bin/xjc (xjc) in auto mode\n",
            "update-alternatives: using /usr/lib/jvm/java-8-openjdk-amd64/bin/jhat to provide /usr/bin/jhat (jhat) in auto mode\n",
            "update-alternatives: using /usr/lib/jvm/java-8-openjdk-amd64/bin/wsgen to provide /usr/bin/wsgen (wsgen) in auto mode\n",
            "Collecting pandasql==0.7.3\n",
            "  Downloading pandasql-0.7.3.tar.gz (26 kB)\n",
            "Requirement already satisfied: numpy in /usr/local/lib/python3.7/dist-packages (from pandasql==0.7.3) (1.19.5)\n",
            "Requirement already satisfied: pandas in /usr/local/lib/python3.7/dist-packages (from pandasql==0.7.3) (1.1.5)\n",
            "Requirement already satisfied: sqlalchemy in /usr/local/lib/python3.7/dist-packages (from pandasql==0.7.3) (1.4.27)\n",
            "Requirement already satisfied: pytz>=2017.2 in /usr/local/lib/python3.7/dist-packages (from pandas->pandasql==0.7.3) (2018.9)\n",
            "Requirement already satisfied: python-dateutil>=2.7.3 in /usr/local/lib/python3.7/dist-packages (from pandas->pandasql==0.7.3) (2.8.2)\n",
            "Requirement already satisfied: six>=1.5 in /usr/local/lib/python3.7/dist-packages (from python-dateutil>=2.7.3->pandas->pandasql==0.7.3) (1.15.0)\n",
            "Requirement already satisfied: importlib-metadata in /usr/local/lib/python3.7/dist-packages (from sqlalchemy->pandasql==0.7.3) (4.8.2)\n",
            "Requirement already satisfied: greenlet!=0.4.17 in /usr/local/lib/python3.7/dist-packages (from sqlalchemy->pandasql==0.7.3) (1.1.2)\n",
            "Requirement already satisfied: zipp>=0.5 in /usr/local/lib/python3.7/dist-packages (from importlib-metadata->sqlalchemy->pandasql==0.7.3) (3.6.0)\n",
            "Requirement already satisfied: typing-extensions>=3.6.4 in /usr/local/lib/python3.7/dist-packages (from importlib-metadata->sqlalchemy->pandasql==0.7.3) (3.10.0.2)\n",
            "Building wheels for collected packages: pandasql\n",
            "  Building wheel for pandasql (setup.py) ... \u001b[?25l\u001b[?25hdone\n",
            "  Created wheel for pandasql: filename=pandasql-0.7.3-py3-none-any.whl size=26781 sha256=9a13ec6fcbc2eff96594a74a65d1b9547ff3c3fa58815d00be8b4b48aef42b52\n",
            "  Stored in directory: /root/.cache/pip/wheels/5c/4b/ec/41f4e116c8053c3654e2c2a47c62b4fca34cc67ef7b55deb7f\n",
            "Successfully built pandasql\n",
            "Installing collected packages: pandasql\n",
            "Successfully installed pandasql-0.7.3\n"
          ]
        }
      ]
    },
    {
      "cell_type": "code",
      "metadata": {
        "ExecuteTime": {
          "end_time": "2021-11-02T13:07:53.807655Z",
          "start_time": "2021-11-02T13:07:52.901610Z"
        },
        "id": "2ftW7yaGo9sJ"
      },
      "source": [
        "import numpy as np\n",
        "import pandas as pd\n",
        "import seaborn as sns\n",
        "sns.set()\n",
        "import matplotlib.pyplot as plt\n",
        "%matplotlib inline\n",
        "\n",
        "import pyspark\n",
        "from pyspark.sql import SparkSession\n",
        "from pyspark.sql import functions as F\n",
        "from pyspark import SparkContext, SparkConf\n",
        "\n",
        "from pandas_profiling import ProfileReport\n",
        "\n",
        "import pandasql as psql"
      ],
      "execution_count": null,
      "outputs": []
    },
    {
      "cell_type": "code",
      "metadata": {
        "ExecuteTime": {
          "end_time": "2021-11-02T13:07:57.883383Z",
          "start_time": "2021-11-02T13:07:53.808476Z"
        },
        "id": "OBILY9sf4jnN"
      },
      "source": [
        "# Sets memory limit on driver and to use all CPU cores\n",
        "conf = SparkConf().set('spark.ui.port', '4050') \\\n",
        "        .set('spark.driver.memory', '4g') \\\n",
        "        .setMaster('local[*]')\n",
        "\n",
        "sc = pyspark.SparkContext(conf=conf)\n",
        "spark = SparkSession.builder.getOrCreate()"
      ],
      "execution_count": null,
      "outputs": []
    },
    {
      "cell_type": "code",
      "metadata": {
        "ExecuteTime": {
          "end_time": "2021-11-02T13:07:58.627425Z",
          "start_time": "2021-11-02T13:07:57.884329Z"
        },
        "id": "cJpOoxzN4jnN",
        "colab": {
          "base_uri": "https://localhost:8080/",
          "height": 219
        },
        "outputId": "0131dd6f-8db3-4a45-96dc-f7264aa5619d"
      },
      "source": [
        "spark"
      ],
      "execution_count": null,
      "outputs": [
        {
          "output_type": "execute_result",
          "data": {
            "text/html": [
              "\n",
              "            <div>\n",
              "                <p><b>SparkSession - in-memory</b></p>\n",
              "                \n",
              "        <div>\n",
              "            <p><b>SparkContext</b></p>\n",
              "\n",
              "            <p><a href=\"http://b55616b8bf83:4050\">Spark UI</a></p>\n",
              "\n",
              "            <dl>\n",
              "              <dt>Version</dt>\n",
              "                <dd><code>v3.2.0</code></dd>\n",
              "              <dt>Master</dt>\n",
              "                <dd><code>local[*]</code></dd>\n",
              "              <dt>AppName</dt>\n",
              "                <dd><code>pyspark-shell</code></dd>\n",
              "            </dl>\n",
              "        </div>\n",
              "        \n",
              "            </div>\n",
              "        "
            ],
            "text/plain": [
              "<pyspark.sql.session.SparkSession at 0x7f000185ded0>"
            ]
          },
          "metadata": {},
          "execution_count": 6
        }
      ]
    },
    {
      "cell_type": "code",
      "metadata": {
        "ExecuteTime": {
          "end_time": "2021-11-02T13:07:58.667031Z",
          "start_time": "2021-11-02T13:07:58.628174Z"
        },
        "id": "L5lJlshk4jnN",
        "colab": {
          "base_uri": "https://localhost:8080/"
        },
        "outputId": "974a268a-f366-4013-92bb-e5507396f981"
      },
      "source": [
        "sc.getConf().getAll()"
      ],
      "execution_count": null,
      "outputs": [
        {
          "output_type": "execute_result",
          "data": {
            "text/plain": [
              "[('spark.app.startTime', '1638009220780'),\n",
              " ('spark.driver.memory', '4g'),\n",
              " ('spark.executor.id', 'driver'),\n",
              " ('spark.sql.warehouse.dir', 'file:/content/spark-warehouse'),\n",
              " ('spark.app.name', 'pyspark-shell'),\n",
              " ('spark.app.id', 'local-1638009222607'),\n",
              " ('spark.ui.port', '4050'),\n",
              " ('spark.driver.port', '38509'),\n",
              " ('spark.rdd.compress', 'True'),\n",
              " ('spark.serializer.objectStreamReset', '100'),\n",
              " ('spark.master', 'local[*]'),\n",
              " ('spark.submit.pyFiles', ''),\n",
              " ('spark.submit.deployMode', 'client'),\n",
              " ('spark.ui.showConsoleProgress', 'true'),\n",
              " ('spark.driver.host', 'b55616b8bf83')]"
            ]
          },
          "metadata": {},
          "execution_count": 7
        }
      ]
    },
    {
      "cell_type": "markdown",
      "metadata": {
        "id": "-PdveMrU4jnO"
      },
      "source": [
        "# Exercise 1: Listings and cities (20 pts)\n",
        "\n",
        "In this exercise you must use Spark to do the data processing. \n",
        "* For parts where you present tabular data, this entails calling `toPandas` as the final step of your query. \n",
        "* For parts requiring visualisation, the `toPandas` call should be followed only by functions necessary to customize the plotting/layout steps (i.e. no data processing take place after your spark dataframe is materialized).\n"
      ]
    },
    {
      "cell_type": "markdown",
      "metadata": {
        "id": "z5LAuprs4jnO"
      },
      "source": [
        "## Part 1: Preparing the dataframe (5 pts)\n",
        "\n",
        "Your data source is [this zip archive](https://data-download.compute.dtu.dk/c02807/listings.csv.zip) which you must uncompress and place in the same folder as this notebook. It is loaded in the next cell and named `df_listings`.\n",
        "\n",
        "After the data is read, you should select the columns necessary for exercise 1, 2 and 3 (by reading ahead or iteratively extend this loading code). Name this dataframe `df_listings_analysis` and make use of caching.\n",
        "\n",
        "Prices are in local currency, but are nonetheless prefixed with `$` and contains thousands separator commas. You will need to remove these characters and cast the price column to `pyspark.sql.types.DoubleType`. Observe that if this casting is not possible, the result of the cast is `null`."
      ]
    },
    {
      "cell_type": "code",
      "metadata": {
        "colab": {
          "base_uri": "https://localhost:8080/"
        },
        "id": "1PPVlb7bdRgY",
        "outputId": "cc016b40-4a1a-4291-ac5b-5e26518daa99"
      },
      "source": [
        "from google.colab import drive\n",
        "drive.mount('/content/gdrive')\n"
      ],
      "execution_count": null,
      "outputs": [
        {
          "output_type": "stream",
          "name": "stdout",
          "text": [
            "Mounted at /content/gdrive\n"
          ]
        }
      ]
    },
    {
      "cell_type": "code",
      "metadata": {
        "ExecuteTime": {
          "end_time": "2021-10-27T15:29:07.681609Z",
          "start_time": "2021-10-27T15:28:34.756446Z"
        },
        "id": "NTybzL654jnO"
      },
      "source": [
        "df_listings = load_csv_as_dataframe('gdrive/MyDrive/listings.csv')"
      ],
      "execution_count": null,
      "outputs": []
    },
    {
      "cell_type": "code",
      "metadata": {
        "colab": {
          "base_uri": "https://localhost:8080/"
        },
        "id": "0uoZLP7SeR0V",
        "outputId": "f941ee35-e0f6-430d-c0db-a2dc787d959a"
      },
      "source": [
        "df_listings.printSchema()"
      ],
      "execution_count": null,
      "outputs": [
        {
          "output_type": "stream",
          "name": "stdout",
          "text": [
            "root\n",
            " |-- id: string (nullable = true)\n",
            " |-- listing_url: string (nullable = true)\n",
            " |-- scrape_id: string (nullable = true)\n",
            " |-- last_scraped: string (nullable = true)\n",
            " |-- name: string (nullable = true)\n",
            " |-- summary: string (nullable = true)\n",
            " |-- space: string (nullable = true)\n",
            " |-- description: string (nullable = true)\n",
            " |-- experiences_offered: string (nullable = true)\n",
            " |-- neighborhood_overview: string (nullable = true)\n",
            " |-- notes: string (nullable = true)\n",
            " |-- transit: string (nullable = true)\n",
            " |-- access: string (nullable = true)\n",
            " |-- interaction: string (nullable = true)\n",
            " |-- house_rules: string (nullable = true)\n",
            " |-- thumbnail_url: string (nullable = true)\n",
            " |-- medium_url: string (nullable = true)\n",
            " |-- picture_url: string (nullable = true)\n",
            " |-- xl_picture_url: string (nullable = true)\n",
            " |-- host_id: string (nullable = true)\n",
            " |-- host_url: string (nullable = true)\n",
            " |-- host_name: string (nullable = true)\n",
            " |-- host_since: string (nullable = true)\n",
            " |-- host_location: string (nullable = true)\n",
            " |-- host_about: string (nullable = true)\n",
            " |-- host_response_time: string (nullable = true)\n",
            " |-- host_response_rate: string (nullable = true)\n",
            " |-- host_acceptance_rate: string (nullable = true)\n",
            " |-- host_is_superhost: string (nullable = true)\n",
            " |-- host_thumbnail_url: string (nullable = true)\n",
            " |-- host_picture_url: string (nullable = true)\n",
            " |-- host_neighbourhood: string (nullable = true)\n",
            " |-- host_listings_count: string (nullable = true)\n",
            " |-- host_total_listings_count: string (nullable = true)\n",
            " |-- host_verifications: string (nullable = true)\n",
            " |-- host_has_profile_pic: string (nullable = true)\n",
            " |-- host_identity_verified: string (nullable = true)\n",
            " |-- street: string (nullable = true)\n",
            " |-- neighbourhood: string (nullable = true)\n",
            " |-- neighbourhood_cleansed: string (nullable = true)\n",
            " |-- neighbourhood_group_cleansed: string (nullable = true)\n",
            " |-- city: string (nullable = true)\n",
            " |-- state: string (nullable = true)\n",
            " |-- zipcode: string (nullable = true)\n",
            " |-- market: string (nullable = true)\n",
            " |-- smart_location: string (nullable = true)\n",
            " |-- country_code: string (nullable = true)\n",
            " |-- country: string (nullable = true)\n",
            " |-- latitude: string (nullable = true)\n",
            " |-- longitude: string (nullable = true)\n",
            " |-- is_location_exact: string (nullable = true)\n",
            " |-- property_type: string (nullable = true)\n",
            " |-- room_type: string (nullable = true)\n",
            " |-- accommodates: string (nullable = true)\n",
            " |-- bathrooms: string (nullable = true)\n",
            " |-- bedrooms: string (nullable = true)\n",
            " |-- beds: string (nullable = true)\n",
            " |-- bed_type: string (nullable = true)\n",
            " |-- amenities: string (nullable = true)\n",
            " |-- square_feet: string (nullable = true)\n",
            " |-- price: string (nullable = true)\n",
            " |-- weekly_price: string (nullable = true)\n",
            " |-- monthly_price: string (nullable = true)\n",
            " |-- security_deposit: string (nullable = true)\n",
            " |-- cleaning_fee: string (nullable = true)\n",
            " |-- guests_included: string (nullable = true)\n",
            " |-- extra_people: string (nullable = true)\n",
            " |-- minimum_nights: string (nullable = true)\n",
            " |-- maximum_nights: string (nullable = true)\n",
            " |-- minimum_minimum_nights: string (nullable = true)\n",
            " |-- maximum_minimum_nights: string (nullable = true)\n",
            " |-- minimum_maximum_nights: string (nullable = true)\n",
            " |-- maximum_maximum_nights: string (nullable = true)\n",
            " |-- minimum_nights_avg_ntm: string (nullable = true)\n",
            " |-- maximum_nights_avg_ntm: string (nullable = true)\n",
            " |-- calendar_updated: string (nullable = true)\n",
            " |-- has_availability: string (nullable = true)\n",
            " |-- availability_30: string (nullable = true)\n",
            " |-- availability_60: string (nullable = true)\n",
            " |-- availability_90: string (nullable = true)\n",
            " |-- availability_365: string (nullable = true)\n",
            " |-- calendar_last_scraped: string (nullable = true)\n",
            " |-- number_of_reviews: string (nullable = true)\n",
            " |-- number_of_reviews_ltm: string (nullable = true)\n",
            " |-- first_review: string (nullable = true)\n",
            " |-- last_review: string (nullable = true)\n",
            " |-- review_scores_rating: string (nullable = true)\n",
            " |-- review_scores_accuracy: string (nullable = true)\n",
            " |-- review_scores_cleanliness: string (nullable = true)\n",
            " |-- review_scores_checkin: string (nullable = true)\n",
            " |-- review_scores_communication: string (nullable = true)\n",
            " |-- review_scores_location: string (nullable = true)\n",
            " |-- review_scores_value: string (nullable = true)\n",
            " |-- requires_license: string (nullable = true)\n",
            " |-- license: string (nullable = true)\n",
            " |-- jurisdiction_names: string (nullable = true)\n",
            " |-- instant_bookable: string (nullable = true)\n",
            " |-- is_business_travel_ready: string (nullable = true)\n",
            " |-- cancellation_policy: string (nullable = true)\n",
            " |-- require_guest_profile_picture: string (nullable = true)\n",
            " |-- require_guest_phone_verification: string (nullable = true)\n",
            " |-- calculated_host_listings_count: string (nullable = true)\n",
            " |-- calculated_host_listings_count_entire_homes: string (nullable = true)\n",
            " |-- calculated_host_listings_count_private_rooms: string (nullable = true)\n",
            " |-- calculated_host_listings_count_shared_rooms: string (nullable = true)\n",
            " |-- reviews_per_month: string (nullable = true)\n",
            "\n"
          ]
        }
      ]
    },
    {
      "cell_type": "code",
      "metadata": {
        "ExecuteTime": {
          "end_time": "2021-10-31T14:35:36.175515Z",
          "start_time": "2021-10-31T14:35:36.170621Z"
        },
        "id": "qnbDRPXH4jnO",
        "colab": {
          "base_uri": "https://localhost:8080/",
          "height": 204
        },
        "outputId": "db4cda39-ae1a-4a1f-9d52-56e00b228730"
      },
      "source": [
        "# Your code goes here\n",
        "# Prices are in local currency, but are nonetheless prefixed with $ and contains thousands separator commas. \n",
        "# You will need to remove these characters and cast the price column to pyspark.sql.types.DoubleType. \n",
        "# Observe that if this casting is not possible, the result of the cast is null.\n",
        "\n",
        "# price\n",
        "# ex1 part2 listing_url neighbourhood_cleansed city\n",
        "# ex1 part4 review_scores_rating\n",
        "# ex2 part2 property_type\n",
        "# ex2 part5 number_of_reviews\n",
        "\n",
        "df_listings_analysis = df_listings.select(F.col('price'),\\\n",
        "                                          F.col('listing_url'), F.col('neighbourhood_cleansed'), F.col('city'),\\\n",
        "                                          F.col('review_scores_rating'),\n",
        "                                          F.col('property_type'),\n",
        "                                          F.col('number_of_reviews')) \\\n",
        "                                        .withColumn(\"price\", F.translate(F.col(\"price\"), \"[$,]\",\"\") \\\n",
        "                                        .cast(pyspark.sql.types.DoubleType())) \\\n",
        "                                        .cache()\n",
        "df_listings_analysis.toPandas()\n",
        "\n"
      ],
      "execution_count": null,
      "outputs": [
        {
          "output_type": "execute_result",
          "data": {
            "text/html": [
              "<div>\n",
              "<style scoped>\n",
              "    .dataframe tbody tr th:only-of-type {\n",
              "        vertical-align: middle;\n",
              "    }\n",
              "\n",
              "    .dataframe tbody tr th {\n",
              "        vertical-align: top;\n",
              "    }\n",
              "\n",
              "    .dataframe thead th {\n",
              "        text-align: right;\n",
              "    }\n",
              "</style>\n",
              "<table border=\"1\" class=\"dataframe\">\n",
              "  <thead>\n",
              "    <tr style=\"text-align: right;\">\n",
              "      <th></th>\n",
              "      <th>price</th>\n",
              "      <th>listing_url</th>\n",
              "      <th>neighbourhood_cleansed</th>\n",
              "      <th>city</th>\n",
              "      <th>review_scores_rating</th>\n",
              "      <th>property_type</th>\n",
              "      <th>number_of_reviews</th>\n",
              "    </tr>\n",
              "  </thead>\n",
              "  <tbody>\n",
              "    <tr>\n",
              "      <th>0</th>\n",
              "      <td>1272.0</td>\n",
              "      <td>https://www.airbnb.com/rooms/145320</td>\n",
              "      <td>Södermalms</td>\n",
              "      <td>Stockholm</td>\n",
              "      <td>97</td>\n",
              "      <td>Apartment</td>\n",
              "      <td>72</td>\n",
              "    </tr>\n",
              "    <tr>\n",
              "      <th>1</th>\n",
              "      <td>1203.0</td>\n",
              "      <td>https://www.airbnb.com/rooms/155220</td>\n",
              "      <td>Skarpnäcks</td>\n",
              "      <td>Stockholm</td>\n",
              "      <td>None</td>\n",
              "      <td>House</td>\n",
              "      <td>0</td>\n",
              "    </tr>\n",
              "    <tr>\n",
              "      <th>2</th>\n",
              "      <td>3209.0</td>\n",
              "      <td>https://www.airbnb.com/rooms/155685</td>\n",
              "      <td>Södermalms</td>\n",
              "      <td>Stockholm</td>\n",
              "      <td>94</td>\n",
              "      <td>Apartment</td>\n",
              "      <td>22</td>\n",
              "    </tr>\n",
              "    <tr>\n",
              "      <th>3</th>\n",
              "      <td>597.0</td>\n",
              "      <td>https://www.airbnb.com/rooms/164448</td>\n",
              "      <td>Södermalms</td>\n",
              "      <td>Stockholm</td>\n",
              "      <td>97</td>\n",
              "      <td>Apartment</td>\n",
              "      <td>311</td>\n",
              "    </tr>\n",
              "    <tr>\n",
              "      <th>4</th>\n",
              "      <td>734.0</td>\n",
              "      <td>https://www.airbnb.com/rooms/170651</td>\n",
              "      <td>Södermalms</td>\n",
              "      <td>Stockholm</td>\n",
              "      <td>93</td>\n",
              "      <td>Apartment</td>\n",
              "      <td>33</td>\n",
              "    </tr>\n",
              "  </tbody>\n",
              "</table>\n",
              "</div>"
            ],
            "text/plain": [
              "    price                          listing_url  ... property_type number_of_reviews\n",
              "0  1272.0  https://www.airbnb.com/rooms/145320  ...     Apartment                72\n",
              "1  1203.0  https://www.airbnb.com/rooms/155220  ...         House                 0\n",
              "2  3209.0  https://www.airbnb.com/rooms/155685  ...     Apartment                22\n",
              "3   597.0  https://www.airbnb.com/rooms/164448  ...     Apartment               311\n",
              "4   734.0  https://www.airbnb.com/rooms/170651  ...     Apartment                33\n",
              "\n",
              "[5 rows x 7 columns]"
            ]
          },
          "metadata": {},
          "execution_count": 47
        }
      ]
    },
    {
      "cell_type": "markdown",
      "metadata": {
        "id": "1QZ0w17Y4jnO"
      },
      "source": [
        "## Part 2: Listing and neighbourhood counts (5 pts)\n",
        "\n",
        "Compute and visualise the number of listings and the number of different neighbourhoods per city, restricted to the 15 cities having the most listings. The x-axis should be ordered by number of listings (high to low).\n",
        "\n",
        "Make sure to use the `neighbourhood_cleansed` column in your computations.\n"
      ]
    },
    {
      "cell_type": "code",
      "metadata": {
        "ExecuteTime": {
          "end_time": "2021-10-31T14:35:44.882818Z",
          "start_time": "2021-10-31T14:35:44.880268Z"
        },
        "id": "kxo1ZH_q4jnO",
        "colab": {
          "base_uri": "https://localhost:8080/",
          "height": 1000
        },
        "outputId": "061f3e80-2f84-4a10-fc10-9d243c3b3694"
      },
      "source": [
        "# your code goes here\n",
        "nList = df_listings_analysis.groupBy('city').agg(F.count('listing_url').alias('listings'), F.countDistinct('neighbourhood_cleansed').alias('neighbourhoods'))\\\n",
        "                                  .sort(F.desc(F.count('listing_url'))).limit(15).toPandas().set_index('city')\n",
        "\n",
        "import matplotlib.pyplot as plt\n",
        "%matplotlib inline\n",
        "_ = nList.plot.bar(rot=0, color=sns.color_palette(),figsize=(15,100))\n",
        "plt.show()\n"
      ],
      "execution_count": null,
      "outputs": [
        {
          "output_type": "display_data",
          "data": {
            "image/png": "[encoded data removed]",
            "text/plain": [
              "<Figure size 1080x7200 with 1 Axes>"
            ]
          },
          "metadata": {
            "needs_background": "light"
          }
        }
      ]
    },
    {
      "cell_type": "markdown",
      "metadata": {
        "id": "b9BFleEJ4jnO"
      },
      "source": [
        "## Part 3: Price averages (5 pts)\n",
        "\n",
        "Compute and visualise the average price of listings per city, restricted to the 15 cities having the most listings."
      ]
    },
    {
      "cell_type": "code",
      "metadata": {
        "ExecuteTime": {
          "end_time": "2021-10-31T14:35:50.717376Z",
          "start_time": "2021-10-31T14:35:50.714248Z"
        },
        "id": "nfggw4Sp4jnO",
        "colab": {
          "base_uri": "https://localhost:8080/",
          "height": 611
        },
        "outputId": "35a4bf2e-d9a5-4cc5-a213-8ce7bfa4abd0"
      },
      "source": [
        "# your code goes here\n",
        "avgPriceofListings = df_listings_analysis.groupBy('city').agg(F.avg('price')) \\\n",
        "                               .sort(F.desc(F.count('listing_url'))).limit(15).toPandas().set_index('city')\n",
        "\n",
        "_ = avgPriceofListings.plot.bar(rot=0, color=sns.color_palette(),figsize=(15,10))\n",
        "plt.show()"
      ],
      "execution_count": null,
      "outputs": [
        {
          "output_type": "display_data",
          "data": {
            "image/png": "[encoded data removed]",
            "text/plain": [
              "<Figure size 1080x720 with 1 Axes>"
            ]
          },
          "metadata": {
            "needs_background": "light"
          }
        }
      ]
    },
    {
      "cell_type": "markdown",
      "metadata": {
        "id": "OIpHBUBk4jnO"
      },
      "source": [
        "## Part 4: Value for money (5 pts)\n",
        "\n",
        "The value of a listing is its rating divided by its price. The value of a city is the average value of its listings. \n",
        "\n",
        "Prices are only comparable when the local currency is the same. We'll therefore consider a subset of Euro-zone cities as defined in `eurozone_cities`.\n",
        "\n",
        "Compute and visualise the value per city, restricted to the Euro-zone cities."
      ]
    },
    {
      "cell_type": "code",
      "metadata": {
        "ExecuteTime": {
          "end_time": "2021-10-27T15:29:53.566725Z",
          "start_time": "2021-10-27T15:29:53.565232Z"
        },
        "id": "wqspMVZ24jnO"
      },
      "source": [
        "eurozone_cities = [\n",
        "    'Paris', 'Roma', 'Berlin', 'Madrid', 'Amsterdam', 'Barcelona', 'Milano', 'Lisboa',\n",
        "    'München', 'Wien', 'Lyon', 'Firenze', 'Porto', 'Napoli', 'Bordeaux', 'Venezia',\n",
        "    'Málaga', 'Sevilla', 'València'\n",
        "]"
      ],
      "execution_count": null,
      "outputs": []
    },
    {
      "cell_type": "code",
      "metadata": {
        "ExecuteTime": {
          "end_time": "2021-10-31T14:35:57.257011Z",
          "start_time": "2021-10-31T14:35:57.253676Z"
        },
        "id": "YtktiltR4jnP",
        "colab": {
          "base_uri": "https://localhost:8080/",
          "height": 612
        },
        "outputId": "ea8596bb-25eb-4e3c-be0f-b4133006b19e"
      },
      "source": [
        "# your code goes here\n",
        "\n",
        "valueOfListings = F.col('review_scores_rating') / F.col('price')\n",
        "valuePerCity = df_listings_analysis.filter(F.col('city').isin(eurozone_cities)).withColumn('valueOfListings',valueOfListings) \\\n",
        "                                        .groupBy('city').agg(F.avg('valueOfListings')).toPandas().set_index('city')\n",
        "\n",
        "_ = valuePerCity.plot.bar(rot=0, color=sns.color_palette(),figsize=(15,10))\n",
        "plt.show()"
      ],
      "execution_count": null,
      "outputs": [
        {
          "output_type": "display_data",
          "data": {
            "image/png": "[encoded data removed]",
            "text/plain": [
              "<Figure size 1080x720 with 1 Axes>"
            ]
          },
          "metadata": {
            "needs_background": "light"
          }
        }
      ]
    },
    {
      "cell_type": "markdown",
      "metadata": {
        "id": "DbJdSKC84jnP"
      },
      "source": [
        "# Exercise 2: The case of London (30 pts)\n",
        "\n",
        "In this exercise you must use Spark to do the data processing. \n",
        "* For parts where you present tabular data, this entails calling `toPandas` as the final step of your query. \n",
        "* For parts requiring visualisation, the `toPandas` call should be followed only by functions necessary to customize the plotting/layout steps (i.e. no data processing take place after your spark dataframe is materialized). \n",
        "* You may need multiple queries to solve the individual parts.\n",
        "\n",
        "Your dataframe is a subset of `df_listings_analysis` and should be named `df_listings_london`."
      ]
    },
    {
      "cell_type": "code",
      "metadata": {
        "ExecuteTime": {
          "end_time": "2021-10-31T14:36:05.783859Z",
          "start_time": "2021-10-31T14:36:05.781830Z"
        },
        "id": "aeVpGvZF4jnP",
        "colab": {
          "base_uri": "https://localhost:8080/",
          "height": 204
        },
        "outputId": "65776975-ea69-44da-aa53-235242b0e3fb"
      },
      "source": [
        "# your code goes here\n",
        "# two types of london exist :(\n",
        "df_listings_london = df_listings_analysis.filter((F.col('city')=='London') | (F.col('city')=='london'))\n",
        "df_listings_london.toPandas()"
      ],
      "execution_count": null,
      "outputs": [
        {
          "output_type": "execute_result",
          "data": {
            "text/html": [
              "<div>\n",
              "<style scoped>\n",
              "    .dataframe tbody tr th:only-of-type {\n",
              "        vertical-align: middle;\n",
              "    }\n",
              "\n",
              "    .dataframe tbody tr th {\n",
              "        vertical-align: top;\n",
              "    }\n",
              "\n",
              "    .dataframe thead th {\n",
              "        text-align: right;\n",
              "    }\n",
              "</style>\n",
              "<table border=\"1\" class=\"dataframe\">\n",
              "  <thead>\n",
              "    <tr style=\"text-align: right;\">\n",
              "      <th></th>\n",
              "      <th>price</th>\n",
              "      <th>listing_url</th>\n",
              "      <th>neighbourhood_cleansed</th>\n",
              "      <th>city</th>\n",
              "      <th>review_scores_rating</th>\n",
              "      <th>property_type</th>\n",
              "      <th>id</th>\n",
              "      <th>number_of_reviews</th>\n",
              "    </tr>\n",
              "  </thead>\n",
              "  <tbody>\n",
              "    <tr>\n",
              "      <th>0</th>\n",
              "      <td>88.0</td>\n",
              "      <td>https://www.airbnb.com/rooms/11551</td>\n",
              "      <td>Lambeth</td>\n",
              "      <td>London</td>\n",
              "      <td>92</td>\n",
              "      <td>Apartment</td>\n",
              "      <td>11551</td>\n",
              "      <td>184</td>\n",
              "    </tr>\n",
              "    <tr>\n",
              "      <th>1</th>\n",
              "      <td>100.0</td>\n",
              "      <td>https://www.airbnb.com/rooms/15400</td>\n",
              "      <td>Kensington and Chelsea</td>\n",
              "      <td>London</td>\n",
              "      <td>96</td>\n",
              "      <td>Apartment</td>\n",
              "      <td>15400</td>\n",
              "      <td>87</td>\n",
              "    </tr>\n",
              "    <tr>\n",
              "      <th>2</th>\n",
              "      <td>300.0</td>\n",
              "      <td>https://www.airbnb.com/rooms/17402</td>\n",
              "      <td>Westminster</td>\n",
              "      <td>London</td>\n",
              "      <td>94</td>\n",
              "      <td>Apartment</td>\n",
              "      <td>17402</td>\n",
              "      <td>41</td>\n",
              "    </tr>\n",
              "    <tr>\n",
              "      <th>3</th>\n",
              "      <td>175.0</td>\n",
              "      <td>https://www.airbnb.com/rooms/24328</td>\n",
              "      <td>Wandsworth</td>\n",
              "      <td>London</td>\n",
              "      <td>98</td>\n",
              "      <td>Townhouse</td>\n",
              "      <td>24328</td>\n",
              "      <td>93</td>\n",
              "    </tr>\n",
              "    <tr>\n",
              "      <th>4</th>\n",
              "      <td>34.0</td>\n",
              "      <td>https://www.airbnb.com/rooms/31361</td>\n",
              "      <td>Newham</td>\n",
              "      <td>London</td>\n",
              "      <td>97</td>\n",
              "      <td>Townhouse</td>\n",
              "      <td>31361</td>\n",
              "      <td>115</td>\n",
              "    </tr>\n",
              "  </tbody>\n",
              "</table>\n",
              "</div>"
            ],
            "text/plain": [
              "   price                         listing_url  ...     id number_of_reviews\n",
              "0   88.0  https://www.airbnb.com/rooms/11551  ...  11551               184\n",
              "1  100.0  https://www.airbnb.com/rooms/15400  ...  15400                87\n",
              "2  300.0  https://www.airbnb.com/rooms/17402  ...  17402                41\n",
              "3  175.0  https://www.airbnb.com/rooms/24328  ...  24328                93\n",
              "4   34.0  https://www.airbnb.com/rooms/31361  ...  31361               115\n",
              "\n",
              "[5 rows x 8 columns]"
            ]
          },
          "metadata": {},
          "execution_count": 16
        }
      ]
    },
    {
      "cell_type": "markdown",
      "metadata": {
        "id": "O-KJqz1H4jnP"
      },
      "source": [
        "## Part 1: Price distribution (5 pts)\n",
        "\n",
        "Compute and visualise the distribution of prices, for all prices up to and including the 95-percentile. Additionally, compute and visualise the distribution of prices, for all prices above the 95-percentile."
      ]
    },
    {
      "cell_type": "code",
      "metadata": {
        "ExecuteTime": {
          "end_time": "2021-10-31T14:36:15.616156Z",
          "start_time": "2021-10-31T14:36:15.613196Z"
        },
        "id": "kWc-mqph4jnP",
        "colab": {
          "base_uri": "https://localhost:8080/",
          "height": 1000
        },
        "outputId": "5efdf018-a997-471f-e2e5-32db4484e92a"
      },
      "source": [
        "# your code goes here\n",
        "including95Percen = F.col('price') >= df_listings_london.approxQuantile('price',[0.95],0)[0]\n",
        "above95Percen = F.col('price') > df_listings_london.approxQuantile('price',[0.95],0)[0]\n",
        "\n",
        "# Compute and visualise the distribution of prices, for all prices up to and including the 95-percentile. \n",
        "dfTemp = df_listings_london.filter(including95Percen).toPandas()\n",
        "\n",
        "_ = dfTemp.plot.bar(rot=0, color=sns.color_palette(),figsize=(15,10))\n",
        "plt.show()\n",
        "\n",
        "\n",
        "# compute and visualise the distribution of prices, for all prices above the 95-percentile. \n",
        "dfTemp = df_listings_london.filter(above95Percen).toPandas()\n",
        "\n",
        "ax1 = dfTemp.plot.bar(rot=0, color=sns.color_palette(),figsize=(15,10))\n",
        "plt.show()"
      ],
      "execution_count": null,
      "outputs": [
        {
          "output_type": "display_data",
          "data": {
            "image/png": "[encoded data removed]",
            "text/plain": [
              "<Figure size 1080x720 with 1 Axes>"
            ]
          },
          "metadata": {
            "needs_background": "light"
          }
        },
        {
          "output_type": "display_data",
          "data": {
            "image/png": "[encoded data removed]",
            "text/plain": [
              "<Figure size 1080x720 with 1 Axes>"
            ]
          },
          "metadata": {
            "needs_background": "light"
          }
        }
      ]
    },
    {
      "cell_type": "markdown",
      "metadata": {
        "id": "C2Oa37Ck4jnP"
      },
      "source": [
        "## Part 2: Prices by type of property (5 pts)\n",
        "\n",
        "Compute and visualise the average price and average rating per type of property, for property types with 75 or more listings. \n",
        "\n",
        "Your visualisation should be a single bar chart with two y-axes and two bars per property type. The x-axis should be ordered by average rating."
      ]
    },
    {
      "cell_type": "code",
      "metadata": {
        "ExecuteTime": {
          "end_time": "2021-10-31T14:36:21.187516Z",
          "start_time": "2021-10-31T14:36:21.179099Z"
        },
        "id": "b5jx-W9O4jnP",
        "colab": {
          "base_uri": "https://localhost:8080/",
          "height": 611
        },
        "outputId": "2eab24e7-ae35-49dd-bc26-33260093eac0"
      },
      "source": [
        "# your code goes here\n",
        "\n",
        "\n",
        "price_property = df_listings_london.groupBy('property_type').agg(F.avg('price').alias('price'),F.avg('review_scores_rating').alias('rating'))\\\n",
        "                                    .filter(F.count('listing_url') >= 75).toPandas().set_index('property_type')\n",
        "\n",
        "_ = price_property.sort_values(ascending=False,by='rating').plot.bar(rot=0, color=sns.color_palette(),figsize=(15,10))\n",
        "plt.show()"
      ],
      "execution_count": null,
      "outputs": [
        {
          "output_type": "display_data",
          "data": {
            "image/png": "[encoded data removed]",
            "text/plain": [
              "<Figure size 1080x720 with 1 Axes>"
            ]
          },
          "metadata": {
            "needs_background": "light"
          }
        }
      ]
    },
    {
      "cell_type": "markdown",
      "metadata": {
        "id": "rvUyAWA94jnP"
      },
      "source": [
        "## Part 3: Best offering in the neighbourhood (10 pts)\n",
        "\n",
        "The value of a listing is its rating divided by its price. Compute and display a dataframe (with the columns you selected in Exercise 1 and those computed in this part) with the 3 highest valued listings in each neighbourhood, and having a value above 5. Make sure to use the `neighbourhood_cleansed` column in your computations.\n",
        "\n",
        "Computing ranks based on value can be achieved using `pyspark.sql.window.Window`. This may produce equal ranks (i.e. when the value of two listings are the same).\n",
        "\n",
        "Remember to use `pd.set_option('display.max_rows', <n>)` with appropriate `<n>` so all rows are displayed."
      ]
    },
    {
      "cell_type": "code",
      "metadata": {
        "ExecuteTime": {
          "end_time": "2021-10-27T15:30:05.393213Z",
          "start_time": "2021-10-27T15:30:03.259525Z"
        },
        "id": "8lmAGdHw4jnQ",
        "colab": {
          "base_uri": "https://localhost:8080/",
          "height": 1000
        },
        "outputId": "89cb0ecd-2829-4fca-e02e-5e67ba0bc7d7"
      },
      "source": [
        "# your code goes here\n",
        "valueOfListings =F.col('review_scores_rating')/F.col('price')\n",
        "filtered = df_listings_london.filter(F.col('review_scores_rating')!='NaN').withColumn('valueOfListings',valueOfListings)\n",
        "\n",
        "computed  = pyspark.sql.window.Window.partitionBy(filtered[\"neighbourhood_cleansed\"]).orderBy(filtered[\"valueOfListings\"].desc())\n",
        "\n",
        "highestValues = filtered.withColumn(\"rank\",pyspark.sql.functions.dense_rank().over(computed))\\\n",
        "                             .groupBy('neighbourhood_cleansed','valueOfListings','rank') \\\n",
        "                             .agg(F.avg(F.col('price'))).filter(F.col('valueOfListings')>5).filter(F.col('rank')<=3).toPandas()\n",
        "                                      \n",
        "pd.set_option('display.max_rows',len(highestValues))\n",
        "highestValues"
      ],
      "execution_count": null,
      "outputs": [
        {
          "output_type": "execute_result",
          "data": {
            "text/html": [
              "<div>\n",
              "<style scoped>\n",
              "    .dataframe tbody tr th:only-of-type {\n",
              "        vertical-align: middle;\n",
              "    }\n",
              "\n",
              "    .dataframe tbody tr th {\n",
              "        vertical-align: top;\n",
              "    }\n",
              "\n",
              "    .dataframe thead th {\n",
              "        text-align: right;\n",
              "    }\n",
              "</style>\n",
              "<table border=\"1\" class=\"dataframe\">\n",
              "  <thead>\n",
              "    <tr style=\"text-align: right;\">\n",
              "      <th></th>\n",
              "      <th>neighbourhood_cleansed</th>\n",
              "      <th>valueOfListings</th>\n",
              "      <th>rank</th>\n",
              "      <th>avg(price)</th>\n",
              "    </tr>\n",
              "  </thead>\n",
              "  <tbody>\n",
              "    <tr>\n",
              "      <th>0</th>\n",
              "      <td>Barnet</td>\n",
              "      <td>5.157895</td>\n",
              "      <td>1</td>\n",
              "      <td>19.0</td>\n",
              "    </tr>\n",
              "    <tr>\n",
              "      <th>1</th>\n",
              "      <td>Brent</td>\n",
              "      <td>6.500000</td>\n",
              "      <td>1</td>\n",
              "      <td>14.0</td>\n",
              "    </tr>\n",
              "    <tr>\n",
              "      <th>2</th>\n",
              "      <td>Brent</td>\n",
              "      <td>6.266667</td>\n",
              "      <td>2</td>\n",
              "      <td>15.0</td>\n",
              "    </tr>\n",
              "    <tr>\n",
              "      <th>3</th>\n",
              "      <td>Brent</td>\n",
              "      <td>6.230769</td>\n",
              "      <td>3</td>\n",
              "      <td>13.0</td>\n",
              "    </tr>\n",
              "    <tr>\n",
              "      <th>4</th>\n",
              "      <td>Bromley</td>\n",
              "      <td>10.000000</td>\n",
              "      <td>1</td>\n",
              "      <td>10.0</td>\n",
              "    </tr>\n",
              "    <tr>\n",
              "      <th>5</th>\n",
              "      <td>Camden</td>\n",
              "      <td>5.625000</td>\n",
              "      <td>1</td>\n",
              "      <td>16.0</td>\n",
              "    </tr>\n",
              "    <tr>\n",
              "      <th>6</th>\n",
              "      <td>Camden</td>\n",
              "      <td>5.333333</td>\n",
              "      <td>2</td>\n",
              "      <td>15.0</td>\n",
              "    </tr>\n",
              "    <tr>\n",
              "      <th>7</th>\n",
              "      <td>Camden</td>\n",
              "      <td>5.294118</td>\n",
              "      <td>3</td>\n",
              "      <td>17.0</td>\n",
              "    </tr>\n",
              "    <tr>\n",
              "      <th>8</th>\n",
              "      <td>Croydon</td>\n",
              "      <td>5.111111</td>\n",
              "      <td>1</td>\n",
              "      <td>18.0</td>\n",
              "    </tr>\n",
              "    <tr>\n",
              "      <th>9</th>\n",
              "      <td>Croydon</td>\n",
              "      <td>5.105263</td>\n",
              "      <td>2</td>\n",
              "      <td>19.0</td>\n",
              "    </tr>\n",
              "    <tr>\n",
              "      <th>10</th>\n",
              "      <td>Ealing</td>\n",
              "      <td>10.000000</td>\n",
              "      <td>1</td>\n",
              "      <td>10.0</td>\n",
              "    </tr>\n",
              "    <tr>\n",
              "      <th>11</th>\n",
              "      <td>Ealing</td>\n",
              "      <td>8.333333</td>\n",
              "      <td>2</td>\n",
              "      <td>12.0</td>\n",
              "    </tr>\n",
              "    <tr>\n",
              "      <th>12</th>\n",
              "      <td>Ealing</td>\n",
              "      <td>5.882353</td>\n",
              "      <td>3</td>\n",
              "      <td>17.0</td>\n",
              "    </tr>\n",
              "    <tr>\n",
              "      <th>13</th>\n",
              "      <td>Enfield</td>\n",
              "      <td>5.882353</td>\n",
              "      <td>1</td>\n",
              "      <td>17.0</td>\n",
              "    </tr>\n",
              "    <tr>\n",
              "      <th>14</th>\n",
              "      <td>Enfield</td>\n",
              "      <td>5.764706</td>\n",
              "      <td>2</td>\n",
              "      <td>17.0</td>\n",
              "    </tr>\n",
              "    <tr>\n",
              "      <th>15</th>\n",
              "      <td>Enfield</td>\n",
              "      <td>5.500000</td>\n",
              "      <td>3</td>\n",
              "      <td>18.0</td>\n",
              "    </tr>\n",
              "    <tr>\n",
              "      <th>16</th>\n",
              "      <td>Greenwich</td>\n",
              "      <td>10.000000</td>\n",
              "      <td>1</td>\n",
              "      <td>10.0</td>\n",
              "    </tr>\n",
              "    <tr>\n",
              "      <th>17</th>\n",
              "      <td>Greenwich</td>\n",
              "      <td>7.000000</td>\n",
              "      <td>2</td>\n",
              "      <td>14.0</td>\n",
              "    </tr>\n",
              "    <tr>\n",
              "      <th>18</th>\n",
              "      <td>Greenwich</td>\n",
              "      <td>6.666667</td>\n",
              "      <td>3</td>\n",
              "      <td>15.0</td>\n",
              "    </tr>\n",
              "    <tr>\n",
              "      <th>19</th>\n",
              "      <td>Hackney</td>\n",
              "      <td>10.000000</td>\n",
              "      <td>1</td>\n",
              "      <td>9.0</td>\n",
              "    </tr>\n",
              "    <tr>\n",
              "      <th>20</th>\n",
              "      <td>Hackney</td>\n",
              "      <td>5.882353</td>\n",
              "      <td>2</td>\n",
              "      <td>17.0</td>\n",
              "    </tr>\n",
              "    <tr>\n",
              "      <th>21</th>\n",
              "      <td>Haringey</td>\n",
              "      <td>6.533333</td>\n",
              "      <td>1</td>\n",
              "      <td>15.0</td>\n",
              "    </tr>\n",
              "    <tr>\n",
              "      <th>22</th>\n",
              "      <td>Haringey</td>\n",
              "      <td>6.250000</td>\n",
              "      <td>2</td>\n",
              "      <td>16.0</td>\n",
              "    </tr>\n",
              "    <tr>\n",
              "      <th>23</th>\n",
              "      <td>Haringey</td>\n",
              "      <td>5.823529</td>\n",
              "      <td>3</td>\n",
              "      <td>17.0</td>\n",
              "    </tr>\n",
              "    <tr>\n",
              "      <th>24</th>\n",
              "      <td>Islington</td>\n",
              "      <td>9.666667</td>\n",
              "      <td>1</td>\n",
              "      <td>9.0</td>\n",
              "    </tr>\n",
              "    <tr>\n",
              "      <th>25</th>\n",
              "      <td>Islington</td>\n",
              "      <td>7.300000</td>\n",
              "      <td>2</td>\n",
              "      <td>10.0</td>\n",
              "    </tr>\n",
              "    <tr>\n",
              "      <th>26</th>\n",
              "      <td>Islington</td>\n",
              "      <td>6.533333</td>\n",
              "      <td>3</td>\n",
              "      <td>15.0</td>\n",
              "    </tr>\n",
              "    <tr>\n",
              "      <th>27</th>\n",
              "      <td>Kensington and Chelsea</td>\n",
              "      <td>5.235294</td>\n",
              "      <td>1</td>\n",
              "      <td>17.0</td>\n",
              "    </tr>\n",
              "    <tr>\n",
              "      <th>28</th>\n",
              "      <td>Lambeth</td>\n",
              "      <td>6.600000</td>\n",
              "      <td>1</td>\n",
              "      <td>15.0</td>\n",
              "    </tr>\n",
              "    <tr>\n",
              "      <th>29</th>\n",
              "      <td>Lambeth</td>\n",
              "      <td>5.588235</td>\n",
              "      <td>2</td>\n",
              "      <td>17.0</td>\n",
              "    </tr>\n",
              "    <tr>\n",
              "      <th>30</th>\n",
              "      <td>Lambeth</td>\n",
              "      <td>5.277778</td>\n",
              "      <td>3</td>\n",
              "      <td>18.0</td>\n",
              "    </tr>\n",
              "    <tr>\n",
              "      <th>31</th>\n",
              "      <td>Lewisham</td>\n",
              "      <td>9.000000</td>\n",
              "      <td>1</td>\n",
              "      <td>10.0</td>\n",
              "    </tr>\n",
              "    <tr>\n",
              "      <th>32</th>\n",
              "      <td>Lewisham</td>\n",
              "      <td>6.466667</td>\n",
              "      <td>2</td>\n",
              "      <td>15.0</td>\n",
              "    </tr>\n",
              "    <tr>\n",
              "      <th>33</th>\n",
              "      <td>Lewisham</td>\n",
              "      <td>6.214286</td>\n",
              "      <td>3</td>\n",
              "      <td>14.0</td>\n",
              "    </tr>\n",
              "    <tr>\n",
              "      <th>34</th>\n",
              "      <td>Merton</td>\n",
              "      <td>5.052632</td>\n",
              "      <td>1</td>\n",
              "      <td>19.0</td>\n",
              "    </tr>\n",
              "    <tr>\n",
              "      <th>35</th>\n",
              "      <td>Newham</td>\n",
              "      <td>10.000000</td>\n",
              "      <td>1</td>\n",
              "      <td>10.0</td>\n",
              "    </tr>\n",
              "    <tr>\n",
              "      <th>36</th>\n",
              "      <td>Newham</td>\n",
              "      <td>7.142857</td>\n",
              "      <td>2</td>\n",
              "      <td>14.0</td>\n",
              "    </tr>\n",
              "    <tr>\n",
              "      <th>37</th>\n",
              "      <td>Newham</td>\n",
              "      <td>6.000000</td>\n",
              "      <td>3</td>\n",
              "      <td>15.0</td>\n",
              "    </tr>\n",
              "    <tr>\n",
              "      <th>38</th>\n",
              "      <td>Redbridge</td>\n",
              "      <td>5.277778</td>\n",
              "      <td>1</td>\n",
              "      <td>18.0</td>\n",
              "    </tr>\n",
              "    <tr>\n",
              "      <th>39</th>\n",
              "      <td>Redbridge</td>\n",
              "      <td>5.222222</td>\n",
              "      <td>2</td>\n",
              "      <td>18.0</td>\n",
              "    </tr>\n",
              "    <tr>\n",
              "      <th>40</th>\n",
              "      <td>Southwark</td>\n",
              "      <td>10.000000</td>\n",
              "      <td>1</td>\n",
              "      <td>10.0</td>\n",
              "    </tr>\n",
              "    <tr>\n",
              "      <th>41</th>\n",
              "      <td>Southwark</td>\n",
              "      <td>7.272727</td>\n",
              "      <td>2</td>\n",
              "      <td>11.0</td>\n",
              "    </tr>\n",
              "    <tr>\n",
              "      <th>42</th>\n",
              "      <td>Southwark</td>\n",
              "      <td>5.555556</td>\n",
              "      <td>3</td>\n",
              "      <td>18.0</td>\n",
              "    </tr>\n",
              "    <tr>\n",
              "      <th>43</th>\n",
              "      <td>Tower Hamlets</td>\n",
              "      <td>6.066667</td>\n",
              "      <td>1</td>\n",
              "      <td>15.0</td>\n",
              "    </tr>\n",
              "    <tr>\n",
              "      <th>44</th>\n",
              "      <td>Tower Hamlets</td>\n",
              "      <td>5.117647</td>\n",
              "      <td>2</td>\n",
              "      <td>17.0</td>\n",
              "    </tr>\n",
              "    <tr>\n",
              "      <th>45</th>\n",
              "      <td>Waltham Forest</td>\n",
              "      <td>7.692308</td>\n",
              "      <td>1</td>\n",
              "      <td>13.0</td>\n",
              "    </tr>\n",
              "    <tr>\n",
              "      <th>46</th>\n",
              "      <td>Waltham Forest</td>\n",
              "      <td>7.166667</td>\n",
              "      <td>2</td>\n",
              "      <td>12.0</td>\n",
              "    </tr>\n",
              "    <tr>\n",
              "      <th>47</th>\n",
              "      <td>Waltham Forest</td>\n",
              "      <td>6.666667</td>\n",
              "      <td>3</td>\n",
              "      <td>15.0</td>\n",
              "    </tr>\n",
              "    <tr>\n",
              "      <th>48</th>\n",
              "      <td>Wandsworth</td>\n",
              "      <td>6.666667</td>\n",
              "      <td>1</td>\n",
              "      <td>15.0</td>\n",
              "    </tr>\n",
              "    <tr>\n",
              "      <th>49</th>\n",
              "      <td>Wandsworth</td>\n",
              "      <td>5.937500</td>\n",
              "      <td>2</td>\n",
              "      <td>16.0</td>\n",
              "    </tr>\n",
              "    <tr>\n",
              "      <th>50</th>\n",
              "      <td>Wandsworth</td>\n",
              "      <td>5.555556</td>\n",
              "      <td>3</td>\n",
              "      <td>18.0</td>\n",
              "    </tr>\n",
              "    <tr>\n",
              "      <th>51</th>\n",
              "      <td>Westminster</td>\n",
              "      <td>8.800000</td>\n",
              "      <td>1</td>\n",
              "      <td>10.0</td>\n",
              "    </tr>\n",
              "    <tr>\n",
              "      <th>52</th>\n",
              "      <td>Westminster</td>\n",
              "      <td>8.700000</td>\n",
              "      <td>2</td>\n",
              "      <td>10.0</td>\n",
              "    </tr>\n",
              "    <tr>\n",
              "      <th>53</th>\n",
              "      <td>Westminster</td>\n",
              "      <td>8.500000</td>\n",
              "      <td>3</td>\n",
              "      <td>10.0</td>\n",
              "    </tr>\n",
              "  </tbody>\n",
              "</table>\n",
              "</div>"
            ],
            "text/plain": [
              "    neighbourhood_cleansed  valueOfListings  rank  avg(price)\n",
              "0                   Barnet         5.157895     1        19.0\n",
              "1                    Brent         6.500000     1        14.0\n",
              "2                    Brent         6.266667     2        15.0\n",
              "3                    Brent         6.230769     3        13.0\n",
              "4                  Bromley        10.000000     1        10.0\n",
              "5                   Camden         5.625000     1        16.0\n",
              "6                   Camden         5.333333     2        15.0\n",
              "7                   Camden         5.294118     3        17.0\n",
              "8                  Croydon         5.111111     1        18.0\n",
              "9                  Croydon         5.105263     2        19.0\n",
              "10                  Ealing        10.000000     1        10.0\n",
              "11                  Ealing         8.333333     2        12.0\n",
              "12                  Ealing         5.882353     3        17.0\n",
              "13                 Enfield         5.882353     1        17.0\n",
              "14                 Enfield         5.764706     2        17.0\n",
              "15                 Enfield         5.500000     3        18.0\n",
              "16               Greenwich        10.000000     1        10.0\n",
              "17               Greenwich         7.000000     2        14.0\n",
              "18               Greenwich         6.666667     3        15.0\n",
              "19                 Hackney        10.000000     1         9.0\n",
              "20                 Hackney         5.882353     2        17.0\n",
              "21                Haringey         6.533333     1        15.0\n",
              "22                Haringey         6.250000     2        16.0\n",
              "23                Haringey         5.823529     3        17.0\n",
              "24               Islington         9.666667     1         9.0\n",
              "25               Islington         7.300000     2        10.0\n",
              "26               Islington         6.533333     3        15.0\n",
              "27  Kensington and Chelsea         5.235294     1        17.0\n",
              "28                 Lambeth         6.600000     1        15.0\n",
              "29                 Lambeth         5.588235     2        17.0\n",
              "30                 Lambeth         5.277778     3        18.0\n",
              "31                Lewisham         9.000000     1        10.0\n",
              "32                Lewisham         6.466667     2        15.0\n",
              "33                Lewisham         6.214286     3        14.0\n",
              "34                  Merton         5.052632     1        19.0\n",
              "35                  Newham        10.000000     1        10.0\n",
              "36                  Newham         7.142857     2        14.0\n",
              "37                  Newham         6.000000     3        15.0\n",
              "38               Redbridge         5.277778     1        18.0\n",
              "39               Redbridge         5.222222     2        18.0\n",
              "40               Southwark        10.000000     1        10.0\n",
              "41               Southwark         7.272727     2        11.0\n",
              "42               Southwark         5.555556     3        18.0\n",
              "43           Tower Hamlets         6.066667     1        15.0\n",
              "44           Tower Hamlets         5.117647     2        17.0\n",
              "45          Waltham Forest         7.692308     1        13.0\n",
              "46          Waltham Forest         7.166667     2        12.0\n",
              "47          Waltham Forest         6.666667     3        15.0\n",
              "48              Wandsworth         6.666667     1        15.0\n",
              "49              Wandsworth         5.937500     2        16.0\n",
              "50              Wandsworth         5.555556     3        18.0\n",
              "51             Westminster         8.800000     1        10.0\n",
              "52             Westminster         8.700000     2        10.0\n",
              "53             Westminster         8.500000     3        10.0"
            ]
          },
          "metadata": {},
          "execution_count": 45
        }
      ]
    },
    {
      "cell_type": "markdown",
      "metadata": {
        "id": "mZdZ5-FE4jnQ"
      },
      "source": [
        "## Part 4: Activity by month (5 pts)\n",
        "\n",
        "Activity is given by the number of reviews received in a given time period. Compute and visualise the activity based on month, that is, the total number of reviews given in January, February, etc..\n",
        "\n",
        "Your additional data source is [this zip archive](https://data-download.compute.dtu.dk/c02807/reviews_london.csv.zip) which you must uncompress and place in the same folder as this notebook. It is loaded in the next cell and named `df_reviews_london`."
      ]
    },
    {
      "cell_type": "code",
      "metadata": {
        "ExecuteTime": {
          "end_time": "2021-10-27T15:30:07.720386Z",
          "start_time": "2021-10-27T15:30:05.404386Z"
        },
        "id": "MGtA6uzq4jnQ"
      },
      "source": [
        "df_reviews_london = load_csv_as_dataframe('gdrive/MyDrive/reviews_london.csv')"
      ],
      "execution_count": null,
      "outputs": []
    },
    {
      "cell_type": "code",
      "metadata": {
        "ExecuteTime": {
          "end_time": "2021-10-31T14:36:42.395920Z",
          "start_time": "2021-10-31T14:36:42.393979Z"
        },
        "id": "NohJUbEg4jnQ",
        "colab": {
          "base_uri": "https://localhost:8080/",
          "height": 611
        },
        "outputId": "7bdd61ce-8dd7-458d-eb58-c327c3cafbbb"
      },
      "source": [
        "# your code goes here\n",
        "# df_reviews_london.toPandas().head(5)\n",
        "\n",
        "activity = df_reviews_london.withColumn('month',F.date_format('date',\"MMMM\")).groupBy('month').agg(F.count('reviewer_id')).toPandas().set_index('month')\n",
        "\n",
        "_ = activity.plot.bar(rot=0, color=sns.color_palette(),figsize=(15,10))\n",
        "plt.show()    "
      ],
      "execution_count": null,
      "outputs": [
        {
          "output_type": "display_data",
          "data": {
            "image/png": "[encoded data removed]",
            "text/plain": [
              "<Figure size 1080x720 with 1 Axes>"
            ]
          },
          "metadata": {
            "needs_background": "light"
          }
        }
      ]
    },
    {
      "cell_type": "markdown",
      "metadata": {
        "id": "So8nbHnR4jnQ"
      },
      "source": [
        "## Part 5: Reviews per listing (5 pts)\n",
        "\n",
        "Each London listing has received 0 or more reviews. \n",
        "\n",
        "Display a dataframe showing 1) The number of listings, 2) The average number of reviews a listing receives, 3) The standard deviation of the reviews per listing distribution, 4) The minimum number of reviews any listing has received, and 5) The maximum number of reviews any listing has received."
      ]
    },
    {
      "cell_type": "code",
      "metadata": {
        "ExecuteTime": {
          "end_time": "2021-10-31T14:36:48.293254Z",
          "start_time": "2021-10-31T14:36:48.291307Z"
        },
        "id": "xnH01VPh4jnQ",
        "colab": {
          "base_uri": "https://localhost:8080/",
          "height": 419
        },
        "outputId": "3be2ce9c-02ce-4a8e-8c8f-69719818f8e4"
      },
      "source": [
        "# your code goes here\n",
        "\n",
        "df_listings_reviews = df_listings_london.select(F.col('listing_url'), F.col('number_of_reviews')).groupBy('listing_url').agg(\\\n",
        "                                        F.count(F.col('listing_url')).alias('N of listings'),\n",
        "                                        F.avg(F.col('number_of_reviews')).alias('average N of reviews'), \n",
        "                                        F.stddev_pop(F.col('number_of_reviews')),\n",
        "                                        F.max(F.col('number_of_reviews')).alias('Max # of reviews'),\n",
        "                                        F.min(F.col('number_of_reviews')).alias('Mix # of reviews'))\n",
        "df_listings_reviews.toPandas()"
      ],
      "execution_count": null,
      "outputs": [
        {
          "output_type": "execute_result",
          "data": {
            "text/html": [
              "<div>\n",
              "<style scoped>\n",
              "    .dataframe tbody tr th:only-of-type {\n",
              "        vertical-align: middle;\n",
              "    }\n",
              "\n",
              "    .dataframe tbody tr th {\n",
              "        vertical-align: top;\n",
              "    }\n",
              "\n",
              "    .dataframe thead th {\n",
              "        text-align: right;\n",
              "    }\n",
              "</style>\n",
              "<table border=\"1\" class=\"dataframe\">\n",
              "  <thead>\n",
              "    <tr style=\"text-align: right;\">\n",
              "      <th></th>\n",
              "      <th>listing_url</th>\n",
              "      <th>N of listings</th>\n",
              "      <th>average N of reviews</th>\n",
              "      <th>stddev_pop(number_of_reviews)</th>\n",
              "      <th>Max # of reviews</th>\n",
              "      <th>Mix # of reviews</th>\n",
              "    </tr>\n",
              "  </thead>\n",
              "  <tbody>\n",
              "    <tr>\n",
              "      <th>0</th>\n",
              "      <td>https://www.airbnb.com/rooms/1000127</td>\n",
              "      <td>1</td>\n",
              "      <td>10.0</td>\n",
              "      <td>0.0</td>\n",
              "      <td>10</td>\n",
              "      <td>10</td>\n",
              "    </tr>\n",
              "    <tr>\n",
              "      <th>1</th>\n",
              "      <td>https://www.airbnb.com/rooms/10005666</td>\n",
              "      <td>1</td>\n",
              "      <td>52.0</td>\n",
              "      <td>0.0</td>\n",
              "      <td>52</td>\n",
              "      <td>52</td>\n",
              "    </tr>\n",
              "    <tr>\n",
              "      <th>2</th>\n",
              "      <td>https://www.airbnb.com/rooms/10006480</td>\n",
              "      <td>1</td>\n",
              "      <td>44.0</td>\n",
              "      <td>0.0</td>\n",
              "      <td>44</td>\n",
              "      <td>44</td>\n",
              "    </tr>\n",
              "    <tr>\n",
              "      <th>3</th>\n",
              "      <td>https://www.airbnb.com/rooms/10006571</td>\n",
              "      <td>1</td>\n",
              "      <td>1.0</td>\n",
              "      <td>0.0</td>\n",
              "      <td>1</td>\n",
              "      <td>1</td>\n",
              "    </tr>\n",
              "    <tr>\n",
              "      <th>4</th>\n",
              "      <td>https://www.airbnb.com/rooms/10006703</td>\n",
              "      <td>1</td>\n",
              "      <td>36.0</td>\n",
              "      <td>0.0</td>\n",
              "      <td>36</td>\n",
              "      <td>36</td>\n",
              "    </tr>\n",
              "    <tr>\n",
              "      <th>...</th>\n",
              "      <td>...</td>\n",
              "      <td>...</td>\n",
              "      <td>...</td>\n",
              "      <td>...</td>\n",
              "      <td>...</td>\n",
              "      <td>...</td>\n",
              "    </tr>\n",
              "    <tr>\n",
              "      <th>33141</th>\n",
              "      <td>https://www.airbnb.com/rooms/9996526</td>\n",
              "      <td>1</td>\n",
              "      <td>11.0</td>\n",
              "      <td>0.0</td>\n",
              "      <td>11</td>\n",
              "      <td>11</td>\n",
              "    </tr>\n",
              "    <tr>\n",
              "      <th>33142</th>\n",
              "      <td>https://www.airbnb.com/rooms/999691</td>\n",
              "      <td>1</td>\n",
              "      <td>79.0</td>\n",
              "      <td>0.0</td>\n",
              "      <td>79</td>\n",
              "      <td>79</td>\n",
              "    </tr>\n",
              "    <tr>\n",
              "      <th>33143</th>\n",
              "      <td>https://www.airbnb.com/rooms/9997109</td>\n",
              "      <td>1</td>\n",
              "      <td>0.0</td>\n",
              "      <td>0.0</td>\n",
              "      <td>0</td>\n",
              "      <td>0</td>\n",
              "    </tr>\n",
              "    <tr>\n",
              "      <th>33144</th>\n",
              "      <td>https://www.airbnb.com/rooms/9997517</td>\n",
              "      <td>1</td>\n",
              "      <td>14.0</td>\n",
              "      <td>0.0</td>\n",
              "      <td>14</td>\n",
              "      <td>14</td>\n",
              "    </tr>\n",
              "    <tr>\n",
              "      <th>33145</th>\n",
              "      <td>https://www.airbnb.com/rooms/999835</td>\n",
              "      <td>1</td>\n",
              "      <td>95.0</td>\n",
              "      <td>0.0</td>\n",
              "      <td>95</td>\n",
              "      <td>95</td>\n",
              "    </tr>\n",
              "  </tbody>\n",
              "</table>\n",
              "<p>33146 rows × 6 columns</p>\n",
              "</div>"
            ],
            "text/plain": [
              "                                 listing_url  ...  Mix # of reviews\n",
              "0       https://www.airbnb.com/rooms/1000127  ...                10\n",
              "1      https://www.airbnb.com/rooms/10005666  ...                52\n",
              "2      https://www.airbnb.com/rooms/10006480  ...                44\n",
              "3      https://www.airbnb.com/rooms/10006571  ...                 1\n",
              "4      https://www.airbnb.com/rooms/10006703  ...                36\n",
              "...                                      ...  ...               ...\n",
              "33141   https://www.airbnb.com/rooms/9996526  ...                11\n",
              "33142    https://www.airbnb.com/rooms/999691  ...                79\n",
              "33143   https://www.airbnb.com/rooms/9997109  ...                 0\n",
              "33144   https://www.airbnb.com/rooms/9997517  ...                14\n",
              "33145    https://www.airbnb.com/rooms/999835  ...                95\n",
              "\n",
              "[33146 rows x 6 columns]"
            ]
          },
          "metadata": {},
          "execution_count": 61
        }
      ]
    },
    {
      "cell_type": "markdown",
      "metadata": {
        "id": "x62poLc34jnQ"
      },
      "source": [
        "# Exercise 3: Word sentiment (45 pts)\n",
        "\n",
        "In this exercise you must use Spark to do the data processing. For parts where you present tabular data, this entails calling `toPandas` as the final step of your query. You may need multiple queries to solve the individual parts.\n",
        "\n",
        "The goal here is to determine what sentiment (positive or negative) words in reviews have. Roughly speaking, we want each word to be assigned a score based on the rating of the reviews in which the word occurs in the review comment. We'd expect words such as \"clean\", \"comfortable\", \"superhost\" to receive high scores, while words such as \"unpleasant\", \"dirty\", \"disgusting\" would receive low scores.\n",
        "\n",
        "As individual reviews do not have a rating, we'll consider the rating of individual reviews to be the rating of its related listing (i.e. assuming each review gave the average rating (`review_scores_rating`) of the listing). \n",
        "\n",
        "The score of a word is given by the mean review rating over the reviews in which that word occurs in the comment. We require words to appear in at least 0.5% (1 in 200) listings, and to be at least 4 characters, for it to have a defined score.\n",
        "\n",
        "Formally, when a word $w$ occurs in at least $0.5\\%$ of listings and $|w| > 3$, its score is\n",
        "\n",
        "$\n",
        "\\begin{align*}\n",
        "score(w) = \\frac{1}{|C_w|}\\sum_{comment \\in C_w} \\text{review_rating}(comment)\n",
        "\\end{align*}\n",
        "$\n",
        ", where \n",
        "* $C_w = \\{comment \\mid w \\text{ occurs in } \\text{clean_text}(comment)\\}$, the set (so no duplicates) of comments in which $w$ occurs, and\n",
        "* $\\text{clean_text}(comment)$ is the result of your `clean_text` function defined below, and\n",
        "* $\\text{review_rating}(comment)$ is the `review_scores_rating` of the listing which this $comment$ is related to.\n"
      ]
    },
    {
      "cell_type": "markdown",
      "metadata": {
        "id": "jFNxM4PS4jnQ"
      },
      "source": [
        "## Part 1: Toy data (15 pts)\n",
        "\n",
        "To get started we'll consider a toy example where the input is `df_sentiment_listings_toy` and `df_sentiment_reviews_toy` defined in the next code cell. You should provide an implementation of `calculate_word_scores_toy` in the subsequent code cell. Your implementation should result in a query that when given the toy example dataframes as input and is materialized with `toPandas()` produces this table:\n",
        "\n",
        "|    | word   |   word_score |   listing_occurences |   word_occurences |   comment_occurences |\n",
        "|---:|:-------|-------------:|---------------------:|------------------:|---------------------:|\n",
        "|  0 | aaaa   |      7       |                    3 |                 5 |                    5 |\n",
        "|  1 | bbbb   |      6.66667 |                    2 |                 3 |                    3 |\n",
        "|  2 | eeee   |      0       |                    1 |                 1 |                    1 |\n",
        "|  3 | dddd   |      5       |                    1 |                 1 |                    1 |\n",
        "|  4 | cccc   |      5       |                    2 |                 2 |                    2 |'\n",
        "\n",
        "Observe that `word_occurences` and `comment_occurences` are the same as words occuring multiple times in a comment are counted once, and that `clean_text` is used to ignore casing and discard non-words. Additionally, any word occuring at least once will occur in more than 1 out of 200 listings on this toy data."
      ]
    },
    {
      "cell_type": "code",
      "metadata": {
        "ExecuteTime": {
          "end_time": "2021-10-27T15:30:20.311738Z",
          "start_time": "2021-10-27T15:30:20.131208Z"
        },
        "id": "p2_01YSQ4jnQ"
      },
      "source": [
        "from pyspark.sql.types import StructType, StructField, StringType\n",
        "\n",
        "schema_listings = StructType([\n",
        "    StructField('id', StringType(), True),\n",
        "    StructField('review_scores_rating', StringType(), True),\n",
        "])\n",
        "data_listings = [\n",
        "    {'id': '0', 'review_scores_rating': '10'},\n",
        "    {'id': '1', 'review_scores_rating': '5'},\n",
        "    {'id': '2', 'review_scores_rating': '0'},\n",
        "]\n",
        "df_sentiment_listings_toy = spark.createDataFrame(data_listings, schema_listings)\n",
        "\n",
        "schema_reviews = StructType([\n",
        "    StructField('listing_id', StringType(), True),\n",
        "    StructField('id', StringType(), True),\n",
        "    StructField('comments', StringType(), True),\n",
        "])\n",
        "data_reviews = [\n",
        "    {'listing_id': '0', 'id': '100', 'comments': 'aaaa bbbb          cccc'},\n",
        "    {'listing_id': '0', 'id': '101', 'comments': 'aaaa bbbb '},\n",
        "    {'listing_id': '0', 'id': '102', 'comments': 'aaaa aAAa          aaaa'},\n",
        "    {'listing_id': '1', 'id': '103', 'comments': 'Aaaa bbb ccc'},\n",
        "    {'listing_id': '1', 'id': '104', 'comments': 'dddd %ˆ&*'},\n",
        "    {'listing_id': '2', 'id': '105', 'comments': 'AaaA'},\n",
        "    {'listing_id': '2', 'id': '106', 'comments': 'bbbb ccc e&eˆˆee'},\n",
        "    {'listing_id': '2', 'id': '107', 'comments': 'cccc cccc'},\n",
        "]\n",
        "\n",
        "df_sentiment_reviews_toy = \\\n",
        "    spark.createDataFrame(data_reviews, schema_reviews) \\\n",
        "        .select(F.col('listing_id'), F.col('id').alias('comment_id'), F.col('comments'))\n"
      ],
      "execution_count": null,
      "outputs": []
    },
    {
      "cell_type": "code",
      "metadata": {
        "ExecuteTime": {
          "end_time": "2021-10-27T15:30:24.249616Z",
          "start_time": "2021-10-27T15:30:20.312564Z"
        },
        "id": "ybRkPjCD4jnR",
        "colab": {
          "base_uri": "https://localhost:8080/",
          "height": 334
        },
        "outputId": "a64f2839-d05d-4853-faa3-4d8fff266876"
      },
      "source": [
        "# your code goes here\n",
        "def clean_text(col):\n",
        "    \"\"\"\n",
        "        Cleans the text (comment) associated with col. The\n",
        "        cleaning should:\n",
        "            1) Lower case the text\n",
        "            2) Turn multiple whitespaces into single whitespaces\n",
        "            3) Remove anything but letters, digits and whitespaces\n",
        "        \n",
        "        :col: A Spark Column object containing text data\n",
        "        :returns: A Spark Column object.\n",
        "    \"\"\"\n",
        "    raise NotImplementedError\n",
        "\n",
        "def calculate_word_scores_toy(df_list, df_rev):\n",
        "    \"\"\"\n",
        "        Calculates the word score over listings in df_list and\n",
        "        reviews in df_rev. The table produced should have the \n",
        "        same columns as specified in part 1.\n",
        "        \n",
        "        :returns: A pandas DataFrame\n",
        "    \"\"\"\n",
        "    raise NotImplementedError\n",
        "\n",
        "calculate_word_scores_toy(df_sentiment_listings_toy, df_sentiment_reviews_toy)"
      ],
      "execution_count": null,
      "outputs": [
        {
          "output_type": "error",
          "ename": "NotImplementedError",
          "evalue": "ignored",
          "traceback": [
            "\u001b[0;31m---------------------------------------------------------------------------\u001b[0m",
            "\u001b[0;31mNotImplementedError\u001b[0m                       Traceback (most recent call last)",
            "\u001b[0;32m<ipython-input-24-6add9fd46b12>\u001b[0m in \u001b[0;36m<module>\u001b[0;34m()\u001b[0m\n\u001b[1;32m     23\u001b[0m     \u001b[0;32mraise\u001b[0m \u001b[0mNotImplementedError\u001b[0m\u001b[0;34m\u001b[0m\u001b[0;34m\u001b[0m\u001b[0m\n\u001b[1;32m     24\u001b[0m \u001b[0;34m\u001b[0m\u001b[0m\n\u001b[0;32m---> 25\u001b[0;31m \u001b[0mcalculate_word_scores_toy\u001b[0m\u001b[0;34m(\u001b[0m\u001b[0mdf_sentiment_listings_toy\u001b[0m\u001b[0;34m,\u001b[0m \u001b[0mdf_sentiment_reviews_toy\u001b[0m\u001b[0;34m)\u001b[0m\u001b[0;34m\u001b[0m\u001b[0;34m\u001b[0m\u001b[0m\n\u001b[0m",
            "\u001b[0;32m<ipython-input-24-6add9fd46b12>\u001b[0m in \u001b[0;36mcalculate_word_scores_toy\u001b[0;34m(df_list, df_rev)\u001b[0m\n\u001b[1;32m     21\u001b[0m         \u001b[0;34m:\u001b[0m\u001b[0mreturns\u001b[0m\u001b[0;34m:\u001b[0m \u001b[0mA\u001b[0m \u001b[0mpandas\u001b[0m \u001b[0mDataFrame\u001b[0m\u001b[0;34m\u001b[0m\u001b[0;34m\u001b[0m\u001b[0m\n\u001b[1;32m     22\u001b[0m     \"\"\"\n\u001b[0;32m---> 23\u001b[0;31m     \u001b[0;32mraise\u001b[0m \u001b[0mNotImplementedError\u001b[0m\u001b[0;34m\u001b[0m\u001b[0;34m\u001b[0m\u001b[0m\n\u001b[0m\u001b[1;32m     24\u001b[0m \u001b[0;34m\u001b[0m\u001b[0m\n\u001b[1;32m     25\u001b[0m \u001b[0mcalculate_word_scores_toy\u001b[0m\u001b[0;34m(\u001b[0m\u001b[0mdf_sentiment_listings_toy\u001b[0m\u001b[0;34m,\u001b[0m \u001b[0mdf_sentiment_reviews_toy\u001b[0m\u001b[0;34m)\u001b[0m\u001b[0;34m\u001b[0m\u001b[0;34m\u001b[0m\u001b[0m\n",
            "\u001b[0;31mNotImplementedError\u001b[0m: "
          ]
        }
      ]
    },
    {
      "cell_type": "markdown",
      "metadata": {
        "id": "wF0-Et6Y4jnR"
      },
      "source": [
        "## Part 2: London comments (15 pts)\n",
        "\n",
        "In this part we'll calculate word scores for the comments related to London listings only. You should implement `count_relevant_listings` and `calculate_word_scores` (it will be an extension of your function from part 1) below. See the mathematical definition and docstrings for intended behaviour.\n",
        "\n",
        "The function `calculate_word_scores` should return the top 10 and bottom 10 words by score. You should **not** use caching in your function.\n",
        "\n",
        "Make sure your satisfy all conditions for a word to be scored (e.g. correctly calculating how many total listings scores are computed over). You should also consider whether your query is optimally structured in terms of computation time. Moreover, `pd.set_option('display.max_rows', <n>)` should be set with sufficiently high `n` to show all words."
      ]
    },
    {
      "cell_type": "code",
      "metadata": {
        "ExecuteTime": {
          "end_time": "2021-10-31T13:35:09.413747Z",
          "start_time": "2021-10-31T13:35:09.386493Z"
        },
        "id": "NL05dnDH4jnR"
      },
      "source": [
        "# your code goes here\n",
        "def count_relevant_listings(df_list, df_rev):\n",
        "    \"\"\"\n",
        "        Calculates the number of listings in df_list that has a \n",
        "        review in df_rev. A listing that is reviewed more than once\n",
        "        should only count as one.\n",
        "        \n",
        "        :returns: An integer \n",
        "    \"\"\"\n",
        "    raise NotImplementedError\n",
        "\n",
        "def calculate_word_scores(df_list, df_rev, listings_count):\n",
        "    \"\"\"\n",
        "        Calculates the word score over listings in df_list and\n",
        "        reviews in df_rev. The value of listings_count should \n",
        "        be used to filter out words not occuring frequently enough\n",
        "        in comments. The table produced should have the same columns\n",
        "        as in part 1 of this exercise.\n",
        "        \n",
        "        :returns: A pandas DataFrame containing the top 10 and \n",
        "        bottom 10 words based on their word score, sorted by word_score.\n",
        "    \"\"\"\n",
        "    raise NotImplementedError"
      ],
      "execution_count": null,
      "outputs": []
    },
    {
      "cell_type": "code",
      "metadata": {
        "ExecuteTime": {
          "end_time": "2021-10-31T13:37:21.918401Z",
          "start_time": "2021-10-31T13:35:10.034363Z"
        },
        "id": "ZoUPZ6F-4jnR"
      },
      "source": [
        "# should not be modified\n",
        "from IPython.display import display\n",
        "\n",
        "relevant_listings_count_london = count_relevant_listings(df_listings_london, df_reviews_london)\n",
        "word_scores_london_timing = %timeit -o -n1 -r1 display( \\\n",
        "    calculate_word_scores(df_listings_london, \\\n",
        "                          df_reviews_london, \\\n",
        "                          relevant_listings_count_london) \\\n",
        ")\n",
        "\n",
        "word_scores_london_timing.best"
      ],
      "execution_count": null,
      "outputs": []
    },
    {
      "cell_type": "markdown",
      "metadata": {
        "id": "UAPvcNbU4jnR"
      },
      "source": [
        "## Part 3: Scalability (10 pts)\n",
        "\n",
        "The listings from London make up a little less than 2% of the entire set of listings. In this part we're interested in how the amount of input data impacts computation time, that is, how `calculate_word_scores` scales as data increases. To this end, we've made multiple samples of the dataset of varying sizes.\n",
        "\n",
        "The experiment reuses `count_relevant_listings` and `calculate_word_scores` that you implemented in part 2. Code needed for this part is provided to you. \n",
        "\n",
        "Your task is to obtain the data sources, run the code cells below, and explain the results you get. Specifically, you must explain any non-linear relationship between data size and computation time, using the markdown cell at the end of this part. In finding explanations, using the Spark UI to investigate the anatomy of your queries may prove valuable. Once you've found an explanation, state a potential solution to remedy the issue. Lastly, include a paragraph stating the specifications of your computer hardware (memory, CPU cores and clock speed, solid state disk or not) on which the experiment has been run.\n",
        "\n",
        "*Implementation note* Make sure you've properly configured `spark.driver.memory` (it requires a kernel restart to update the value). It may be that your query fails on the larger samples due to running out of compute resources. This is likely caused by a suboptimal `calculate_word_scores`, but can be from reaching the limits of your hardware. If you think the latter is the case, argue for this perspective in the markdown cell.\n",
        "\n",
        "Your data sources are (uncompress and place in the same directory as this notebook):\n",
        "* 0.25%: [listings](https://data-download.compute.dtu.dk/c02807/listings_0-dot-25percent.csv.zip), [reviews](https://data-download.compute.dtu.dk/c02807/reviews_0-dot-25percent.csv.zip)\n",
        "* 0.5%: [listings](https://data-download.compute.dtu.dk/c02807/listings_0-dot-5percent.csv.zip), [reviews](https://data-download.compute.dtu.dk/c02807/reviews_0-dot-5percent.csv.zip)\n",
        "* 1%: [listings](https://data-download.compute.dtu.dk/c02807/listings_1-dot-0percent.csv.zip), [reviews](https://data-download.compute.dtu.dk/c02807/reviews_1-dot-0percent.csv.zip)\n",
        "* 2%: [listings](https://data-download.compute.dtu.dk/c02807/listings_2-dot-0percent.csv.zip), [reviews](https://data-download.compute.dtu.dk/c02807/reviews_2-dot-0percent.csv.zip)\n",
        "* 4%: [listings](https://data-download.compute.dtu.dk/c02807/listings_4-dot-0percent.csv.zip), [reviews](https://data-download.compute.dtu.dk/c02807/reviews_4-dot-0percent.csv.zip)\n",
        "* 8%: [listings](https://data-download.compute.dtu.dk/c02807/listings_8-dot-0percent.csv.zip), [reviews](https://data-download.compute.dtu.dk/c02807/reviews_8-dot-0percent.csv.zip)\n",
        "* 12.5%: [listings](https://data-download.compute.dtu.dk/c02807/listings_12-dot-5percent.csv.zip), [reviews](https://data-download.compute.dtu.dk/c02807/reviews_12-dot-5percent.csv.zip)\n",
        "* 16%: [listings](https://data-download.compute.dtu.dk/c02807/listings_16-dot-0percent.csv.zip), [reviews](https://data-download.compute.dtu.dk/c02807/reviews_16-dot-0percent.csv.zip)\n",
        "* 25%: [listings](https://data-download.compute.dtu.dk/c02807/listings_25-dot-0percent.csv.zip), [reviews](https://data-download.compute.dtu.dk/c02807/reviews_25-dot-0percent.csv.zip)\n",
        "* 50%: [listings](https://data-download.compute.dtu.dk/c02807/listings_50-dot-0percent.csv.zip), [reviews](https://data-download.compute.dtu.dk/c02807/reviews_50-dot-0percent.csv.zip)\n",
        "* 75%: [listings](https://data-download.compute.dtu.dk/c02807/listings_75-dot-0percent.csv.zip), [reviews](https://data-download.compute.dtu.dk/c02807/reviews_75-dot-0percent.csv.zip)\n",
        "* 100%: [listings](https://data-download.compute.dtu.dk/c02807/listings_100-dot-0percent.csv.zip), [reviews](https://data-download.compute.dtu.dk/c02807/reviews_100-dot-0percent.csv.zip)"
      ]
    },
    {
      "cell_type": "code",
      "metadata": {
        "ExecuteTime": {
          "end_time": "2021-10-28T23:46:48.667540Z",
          "start_time": "2021-10-28T23:46:48.663425Z"
        },
        "id": "u9BPHTsQ4jnR"
      },
      "source": [
        "import time\n",
        "def calculate_word_scores_timed(percent_str):\n",
        "    \"\"\"\n",
        "        Calculates word scores over a sampled dataset indicated\n",
        "        by percent_str.\n",
        "        \n",
        "        :returns: A dictionary with benchmarking information and\n",
        "        the calculated values.\n",
        "    \"\"\"\n",
        "    df_listings = load_csv_as_dataframe(f'listings_{percent_str}percent.csv')\n",
        "    df_reviews = load_csv_as_dataframe(f'reviews_{percent_str}percent.csv')\n",
        "    \n",
        "    listings_count = count_relevant_listings(df_listings, df_reviews)\n",
        "\n",
        "    start = time.time()\n",
        "    df_word_scores = calculate_word_scores(df_listings, df_reviews, listings_count)\n",
        "    end = time.time()\n",
        "    return {\n",
        "        'percentage': float(percent_str.replace('-dot-', '.')), \n",
        "        'time_spent': f\"{end - start:.2f}\", \n",
        "        'relevant_listings': listings_count, \n",
        "        'df': df_word_scores\n",
        "    }"
      ],
      "execution_count": null,
      "outputs": []
    },
    {
      "cell_type": "code",
      "metadata": {
        "ExecuteTime": {
          "end_time": "2021-10-29T00:35:02.491711Z",
          "start_time": "2021-10-28T23:46:49.516730Z"
        },
        "id": "0eutRq674jnR"
      },
      "source": [
        "data_percentages = [\n",
        "    '0-dot-25', '0-dot-5', '1-dot-0', '2-dot-0', '4-dot-0', '8-dot-0',\n",
        "    '12-dot-5', '16-dot-0', '25-dot-0'\n",
        "]\n",
        "score_data = {\n",
        "    percentage_str: calculate_word_scores_timed(percentage_str) for percentage_str in data_percentages\n",
        "}"
      ],
      "execution_count": null,
      "outputs": []
    },
    {
      "cell_type": "code",
      "metadata": {
        "ExecuteTime": {
          "end_time": "2021-10-29T00:35:02.502845Z",
          "start_time": "2021-10-29T00:35:02.493477Z"
        },
        "id": "6gn8hhmq4jnR"
      },
      "source": [
        "score_data['50-dot-0'] = calculate_word_scores_timed('50-dot-0')"
      ],
      "execution_count": null,
      "outputs": []
    },
    {
      "cell_type": "code",
      "metadata": {
        "ExecuteTime": {
          "end_time": "2021-10-29T00:35:02.506905Z",
          "start_time": "2021-10-29T00:35:02.503911Z"
        },
        "id": "o6S0UVl74jnS"
      },
      "source": [
        "score_data['75-dot-0'] = calculate_word_scores_timed('75-dot-0')"
      ],
      "execution_count": null,
      "outputs": []
    },
    {
      "cell_type": "code",
      "metadata": {
        "ExecuteTime": {
          "end_time": "2021-10-29T00:35:02.511277Z",
          "start_time": "2021-10-29T00:35:02.510002Z"
        },
        "id": "Co5DP5jH4jnS"
      },
      "source": [
        "score_data['100-dot-0'] = calculate_word_scores_timed('100-dot-0')"
      ],
      "execution_count": null,
      "outputs": []
    },
    {
      "cell_type": "code",
      "metadata": {
        "ExecuteTime": {
          "end_time": "2021-10-29T00:35:02.580856Z",
          "start_time": "2021-10-29T00:35:02.512026Z"
        },
        "scrolled": true,
        "id": "KXicfeA-4jnS"
      },
      "source": [
        "df_scores_scaling = pd.DataFrame(score_data).T.convert_dtypes()\n",
        "df_scores_scaling.time_spent = df_scores_scaling.time_spent.astype(float)\n",
        "\n",
        "# Access to word scores of 2 percent data: df_scores_scaling.loc['2-dot-0'].df\n",
        "df_scores_scaling"
      ],
      "execution_count": null,
      "outputs": []
    },
    {
      "cell_type": "code",
      "metadata": {
        "ExecuteTime": {
          "end_time": "2021-10-29T00:35:02.872708Z",
          "start_time": "2021-10-29T00:35:02.582105Z"
        },
        "scrolled": true,
        "id": "pEviNX0y4jnS"
      },
      "source": [
        "fig, axes = plt.subplots(ncols=3, figsize=(15, 5))\n",
        "\n",
        "lower_range = ['0-dot-25', '0-dot-5', '1-dot-0', '2-dot-0', '4-dot-0', '8-dot-0', '16-dot-0']\n",
        "df_scores_scaling[df_scores_scaling.index.isin(lower_range)] \\\n",
        "    .plot.line(x='percentage', y='time_spent', ax=axes[0], style='-o', title='Lower range')\n",
        "df_scores_scaling[~df_scores_scaling.index.isin(lower_range)] \\\n",
        "    .plot.line(x='percentage', y='time_spent', ax=axes[1], style='-o', title='Upper range')\n",
        "_ = df_scores_scaling \\\n",
        "    .plot.line(x='percentage', y='time_spent', ax=axes[2], style='-o', title='All')"
      ],
      "execution_count": null,
      "outputs": []
    },
    {
      "cell_type": "markdown",
      "metadata": {
        "id": "yf5c4daR4jnS"
      },
      "source": [
        "*Your explanation to the questions outlined at the start of this part goes here. Make sure you've addressed all questions asked.*"
      ]
    },
    {
      "cell_type": "markdown",
      "metadata": {
        "id": "B-61VA-34jnS"
      },
      "source": [
        "## Part 4: Robustness (5 pts)\n",
        "\n",
        "In this part we'll explore robustness of our word scores, using the values we computed in part 3. We'll do so by comparing top/bottom words for three different samples of the dataset. Specifically, the scores from your maximum (e.g. 100%) computed sample are to be compared with the 12.5% and 2.0% scores.\n",
        "\n",
        "Compute and display a dataframe that accounts for any word found in either of the three samples' top/bottom words, and additionally shows the related `word_score` and `word_occurences` values.\n",
        "\n",
        "Note that `df_scores_scaling.loc['100-dot-0'].df` provides the word scores dataframe of the 100% sample (similarly for the other two). For this part you should rely on pandas functionality only.  Moreover, `pd.set_option('display.max_rows', <n>)` should be set with sufficiently high `n` to show all rows."
      ]
    },
    {
      "cell_type": "code",
      "metadata": {
        "ExecuteTime": {
          "end_time": "2021-10-31T14:37:40.614597Z",
          "start_time": "2021-10-31T14:37:40.612561Z"
        },
        "scrolled": true,
        "id": "9jrmvVmM4jnS"
      },
      "source": [
        "# your code goes here"
      ],
      "execution_count": null,
      "outputs": []
    },
    {
      "cell_type": "markdown",
      "metadata": {
        "id": "CQyEFla44jnS"
      },
      "source": [
        "# Exercise 4: Transactions analysis (55 pts)\n",
        "\n",
        "In this exercise the goal is to analyse historical business transactions (sales of parts to other companies), and derive insights about both products and customers.\n",
        "\n",
        "The company X produces and globally sells gadget parts to a number of other companies. You requested the sales department of X to provide you with access to the customer and sales transactions database. To your horror, you've found no such database exists, but the data is instead manually maintained in a spreadsheet (error-prone solution). Intrepid as you are, you've accepted to receive the spreadsheet data as a `.csv`, realizing already data cleaning will be necessary.\n",
        "\n",
        "Your first step (parts 1 and 2) is to clean the data after which you will derive insights about X's business operations (parts 3 and 4).\n",
        "\n",
        "The input data is available here: [transactions.csv](http://courses.compute.dtu.dk/02807/2021/projects/project2/transactions.csv)\n",
        "\n",
        "**Using SQL**\n",
        "\n",
        "In this final exercise you must write SQL to do the data processing in parts 3 and 4. This entails using `psql.sqldf` to execute your queries (up against `df_transactions_cleaned`) which will return a pandas dataframe. Each question should be answered with a *single* query. For visualisation the `psql.sqldf` call should be followed only by functions necessary to customize the plotting/layout steps or reshape the dataframe (i.e. no data processing take place after your SQL statement is materialized as a pandas dataframe).\n",
        "\n",
        "In part 1 and 2 of this exercise, you should make use of pandas functionality.\n",
        "\n"
      ]
    },
    {
      "cell_type": "markdown",
      "metadata": {
        "id": "SM2KEdqu4jnS"
      },
      "source": [
        "## Part 1: Data cleaning (15 pts)\n",
        "\n",
        "For each column in the dataframe, investigate and **correct** problematic aspects such as,\n",
        "* Missing values: Insert meaningful values (data imputation). Detectable as `np.nan`'s. A typical value for imputation is the *mode* (most frequent value) of the distribution. If no proper data imputation is possible, you may resort to dropping rows.\n",
        "* Incorrect values: Typos and other data mishaps are present as values are manually entered. Detectable as low-prevalence categorical values, or ambigious data links (e.g. company listed in multiple countries). If no proper value correction is possible, you may resort to dropping rows.\n",
        "\n",
        "In both cases, your strategy for replacing values should be data-driven, that is, shaped by the patterns you observe in the data. It is allowed to skip correcting the data (and instead drop the rows) if few rows are improved by your corrections. If in doubt, do the correction.\n",
        "\n",
        "After all your cleaning steps are completed, you should run the `PandasProfiler` on your cleaned dataset, which should now contain 0% missing cells. Lastly, summarize the issues you identified and how you addressed them."
      ]
    },
    {
      "cell_type": "markdown",
      "metadata": {
        "id": "u9EAimzb4jnS"
      },
      "source": [
        "### Read, profile and explain\n",
        "\n",
        "As the first step, load the data naming the dataframe `df_transactions`, and make a copy named `df_transactions_cleaned` on which your data cleaning steps will be done. Establish an overview using `PandasProfiler` (but realize there's more to cleaning than what this tool will let you know). Write a paragraph on what the data is about (e.g. what does a row constitute), and a paragraph on what the profile report tells you."
      ]
    },
    {
      "cell_type": "code",
      "metadata": {
        "ExecuteTime": {
          "end_time": "2021-10-31T14:37:53.403596Z",
          "start_time": "2021-10-31T14:37:53.400458Z"
        },
        "id": "A4gokJNI4jnT"
      },
      "source": [
        "# your code goes here"
      ],
      "execution_count": null,
      "outputs": []
    },
    {
      "cell_type": "markdown",
      "metadata": {
        "id": "2KwNFkhZ4jnT"
      },
      "source": [
        "*Your explanation here*"
      ]
    },
    {
      "cell_type": "markdown",
      "metadata": {
        "id": "1uCcxzh54jnT"
      },
      "source": [
        "### Country column"
      ]
    },
    {
      "cell_type": "code",
      "metadata": {
        "ExecuteTime": {
          "end_time": "2021-10-31T14:38:10.817218Z",
          "start_time": "2021-10-31T14:38:10.814361Z"
        },
        "id": "UQobGiSQ4jnT"
      },
      "source": [
        "# your code goes here"
      ],
      "execution_count": null,
      "outputs": []
    },
    {
      "cell_type": "markdown",
      "metadata": {
        "id": "pnxk7N984jnT"
      },
      "source": [
        "### Company column"
      ]
    },
    {
      "cell_type": "code",
      "metadata": {
        "ExecuteTime": {
          "end_time": "2021-10-31T14:38:23.615156Z",
          "start_time": "2021-10-31T14:38:23.612981Z"
        },
        "id": "Z1vr1z1V4jnT"
      },
      "source": [
        "# your code goes here"
      ],
      "execution_count": null,
      "outputs": []
    },
    {
      "cell_type": "markdown",
      "metadata": {
        "id": "hzkzURFj4jnT"
      },
      "source": [
        "### City column"
      ]
    },
    {
      "cell_type": "code",
      "metadata": {
        "ExecuteTime": {
          "end_time": "2021-10-27T18:56:56.402705Z",
          "start_time": "2021-10-27T18:56:56.401612Z"
        },
        "id": "zOQjBe-94jnT"
      },
      "source": [
        "# your code goes here"
      ],
      "execution_count": null,
      "outputs": []
    },
    {
      "cell_type": "markdown",
      "metadata": {
        "id": "SN671FEX4jnT"
      },
      "source": [
        "### Parts column"
      ]
    },
    {
      "cell_type": "code",
      "metadata": {
        "ExecuteTime": {
          "end_time": "2021-10-27T18:56:56.644628Z",
          "start_time": "2021-10-27T18:56:56.643615Z"
        },
        "id": "nMHzx5rl4jnT"
      },
      "source": [
        "# your code goes here"
      ],
      "execution_count": null,
      "outputs": []
    },
    {
      "cell_type": "markdown",
      "metadata": {
        "id": "Stk-AVkM4jnT"
      },
      "source": [
        "### Price column"
      ]
    },
    {
      "cell_type": "code",
      "metadata": {
        "ExecuteTime": {
          "end_time": "2021-10-27T18:56:56.662243Z",
          "start_time": "2021-10-27T18:56:56.660643Z"
        },
        "id": "bGb4G97k4jnU"
      },
      "source": [
        "# your code goes here"
      ],
      "execution_count": null,
      "outputs": []
    },
    {
      "cell_type": "markdown",
      "metadata": {
        "id": "S9TgwrNZ4jnU"
      },
      "source": [
        "### Date column"
      ]
    },
    {
      "cell_type": "code",
      "metadata": {
        "ExecuteTime": {
          "end_time": "2021-10-31T14:38:43.270635Z",
          "start_time": "2021-10-31T14:38:43.268585Z"
        },
        "id": "am9CNN594jnU"
      },
      "source": [
        "#your code goes here"
      ],
      "execution_count": null,
      "outputs": []
    },
    {
      "cell_type": "markdown",
      "metadata": {
        "id": "2Ik77rvq4jnU"
      },
      "source": [
        "### Profile `df_transactions_cleaned` and summarize corrections made"
      ]
    },
    {
      "cell_type": "code",
      "metadata": {
        "ExecuteTime": {
          "end_time": "2021-10-31T14:38:52.078805Z",
          "start_time": "2021-10-31T14:38:52.076381Z"
        },
        "scrolled": true,
        "id": "vOuZ6QGY4jnU"
      },
      "source": [
        "# your code goes here"
      ],
      "execution_count": null,
      "outputs": []
    },
    {
      "cell_type": "markdown",
      "metadata": {
        "id": "tTnK1fMF4jnU"
      },
      "source": [
        "*Your summary goes here*"
      ]
    },
    {
      "cell_type": "markdown",
      "metadata": {
        "id": "rVEOeN4C4jnU"
      },
      "source": [
        "## Part 2: Standardise prices (5 pts)\n",
        "\n",
        "Transaction prices are recorded in the local currency of the client (EUR, GBP, USD or JPY). You will need to convert these prices from local currency into the common currency (chosen here as) EUR, for comparability. These standardised prices should be added as a column to the dataframe called `prices_euro`.\n",
        "\n",
        "Consider a two step process where you 1) Identify what currency has been used, and 2) Calculate the price conversion. Step 1 may reveal the data is still not completely clean (so either correct by impute or drop). For Step 2 look up exchange rates on the Internet."
      ]
    },
    {
      "cell_type": "code",
      "metadata": {
        "ExecuteTime": {
          "end_time": "2021-10-27T18:56:58.558049Z",
          "start_time": "2021-10-27T18:56:58.556556Z"
        },
        "id": "VTFTFPMX4jnU"
      },
      "source": [
        "# your code goes here"
      ],
      "execution_count": null,
      "outputs": []
    },
    {
      "cell_type": "markdown",
      "metadata": {
        "id": "7Yiqzq3L4jnU"
      },
      "source": [
        "## Part 3: Business insights (15 pts)"
      ]
    },
    {
      "cell_type": "markdown",
      "metadata": {
        "id": "L019f5Sb4jnV"
      },
      "source": [
        "### Company by revenue\n",
        "\n",
        "The revenue of a company is its total value of orders, all time. Compute and visualise all companies by revenue in descending order."
      ]
    },
    {
      "cell_type": "code",
      "metadata": {
        "ExecuteTime": {
          "end_time": "2021-10-31T14:39:13.954452Z",
          "start_time": "2021-10-31T14:39:13.952349Z"
        },
        "id": "qS67VJG-4jnV"
      },
      "source": [
        "# your code goes here"
      ],
      "execution_count": null,
      "outputs": []
    },
    {
      "cell_type": "markdown",
      "metadata": {
        "id": "VL29OwOV4jnV"
      },
      "source": [
        "### Country by revenue, per year\n",
        "\n",
        "The revenue of a country in a time period, is its total value of orders in that time period. Compute and visualise all countries by revenue, for years 2016, 2017 and 2018. Your visualisation should have countries on the x-axis and multiple bars (one for each year)."
      ]
    },
    {
      "cell_type": "code",
      "metadata": {
        "ExecuteTime": {
          "end_time": "2021-10-31T14:39:18.597583Z",
          "start_time": "2021-10-31T14:39:18.594419Z"
        },
        "id": "_KHGZs0O4jnV"
      },
      "source": [
        "# your code goes here"
      ],
      "execution_count": null,
      "outputs": []
    },
    {
      "cell_type": "markdown",
      "metadata": {
        "id": "tIwka6bY4jnV"
      },
      "source": [
        "### Orders per quarter, all companies\n",
        "\n",
        "Compute and visualise the number of orders each company has placed in each quarter. Exclude quarters where the order count is less than 3. As always, be mindful to not produce a cluttered visualisation.\n",
        "\n",
        "Part of your query should form a variable that converts `date` into `YEAR_QUARTER` format. Dealing with dates is via `STRFTIME` [docs](https://www.sqlite.org/lang_datefunc.html) which doesn't allow quarter extraction. Instead, it allows for extraction of month, which you can case on in order to produce the quarter (Q1, Q2, Q3, Q4).  "
      ]
    },
    {
      "cell_type": "code",
      "metadata": {
        "ExecuteTime": {
          "end_time": "2021-10-31T14:39:23.632721Z",
          "start_time": "2021-10-31T14:39:23.629720Z"
        },
        "id": "zGT4oqVl4jnV"
      },
      "source": [
        "# your code goes here"
      ],
      "execution_count": null,
      "outputs": []
    },
    {
      "cell_type": "markdown",
      "metadata": {
        "id": "xW0LZ7_b4jnV"
      },
      "source": [
        "## Part 4: Parts and prices (20 pts)"
      ]
    },
    {
      "cell_type": "markdown",
      "metadata": {
        "id": "uM6CcJQj4jnV"
      },
      "source": [
        "### Parts demand changes\n",
        "\n",
        "A different amount of orders are placed on parts each year. The demand of a part is the number of orders placed on it. The demand change of a part is the absolute difference between its average demand in 2016/2017, and its demand in 2018.\n",
        "\n",
        "Compute and visualise the 15 parts whose demand change has been the largest."
      ]
    },
    {
      "cell_type": "code",
      "metadata": {
        "ExecuteTime": {
          "end_time": "2021-10-31T14:39:30.418442Z",
          "start_time": "2021-10-31T14:39:30.415270Z"
        },
        "id": "qjh6pszu4jnV"
      },
      "source": [
        "# your code goes here"
      ],
      "execution_count": null,
      "outputs": []
    },
    {
      "cell_type": "markdown",
      "metadata": {
        "id": "YNGVkZIL4jnV"
      },
      "source": [
        "### Popular parts pricing\n",
        "\n",
        "The most popular parts are those whose demand has increased the most from its 2016/2017 average to 2018. We're interested to find out if popularity is due to a price drop, and also inform us if prices of these parts are properly adjusted.\n",
        "\n",
        "The demand increase of a part is its 2018 demand minus its 2016/2017 average demand. The price change of a part is its average 2018 price minus its average 2016/2017 price.\n",
        "\n",
        "Compute the parts whose demand has increased (has positive demand increase) and the change in price for each of these parts. Then visualise this relationship and include in the figure title the correlation (compute via pandas) between these two variables. Conclude which is most likely 1) Parts became more popular from a drop in prices, or 2) The sales department deserved its bonuses."
      ]
    },
    {
      "cell_type": "code",
      "metadata": {
        "ExecuteTime": {
          "end_time": "2021-10-31T14:39:38.813945Z",
          "start_time": "2021-10-31T14:39:38.811979Z"
        },
        "id": "prx6EWk04jnV"
      },
      "source": [
        "# your code goes here"
      ],
      "execution_count": null,
      "outputs": []
    },
    {
      "cell_type": "markdown",
      "metadata": {
        "id": "jTYM02c14jnW"
      },
      "source": [
        "*your explanation goes here*"
      ]
    }
  ]
}