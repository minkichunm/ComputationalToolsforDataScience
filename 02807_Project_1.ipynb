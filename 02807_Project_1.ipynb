{
 "cells": [
  {
   "cell_type": "markdown",
   "metadata": {
    "colab_type": "text",
    "id": "view-in-github"
   },
   "source": [
    "<a href=\"https://colab.research.google.com/github/minkichunm/ComputationalToolsforDataScience/blob/main/02807_Project_1.ipynb\" target=\"_parent\"><img src=\"https://colab.research.google.com/assets/colab-badge.svg\" alt=\"Open In Colab\"/></a>"
   ]
  },
  {
   "cell_type": "markdown",
   "metadata": {
    "id": "PlsPJUw7wCWZ"
   },
   "source": [
    "# 02807: Project 1\n",
    " \n",
    "## Practical information\n",
    " \n",
    "* This project must be completed in groups of 3 students.\n",
    "    * The group must be registered on the course site on DTU Learn: My Course > Groups\n",
    "* This project must be handed in as a jupyter notebook to the course site on DTU Learn. \n",
    "    * Go to the Course Content > Assignments tab to upload your submission. \n",
    "* This project is due on Monday, November 1, 20:00.\n",
    "\n",
    "## Submission rules\n",
    "\n",
    "* Each group has to hand in *one* notebook (`.ipynb`) with their solutions, including a filled out Contribution table (see below).\n",
    "* Your solution must be written in Python.\n",
    "* For each question you should use the cells provided (\"`# your code goes here`\") for your solution\n",
    "    * It is allowed to add code cells within a question block, but consider if it's really necessary.\n",
    "* You should not remove the problem statements, and you should not modify the structure of the notebook.\n",
    "* Your notebook should be runnable and readable from top to bottom.\n",
    "    * Meaning that your code cells work when run in order (from top to bottom).\n",
    "    * Output of any cell depends only on itself and cells above it.\n",
    "* Your notebook should be submitted after having been run from top to bottom.\n",
    "    * This means outputs are interpretable without necessarily running your cells.\n",
    "    * The simplest way to achieve this is using the jupyter menu item Kernel > Restart & Run All just prior to submission. If any cell fails when you do this, your notebook is not ready for submission.\n",
    "* Failure to comply may make it impossible for us to evaluate your submission properly, which will likely negatively impact the points awarded.\n",
    "    \n",
    " \n",
    "## Colaboration policy\n",
    " \n",
    "* It is not allowed to collaborate on the exercises with students outside your group, except for discussing the text of the exercise with teachers and fellow students enrolled on the course in the same semester. \n",
    "* It is not allowed to exchange, hand-over or in any other way communicate solutions or parts of solutions to the exercises. \n",
    "* It is not allowed to use solutions from similar courses, or solutions found elsewhere."
   ]
  },
  {
   "cell_type": "markdown",
   "metadata": {
    "id": "ZP30rwxHDQyG"
   },
   "source": [
    "## Contribution table and grading\n",
    "\n",
    "* The total amount of points in the project is 110.\n",
    "* You have to indicate who has solved each part of each exercise in a **contribution table**. \n",
    "* The following is an example of a contributions table:\n",
    "\n",
    "|        | Exercise 1 | Exercise 2 | Exercise 3 | Exercise 4 |\n",
    "|--------|------------|------------|------------|------------|\n",
    "| **Part 1** | John       |    Mary        |     Ann       |   Mary, Ann         |\n",
    "| **Part 2** |     Mary       |    Mary        |   Ann         |    John, Ann        |\n",
    "| **Part 3** |     John, Mary, Ann       |      John, Ann      |   John         | **n.a.**      |\n",
    "| **Part 4** | **n.a.**       |  Ann          |     John, Mary       | **n.a.**       |\n",
    "| **Part 5** | **n.a.**     | John, Mary, Ann           | John       | **n.a.**       |\n",
    "\n",
    "* A group member can take credit for solving a part of an exercise only if they have contributed **substantially** to the solution. \n",
    "    * Simple contributions, such as correcting a small bug or double-checking the results of functions, are not sufficient for taking credit for a solution.\n",
    "    * Several group members can take credit for the same solution if they all have contributed substantially to it.\n",
    "* Each group member must contribute **at least 50 points**. \n",
    "    * If no name is provided for an exercise's part, **all group members** are considered contributors to it.\n",
    "* Group members should decide amongst themselves how to collaborate on the project to meet the above-mentioned constraints.  \n",
    "* Scores are individual. The score $\\text{score}(m)$ for a group member $m$ ranges from 0 to 10 and is calculated as follows: \n",
    "\n",
    "  * $\\text{individual-score}(m) = \\frac{\\text{total number of points for the parts correctly solved by }m}{\\text{total number of points for the parts contributed by }m}$\n",
    "\n",
    "  * $\\text{group-score} = \\frac{\\text{total number of points correctly solved by any group member}}{\\text{total number of points in the project}}$\n",
    "\n",
    "  * $\\text{score}(m) =  7.5 \\cdot \\text{individual-score}(m) + 2.5 \\cdot \\text{group-score}$\n",
    "\n",
    "* **Example**: in the contribution table above, suppose that all parts are solved correctly except for those of Exercise 4, which are both wrong. Then Ann's score is calculated as follows:\n",
    "\n",
    "  * $\\text{individual-score}(Ann) = \\frac{2.5+12.5+12.5+2.5+15+5}{2.5+12.5+12.5+2.5+15+5 + 10 + 10} = \\frac{50}{70} = 0.714$\n",
    "\n",
    "  * $\\text{group-score} = \\frac{90}{110} = 0.818$\n",
    "\n",
    "  * $\\text{score}(Ann) = 7.5\\cdot 0.714 + 2.5 \\cdot 0.818 = 7.4$\n"
   ]
  },
  {
   "cell_type": "markdown",
   "metadata": {
    "id": "vklet8XdRGVV"
   },
   "source": [
    "# Group declaration table \n",
    "\n",
    "This table must be filled before submission.\n",
    "\n"
   ]
  },
  {
   "cell_type": "code",
   "execution_count": 137,
   "metadata": {
    "ExecuteTime": {
     "end_time": "2021-09-27T15:03:19.791917Z",
     "start_time": "2021-09-27T15:03:19.764408Z"
    },
    "colab": {
     "base_uri": "https://localhost:8080/",
     "height": 195
    },
    "id": "chiXA3CzRSA1",
    "outputId": "8a72a70b-f086-475e-a4b9-f4efb9e597d0"
   },
   "outputs": [
    {
     "data": {
      "text/html": [
       "<div>\n",
       "<style scoped>\n",
       "    .dataframe tbody tr th:only-of-type {\n",
       "        vertical-align: middle;\n",
       "    }\n",
       "\n",
       "    .dataframe tbody tr th {\n",
       "        vertical-align: top;\n",
       "    }\n",
       "\n",
       "    .dataframe thead th {\n",
       "        text-align: right;\n",
       "    }\n",
       "</style>\n",
       "<table border=\"1\" class=\"dataframe\">\n",
       "  <thead>\n",
       "    <tr style=\"text-align: right;\">\n",
       "      <th></th>\n",
       "      <th>Exercise 1</th>\n",
       "      <th>Exercise 2</th>\n",
       "      <th>Exercise 3</th>\n",
       "      <th>Exercise 4</th>\n",
       "    </tr>\n",
       "  </thead>\n",
       "  <tbody>\n",
       "    <tr>\n",
       "      <th>Part 1</th>\n",
       "      <td></td>\n",
       "      <td></td>\n",
       "      <td></td>\n",
       "      <td></td>\n",
       "    </tr>\n",
       "    <tr>\n",
       "      <th>Part 2</th>\n",
       "      <td></td>\n",
       "      <td></td>\n",
       "      <td></td>\n",
       "      <td></td>\n",
       "    </tr>\n",
       "    <tr>\n",
       "      <th>Part 3</th>\n",
       "      <td></td>\n",
       "      <td></td>\n",
       "      <td></td>\n",
       "      <td></td>\n",
       "    </tr>\n",
       "    <tr>\n",
       "      <th>Part 4</th>\n",
       "      <td></td>\n",
       "      <td></td>\n",
       "      <td></td>\n",
       "      <td></td>\n",
       "    </tr>\n",
       "    <tr>\n",
       "      <th>Part 5</th>\n",
       "      <td></td>\n",
       "      <td></td>\n",
       "      <td></td>\n",
       "      <td></td>\n",
       "    </tr>\n",
       "  </tbody>\n",
       "</table>\n",
       "</div>"
      ],
      "text/plain": [
       "       Exercise 1 Exercise 2 Exercise 3 Exercise 4\n",
       "Part 1                                            \n",
       "Part 2                                            \n",
       "Part 3                                            \n",
       "Part 4                                            \n",
       "Part 5                                            "
      ]
     },
     "execution_count": 137,
     "metadata": {},
     "output_type": "execute_result"
    }
   ],
   "source": [
    "import pandas as pd\n",
    "\n",
    "d = {'Exercise 1' : [\"\", \"\", \"\", \"\", \"\"], \n",
    "     'Exercise 2' : [\"\", \"\", \"\", \"\", \"\"],\n",
    "     'Exercise 3' : [\"\", \"\", \"\", \"\", \"\"], \n",
    "     'Exercise 4' : [\"\", \"\", \"\", \"\", \"\"],\n",
    "     } \n",
    "  \n",
    "ct = pd.DataFrame(d, index =['Part 1','Part 2','Part 3','Part 4','Part 5']) \n",
    "\n",
    "ct"
   ]
  },
  {
   "cell_type": "markdown",
   "metadata": {
    "_uuid": "d7aa1b0ad6979877450f9cd89e1e37289b51cf6e",
    "id": "CF8tC7Z8CgbW"
   },
   "source": [
    "# Introduction to the Datasets"
   ]
  },
  {
   "cell_type": "markdown",
   "metadata": {
    "id": "pO8N4lj29u9w"
   },
   "source": [
    "![link text](https://ph-files.imgix.net/069dd825-cddf-4048-adde-8e81396c2c68?auto=format)\n",
    "\n",
    "\n",
    "You will be working with datasets obtained through the [The Movie Database (TMDb) API](https://developers.themoviedb.org/3/getting-started/introduction). The first dataset is part of the MovieLens Latest Full Dataset, comprising 26 million ratings on 45.000 movies from 27.000 users. Let's look at the features in this dataset.\n",
    "\n",
    "**Features**\n",
    "\n",
    "* **adult**: Indicates if the movie is X-Rated.\n",
    "* **belongs_to_collection**: A stringified dictionary with info on the movie series a particular film belongs to (e.g.: Lord of the Rings).\n",
    "* **budget**: The movie budget in dollars.\n",
    "* **genres**: A stringified list of dictionaries describing all genres associated with the movie.\n",
    "* **homepage**: The movie's official homepage.\n",
    "* **id**: An identifier for the movie.\n",
    "* **imdb_id**: IMDB's identifier for the movie.\n",
    "* **original_language**: The language in which the movie was shot.\n",
    "* **original_title**: The original title of the movie.\n",
    "* **overview**: A brief text about the movie.\n",
    "* **popularity**: A Popularity Score given by TMDb.\n",
    "* **poster_path**: The URL of the poster image.\n",
    "* **production_companies**: A stringified list of production companies involved with making of the movie.\n",
    "* **production_countries**: A stringified list of countries in which the movie was produced.\n",
    "* **release_date**: Release date of the movie in theaters.\n",
    "* **revenue**: The total revenue of the movie in dollars.\n",
    "* **runtime**: The runtime of the movie in minutes.\n",
    "* **spoken_languages**: A stringified list of languages spoken in the film.\n",
    "* **status**: The status of the movie (Released, To Be Released, etc.)\n",
    "* **tagline**: The movie's tagline.\n",
    "* **title**: The official title of the movie.\n",
    "* **video**: Indicates whether there is a video of the movie in TMDb.\n",
    "* **vote_average**: The average rating of the movie, on a 0-10 scale.\n",
    "* **vote_count**: The number of votes by users, as counted by TMDb."
   ]
  },
  {
   "cell_type": "markdown",
   "metadata": {
    "_uuid": "6b418588e3f9139f74cb3a9546f5dca49729579b",
    "id": "2Clue5Z_Cgbc"
   },
   "source": [
    "# Imports\n",
    "\n",
    "First, let's make sure to import Pandas and NumPy. "
   ]
  },
  {
   "cell_type": "code",
   "execution_count": 138,
   "metadata": {
    "ExecuteTime": {
     "end_time": "2021-09-27T10:09:32.802462Z",
     "start_time": "2021-09-27T10:09:30.598648Z"
    },
    "id": "A0K3Aw3eAf2B"
   },
   "outputs": [],
   "source": [
    "import pandas as pd \n",
    "import numpy as np"
   ]
  },
  {
   "cell_type": "markdown",
   "metadata": {
    "id": "PFlHk-e0BZME"
   },
   "source": [
    "# Exercise 1: Loading, preprocessing and cleaning the data (15 points)"
   ]
  },
  {
   "cell_type": "markdown",
   "metadata": {
    "id": "mGJnqtQD1BOs"
   },
   "source": [
    "Read the movie dataset from the following URL."
   ]
  },
  {
   "cell_type": "code",
   "execution_count": 139,
   "metadata": {
    "ExecuteTime": {
     "end_time": "2021-09-27T10:09:34.147572Z",
     "start_time": "2021-09-27T10:09:34.145160Z"
    },
    "id": "sQb46KRIAkOB"
   },
   "outputs": [],
   "source": [
    "url = 'http://courses.compute.dtu.dk/02807/2021/projects/project1/movies_metadata.csv'"
   ]
  },
  {
   "cell_type": "markdown",
   "metadata": {
    "id": "KCYy8KL4LjbC"
   },
   "source": []
  },
  {
   "cell_type": "markdown",
   "metadata": {
    "id": "jQrm5PleClKz"
   },
   "source": [
    "## Part 1: Reading and preprocessing the data (10 pts)\n",
    "\n",
    "Pandas infers a data type for raw data from a `.csv`, defaulting to string type when no other `dtype` could be established. For example, the `genres` column in our dataset is read as a string with a *stringified* list of dictionaries as cell content. \n",
    "\n",
    "Some preprocessing steps are therefore needed, to convert the columns into their proper data types.\n",
    "\n",
    "Write a function `load_movies_data()` that reads the URL into a Pandas DataFrame and preprocesses its columns to ensure that:\n",
    "\n",
    "1. Data in the `release_date` column consists of Pandas `Timestamp` objects, except for missing values. For example, executing a code cell with `df.release_date[0]` should display the output `Timestamp('1995-10-30 00:00:00')`.\n",
    "\n",
    "2. Data in `belongs_to_collection` consists of dictionaries, except for missing values.\n",
    "\n",
    "3. Data in `genres`, `production_companies` and `production_countries` consists of lists of dictionaries, except for missing values. \n",
    "\n",
    "For example, executing a code cell with `df.genres[0]` should display the output \n",
    "```\n",
    "[{'id': 16, 'name': 'Animation'},\n",
    " {'id': 35, 'name': 'Comedy'},\n",
    " {'id': 10751, 'name': 'Family'}]\n",
    "```\n",
    "which is a list type, not a string. The elements of the list are dictionaries (executing `df.genres[0][0]['name']` returns `'Animation'`). \n",
    "\n",
    "**Hint**: for items 2 and 3, you should use `ast.literal_eval`.\n",
    "\n",
    "These conversions can be performed using Pandas' built-in functions and/or calling Pandas' `apply()` with appropriate arguments. Avoid explicit looping. You'll be asked below to time the loading and preprocessing step. "
   ]
  },
  {
   "cell_type": "code",
   "execution_count": 140,
   "metadata": {
    "id": "2mC5hjGXJTZ0"
   },
   "outputs": [],
   "source": [
    "# your code goes here\n",
    "from ast import literal_eval\n",
    "\n",
    "def f(x):\n",
    "    try:\n",
    "        return literal_eval(str(x))   \n",
    "    except Exception as e:\n",
    "        return np.nan\n",
    "\n",
    "def load_movies_data(url):\n",
    "    df = pd.read_csv(url, dtype='unicode',low_memory=False)\n",
    "\n",
    "    df['release_date'] = pd.to_datetime(df['release_date'], errors='coerce')\n",
    "    df.belongs_to_collection=df.belongs_to_collection.fillna('{}').apply(lambda x: f(x))\n",
    "    df.genres=df.genres.fillna('[]').apply(lambda x: f(x))\n",
    "    df.production_companies=df.production_companies.fillna('[]').apply(lambda x: f(x))\n",
    "    df.production_countries=df.production_countries.fillna('[]').apply(lambda x: f(x))\n",
    "    \n",
    "    df.vote_average = df.vote_average.apply(lambda x: f(x))\n",
    "    df.vote_count = df.vote_count.apply(lambda x: f(x))\n",
    "    return df"
   ]
  },
  {
   "cell_type": "markdown",
   "metadata": {
    "id": "oZvSPPdzfScL"
   },
   "source": [
    "Now call `load_movies_data()` and load the data into a DataFrame `df`."
   ]
  },
  {
   "cell_type": "code",
   "execution_count": 141,
   "metadata": {
    "id": "4-eOSqlhD-8J"
   },
   "outputs": [],
   "source": [
    "# your code goes here\n",
    "df = load_movies_data(url)\n",
    "# df.head(n=2)\n",
    "# print(type(df.release_date[0]))\n",
    "# check release_date\n",
    "# df.release_date[0]\n",
    "# check belongs_to_collection\n",
    "# print(df.belongs_to_collection[0] + \"  ,\" + df.belongs_to_collection[1])\n",
    "# check genre\n",
    "# print(df.genres[0] ) \n",
    "# print(df.genres[0][0]['name']) doesn't work yet -> string indices must be integers"
   ]
  },
  {
   "cell_type": "markdown",
   "metadata": {
    "id": "bnelY1bZzj-J"
   },
   "source": [
    "Display the DataFrame. You should check that it looks correct."
   ]
  },
  {
   "cell_type": "code",
   "execution_count": 142,
   "metadata": {
    "colab": {
     "base_uri": "https://localhost:8080/",
     "height": 1000
    },
    "id": "tP6zpeLxu4J-",
    "outputId": "c0a90784-2b2b-4337-fd9f-b6288ecbb666"
   },
   "outputs": [
    {
     "data": {
      "text/html": [
       "<div>\n",
       "<style scoped>\n",
       "    .dataframe tbody tr th:only-of-type {\n",
       "        vertical-align: middle;\n",
       "    }\n",
       "\n",
       "    .dataframe tbody tr th {\n",
       "        vertical-align: top;\n",
       "    }\n",
       "\n",
       "    .dataframe thead th {\n",
       "        text-align: right;\n",
       "    }\n",
       "</style>\n",
       "<table border=\"1\" class=\"dataframe\">\n",
       "  <thead>\n",
       "    <tr style=\"text-align: right;\">\n",
       "      <th></th>\n",
       "      <th>adult</th>\n",
       "      <th>belongs_to_collection</th>\n",
       "      <th>budget</th>\n",
       "      <th>genres</th>\n",
       "      <th>homepage</th>\n",
       "      <th>id</th>\n",
       "      <th>imdb_id</th>\n",
       "      <th>original_language</th>\n",
       "      <th>original_title</th>\n",
       "      <th>overview</th>\n",
       "      <th>...</th>\n",
       "      <th>release_date</th>\n",
       "      <th>revenue</th>\n",
       "      <th>runtime</th>\n",
       "      <th>spoken_languages</th>\n",
       "      <th>status</th>\n",
       "      <th>tagline</th>\n",
       "      <th>title</th>\n",
       "      <th>video</th>\n",
       "      <th>vote_average</th>\n",
       "      <th>vote_count</th>\n",
       "    </tr>\n",
       "  </thead>\n",
       "  <tbody>\n",
       "    <tr>\n",
       "      <th>0</th>\n",
       "      <td>False</td>\n",
       "      <td>{'id': 10194, 'name': 'Toy Story Collection', ...</td>\n",
       "      <td>30000000</td>\n",
       "      <td>[{'id': 16, 'name': 'Animation'}, {'id': 35, '...</td>\n",
       "      <td>http://toystory.disney.com/toy-story</td>\n",
       "      <td>862</td>\n",
       "      <td>tt0114709</td>\n",
       "      <td>en</td>\n",
       "      <td>Toy Story</td>\n",
       "      <td>Led by Woody, Andy's toys live happily in his ...</td>\n",
       "      <td>...</td>\n",
       "      <td>1995-10-30</td>\n",
       "      <td>373554033</td>\n",
       "      <td>81.0</td>\n",
       "      <td>[{'iso_639_1': 'en', 'name': 'English'}]</td>\n",
       "      <td>Released</td>\n",
       "      <td>NaN</td>\n",
       "      <td>Toy Story</td>\n",
       "      <td>False</td>\n",
       "      <td>7.7</td>\n",
       "      <td>5415.0</td>\n",
       "    </tr>\n",
       "    <tr>\n",
       "      <th>1</th>\n",
       "      <td>False</td>\n",
       "      <td>{}</td>\n",
       "      <td>65000000</td>\n",
       "      <td>[{'id': 12, 'name': 'Adventure'}, {'id': 14, '...</td>\n",
       "      <td>NaN</td>\n",
       "      <td>8844</td>\n",
       "      <td>tt0113497</td>\n",
       "      <td>en</td>\n",
       "      <td>Jumanji</td>\n",
       "      <td>When siblings Judy and Peter discover an encha...</td>\n",
       "      <td>...</td>\n",
       "      <td>1995-12-15</td>\n",
       "      <td>262797249</td>\n",
       "      <td>104.0</td>\n",
       "      <td>[{'iso_639_1': 'en', 'name': 'English'}, {'iso...</td>\n",
       "      <td>Released</td>\n",
       "      <td>Roll the dice and unleash the excitement!</td>\n",
       "      <td>Jumanji</td>\n",
       "      <td>False</td>\n",
       "      <td>6.9</td>\n",
       "      <td>2413.0</td>\n",
       "    </tr>\n",
       "    <tr>\n",
       "      <th>2</th>\n",
       "      <td>False</td>\n",
       "      <td>{'id': 119050, 'name': 'Grumpy Old Men Collect...</td>\n",
       "      <td>0</td>\n",
       "      <td>[{'id': 10749, 'name': 'Romance'}, {'id': 35, ...</td>\n",
       "      <td>NaN</td>\n",
       "      <td>15602</td>\n",
       "      <td>tt0113228</td>\n",
       "      <td>en</td>\n",
       "      <td>Grumpier Old Men</td>\n",
       "      <td>A family wedding reignites the ancient feud be...</td>\n",
       "      <td>...</td>\n",
       "      <td>1995-12-22</td>\n",
       "      <td>0</td>\n",
       "      <td>101.0</td>\n",
       "      <td>[{'iso_639_1': 'en', 'name': 'English'}]</td>\n",
       "      <td>Released</td>\n",
       "      <td>Still Yelling. Still Fighting. Still Ready for...</td>\n",
       "      <td>Grumpier Old Men</td>\n",
       "      <td>False</td>\n",
       "      <td>6.5</td>\n",
       "      <td>92.0</td>\n",
       "    </tr>\n",
       "    <tr>\n",
       "      <th>3</th>\n",
       "      <td>False</td>\n",
       "      <td>{}</td>\n",
       "      <td>16000000</td>\n",
       "      <td>[{'id': 35, 'name': 'Comedy'}, {'id': 18, 'nam...</td>\n",
       "      <td>NaN</td>\n",
       "      <td>31357</td>\n",
       "      <td>tt0114885</td>\n",
       "      <td>en</td>\n",
       "      <td>Waiting to Exhale</td>\n",
       "      <td>Cheated on, mistreated and stepped on, the wom...</td>\n",
       "      <td>...</td>\n",
       "      <td>1995-12-22</td>\n",
       "      <td>81452156</td>\n",
       "      <td>127.0</td>\n",
       "      <td>[{'iso_639_1': 'en', 'name': 'English'}]</td>\n",
       "      <td>Released</td>\n",
       "      <td>Friends are the people who let you be yourself...</td>\n",
       "      <td>Waiting to Exhale</td>\n",
       "      <td>False</td>\n",
       "      <td>6.1</td>\n",
       "      <td>34.0</td>\n",
       "    </tr>\n",
       "    <tr>\n",
       "      <th>4</th>\n",
       "      <td>False</td>\n",
       "      <td>{'id': 96871, 'name': 'Father of the Bride Col...</td>\n",
       "      <td>0</td>\n",
       "      <td>[{'id': 35, 'name': 'Comedy'}]</td>\n",
       "      <td>NaN</td>\n",
       "      <td>11862</td>\n",
       "      <td>tt0113041</td>\n",
       "      <td>en</td>\n",
       "      <td>Father of the Bride Part II</td>\n",
       "      <td>Just when George Banks has recovered from his ...</td>\n",
       "      <td>...</td>\n",
       "      <td>1995-02-10</td>\n",
       "      <td>76578911</td>\n",
       "      <td>106.0</td>\n",
       "      <td>[{'iso_639_1': 'en', 'name': 'English'}]</td>\n",
       "      <td>Released</td>\n",
       "      <td>Just When His World Is Back To Normal... He's ...</td>\n",
       "      <td>Father of the Bride Part II</td>\n",
       "      <td>False</td>\n",
       "      <td>5.7</td>\n",
       "      <td>173.0</td>\n",
       "    </tr>\n",
       "    <tr>\n",
       "      <th>...</th>\n",
       "      <td>...</td>\n",
       "      <td>...</td>\n",
       "      <td>...</td>\n",
       "      <td>...</td>\n",
       "      <td>...</td>\n",
       "      <td>...</td>\n",
       "      <td>...</td>\n",
       "      <td>...</td>\n",
       "      <td>...</td>\n",
       "      <td>...</td>\n",
       "      <td>...</td>\n",
       "      <td>...</td>\n",
       "      <td>...</td>\n",
       "      <td>...</td>\n",
       "      <td>...</td>\n",
       "      <td>...</td>\n",
       "      <td>...</td>\n",
       "      <td>...</td>\n",
       "      <td>...</td>\n",
       "      <td>...</td>\n",
       "      <td>...</td>\n",
       "    </tr>\n",
       "    <tr>\n",
       "      <th>45461</th>\n",
       "      <td>False</td>\n",
       "      <td>{}</td>\n",
       "      <td>0</td>\n",
       "      <td>[{'id': 18, 'name': 'Drama'}, {'id': 10751, 'n...</td>\n",
       "      <td>http://www.imdb.com/title/tt6209470/</td>\n",
       "      <td>439050</td>\n",
       "      <td>tt6209470</td>\n",
       "      <td>fa</td>\n",
       "      <td>رگ خواب</td>\n",
       "      <td>Rising and falling between a man and woman.</td>\n",
       "      <td>...</td>\n",
       "      <td>NaT</td>\n",
       "      <td>0</td>\n",
       "      <td>90.0</td>\n",
       "      <td>[{'iso_639_1': 'fa', 'name': 'فارسی'}]</td>\n",
       "      <td>Released</td>\n",
       "      <td>Rising and falling between a man and woman</td>\n",
       "      <td>Subdue</td>\n",
       "      <td>False</td>\n",
       "      <td>4.0</td>\n",
       "      <td>1.0</td>\n",
       "    </tr>\n",
       "    <tr>\n",
       "      <th>45462</th>\n",
       "      <td>False</td>\n",
       "      <td>{}</td>\n",
       "      <td>0</td>\n",
       "      <td>[{'id': 18, 'name': 'Drama'}]</td>\n",
       "      <td>NaN</td>\n",
       "      <td>111109</td>\n",
       "      <td>tt2028550</td>\n",
       "      <td>tl</td>\n",
       "      <td>Siglo ng Pagluluwal</td>\n",
       "      <td>An artist struggles to finish his work while a...</td>\n",
       "      <td>...</td>\n",
       "      <td>2011-11-17</td>\n",
       "      <td>0</td>\n",
       "      <td>360.0</td>\n",
       "      <td>[{'iso_639_1': 'tl', 'name': ''}]</td>\n",
       "      <td>Released</td>\n",
       "      <td>NaN</td>\n",
       "      <td>Century of Birthing</td>\n",
       "      <td>False</td>\n",
       "      <td>9.0</td>\n",
       "      <td>3.0</td>\n",
       "    </tr>\n",
       "    <tr>\n",
       "      <th>45463</th>\n",
       "      <td>False</td>\n",
       "      <td>{}</td>\n",
       "      <td>0</td>\n",
       "      <td>[{'id': 28, 'name': 'Action'}, {'id': 18, 'nam...</td>\n",
       "      <td>NaN</td>\n",
       "      <td>67758</td>\n",
       "      <td>tt0303758</td>\n",
       "      <td>en</td>\n",
       "      <td>Betrayal</td>\n",
       "      <td>When one of her hits goes wrong, a professiona...</td>\n",
       "      <td>...</td>\n",
       "      <td>2003-08-01</td>\n",
       "      <td>0</td>\n",
       "      <td>90.0</td>\n",
       "      <td>[{'iso_639_1': 'en', 'name': 'English'}]</td>\n",
       "      <td>Released</td>\n",
       "      <td>A deadly game of wits.</td>\n",
       "      <td>Betrayal</td>\n",
       "      <td>False</td>\n",
       "      <td>3.8</td>\n",
       "      <td>6.0</td>\n",
       "    </tr>\n",
       "    <tr>\n",
       "      <th>45464</th>\n",
       "      <td>False</td>\n",
       "      <td>{}</td>\n",
       "      <td>0</td>\n",
       "      <td>[]</td>\n",
       "      <td>NaN</td>\n",
       "      <td>227506</td>\n",
       "      <td>tt0008536</td>\n",
       "      <td>en</td>\n",
       "      <td>Satana likuyushchiy</td>\n",
       "      <td>In a small town live two brothers, one a minis...</td>\n",
       "      <td>...</td>\n",
       "      <td>1917-10-21</td>\n",
       "      <td>0</td>\n",
       "      <td>87.0</td>\n",
       "      <td>[]</td>\n",
       "      <td>Released</td>\n",
       "      <td>NaN</td>\n",
       "      <td>Satan Triumphant</td>\n",
       "      <td>False</td>\n",
       "      <td>0.0</td>\n",
       "      <td>0.0</td>\n",
       "    </tr>\n",
       "    <tr>\n",
       "      <th>45465</th>\n",
       "      <td>False</td>\n",
       "      <td>{}</td>\n",
       "      <td>0</td>\n",
       "      <td>[]</td>\n",
       "      <td>NaN</td>\n",
       "      <td>461257</td>\n",
       "      <td>tt6980792</td>\n",
       "      <td>en</td>\n",
       "      <td>Queerama</td>\n",
       "      <td>50 years after decriminalisation of homosexual...</td>\n",
       "      <td>...</td>\n",
       "      <td>2017-06-09</td>\n",
       "      <td>0</td>\n",
       "      <td>75.0</td>\n",
       "      <td>[{'iso_639_1': 'en', 'name': 'English'}]</td>\n",
       "      <td>Released</td>\n",
       "      <td>NaN</td>\n",
       "      <td>Queerama</td>\n",
       "      <td>False</td>\n",
       "      <td>0.0</td>\n",
       "      <td>0.0</td>\n",
       "    </tr>\n",
       "  </tbody>\n",
       "</table>\n",
       "<p>45466 rows × 24 columns</p>\n",
       "</div>"
      ],
      "text/plain": [
       "       adult                              belongs_to_collection    budget  \\\n",
       "0      False  {'id': 10194, 'name': 'Toy Story Collection', ...  30000000   \n",
       "1      False                                                 {}  65000000   \n",
       "2      False  {'id': 119050, 'name': 'Grumpy Old Men Collect...         0   \n",
       "3      False                                                 {}  16000000   \n",
       "4      False  {'id': 96871, 'name': 'Father of the Bride Col...         0   \n",
       "...      ...                                                ...       ...   \n",
       "45461  False                                                 {}         0   \n",
       "45462  False                                                 {}         0   \n",
       "45463  False                                                 {}         0   \n",
       "45464  False                                                 {}         0   \n",
       "45465  False                                                 {}         0   \n",
       "\n",
       "                                                  genres  \\\n",
       "0      [{'id': 16, 'name': 'Animation'}, {'id': 35, '...   \n",
       "1      [{'id': 12, 'name': 'Adventure'}, {'id': 14, '...   \n",
       "2      [{'id': 10749, 'name': 'Romance'}, {'id': 35, ...   \n",
       "3      [{'id': 35, 'name': 'Comedy'}, {'id': 18, 'nam...   \n",
       "4                         [{'id': 35, 'name': 'Comedy'}]   \n",
       "...                                                  ...   \n",
       "45461  [{'id': 18, 'name': 'Drama'}, {'id': 10751, 'n...   \n",
       "45462                      [{'id': 18, 'name': 'Drama'}]   \n",
       "45463  [{'id': 28, 'name': 'Action'}, {'id': 18, 'nam...   \n",
       "45464                                                 []   \n",
       "45465                                                 []   \n",
       "\n",
       "                                   homepage      id    imdb_id  \\\n",
       "0      http://toystory.disney.com/toy-story     862  tt0114709   \n",
       "1                                       NaN    8844  tt0113497   \n",
       "2                                       NaN   15602  tt0113228   \n",
       "3                                       NaN   31357  tt0114885   \n",
       "4                                       NaN   11862  tt0113041   \n",
       "...                                     ...     ...        ...   \n",
       "45461  http://www.imdb.com/title/tt6209470/  439050  tt6209470   \n",
       "45462                                   NaN  111109  tt2028550   \n",
       "45463                                   NaN   67758  tt0303758   \n",
       "45464                                   NaN  227506  tt0008536   \n",
       "45465                                   NaN  461257  tt6980792   \n",
       "\n",
       "      original_language               original_title  \\\n",
       "0                    en                    Toy Story   \n",
       "1                    en                      Jumanji   \n",
       "2                    en             Grumpier Old Men   \n",
       "3                    en            Waiting to Exhale   \n",
       "4                    en  Father of the Bride Part II   \n",
       "...                 ...                          ...   \n",
       "45461                fa                      رگ خواب   \n",
       "45462                tl          Siglo ng Pagluluwal   \n",
       "45463                en                     Betrayal   \n",
       "45464                en          Satana likuyushchiy   \n",
       "45465                en                     Queerama   \n",
       "\n",
       "                                                overview  ... release_date  \\\n",
       "0      Led by Woody, Andy's toys live happily in his ...  ...   1995-10-30   \n",
       "1      When siblings Judy and Peter discover an encha...  ...   1995-12-15   \n",
       "2      A family wedding reignites the ancient feud be...  ...   1995-12-22   \n",
       "3      Cheated on, mistreated and stepped on, the wom...  ...   1995-12-22   \n",
       "4      Just when George Banks has recovered from his ...  ...   1995-02-10   \n",
       "...                                                  ...  ...          ...   \n",
       "45461        Rising and falling between a man and woman.  ...          NaT   \n",
       "45462  An artist struggles to finish his work while a...  ...   2011-11-17   \n",
       "45463  When one of her hits goes wrong, a professiona...  ...   2003-08-01   \n",
       "45464  In a small town live two brothers, one a minis...  ...   1917-10-21   \n",
       "45465  50 years after decriminalisation of homosexual...  ...   2017-06-09   \n",
       "\n",
       "         revenue runtime                                   spoken_languages  \\\n",
       "0      373554033    81.0           [{'iso_639_1': 'en', 'name': 'English'}]   \n",
       "1      262797249   104.0  [{'iso_639_1': 'en', 'name': 'English'}, {'iso...   \n",
       "2              0   101.0           [{'iso_639_1': 'en', 'name': 'English'}]   \n",
       "3       81452156   127.0           [{'iso_639_1': 'en', 'name': 'English'}]   \n",
       "4       76578911   106.0           [{'iso_639_1': 'en', 'name': 'English'}]   \n",
       "...          ...     ...                                                ...   \n",
       "45461          0    90.0             [{'iso_639_1': 'fa', 'name': 'فارسی'}]   \n",
       "45462          0   360.0                  [{'iso_639_1': 'tl', 'name': ''}]   \n",
       "45463          0    90.0           [{'iso_639_1': 'en', 'name': 'English'}]   \n",
       "45464          0    87.0                                                 []   \n",
       "45465          0    75.0           [{'iso_639_1': 'en', 'name': 'English'}]   \n",
       "\n",
       "         status                                            tagline  \\\n",
       "0      Released                                                NaN   \n",
       "1      Released          Roll the dice and unleash the excitement!   \n",
       "2      Released  Still Yelling. Still Fighting. Still Ready for...   \n",
       "3      Released  Friends are the people who let you be yourself...   \n",
       "4      Released  Just When His World Is Back To Normal... He's ...   \n",
       "...         ...                                                ...   \n",
       "45461  Released         Rising and falling between a man and woman   \n",
       "45462  Released                                                NaN   \n",
       "45463  Released                             A deadly game of wits.   \n",
       "45464  Released                                                NaN   \n",
       "45465  Released                                                NaN   \n",
       "\n",
       "                             title  video vote_average vote_count  \n",
       "0                        Toy Story  False          7.7     5415.0  \n",
       "1                          Jumanji  False          6.9     2413.0  \n",
       "2                 Grumpier Old Men  False          6.5       92.0  \n",
       "3                Waiting to Exhale  False          6.1       34.0  \n",
       "4      Father of the Bride Part II  False          5.7      173.0  \n",
       "...                            ...    ...          ...        ...  \n",
       "45461                       Subdue  False          4.0        1.0  \n",
       "45462          Century of Birthing  False          9.0        3.0  \n",
       "45463                     Betrayal  False          3.8        6.0  \n",
       "45464             Satan Triumphant  False          0.0        0.0  \n",
       "45465                     Queerama  False          0.0        0.0  \n",
       "\n",
       "[45466 rows x 24 columns]"
      ]
     },
     "metadata": {},
     "output_type": "display_data"
    }
   ],
   "source": [
    "# your code goes here\n",
    "display(df)"
   ]
  },
  {
   "cell_type": "markdown",
   "metadata": {
    "id": "PuzjOV7ffbpR"
   },
   "source": [
    "## Part 2: Timing your function (2.5 pts)\n",
    "\n",
    "Time the performance of your function. To get the points for this part, the time reported below must not exceed 40 seconds."
   ]
  },
  {
   "cell_type": "code",
   "execution_count": 143,
   "metadata": {
    "colab": {
     "base_uri": "https://localhost:8080/"
    },
    "id": "aIYWL17bO2Ih",
    "outputId": "bc4559d6-fe2a-48f2-d1da-1bd241f9e2b2"
   },
   "outputs": [
    {
     "name": "stdout",
     "output_type": "stream",
     "text": [
      "6.83 s ± 511 ms per loop (mean ± std. dev. of 3 runs, 1 loop each)\n",
      "Time (s): 6.128516060000038\n"
     ]
    }
   ],
   "source": [
    "load_time = %timeit -o -r 3 load_movies_data(url)\n",
    "print(\"Time (s):\", load_time.best)\n",
    "# 10.8s now"
   ]
  },
  {
   "cell_type": "markdown",
   "metadata": {
    "id": "7sVQeTkLYI2b"
   },
   "source": [
    "## Part 3: Cleaning the data (2.5 pts)"
   ]
  },
  {
   "cell_type": "markdown",
   "metadata": {
    "id": "6ydbZ-KFYlRX"
   },
   "source": [
    "Filter/drop all rows in `df` meeting any of these conditions:\n",
    "* The `adult` value is not `'False'`\n",
    "* The `vote_count` value is missing\n",
    "* The `vote_average` value is missing\n",
    "\n",
    "Do not loop over rows to perform these checks. Use Pandas' built-in functionality to do so. "
   ]
  },
  {
   "cell_type": "code",
   "execution_count": 144,
   "metadata": {
    "id": "Qtb7AaaVY5nm"
   },
   "outputs": [],
   "source": [
    "# your code goes here\n",
    "df = df[df.adult == 'False']\n",
    "df=df.dropna(subset=['vote_count','vote_average'],axis=0)"
   ]
  },
  {
   "cell_type": "code",
   "execution_count": 145,
   "metadata": {},
   "outputs": [
    {
     "data": {
      "text/plain": [
       "0        7.7\n",
       "1        6.9\n",
       "2        6.5\n",
       "3        6.1\n",
       "4        5.7\n",
       "        ... \n",
       "45461    4.0\n",
       "45462    9.0\n",
       "45463    3.8\n",
       "45464    0.0\n",
       "45465    0.0\n",
       "Name: vote_average, Length: 45451, dtype: float64"
      ]
     },
     "execution_count": 145,
     "metadata": {},
     "output_type": "execute_result"
    }
   ],
   "source": [
    "df.head()\n",
    "#print(df.dtypes)\n",
    "df.vote_average"
   ]
  },
  {
   "cell_type": "markdown",
   "metadata": {
    "id": "mT8jdILukiBF"
   },
   "source": [
    "# Exercise 2: Computing IMDb's ratings (35 points)"
   ]
  },
  {
   "cell_type": "markdown",
   "metadata": {
    "id": "84SE_eMzkyC1"
   },
   "source": [
    "The Top Rated 250 titles in IMDb are calculated using [a formula](https://help.imdb.com/article/imdb/track-movies-tv/ratings-faq/G67Y87TFYYP6TWAV#calculatetop) that takes into account the number of votes that a title has received, the minimum votes required to be on the list, and the mean vote for all titles. The rating for a title is given as follows:\n",
    "\n",
    "$$ \\text{weighted rating } = \\left(\\frac{v}{v+m} \\cdot R\\right) + \\left(\\frac{m}{v+m} \\cdot C\\right)$$\n",
    "\n",
    "Where:\n",
    "\n",
    "$m$ = the minimum number of votes required to be listed in the Top Rated ranking. We'll let $m=1000$.\n",
    "\n",
    "$v$ = the number of votes received by the title (the title's **`vote_count`** value)\n",
    "\n",
    "$R$ = the average rating for the title (the title's **`vote_average`** value)\n",
    "\n",
    "$C$ = the mean vote across the whole list (the mean over the **`vote_average`** column)"
   ]
  },
  {
   "cell_type": "markdown",
   "metadata": {
    "id": "85J4HDO2rieA"
   },
   "source": [
    "We are going to compute the ratings for movies that could be listed in IMDb's Top Rated 250 ranking.  We want to do this as efficiently as possible. As a baseline for benchmarking, we'll use an approach that explicitly loops and indexes over the rows of the dataset and computes the weighted rating for the corresponding movie (if the movie has more than 1000 votes). "
   ]
  },
  {
   "cell_type": "code",
   "execution_count": 146,
   "metadata": {
    "ExecuteTime": {
     "end_time": "2021-09-27T10:27:52.905697Z",
     "start_time": "2021-09-27T10:27:52.800529Z"
    },
    "colab": {
     "base_uri": "https://localhost:8080/",
     "height": 582
    },
    "id": "MyYhLdBksTec",
    "outputId": "f79bf15d-a042-4b9a-f48b-5d08c5a0e91d"
   },
   "outputs": [],
   "source": [
    "C = df['vote_average'].mean()\n",
    "m = 1000\n",
    "\n",
    "def weighted_rating(row):\n",
    "    if row['vote_count'] > m:\n",
    "        v = row['vote_count']\n",
    "        R = row['vote_average']\n",
    "        return (v/(v+m) * R) + (m/(v+m) * C)\n",
    "    else:\n",
    "        return np.nan\n",
    "\n",
    "def weighted_rating_loop(df):\n",
    "    rating_list = []\n",
    "    for i in range(len(df)):\n",
    "        rating = weighted_rating(df.iloc[i])\n",
    "        rating_list.append(rating)\n",
    "    df['imdb_rating'] = rating_list"
   ]
  },
  {
   "cell_type": "code",
   "execution_count": 147,
   "metadata": {
    "colab": {
     "base_uri": "https://localhost:8080/",
     "height": 369
    },
    "id": "JIsei1w4r9Jz",
    "outputId": "73126bd7-b4fc-40a0-f81f-974be962e522"
   },
   "outputs": [
    {
     "data": {
      "text/html": [
       "<div>\n",
       "<style scoped>\n",
       "    .dataframe tbody tr th:only-of-type {\n",
       "        vertical-align: middle;\n",
       "    }\n",
       "\n",
       "    .dataframe tbody tr th {\n",
       "        vertical-align: top;\n",
       "    }\n",
       "\n",
       "    .dataframe thead th {\n",
       "        text-align: right;\n",
       "    }\n",
       "</style>\n",
       "<table border=\"1\" class=\"dataframe\">\n",
       "  <thead>\n",
       "    <tr style=\"text-align: right;\">\n",
       "      <th></th>\n",
       "      <th>id</th>\n",
       "      <th>original_title</th>\n",
       "      <th>imdb_rating</th>\n",
       "    </tr>\n",
       "  </thead>\n",
       "  <tbody>\n",
       "    <tr>\n",
       "      <th>0</th>\n",
       "      <td>862</td>\n",
       "      <td>Toy Story</td>\n",
       "      <td>7.375533</td>\n",
       "    </tr>\n",
       "    <tr>\n",
       "      <th>1</th>\n",
       "      <td>8844</td>\n",
       "      <td>Jumanji</td>\n",
       "      <td>6.524536</td>\n",
       "    </tr>\n",
       "    <tr>\n",
       "      <th>2</th>\n",
       "      <td>15602</td>\n",
       "      <td>Grumpier Old Men</td>\n",
       "      <td>NaN</td>\n",
       "    </tr>\n",
       "    <tr>\n",
       "      <th>3</th>\n",
       "      <td>31357</td>\n",
       "      <td>Waiting to Exhale</td>\n",
       "      <td>NaN</td>\n",
       "    </tr>\n",
       "    <tr>\n",
       "      <th>4</th>\n",
       "      <td>11862</td>\n",
       "      <td>Father of the Bride Part II</td>\n",
       "      <td>NaN</td>\n",
       "    </tr>\n",
       "  </tbody>\n",
       "</table>\n",
       "</div>"
      ],
      "text/plain": [
       "      id               original_title  imdb_rating\n",
       "0    862                    Toy Story     7.375533\n",
       "1   8844                      Jumanji     6.524536\n",
       "2  15602             Grumpier Old Men          NaN\n",
       "3  31357            Waiting to Exhale          NaN\n",
       "4  11862  Father of the Bride Part II          NaN"
      ]
     },
     "execution_count": 147,
     "metadata": {},
     "output_type": "execute_result"
    }
   ],
   "source": [
    "weighted_rating_loop(df)\n",
    "\n",
    "columns_to_show = ['id', 'original_title'] + \\\n",
    "                  list(df.columns[df.columns.str.startswith('imdb_rating')])\n",
    "df[columns_to_show].head()"
   ]
  },
  {
   "cell_type": "markdown",
   "metadata": {
    "id": "JdlffrsJyHvI"
   },
   "source": [
    "Let's look at the average performance of this function:"
   ]
  },
  {
   "cell_type": "code",
   "execution_count": 148,
   "metadata": {
    "colab": {
     "base_uri": "https://localhost:8080/",
     "height": 404
    },
    "id": "su__dMpZyX5W",
    "outputId": "5f367557-79b4-4ae8-d74f-4580b2efb1dc"
   },
   "outputs": [
    {
     "name": "stdout",
     "output_type": "stream",
     "text": [
      "5.74 s ± 122 ms per loop (mean ± std. dev. of 3 runs, 1 loop each)\n",
      "Best time: 5.569836527999996\n"
     ]
    }
   ],
   "source": [
    "basic_time = %timeit -r 3 -o weighted_rating_loop(df)\n",
    "print(\"Best time:\", basic_time.best)"
   ]
  },
  {
   "cell_type": "markdown",
   "metadata": {
    "id": "HPjyKJ2zzPoQ"
   },
   "source": [
    "In the remaining parts of the exercise, you are going to be asked to come up with alternative ways to compute the ratings, using various methodologies. Let's create a score board to keep track of performance. Here's a description of the rows:\n",
    "\n",
    "*   **Best single run time (s)**:  The best time used by your solution, in seconds.\n",
    "*   **Marginal performance improvement**: The time improvement of your current solution over its immediately preceding solution. Given by: $\\frac{\\text{best single run time (s) of previous solution}}{\\text{best single run time (s) of current solution}}$\n",
    "*   **Performance improvement over basic looping**:  The time improvement over our baseline solution. Given by: $\\frac{\\text{best single run time (s) of weighted_rating_loop}}{\\text{best single run time (s) of current solution}}$\n",
    "*   **Best single run time (s, teacher)**: The time of a solution provided by the teacher. \n",
    "*   **Marginal performance improvement (teacher)**: The time improvement of the teacher's solution over its immediately preceding solution. \n",
    "*   **Performance improvement over basic looping (teacher)**:  The teacher's solution improvement over the baseline solution.\n",
    "\n"
   ]
  },
  {
   "cell_type": "code",
   "execution_count": 149,
   "metadata": {
    "ExecuteTime": {
     "end_time": "2021-09-27T11:03:14.455052Z",
     "start_time": "2021-09-27T11:03:14.442251Z"
    },
    "colab": {
     "base_uri": "https://localhost:8080/",
     "height": 239
    },
    "id": "fV-xfrs53NBF",
    "outputId": "28cc271a-efd0-4035-83b6-20ae1993da18"
   },
   "outputs": [
    {
     "data": {
      "text/html": [
       "<div>\n",
       "<style scoped>\n",
       "    .dataframe tbody tr th:only-of-type {\n",
       "        vertical-align: middle;\n",
       "    }\n",
       "\n",
       "    .dataframe tbody tr th {\n",
       "        vertical-align: top;\n",
       "    }\n",
       "\n",
       "    .dataframe thead th {\n",
       "        text-align: right;\n",
       "    }\n",
       "</style>\n",
       "<table border=\"1\" class=\"dataframe\">\n",
       "  <thead>\n",
       "    <tr style=\"text-align: right;\">\n",
       "      <th></th>\n",
       "      <th>Best single run time (s)</th>\n",
       "      <th>Marginal performance improvement</th>\n",
       "      <th>Performance improvement over basic looping</th>\n",
       "      <th>Best single run time (s, teacher)</th>\n",
       "      <th>Marginal performance improvement (teacher)</th>\n",
       "      <th>Performance improvement over basic looping (teacher)</th>\n",
       "    </tr>\n",
       "  </thead>\n",
       "  <tbody>\n",
       "    <tr>\n",
       "      <th>Basic looping</th>\n",
       "      <td>5.569837</td>\n",
       "      <td>NaN</td>\n",
       "      <td>NaN</td>\n",
       "      <td>9.37000</td>\n",
       "      <td>NaN</td>\n",
       "      <td>NaN</td>\n",
       "    </tr>\n",
       "    <tr>\n",
       "      <th>Iterrows looping</th>\n",
       "      <td>NaN</td>\n",
       "      <td>NaN</td>\n",
       "      <td>NaN</td>\n",
       "      <td>3.87000</td>\n",
       "      <td>x2.42</td>\n",
       "      <td>x2.42</td>\n",
       "    </tr>\n",
       "    <tr>\n",
       "      <th>apply()</th>\n",
       "      <td>NaN</td>\n",
       "      <td>NaN</td>\n",
       "      <td>NaN</td>\n",
       "      <td>0.56200</td>\n",
       "      <td>x6.88</td>\n",
       "      <td>x16.69</td>\n",
       "    </tr>\n",
       "    <tr>\n",
       "      <th>Pandas vectorisation</th>\n",
       "      <td>NaN</td>\n",
       "      <td>NaN</td>\n",
       "      <td>NaN</td>\n",
       "      <td>0.00540</td>\n",
       "      <td>x103.8</td>\n",
       "      <td>x1732.17</td>\n",
       "    </tr>\n",
       "    <tr>\n",
       "      <th>NumPy vectorisation</th>\n",
       "      <td>NaN</td>\n",
       "      <td>NaN</td>\n",
       "      <td>NaN</td>\n",
       "      <td>0.00084</td>\n",
       "      <td>x6.45</td>\n",
       "      <td>x11172.98</td>\n",
       "    </tr>\n",
       "  </tbody>\n",
       "</table>\n",
       "</div>"
      ],
      "text/plain": [
       "                      Best single run time (s)  \\\n",
       "Basic looping                         5.569837   \n",
       "Iterrows looping                           NaN   \n",
       "apply()                                    NaN   \n",
       "Pandas vectorisation                       NaN   \n",
       "NumPy vectorisation                        NaN   \n",
       "\n",
       "                      Marginal performance improvement  \\\n",
       "Basic looping                                      NaN   \n",
       "Iterrows looping                                   NaN   \n",
       "apply()                                            NaN   \n",
       "Pandas vectorisation                               NaN   \n",
       "NumPy vectorisation                                NaN   \n",
       "\n",
       "                      Performance improvement over basic looping  \\\n",
       "Basic looping                                                NaN   \n",
       "Iterrows looping                                             NaN   \n",
       "apply()                                                      NaN   \n",
       "Pandas vectorisation                                         NaN   \n",
       "NumPy vectorisation                                          NaN   \n",
       "\n",
       "                      Best single run time (s, teacher)  \\\n",
       "Basic looping                                   9.37000   \n",
       "Iterrows looping                                3.87000   \n",
       "apply()                                         0.56200   \n",
       "Pandas vectorisation                            0.00540   \n",
       "NumPy vectorisation                             0.00084   \n",
       "\n",
       "                     Marginal performance improvement (teacher)  \\\n",
       "Basic looping                                               NaN   \n",
       "Iterrows looping                                          x2.42   \n",
       "apply()                                                   x6.88   \n",
       "Pandas vectorisation                                     x103.8   \n",
       "NumPy vectorisation                                       x6.45   \n",
       "\n",
       "                     Performance improvement over basic looping (teacher)  \n",
       "Basic looping                                                       NaN    \n",
       "Iterrows looping                                                  x2.42    \n",
       "apply()                                                          x16.69    \n",
       "Pandas vectorisation                                           x1732.17    \n",
       "NumPy vectorisation                                           x11172.98    "
      ]
     },
     "execution_count": 149,
     "metadata": {},
     "output_type": "execute_result"
    }
   ],
   "source": [
    "timing_data = {\n",
    "    'Best single run time (s)': [basic_time.best, np.nan, np.nan, np.nan,np.nan],\n",
    "    'Marginal performance improvement': [np.nan,np.nan, np.nan, np.nan,np.nan],\n",
    "    'Performance improvement over basic looping': np.nan,\n",
    "    'Best single run time (s, teacher)': [9.37, 3.87, 0.562, 0.0054, 0.00084],\n",
    "    'Marginal performance improvement (teacher)': [np.nan, 'x2.42', 'x6.88', 'x103.8', 'x6.45'],\n",
    "    'Performance improvement over basic looping (teacher)': [np.nan, 'x2.42', 'x16.69', 'x1732.17','x11172.98']\n",
    "}\n",
    "\n",
    "indices = ['Basic looping', 'Iterrows looping', 'apply()', 'Pandas vectorisation', 'NumPy vectorisation']\n",
    "timings = pd.DataFrame(timing_data, index=indices)\n",
    "timings"
   ]
  },
  {
   "cell_type": "markdown",
   "metadata": {
    "id": "ZfD0eUlHgz3l"
   },
   "source": [
    "**The grading for the following parts works as follows.**\n",
    "\n",
    "Let $m$ be the marginal performance improvement for the teacher's solution over basic looping, and let $m'$ be the marginal performance improvement for your solution over `basic_time`. If a part gives $n$ points, then you will get the $n$ points if $m' \\geq 0.4 m$, and 0 points otherwise.\n",
    "\n",
    "You don't get extra points for performing faster than the teacher's solution. But this is of course possible and you should feel free to optimise away as much as you want!"
   ]
  },
  {
   "cell_type": "markdown",
   "metadata": {
    "id": "JkiLI2QT7oNY"
   },
   "source": [
    "## Part 1: Looping with `iterrows` (2.5 pts)"
   ]
  },
  {
   "cell_type": "markdown",
   "metadata": {
    "id": "bmZIqPIf743q"
   },
   "source": [
    "Define a function `weighted_rating_iterrows(df)` that computes the ratings by looping over rows with the built-in iterator `iterrows`, and stores the results in a new column of the DataFrame called called `imdb_rating_iter`."
   ]
  },
  {
   "cell_type": "code",
   "execution_count": 150,
   "metadata": {
    "id": "m4dTxRfW6Gc4"
   },
   "outputs": [],
   "source": [
    "# your code goes here\n",
    "def weighted_rating_iterrows(df):\n",
    "    imdb_ratings = []\n",
    "    for _, row in df.iterrows(): \n",
    "        imdb_ratings.append(weighted_rating(row)) \n",
    "    df['imdb_rating_iter'] = imdb_ratings "
   ]
  },
  {
   "cell_type": "markdown",
   "metadata": {
    "id": "rsvOtN6y8Ycg"
   },
   "source": [
    "Call the function and make sure that it works as intended."
   ]
  },
  {
   "cell_type": "code",
   "execution_count": 151,
   "metadata": {
    "colab": {
     "base_uri": "https://localhost:8080/",
     "height": 386
    },
    "id": "sLKzzVP86bza",
    "outputId": "6f71919d-ea5c-4577-bf04-7db1d9f3d723"
   },
   "outputs": [
    {
     "data": {
      "text/html": [
       "<div>\n",
       "<style scoped>\n",
       "    .dataframe tbody tr th:only-of-type {\n",
       "        vertical-align: middle;\n",
       "    }\n",
       "\n",
       "    .dataframe tbody tr th {\n",
       "        vertical-align: top;\n",
       "    }\n",
       "\n",
       "    .dataframe thead th {\n",
       "        text-align: right;\n",
       "    }\n",
       "</style>\n",
       "<table border=\"1\" class=\"dataframe\">\n",
       "  <thead>\n",
       "    <tr style=\"text-align: right;\">\n",
       "      <th></th>\n",
       "      <th>id</th>\n",
       "      <th>original_title</th>\n",
       "      <th>imdb_rating</th>\n",
       "      <th>imdb_rating_iter</th>\n",
       "    </tr>\n",
       "  </thead>\n",
       "  <tbody>\n",
       "    <tr>\n",
       "      <th>0</th>\n",
       "      <td>862</td>\n",
       "      <td>Toy Story</td>\n",
       "      <td>7.375533</td>\n",
       "      <td>7.375533</td>\n",
       "    </tr>\n",
       "    <tr>\n",
       "      <th>1</th>\n",
       "      <td>8844</td>\n",
       "      <td>Jumanji</td>\n",
       "      <td>6.524536</td>\n",
       "      <td>6.524536</td>\n",
       "    </tr>\n",
       "    <tr>\n",
       "      <th>2</th>\n",
       "      <td>15602</td>\n",
       "      <td>Grumpier Old Men</td>\n",
       "      <td>NaN</td>\n",
       "      <td>NaN</td>\n",
       "    </tr>\n",
       "    <tr>\n",
       "      <th>3</th>\n",
       "      <td>31357</td>\n",
       "      <td>Waiting to Exhale</td>\n",
       "      <td>NaN</td>\n",
       "      <td>NaN</td>\n",
       "    </tr>\n",
       "    <tr>\n",
       "      <th>4</th>\n",
       "      <td>11862</td>\n",
       "      <td>Father of the Bride Part II</td>\n",
       "      <td>NaN</td>\n",
       "      <td>NaN</td>\n",
       "    </tr>\n",
       "  </tbody>\n",
       "</table>\n",
       "</div>"
      ],
      "text/plain": [
       "      id               original_title  imdb_rating  imdb_rating_iter\n",
       "0    862                    Toy Story     7.375533          7.375533\n",
       "1   8844                      Jumanji     6.524536          6.524536\n",
       "2  15602             Grumpier Old Men          NaN               NaN\n",
       "3  31357            Waiting to Exhale          NaN               NaN\n",
       "4  11862  Father of the Bride Part II          NaN               NaN"
      ]
     },
     "execution_count": 151,
     "metadata": {},
     "output_type": "execute_result"
    }
   ],
   "source": [
    "weighted_rating_iterrows(df)\n",
    "\n",
    "pd.testing.assert_series_equal(\n",
    "    df.imdb_rating, df.imdb_rating_iter, check_names=False\n",
    ")\n",
    "\n",
    "columns_to_show = ['id', 'original_title'] + \\\n",
    "                  list(df.columns[df.columns.str.startswith('imdb_rating')])\n",
    "df[columns_to_show].head()"
   ]
  },
  {
   "cell_type": "markdown",
   "metadata": {
    "id": "AC-m0iR48jM6"
   },
   "source": [
    "Time the performance of the function."
   ]
  },
  {
   "cell_type": "code",
   "execution_count": 152,
   "metadata": {
    "colab": {
     "base_uri": "https://localhost:8080/",
     "height": 404
    },
    "id": "9y3BWusJ8y70",
    "outputId": "253e7a99-0552-465e-cfe9-256cd454338f"
   },
   "outputs": [
    {
     "name": "stdout",
     "output_type": "stream",
     "text": [
      "2.1 s ± 14.8 ms per loop (mean ± std. dev. of 3 runs, 1 loop each)\n",
      "Best time: 2.0797710759998154\n"
     ]
    }
   ],
   "source": [
    "iterrows_time = %timeit -r 3 -o weighted_rating_iterrows(df)\n",
    "print(\"Best time:\", iterrows_time.best)"
   ]
  },
  {
   "cell_type": "markdown",
   "metadata": {
    "id": "HexMOOCB82e_"
   },
   "source": [
    " Update the score board with the best time, marginal and overall performance change you have obtained. Display the updated table below. "
   ]
  },
  {
   "cell_type": "code",
   "execution_count": 153,
   "metadata": {},
   "outputs": [],
   "source": [
    "def update_scoreboard(scoreboard, algo, prev_algo, time_performance):\n",
    "    scoreboard.loc[algo, 'Best single run time (s)'] = time_performance.best\n",
    "    scoreboard.loc[algo, 'Marginal performance improvement'] = scoreboard.loc[prev_algo, 'Best single run time (s)'] / scoreboard.loc[algo, 'Best single run time (s)']\n",
    "    scoreboard.loc[algo, 'Performance improvement over basic looping'] = scoreboard.loc['Basic looping', 'Best single run time (s)'] / scoreboard.loc[algo, 'Best single run time (s)']\n",
    "    return scoreboard"
   ]
  },
  {
   "cell_type": "code",
   "execution_count": 154,
   "metadata": {
    "id": "_SQRS_gdJCbM"
   },
   "outputs": [
    {
     "data": {
      "text/html": [
       "<div>\n",
       "<style scoped>\n",
       "    .dataframe tbody tr th:only-of-type {\n",
       "        vertical-align: middle;\n",
       "    }\n",
       "\n",
       "    .dataframe tbody tr th {\n",
       "        vertical-align: top;\n",
       "    }\n",
       "\n",
       "    .dataframe thead th {\n",
       "        text-align: right;\n",
       "    }\n",
       "</style>\n",
       "<table border=\"1\" class=\"dataframe\">\n",
       "  <thead>\n",
       "    <tr style=\"text-align: right;\">\n",
       "      <th></th>\n",
       "      <th>Best single run time (s)</th>\n",
       "      <th>Marginal performance improvement</th>\n",
       "      <th>Performance improvement over basic looping</th>\n",
       "      <th>Best single run time (s, teacher)</th>\n",
       "      <th>Marginal performance improvement (teacher)</th>\n",
       "      <th>Performance improvement over basic looping (teacher)</th>\n",
       "    </tr>\n",
       "  </thead>\n",
       "  <tbody>\n",
       "    <tr>\n",
       "      <th>Basic looping</th>\n",
       "      <td>5.569837</td>\n",
       "      <td>NaN</td>\n",
       "      <td>NaN</td>\n",
       "      <td>9.37000</td>\n",
       "      <td>NaN</td>\n",
       "      <td>NaN</td>\n",
       "    </tr>\n",
       "    <tr>\n",
       "      <th>Iterrows looping</th>\n",
       "      <td>2.079771</td>\n",
       "      <td>2.678101</td>\n",
       "      <td>2.678101</td>\n",
       "      <td>3.87000</td>\n",
       "      <td>x2.42</td>\n",
       "      <td>x2.42</td>\n",
       "    </tr>\n",
       "    <tr>\n",
       "      <th>apply()</th>\n",
       "      <td>NaN</td>\n",
       "      <td>NaN</td>\n",
       "      <td>NaN</td>\n",
       "      <td>0.56200</td>\n",
       "      <td>x6.88</td>\n",
       "      <td>x16.69</td>\n",
       "    </tr>\n",
       "    <tr>\n",
       "      <th>Pandas vectorisation</th>\n",
       "      <td>NaN</td>\n",
       "      <td>NaN</td>\n",
       "      <td>NaN</td>\n",
       "      <td>0.00540</td>\n",
       "      <td>x103.8</td>\n",
       "      <td>x1732.17</td>\n",
       "    </tr>\n",
       "    <tr>\n",
       "      <th>NumPy vectorisation</th>\n",
       "      <td>NaN</td>\n",
       "      <td>NaN</td>\n",
       "      <td>NaN</td>\n",
       "      <td>0.00084</td>\n",
       "      <td>x6.45</td>\n",
       "      <td>x11172.98</td>\n",
       "    </tr>\n",
       "  </tbody>\n",
       "</table>\n",
       "</div>"
      ],
      "text/plain": [
       "                      Best single run time (s)  \\\n",
       "Basic looping                         5.569837   \n",
       "Iterrows looping                      2.079771   \n",
       "apply()                                    NaN   \n",
       "Pandas vectorisation                       NaN   \n",
       "NumPy vectorisation                        NaN   \n",
       "\n",
       "                      Marginal performance improvement  \\\n",
       "Basic looping                                      NaN   \n",
       "Iterrows looping                              2.678101   \n",
       "apply()                                            NaN   \n",
       "Pandas vectorisation                               NaN   \n",
       "NumPy vectorisation                                NaN   \n",
       "\n",
       "                      Performance improvement over basic looping  \\\n",
       "Basic looping                                                NaN   \n",
       "Iterrows looping                                        2.678101   \n",
       "apply()                                                      NaN   \n",
       "Pandas vectorisation                                         NaN   \n",
       "NumPy vectorisation                                          NaN   \n",
       "\n",
       "                      Best single run time (s, teacher)  \\\n",
       "Basic looping                                   9.37000   \n",
       "Iterrows looping                                3.87000   \n",
       "apply()                                         0.56200   \n",
       "Pandas vectorisation                            0.00540   \n",
       "NumPy vectorisation                             0.00084   \n",
       "\n",
       "                     Marginal performance improvement (teacher)  \\\n",
       "Basic looping                                               NaN   \n",
       "Iterrows looping                                          x2.42   \n",
       "apply()                                                   x6.88   \n",
       "Pandas vectorisation                                     x103.8   \n",
       "NumPy vectorisation                                       x6.45   \n",
       "\n",
       "                     Performance improvement over basic looping (teacher)  \n",
       "Basic looping                                                       NaN    \n",
       "Iterrows looping                                                  x2.42    \n",
       "apply()                                                          x16.69    \n",
       "Pandas vectorisation                                           x1732.17    \n",
       "NumPy vectorisation                                           x11172.98    "
      ]
     },
     "execution_count": 154,
     "metadata": {},
     "output_type": "execute_result"
    }
   ],
   "source": [
    "timings = update_scoreboard(timings, 'Iterrows looping', 'Basic looping', iterrows_time)\n",
    "timings"
   ]
  },
  {
   "cell_type": "markdown",
   "metadata": {
    "id": "7-FhuhB99em4"
   },
   "source": [
    "## Part 2: Using `apply()`. (5 pts)"
   ]
  },
  {
   "cell_type": "markdown",
   "metadata": {
    "id": "iZ294FYn9qhO"
   },
   "source": [
    "Define a function `weighted_rating_apply(df)` that computes the ratings using Pandas' `apply()` function, and stores the results in a new column of the DataFrame called `imdb_rating_apply`."
   ]
  },
  {
   "cell_type": "code",
   "execution_count": 155,
   "metadata": {
    "id": "Gk3SdbQs8ghG"
   },
   "outputs": [],
   "source": [
    "# your code goes here\n",
    "def weighted_rating_apply(df):\n",
    "    df['imdb_rating_apply'] = df.apply(weighted_rating, axis='columns')"
   ]
  },
  {
   "cell_type": "markdown",
   "metadata": {
    "id": "jBgP1e1uCMlF"
   },
   "source": [
    "Call the function and make sure that it works as intended."
   ]
  },
  {
   "cell_type": "code",
   "execution_count": 156,
   "metadata": {
    "id": "wUaYXC_RCMlK"
   },
   "outputs": [
    {
     "data": {
      "text/html": [
       "<div>\n",
       "<style scoped>\n",
       "    .dataframe tbody tr th:only-of-type {\n",
       "        vertical-align: middle;\n",
       "    }\n",
       "\n",
       "    .dataframe tbody tr th {\n",
       "        vertical-align: top;\n",
       "    }\n",
       "\n",
       "    .dataframe thead th {\n",
       "        text-align: right;\n",
       "    }\n",
       "</style>\n",
       "<table border=\"1\" class=\"dataframe\">\n",
       "  <thead>\n",
       "    <tr style=\"text-align: right;\">\n",
       "      <th></th>\n",
       "      <th>id</th>\n",
       "      <th>original_title</th>\n",
       "      <th>imdb_rating</th>\n",
       "      <th>imdb_rating_iter</th>\n",
       "      <th>imdb_rating_apply</th>\n",
       "    </tr>\n",
       "  </thead>\n",
       "  <tbody>\n",
       "    <tr>\n",
       "      <th>0</th>\n",
       "      <td>862</td>\n",
       "      <td>Toy Story</td>\n",
       "      <td>7.375533</td>\n",
       "      <td>7.375533</td>\n",
       "      <td>7.375533</td>\n",
       "    </tr>\n",
       "    <tr>\n",
       "      <th>1</th>\n",
       "      <td>8844</td>\n",
       "      <td>Jumanji</td>\n",
       "      <td>6.524536</td>\n",
       "      <td>6.524536</td>\n",
       "      <td>6.524536</td>\n",
       "    </tr>\n",
       "    <tr>\n",
       "      <th>2</th>\n",
       "      <td>15602</td>\n",
       "      <td>Grumpier Old Men</td>\n",
       "      <td>NaN</td>\n",
       "      <td>NaN</td>\n",
       "      <td>NaN</td>\n",
       "    </tr>\n",
       "    <tr>\n",
       "      <th>3</th>\n",
       "      <td>31357</td>\n",
       "      <td>Waiting to Exhale</td>\n",
       "      <td>NaN</td>\n",
       "      <td>NaN</td>\n",
       "      <td>NaN</td>\n",
       "    </tr>\n",
       "    <tr>\n",
       "      <th>4</th>\n",
       "      <td>11862</td>\n",
       "      <td>Father of the Bride Part II</td>\n",
       "      <td>NaN</td>\n",
       "      <td>NaN</td>\n",
       "      <td>NaN</td>\n",
       "    </tr>\n",
       "  </tbody>\n",
       "</table>\n",
       "</div>"
      ],
      "text/plain": [
       "      id               original_title  imdb_rating  imdb_rating_iter  \\\n",
       "0    862                    Toy Story     7.375533          7.375533   \n",
       "1   8844                      Jumanji     6.524536          6.524536   \n",
       "2  15602             Grumpier Old Men          NaN               NaN   \n",
       "3  31357            Waiting to Exhale          NaN               NaN   \n",
       "4  11862  Father of the Bride Part II          NaN               NaN   \n",
       "\n",
       "   imdb_rating_apply  \n",
       "0           7.375533  \n",
       "1           6.524536  \n",
       "2                NaN  \n",
       "3                NaN  \n",
       "4                NaN  "
      ]
     },
     "execution_count": 156,
     "metadata": {},
     "output_type": "execute_result"
    }
   ],
   "source": [
    "weighted_rating_apply(df)\n",
    "\n",
    "pd.testing.assert_series_equal(\n",
    "    df.imdb_rating, df.imdb_rating_apply, check_names=False\n",
    ")\n",
    "\n",
    "columns_to_show = ['id', 'original_title'] + \\\n",
    "                  list(df.columns[df.columns.str.startswith('imdb_rating')])\n",
    "df[columns_to_show].head()"
   ]
  },
  {
   "cell_type": "markdown",
   "metadata": {
    "id": "C9jjZI14CMlO"
   },
   "source": [
    "Time the performance of the function."
   ]
  },
  {
   "cell_type": "code",
   "execution_count": 157,
   "metadata": {
    "id": "jqggBfTMCMlP"
   },
   "outputs": [
    {
     "name": "stdout",
     "output_type": "stream",
     "text": [
      "511 ms ± 6.61 ms per loop (mean ± std. dev. of 3 runs, 1 loop each)\n",
      "Best time: 0.5017600699998184\n"
     ]
    }
   ],
   "source": [
    "apply_time = %timeit -r 3 -o weighted_rating_apply(df)\n",
    "print(\"Best time:\", apply_time.best)"
   ]
  },
  {
   "cell_type": "markdown",
   "metadata": {
    "id": "9DzMnzf4CMlS"
   },
   "source": [
    "Update the score board with the best time, marginal and overall performance change you have obtained. Display the updated table below. "
   ]
  },
  {
   "cell_type": "code",
   "execution_count": 158,
   "metadata": {
    "id": "-4RSuVOYV0JZ"
   },
   "outputs": [
    {
     "data": {
      "text/html": [
       "<div>\n",
       "<style scoped>\n",
       "    .dataframe tbody tr th:only-of-type {\n",
       "        vertical-align: middle;\n",
       "    }\n",
       "\n",
       "    .dataframe tbody tr th {\n",
       "        vertical-align: top;\n",
       "    }\n",
       "\n",
       "    .dataframe thead th {\n",
       "        text-align: right;\n",
       "    }\n",
       "</style>\n",
       "<table border=\"1\" class=\"dataframe\">\n",
       "  <thead>\n",
       "    <tr style=\"text-align: right;\">\n",
       "      <th></th>\n",
       "      <th>Best single run time (s)</th>\n",
       "      <th>Marginal performance improvement</th>\n",
       "      <th>Performance improvement over basic looping</th>\n",
       "      <th>Best single run time (s, teacher)</th>\n",
       "      <th>Marginal performance improvement (teacher)</th>\n",
       "      <th>Performance improvement over basic looping (teacher)</th>\n",
       "    </tr>\n",
       "  </thead>\n",
       "  <tbody>\n",
       "    <tr>\n",
       "      <th>Basic looping</th>\n",
       "      <td>5.569837</td>\n",
       "      <td>NaN</td>\n",
       "      <td>NaN</td>\n",
       "      <td>9.37000</td>\n",
       "      <td>NaN</td>\n",
       "      <td>NaN</td>\n",
       "    </tr>\n",
       "    <tr>\n",
       "      <th>Iterrows looping</th>\n",
       "      <td>2.079771</td>\n",
       "      <td>2.678101</td>\n",
       "      <td>2.678101</td>\n",
       "      <td>3.87000</td>\n",
       "      <td>x2.42</td>\n",
       "      <td>x2.42</td>\n",
       "    </tr>\n",
       "    <tr>\n",
       "      <th>apply()</th>\n",
       "      <td>0.501760</td>\n",
       "      <td>4.144951</td>\n",
       "      <td>11.100597</td>\n",
       "      <td>0.56200</td>\n",
       "      <td>x6.88</td>\n",
       "      <td>x16.69</td>\n",
       "    </tr>\n",
       "    <tr>\n",
       "      <th>Pandas vectorisation</th>\n",
       "      <td>NaN</td>\n",
       "      <td>NaN</td>\n",
       "      <td>NaN</td>\n",
       "      <td>0.00540</td>\n",
       "      <td>x103.8</td>\n",
       "      <td>x1732.17</td>\n",
       "    </tr>\n",
       "    <tr>\n",
       "      <th>NumPy vectorisation</th>\n",
       "      <td>NaN</td>\n",
       "      <td>NaN</td>\n",
       "      <td>NaN</td>\n",
       "      <td>0.00084</td>\n",
       "      <td>x6.45</td>\n",
       "      <td>x11172.98</td>\n",
       "    </tr>\n",
       "  </tbody>\n",
       "</table>\n",
       "</div>"
      ],
      "text/plain": [
       "                      Best single run time (s)  \\\n",
       "Basic looping                         5.569837   \n",
       "Iterrows looping                      2.079771   \n",
       "apply()                               0.501760   \n",
       "Pandas vectorisation                       NaN   \n",
       "NumPy vectorisation                        NaN   \n",
       "\n",
       "                      Marginal performance improvement  \\\n",
       "Basic looping                                      NaN   \n",
       "Iterrows looping                              2.678101   \n",
       "apply()                                       4.144951   \n",
       "Pandas vectorisation                               NaN   \n",
       "NumPy vectorisation                                NaN   \n",
       "\n",
       "                      Performance improvement over basic looping  \\\n",
       "Basic looping                                                NaN   \n",
       "Iterrows looping                                        2.678101   \n",
       "apply()                                                11.100597   \n",
       "Pandas vectorisation                                         NaN   \n",
       "NumPy vectorisation                                          NaN   \n",
       "\n",
       "                      Best single run time (s, teacher)  \\\n",
       "Basic looping                                   9.37000   \n",
       "Iterrows looping                                3.87000   \n",
       "apply()                                         0.56200   \n",
       "Pandas vectorisation                            0.00540   \n",
       "NumPy vectorisation                             0.00084   \n",
       "\n",
       "                     Marginal performance improvement (teacher)  \\\n",
       "Basic looping                                               NaN   \n",
       "Iterrows looping                                          x2.42   \n",
       "apply()                                                   x6.88   \n",
       "Pandas vectorisation                                     x103.8   \n",
       "NumPy vectorisation                                       x6.45   \n",
       "\n",
       "                     Performance improvement over basic looping (teacher)  \n",
       "Basic looping                                                       NaN    \n",
       "Iterrows looping                                                  x2.42    \n",
       "apply()                                                          x16.69    \n",
       "Pandas vectorisation                                           x1732.17    \n",
       "NumPy vectorisation                                           x11172.98    "
      ]
     },
     "execution_count": 158,
     "metadata": {},
     "output_type": "execute_result"
    }
   ],
   "source": [
    "# your code goes here\n",
    "timings = update_scoreboard(timings, 'apply()', 'Iterrows looping', apply_time)\n",
    "timings"
   ]
  },
  {
   "cell_type": "markdown",
   "metadata": {
    "id": "TZHPgFMsED_6"
   },
   "source": [
    "## Part 3: Vectorised solution with Pandas (12.5 pts)"
   ]
  },
  {
   "cell_type": "markdown",
   "metadata": {
    "id": "CI7zQxGNGZnX"
   },
   "source": [
    "Let's find a vectorised solution using Pandas. You have to define a function `weighted_rating_pandas(df)` that computes the ratings in a vectorised way and stores them in a new column of the DataFrame called `imdb_rating_pandas`. Use Pandas operations only: don't transform your data into NumPy arrays."
   ]
  },
  {
   "cell_type": "code",
   "execution_count": 159,
   "metadata": {
    "id": "WqIXsMGFGZnY"
   },
   "outputs": [],
   "source": [
    "def weighted_rating_pandas(df):\n",
    "    df['imdb_rating_pandas'] = np.nan\n",
    "    indeces = df.index[df['vote_count'] > m]\n",
    "    v = df.loc[indeces, 'vote_count']\n",
    "    R = df.loc[indeces, 'vote_average']\n",
    "    df.loc[indeces, 'imdb_rating_pandas'] = (v/(v+m) * R) + (m/(v+m) * C)"
   ]
  },
  {
   "cell_type": "markdown",
   "metadata": {
    "id": "qKVGubslGZna"
   },
   "source": [
    "Call the function and make sure it works as intended."
   ]
  },
  {
   "cell_type": "code",
   "execution_count": 160,
   "metadata": {
    "id": "yXf4KAj1GZna"
   },
   "outputs": [
    {
     "data": {
      "text/html": [
       "<div>\n",
       "<style scoped>\n",
       "    .dataframe tbody tr th:only-of-type {\n",
       "        vertical-align: middle;\n",
       "    }\n",
       "\n",
       "    .dataframe tbody tr th {\n",
       "        vertical-align: top;\n",
       "    }\n",
       "\n",
       "    .dataframe thead th {\n",
       "        text-align: right;\n",
       "    }\n",
       "</style>\n",
       "<table border=\"1\" class=\"dataframe\">\n",
       "  <thead>\n",
       "    <tr style=\"text-align: right;\">\n",
       "      <th></th>\n",
       "      <th>id</th>\n",
       "      <th>original_title</th>\n",
       "      <th>imdb_rating</th>\n",
       "      <th>imdb_rating_iter</th>\n",
       "      <th>imdb_rating_apply</th>\n",
       "      <th>imdb_rating_pandas</th>\n",
       "    </tr>\n",
       "  </thead>\n",
       "  <tbody>\n",
       "    <tr>\n",
       "      <th>0</th>\n",
       "      <td>862</td>\n",
       "      <td>Toy Story</td>\n",
       "      <td>7.375533</td>\n",
       "      <td>7.375533</td>\n",
       "      <td>7.375533</td>\n",
       "      <td>7.375533</td>\n",
       "    </tr>\n",
       "    <tr>\n",
       "      <th>1</th>\n",
       "      <td>8844</td>\n",
       "      <td>Jumanji</td>\n",
       "      <td>6.524536</td>\n",
       "      <td>6.524536</td>\n",
       "      <td>6.524536</td>\n",
       "      <td>6.524536</td>\n",
       "    </tr>\n",
       "    <tr>\n",
       "      <th>2</th>\n",
       "      <td>15602</td>\n",
       "      <td>Grumpier Old Men</td>\n",
       "      <td>NaN</td>\n",
       "      <td>NaN</td>\n",
       "      <td>NaN</td>\n",
       "      <td>NaN</td>\n",
       "    </tr>\n",
       "    <tr>\n",
       "      <th>3</th>\n",
       "      <td>31357</td>\n",
       "      <td>Waiting to Exhale</td>\n",
       "      <td>NaN</td>\n",
       "      <td>NaN</td>\n",
       "      <td>NaN</td>\n",
       "      <td>NaN</td>\n",
       "    </tr>\n",
       "    <tr>\n",
       "      <th>4</th>\n",
       "      <td>11862</td>\n",
       "      <td>Father of the Bride Part II</td>\n",
       "      <td>NaN</td>\n",
       "      <td>NaN</td>\n",
       "      <td>NaN</td>\n",
       "      <td>NaN</td>\n",
       "    </tr>\n",
       "  </tbody>\n",
       "</table>\n",
       "</div>"
      ],
      "text/plain": [
       "      id               original_title  imdb_rating  imdb_rating_iter  \\\n",
       "0    862                    Toy Story     7.375533          7.375533   \n",
       "1   8844                      Jumanji     6.524536          6.524536   \n",
       "2  15602             Grumpier Old Men          NaN               NaN   \n",
       "3  31357            Waiting to Exhale          NaN               NaN   \n",
       "4  11862  Father of the Bride Part II          NaN               NaN   \n",
       "\n",
       "   imdb_rating_apply  imdb_rating_pandas  \n",
       "0           7.375533            7.375533  \n",
       "1           6.524536            6.524536  \n",
       "2                NaN                 NaN  \n",
       "3                NaN                 NaN  \n",
       "4                NaN                 NaN  "
      ]
     },
     "execution_count": 160,
     "metadata": {},
     "output_type": "execute_result"
    }
   ],
   "source": [
    "weighted_rating_pandas(df)\n",
    "\n",
    "pd.testing.assert_series_equal(\n",
    "    df.imdb_rating, df.imdb_rating_pandas, check_names=False\n",
    ")\n",
    "\n",
    "columns_to_show = ['id', 'original_title'] + \\\n",
    "                  list(df.columns[df.columns.str.startswith('imdb_rating')])\n",
    "df[columns_to_show].head()"
   ]
  },
  {
   "cell_type": "markdown",
   "metadata": {
    "id": "scNFR7X8GZnc"
   },
   "source": [
    "Time the performance of the function."
   ]
  },
  {
   "cell_type": "code",
   "execution_count": 161,
   "metadata": {
    "id": "TbhwZZ0mGZnf"
   },
   "outputs": [
    {
     "name": "stdout",
     "output_type": "stream",
     "text": [
      "2.07 ms ± 136 µs per loop (mean ± std. dev. of 3 runs, 100 loops each)\n",
      "Best time: 0.0019748616300012145\n"
     ]
    }
   ],
   "source": [
    "pandas_time = %timeit -r 3 -o weighted_rating_pandas(df)\n",
    "print(\"Best time:\", pandas_time.best)"
   ]
  },
  {
   "cell_type": "markdown",
   "metadata": {
    "id": "Xsqz0kUJGZnh"
   },
   "source": [
    "Update the score board with the best time, marginal and overall performance change you have obtained. Display the updated table below. "
   ]
  },
  {
   "cell_type": "code",
   "execution_count": 162,
   "metadata": {
    "id": "SxCI0nUXV3Lk"
   },
   "outputs": [
    {
     "data": {
      "text/html": [
       "<div>\n",
       "<style scoped>\n",
       "    .dataframe tbody tr th:only-of-type {\n",
       "        vertical-align: middle;\n",
       "    }\n",
       "\n",
       "    .dataframe tbody tr th {\n",
       "        vertical-align: top;\n",
       "    }\n",
       "\n",
       "    .dataframe thead th {\n",
       "        text-align: right;\n",
       "    }\n",
       "</style>\n",
       "<table border=\"1\" class=\"dataframe\">\n",
       "  <thead>\n",
       "    <tr style=\"text-align: right;\">\n",
       "      <th></th>\n",
       "      <th>Best single run time (s)</th>\n",
       "      <th>Marginal performance improvement</th>\n",
       "      <th>Performance improvement over basic looping</th>\n",
       "      <th>Best single run time (s, teacher)</th>\n",
       "      <th>Marginal performance improvement (teacher)</th>\n",
       "      <th>Performance improvement over basic looping (teacher)</th>\n",
       "    </tr>\n",
       "  </thead>\n",
       "  <tbody>\n",
       "    <tr>\n",
       "      <th>Basic looping</th>\n",
       "      <td>5.569837</td>\n",
       "      <td>NaN</td>\n",
       "      <td>NaN</td>\n",
       "      <td>9.37000</td>\n",
       "      <td>NaN</td>\n",
       "      <td>NaN</td>\n",
       "    </tr>\n",
       "    <tr>\n",
       "      <th>Iterrows looping</th>\n",
       "      <td>2.079771</td>\n",
       "      <td>2.678101</td>\n",
       "      <td>2.678101</td>\n",
       "      <td>3.87000</td>\n",
       "      <td>x2.42</td>\n",
       "      <td>x2.42</td>\n",
       "    </tr>\n",
       "    <tr>\n",
       "      <th>apply()</th>\n",
       "      <td>0.501760</td>\n",
       "      <td>4.144951</td>\n",
       "      <td>11.100597</td>\n",
       "      <td>0.56200</td>\n",
       "      <td>x6.88</td>\n",
       "      <td>x16.69</td>\n",
       "    </tr>\n",
       "    <tr>\n",
       "      <th>Pandas vectorisation</th>\n",
       "      <td>0.001975</td>\n",
       "      <td>254.073532</td>\n",
       "      <td>2820.367991</td>\n",
       "      <td>0.00540</td>\n",
       "      <td>x103.8</td>\n",
       "      <td>x1732.17</td>\n",
       "    </tr>\n",
       "    <tr>\n",
       "      <th>NumPy vectorisation</th>\n",
       "      <td>NaN</td>\n",
       "      <td>NaN</td>\n",
       "      <td>NaN</td>\n",
       "      <td>0.00084</td>\n",
       "      <td>x6.45</td>\n",
       "      <td>x11172.98</td>\n",
       "    </tr>\n",
       "  </tbody>\n",
       "</table>\n",
       "</div>"
      ],
      "text/plain": [
       "                      Best single run time (s)  \\\n",
       "Basic looping                         5.569837   \n",
       "Iterrows looping                      2.079771   \n",
       "apply()                               0.501760   \n",
       "Pandas vectorisation                  0.001975   \n",
       "NumPy vectorisation                        NaN   \n",
       "\n",
       "                      Marginal performance improvement  \\\n",
       "Basic looping                                      NaN   \n",
       "Iterrows looping                              2.678101   \n",
       "apply()                                       4.144951   \n",
       "Pandas vectorisation                        254.073532   \n",
       "NumPy vectorisation                                NaN   \n",
       "\n",
       "                      Performance improvement over basic looping  \\\n",
       "Basic looping                                                NaN   \n",
       "Iterrows looping                                        2.678101   \n",
       "apply()                                                11.100597   \n",
       "Pandas vectorisation                                 2820.367991   \n",
       "NumPy vectorisation                                          NaN   \n",
       "\n",
       "                      Best single run time (s, teacher)  \\\n",
       "Basic looping                                   9.37000   \n",
       "Iterrows looping                                3.87000   \n",
       "apply()                                         0.56200   \n",
       "Pandas vectorisation                            0.00540   \n",
       "NumPy vectorisation                             0.00084   \n",
       "\n",
       "                     Marginal performance improvement (teacher)  \\\n",
       "Basic looping                                               NaN   \n",
       "Iterrows looping                                          x2.42   \n",
       "apply()                                                   x6.88   \n",
       "Pandas vectorisation                                     x103.8   \n",
       "NumPy vectorisation                                       x6.45   \n",
       "\n",
       "                     Performance improvement over basic looping (teacher)  \n",
       "Basic looping                                                       NaN    \n",
       "Iterrows looping                                                  x2.42    \n",
       "apply()                                                          x16.69    \n",
       "Pandas vectorisation                                           x1732.17    \n",
       "NumPy vectorisation                                           x11172.98    "
      ]
     },
     "execution_count": 162,
     "metadata": {},
     "output_type": "execute_result"
    }
   ],
   "source": [
    "# your code goes here\n",
    "timings = update_scoreboard(timings, 'Pandas vectorisation', 'apply()', pandas_time)\n",
    "timings"
   ]
  },
  {
   "cell_type": "markdown",
   "metadata": {
    "id": "HvwaE7pIjzEa"
   },
   "source": [
    "Time to reflect on your solution. Do the following: \n",
    " \n",
    "* Explain in words what your function does and why it is a vectorised solution. In particular, break down each step involving ufuncs, broadcasting and other vectorized calls. \n",
    "    * If your explanation has major errors, we will substract points for this part.\n",
    " \n",
    "* Display profiler output and give an analysis of what you see."
   ]
  },
  {
   "cell_type": "code",
   "execution_count": 284,
   "metadata": {
    "id": "bQHB_JqeV52E"
   },
   "outputs": [],
   "source": [
    "# your code goes here\n",
    "%lprun -f weighted_rating_pandas weighted_rating_pandas(df)"
   ]
  },
  {
   "cell_type": "markdown",
   "metadata": {},
   "source": [
    "### Timer unit: 1e-06 s\n",
    "\n",
    "Total time: 0.087067 s\n",
    "File: /var/folders/hf/9wq995zd4xz5zkwprjh2z0dm0000gn/T/ipykernel_60895/832349886.py\n",
    "Function: weighted_rating_pandas at line 1\n",
    "\n",
    "### Line | # Hits  | Time Per Hit  | % Time  | Line Contents\n",
    "     1                                   def weighted_rating_pandas(df):\n",
    "     2 1      15430.0  15430.0     17.7      df['imdb_rating_pandas'] = np.nan\n",
    "     3 1       8848.0   8848.0     10.2      indeces = df.index[df['vote_count'] > m]\n",
    "     4 1      14674.0  14674.0     16.9      v = df.loc[indeces, 'vote_count']\n",
    "     5 1       6595.0   6595.0      7.6      R = df.loc[indeces, 'vote_average']\n",
    "     6 1      41520.0  41520.0     47.7      df.loc[indeces, 'imdb_rating_pandas'] = (v/(v+m) * R) +(m/(v+m)*C)"
   ]
  },
  {
   "cell_type": "markdown",
   "metadata": {},
   "source": [
    "The profiler shows that the pandas vectorization function uses the vast majority of the time (48%) on actually performing the imdb_rating computation and storing the values in the pandas dataframe. This also means that more than half of the time is actually used on initializing a placeholder for the imdb_ratings, finding the indeces that has a vote_count greater than m and initializing the v and R arrays for the computation. "
   ]
  },
  {
   "cell_type": "markdown",
   "metadata": {
    "id": "DngbQA2eV770"
   },
   "source": [
    "The code starts by finding all the row indeces which satifies the condition that the vote_count must be greater than m. This is computed and stored to avoid recomputing this in the rest of the function. Moreover, v and R are initialized as the vote_count and vote_average, respectively, where the condition of vote_average > m are met. This creates two arrays which we use in the last line to compute the imdb_rating and directly store these values in the imdb_rating_pandas column. This computation works by performing an arthimetic operation of the scalar elements (m, C) to each element in the array that the elments in the array that the scalar value performs an operation on (conceptually, the scalar elements are broadcasted into an array of equal dimensions as the array, but in practice this is memory inefficient). When doing the arthimetic operation, Python only needs to look up the dtype of the array elements once, since all elements in the array has the same dtype. Also, Pandas is under the hood running in optimized C code as well as multithreading the operations, which further improves the performance. "
   ]
  },
  {
   "cell_type": "markdown",
   "metadata": {
    "id": "QLwJEzATEKwi"
   },
   "source": [
    "## Part 4: Vectorised solution with NumPy (12.5 pts)"
   ]
  },
  {
   "cell_type": "markdown",
   "metadata": {
    "id": "GrAZ4OI2EPk8"
   },
   "source": [
    "Let's find a vectorised solution that uses NumPy to speed up the calculations. You have to define a function `weighted_rating_numpy(df)` that computes the ratings in a vectorised way and stores them in a new column of the DataFrame called `imdb_rating_numpy`."
   ]
  },
  {
   "cell_type": "code",
   "execution_count": 286,
   "metadata": {
    "id": "9sJlkDYAzQr8"
   },
   "outputs": [],
   "source": [
    "# your code goes here\n",
    "def weighted_rating_numpy(df):\n",
    "    df['imdb_rating_numpy'] = np.nan\n",
    "    indeces = np.argwhere(df['vote_count'].values > m).flatten()\n",
    "    imdb_rating_numpy = df.imdb_rating_numpy.values\n",
    "    v = df.vote_count.values[indeces]\n",
    "    R = df.vote_average.values[indeces]\n",
    "    imdb_rating_numpy[indeces] = (v/(v+m) * R) + (m/(v+m) * C)\n",
    "    df.loc[:, 'imdb_rating_numpy'] = imdb_rating_numpy"
   ]
  },
  {
   "cell_type": "markdown",
   "metadata": {
    "id": "n2pAc_GEEudy"
   },
   "source": [
    "Call the function and make sure it works as intended."
   ]
  },
  {
   "cell_type": "code",
   "execution_count": 257,
   "metadata": {
    "id": "IALbcsKO2RNt"
   },
   "outputs": [
    {
     "data": {
      "text/html": [
       "<div>\n",
       "<style scoped>\n",
       "    .dataframe tbody tr th:only-of-type {\n",
       "        vertical-align: middle;\n",
       "    }\n",
       "\n",
       "    .dataframe tbody tr th {\n",
       "        vertical-align: top;\n",
       "    }\n",
       "\n",
       "    .dataframe thead th {\n",
       "        text-align: right;\n",
       "    }\n",
       "</style>\n",
       "<table border=\"1\" class=\"dataframe\">\n",
       "  <thead>\n",
       "    <tr style=\"text-align: right;\">\n",
       "      <th></th>\n",
       "      <th>id</th>\n",
       "      <th>original_title</th>\n",
       "      <th>imdb_rating</th>\n",
       "      <th>imdb_rating_iter</th>\n",
       "      <th>imdb_rating_apply</th>\n",
       "      <th>imdb_rating_pandas</th>\n",
       "      <th>imdb_rating_numpy</th>\n",
       "    </tr>\n",
       "  </thead>\n",
       "  <tbody>\n",
       "    <tr>\n",
       "      <th>0</th>\n",
       "      <td>862</td>\n",
       "      <td>Toy Story</td>\n",
       "      <td>7.375533</td>\n",
       "      <td>7.375533</td>\n",
       "      <td>7.375533</td>\n",
       "      <td>7.375533</td>\n",
       "      <td>7.375533</td>\n",
       "    </tr>\n",
       "    <tr>\n",
       "      <th>1</th>\n",
       "      <td>8844</td>\n",
       "      <td>Jumanji</td>\n",
       "      <td>6.524536</td>\n",
       "      <td>6.524536</td>\n",
       "      <td>6.524536</td>\n",
       "      <td>6.524536</td>\n",
       "      <td>6.524536</td>\n",
       "    </tr>\n",
       "    <tr>\n",
       "      <th>2</th>\n",
       "      <td>15602</td>\n",
       "      <td>Grumpier Old Men</td>\n",
       "      <td>NaN</td>\n",
       "      <td>NaN</td>\n",
       "      <td>NaN</td>\n",
       "      <td>NaN</td>\n",
       "      <td>NaN</td>\n",
       "    </tr>\n",
       "    <tr>\n",
       "      <th>3</th>\n",
       "      <td>31357</td>\n",
       "      <td>Waiting to Exhale</td>\n",
       "      <td>NaN</td>\n",
       "      <td>NaN</td>\n",
       "      <td>NaN</td>\n",
       "      <td>NaN</td>\n",
       "      <td>NaN</td>\n",
       "    </tr>\n",
       "    <tr>\n",
       "      <th>4</th>\n",
       "      <td>11862</td>\n",
       "      <td>Father of the Bride Part II</td>\n",
       "      <td>NaN</td>\n",
       "      <td>NaN</td>\n",
       "      <td>NaN</td>\n",
       "      <td>NaN</td>\n",
       "      <td>NaN</td>\n",
       "    </tr>\n",
       "  </tbody>\n",
       "</table>\n",
       "</div>"
      ],
      "text/plain": [
       "      id               original_title  imdb_rating  imdb_rating_iter  \\\n",
       "0    862                    Toy Story     7.375533          7.375533   \n",
       "1   8844                      Jumanji     6.524536          6.524536   \n",
       "2  15602             Grumpier Old Men          NaN               NaN   \n",
       "3  31357            Waiting to Exhale          NaN               NaN   \n",
       "4  11862  Father of the Bride Part II          NaN               NaN   \n",
       "\n",
       "   imdb_rating_apply  imdb_rating_pandas  imdb_rating_numpy  \n",
       "0           7.375533            7.375533           7.375533  \n",
       "1           6.524536            6.524536           6.524536  \n",
       "2                NaN                 NaN                NaN  \n",
       "3                NaN                 NaN                NaN  \n",
       "4                NaN                 NaN                NaN  "
      ]
     },
     "execution_count": 257,
     "metadata": {},
     "output_type": "execute_result"
    }
   ],
   "source": [
    "weighted_rating_numpy(df)\n",
    "\n",
    "pd.testing.assert_series_equal(\n",
    "    df.imdb_rating, df.imdb_rating_numpy, check_names=False\n",
    ")\n",
    "\n",
    "columns_to_show = ['id', 'original_title'] + \\\n",
    "                  list(df.columns[df.columns.str.startswith('imdb_rating')])\n",
    "df[columns_to_show].head()"
   ]
  },
  {
   "cell_type": "markdown",
   "metadata": {
    "id": "r0ebRPwiFAfo"
   },
   "source": [
    "Time the best performance of the function."
   ]
  },
  {
   "cell_type": "code",
   "execution_count": 258,
   "metadata": {
    "id": "eWe52oAQ6l8R"
   },
   "outputs": [
    {
     "name": "stdout",
     "output_type": "stream",
     "text": [
      "429 µs ± 3.82 µs per loop (mean ± std. dev. of 3 runs, 1000 loops each)\n",
      "Best time: 0.0004245797820003645\n"
     ]
    }
   ],
   "source": [
    "numpy_time = %timeit -r 3 -o weighted_rating_numpy(df)\n",
    "print(\"Best time:\", numpy_time.best)"
   ]
  },
  {
   "cell_type": "markdown",
   "metadata": {
    "id": "TB7tkhUDFAfr"
   },
   "source": [
    "Update the score board with the best time, marginal and overall performance change you have obtained. Display the updated table below. "
   ]
  },
  {
   "cell_type": "code",
   "execution_count": 259,
   "metadata": {
    "id": "J8MBiqnvushL"
   },
   "outputs": [
    {
     "data": {
      "text/html": [
       "<div>\n",
       "<style scoped>\n",
       "    .dataframe tbody tr th:only-of-type {\n",
       "        vertical-align: middle;\n",
       "    }\n",
       "\n",
       "    .dataframe tbody tr th {\n",
       "        vertical-align: top;\n",
       "    }\n",
       "\n",
       "    .dataframe thead th {\n",
       "        text-align: right;\n",
       "    }\n",
       "</style>\n",
       "<table border=\"1\" class=\"dataframe\">\n",
       "  <thead>\n",
       "    <tr style=\"text-align: right;\">\n",
       "      <th></th>\n",
       "      <th>Best single run time (s)</th>\n",
       "      <th>Marginal performance improvement</th>\n",
       "      <th>Performance improvement over basic looping</th>\n",
       "      <th>Best single run time (s, teacher)</th>\n",
       "      <th>Marginal performance improvement (teacher)</th>\n",
       "      <th>Performance improvement over basic looping (teacher)</th>\n",
       "    </tr>\n",
       "  </thead>\n",
       "  <tbody>\n",
       "    <tr>\n",
       "      <th>Basic looping</th>\n",
       "      <td>5.569837</td>\n",
       "      <td>NaN</td>\n",
       "      <td>NaN</td>\n",
       "      <td>9.37000</td>\n",
       "      <td>NaN</td>\n",
       "      <td>NaN</td>\n",
       "    </tr>\n",
       "    <tr>\n",
       "      <th>Iterrows looping</th>\n",
       "      <td>2.079771</td>\n",
       "      <td>2.678101</td>\n",
       "      <td>2.678101</td>\n",
       "      <td>3.87000</td>\n",
       "      <td>x2.42</td>\n",
       "      <td>x2.42</td>\n",
       "    </tr>\n",
       "    <tr>\n",
       "      <th>apply()</th>\n",
       "      <td>0.501760</td>\n",
       "      <td>4.144951</td>\n",
       "      <td>11.100597</td>\n",
       "      <td>0.56200</td>\n",
       "      <td>x6.88</td>\n",
       "      <td>x16.69</td>\n",
       "    </tr>\n",
       "    <tr>\n",
       "      <th>Pandas vectorisation</th>\n",
       "      <td>0.001975</td>\n",
       "      <td>254.073532</td>\n",
       "      <td>2820.367991</td>\n",
       "      <td>0.00540</td>\n",
       "      <td>x103.8</td>\n",
       "      <td>x1732.17</td>\n",
       "    </tr>\n",
       "    <tr>\n",
       "      <th>NumPy vectorisation</th>\n",
       "      <td>0.000425</td>\n",
       "      <td>4.651332</td>\n",
       "      <td>13118.468576</td>\n",
       "      <td>0.00084</td>\n",
       "      <td>x6.45</td>\n",
       "      <td>x11172.98</td>\n",
       "    </tr>\n",
       "  </tbody>\n",
       "</table>\n",
       "</div>"
      ],
      "text/plain": [
       "                      Best single run time (s)  \\\n",
       "Basic looping                         5.569837   \n",
       "Iterrows looping                      2.079771   \n",
       "apply()                               0.501760   \n",
       "Pandas vectorisation                  0.001975   \n",
       "NumPy vectorisation                   0.000425   \n",
       "\n",
       "                      Marginal performance improvement  \\\n",
       "Basic looping                                      NaN   \n",
       "Iterrows looping                              2.678101   \n",
       "apply()                                       4.144951   \n",
       "Pandas vectorisation                        254.073532   \n",
       "NumPy vectorisation                           4.651332   \n",
       "\n",
       "                      Performance improvement over basic looping  \\\n",
       "Basic looping                                                NaN   \n",
       "Iterrows looping                                        2.678101   \n",
       "apply()                                                11.100597   \n",
       "Pandas vectorisation                                 2820.367991   \n",
       "NumPy vectorisation                                 13118.468576   \n",
       "\n",
       "                      Best single run time (s, teacher)  \\\n",
       "Basic looping                                   9.37000   \n",
       "Iterrows looping                                3.87000   \n",
       "apply()                                         0.56200   \n",
       "Pandas vectorisation                            0.00540   \n",
       "NumPy vectorisation                             0.00084   \n",
       "\n",
       "                     Marginal performance improvement (teacher)  \\\n",
       "Basic looping                                               NaN   \n",
       "Iterrows looping                                          x2.42   \n",
       "apply()                                                   x6.88   \n",
       "Pandas vectorisation                                     x103.8   \n",
       "NumPy vectorisation                                       x6.45   \n",
       "\n",
       "                     Performance improvement over basic looping (teacher)  \n",
       "Basic looping                                                       NaN    \n",
       "Iterrows looping                                                  x2.42    \n",
       "apply()                                                          x16.69    \n",
       "Pandas vectorisation                                           x1732.17    \n",
       "NumPy vectorisation                                           x11172.98    "
      ]
     },
     "execution_count": 259,
     "metadata": {},
     "output_type": "execute_result"
    }
   ],
   "source": [
    "# your code goes here\n",
    "timings = update_scoreboard(timings, 'NumPy vectorisation', 'Pandas vectorisation', numpy_time)\n",
    "timings"
   ]
  },
  {
   "cell_type": "markdown",
   "metadata": {
    "id": "8RSyEDTvA-QQ"
   },
   "source": [
    "Time to reflect on your solution. Do the following: \n",
    " \n",
    "* Explain in words what your function does and why it is a vectorised solution. In particular, break down each step involving ufuncs, broadcasting and other vectorized calls. \n",
    "    * If your explanation has major errors, we will substract points for this part.\n",
    "    * If applicable, you may refer back to the explanation you gave for `weighted_rating_pandas`.\n",
    " \n",
    "* Display profiler output and give an analysis of what you see.\n",
    "    * Contrast your findings with those from `weighted_rating_pandas`."
   ]
  },
  {
   "cell_type": "code",
   "execution_count": 287,
   "metadata": {
    "id": "FV8aYhv5WEqA"
   },
   "outputs": [],
   "source": [
    "# your code goes here\n",
    "%lprun -f weighted_rating_numpy weighted_rating_numpy(df)"
   ]
  },
  {
   "cell_type": "markdown",
   "metadata": {
    "id": "k7lgegwDWFTt"
   },
   "source": [
    "Timer unit: 1e-06 s\n",
    "\n",
    "Total time: 0.052257 s\n",
    "File: /var/folders/hf/9wq995zd4xz5zkwprjh2z0dm0000gn/T/ipykernel_60895/874189283.py\n",
    "Function: weighted_rating_numpy at line 2\n",
    "\n",
    "### Line | # Hits | Time Per Hit | % Time | Line Contents\n",
    "     2                                    def weighted_rating_numpy(df):\n",
    "     3 1      11852.0  11852.0     22.7      df['imdb_rating_numpy'] = np.nan\n",
    "     5 1      28091.0  28091.0     53.8      indeces = np.argwhere(df['vote_count'].values > m).flatten()\n",
    "     6 1       3591.0   3591.0      6.9      imdb_rating_numpy = df.imdb_rating_numpy.values\n",
    "     7 1       1163.0   1163.0      2.2      v = df.vote_count.values[indeces]\n",
    "     8 1       1397.0   1397.0      2.7      R = df.vote_average.values[indeces]\n",
    "     9 1        309.0    309.0      0.6      imdb_rating_numpy[indeces] = (v/(v+m) * R) + (m/(v+m) * C)\n",
    "    10 1       5854.0   5854.0     11.2      df.loc[:, 'imdb_rating_numpy'] = imdb_rating_numpy"
   ]
  },
  {
   "cell_type": "markdown",
   "metadata": {},
   "source": [
    "The profiling of the NumPy implementation shows that the majority of the time is now used on finding the indeces of the rows which has a vote_count > m. This is in contrast to the Pandas implementation, where this specific part of the function only accounted for 10% of the total time. Another worthy thing to mention is that the time on computing the ratings only accounts for 0.6% of the total time. And another 11% to store these values in the Pandas dataframe, i.e. approx 12% to do the last two lines compared to the Pandas implementation where this took 48% of the time. "
   ]
  },
  {
   "cell_type": "markdown",
   "metadata": {},
   "source": [
    "The NumPy implementation has many similarities to the Pandas implementation in the way that both are vectorizing the computations of the imdb_ratings by performing arthimetic operations on the v and R arrays, which are both NumPy arrays, with the scalars m and C, which are \"broadcasted\" (conceptually) and thus the performance are improved by performing the operations in C, multithreading and efficient memory allocation. The initialization of the imdb_rating placeholder column is also completely the same as in the pandas implementation. What is new is the use of the NumPy function to find the indeces of the rows that has a vote_count greater than m. Especially this new addition greatly improved the performance which indicates that the numpy.argwhere function is much more efficient than the pandas masking df[df.column > value]. "
   ]
  },
  {
   "cell_type": "markdown",
   "metadata": {
    "id": "rcGeZKuIRHe7"
   },
   "source": [
    "## Part 5: Find out the top 25 titles (2.5 pts)"
   ]
  },
  {
   "cell_type": "markdown",
   "metadata": {
    "id": "E-IE_GfsRMOG"
   },
   "source": [
    "What are the top 25 titles? Now that we have the IMDb ratings conveniently stored in a column, display the top 25 titles, together with their IMDb rating:"
   ]
  },
  {
   "cell_type": "code",
   "execution_count": 276,
   "metadata": {
    "id": "svC-x1ZcRNJ4"
   },
   "outputs": [
    {
     "data": {
      "text/html": [
       "<div>\n",
       "<style scoped>\n",
       "    .dataframe tbody tr th:only-of-type {\n",
       "        vertical-align: middle;\n",
       "    }\n",
       "\n",
       "    .dataframe tbody tr th {\n",
       "        vertical-align: top;\n",
       "    }\n",
       "\n",
       "    .dataframe thead th {\n",
       "        text-align: right;\n",
       "    }\n",
       "</style>\n",
       "<table border=\"1\" class=\"dataframe\">\n",
       "  <thead>\n",
       "    <tr style=\"text-align: right;\">\n",
       "      <th></th>\n",
       "      <th>title</th>\n",
       "      <th>imdb_rating</th>\n",
       "    </tr>\n",
       "  </thead>\n",
       "  <tbody>\n",
       "    <tr>\n",
       "      <th>1</th>\n",
       "      <td>The Shawshank Redemption</td>\n",
       "      <td>8.192086</td>\n",
       "    </tr>\n",
       "    <tr>\n",
       "      <th>2</th>\n",
       "      <td>The Dark Knight</td>\n",
       "      <td>8.097916</td>\n",
       "    </tr>\n",
       "    <tr>\n",
       "      <th>3</th>\n",
       "      <td>The Godfather</td>\n",
       "      <td>8.089770</td>\n",
       "    </tr>\n",
       "    <tr>\n",
       "      <th>4</th>\n",
       "      <td>Fight Club</td>\n",
       "      <td>8.048880</td>\n",
       "    </tr>\n",
       "    <tr>\n",
       "      <th>5</th>\n",
       "      <td>Pulp Fiction</td>\n",
       "      <td>8.022704</td>\n",
       "    </tr>\n",
       "    <tr>\n",
       "      <th>6</th>\n",
       "      <td>Inception</td>\n",
       "      <td>7.935393</td>\n",
       "    </tr>\n",
       "    <tr>\n",
       "      <th>7</th>\n",
       "      <td>Forrest Gump</td>\n",
       "      <td>7.917781</td>\n",
       "    </tr>\n",
       "    <tr>\n",
       "      <th>8</th>\n",
       "      <td>Interstellar</td>\n",
       "      <td>7.896385</td>\n",
       "    </tr>\n",
       "    <tr>\n",
       "      <th>9</th>\n",
       "      <td>The Empire Strikes Back</td>\n",
       "      <td>7.831115</td>\n",
       "    </tr>\n",
       "    <tr>\n",
       "      <th>10</th>\n",
       "      <td>The Lord of the Rings: The Return of the King</td>\n",
       "      <td>7.831037</td>\n",
       "    </tr>\n",
       "    <tr>\n",
       "      <th>11</th>\n",
       "      <td>Schindler's List</td>\n",
       "      <td>7.806722</td>\n",
       "    </tr>\n",
       "    <tr>\n",
       "      <th>12</th>\n",
       "      <td>Whiplash</td>\n",
       "      <td>7.801217</td>\n",
       "    </tr>\n",
       "    <tr>\n",
       "      <th>13</th>\n",
       "      <td>The Intouchables</td>\n",
       "      <td>7.797277</td>\n",
       "    </tr>\n",
       "    <tr>\n",
       "      <th>14</th>\n",
       "      <td>Star Wars</td>\n",
       "      <td>7.780965</td>\n",
       "    </tr>\n",
       "    <tr>\n",
       "      <th>15</th>\n",
       "      <td>Spirited Away</td>\n",
       "      <td>7.760254</td>\n",
       "    </tr>\n",
       "    <tr>\n",
       "      <th>16</th>\n",
       "      <td>The Lord of the Rings: The Fellowship of the Ring</td>\n",
       "      <td>7.759254</td>\n",
       "    </tr>\n",
       "    <tr>\n",
       "      <th>17</th>\n",
       "      <td>Se7en</td>\n",
       "      <td>7.741149</td>\n",
       "    </tr>\n",
       "    <tr>\n",
       "      <th>18</th>\n",
       "      <td>The Lord of the Rings: The Two Towers</td>\n",
       "      <td>7.724400</td>\n",
       "    </tr>\n",
       "    <tr>\n",
       "      <th>19</th>\n",
       "      <td>Life Is Beautiful</td>\n",
       "      <td>7.722473</td>\n",
       "    </tr>\n",
       "    <tr>\n",
       "      <th>20</th>\n",
       "      <td>Leon: The Professional</td>\n",
       "      <td>7.712289</td>\n",
       "    </tr>\n",
       "    <tr>\n",
       "      <th>21</th>\n",
       "      <td>The Green Mile</td>\n",
       "      <td>7.700299</td>\n",
       "    </tr>\n",
       "    <tr>\n",
       "      <th>22</th>\n",
       "      <td>The Godfather: Part II</td>\n",
       "      <td>7.693061</td>\n",
       "    </tr>\n",
       "    <tr>\n",
       "      <th>23</th>\n",
       "      <td>Guardians of the Galaxy</td>\n",
       "      <td>7.692858</td>\n",
       "    </tr>\n",
       "    <tr>\n",
       "      <th>24</th>\n",
       "      <td>The Matrix</td>\n",
       "      <td>7.673643</td>\n",
       "    </tr>\n",
       "    <tr>\n",
       "      <th>25</th>\n",
       "      <td>Back to the Future</td>\n",
       "      <td>7.671024</td>\n",
       "    </tr>\n",
       "  </tbody>\n",
       "</table>\n",
       "</div>"
      ],
      "text/plain": [
       "                                                title  imdb_rating\n",
       "1                            The Shawshank Redemption     8.192086\n",
       "2                                     The Dark Knight     8.097916\n",
       "3                                       The Godfather     8.089770\n",
       "4                                          Fight Club     8.048880\n",
       "5                                        Pulp Fiction     8.022704\n",
       "6                                           Inception     7.935393\n",
       "7                                        Forrest Gump     7.917781\n",
       "8                                        Interstellar     7.896385\n",
       "9                             The Empire Strikes Back     7.831115\n",
       "10      The Lord of the Rings: The Return of the King     7.831037\n",
       "11                                   Schindler's List     7.806722\n",
       "12                                           Whiplash     7.801217\n",
       "13                                   The Intouchables     7.797277\n",
       "14                                          Star Wars     7.780965\n",
       "15                                      Spirited Away     7.760254\n",
       "16  The Lord of the Rings: The Fellowship of the Ring     7.759254\n",
       "17                                              Se7en     7.741149\n",
       "18              The Lord of the Rings: The Two Towers     7.724400\n",
       "19                                  Life Is Beautiful     7.722473\n",
       "20                             Leon: The Professional     7.712289\n",
       "21                                     The Green Mile     7.700299\n",
       "22                             The Godfather: Part II     7.693061\n",
       "23                            Guardians of the Galaxy     7.692858\n",
       "24                                         The Matrix     7.673643\n",
       "25                                 Back to the Future     7.671024"
      ]
     },
     "execution_count": 276,
     "metadata": {},
     "output_type": "execute_result"
    }
   ],
   "source": [
    "# your code goes here\n",
    "top25 = df.sort_values(by='imdb_rating',ascending=False).iloc[:25, :]\n",
    "top25.index = range(1,len(top25)+1)\n",
    "top25.loc[:, ['title', 'imdb_rating']]"
   ]
  },
  {
   "cell_type": "markdown",
   "metadata": {
    "id": "2Ca4XaEtqvwt"
   },
   "source": [
    "# Exercise 3: Predicting the genre of movies (40 points)"
   ]
  },
  {
   "cell_type": "markdown",
   "metadata": {
    "id": "irkcmAfTHTzR"
   },
   "source": [
    "In this exercise, you'll be asked to create a number of features and use them to predict whether a movie is a science fiction movie or not. \n",
    "For this classification task, we'll work with a different part of the movies dataset, which contains more information for each movie."
   ]
  },
  {
   "cell_type": "code",
   "execution_count": null,
   "metadata": {
    "ExecuteTime": {
     "end_time": "2021-09-27T12:28:57.151965Z",
     "start_time": "2021-09-27T12:28:57.145452Z"
    },
    "id": "cs0dJMEG1PLL"
   },
   "outputs": [],
   "source": [
    "train_url = 'http://courses.compute.dtu.dk/02807/2021/projects/project1/train.csv'"
   ]
  },
  {
   "cell_type": "markdown",
   "metadata": {
    "id": "SIcpNS2GCXUi"
   },
   "source": [
    "You'll try to predict whether a movie is a science fiction movie based on the other associated genres for the movie, the people and companies involved in making it, as well as its release date."
   ]
  },
  {
   "cell_type": "markdown",
   "metadata": {
    "id": "IkN5bCjoCPW9"
   },
   "source": [
    "## Part 1: Adding binary features for genres (15 pts)"
   ]
  },
  {
   "cell_type": "markdown",
   "metadata": {
    "id": "XA00jck22BKq"
   },
   "source": [
    "As in Exercise 1, the data on several columns is in a stringified format. Pre-process the following columns appropriately, as you did with the `genres` column in Part 1 of Exercise 1.\n",
    "```\n",
    "'belongs_to_collection', 'genres', 'production_companies','production_countries', 'spoken_languages', 'Keywords', 'cast', 'crew'\n",
    "```\n",
    " \n",
    "Don't loop explicitly over the rows to perform this preprocessing. Your dataframe should be named `train`."
   ]
  },
  {
   "cell_type": "code",
   "execution_count": null,
   "metadata": {
    "id": "tHi0Ejxb2bKM"
   },
   "outputs": [],
   "source": [
    "# your code goes here"
   ]
  },
  {
   "cell_type": "markdown",
   "metadata": {
    "id": "Z57lsGZ5IL7b"
   },
   "source": [
    "Looking at the 'genres' column, you can see that movies have a varying number of associated genres."
   ]
  },
  {
   "cell_type": "code",
   "execution_count": null,
   "metadata": {
    "id": "amzV_VzSE0VL"
   },
   "outputs": [],
   "source": [
    "# this will work only if you've already preprocessed the genres' column into lists of dicts\n",
    "for i, v in enumerate(train.genres.head()):\n",
    "    print(i, v)"
   ]
  },
  {
   "cell_type": "markdown",
   "metadata": {
    "id": "kPDjPDHlInOC"
   },
   "source": [
    "Count the number of movies that have $n$ associated genres, for each $n$ in the dataset. If a movie has no associated genres, assign it the number 0. \n",
    "\n",
    "You have to use Pandas built-in functions only (no explicit looping). For example, you could use `apply()` with an appropriate function to apply to each row. \n",
    "\n",
    "Once you have the counts, visualise them as a bar chart, with one bar per possible number of associated genres, and the height of the bar representing the number of movies with that number of genres.\n"
   ]
  },
  {
   "cell_type": "code",
   "execution_count": null,
   "metadata": {
    "id": "6cHqZJ8iImh1"
   },
   "outputs": [],
   "source": [
    "# your code goes here"
   ]
  },
  {
   "cell_type": "markdown",
   "metadata": {
    "id": "EqA9UQ3rJyBQ"
   },
   "source": [
    "Let's create our binary features next. Complete the following steps:\n",
    " \n",
    "1.   Transform the `genres` column by replacing its current entries with the list of names of genres occurring in the entries.  For example, the entry \n",
    "```\n",
    "[{'id': 10749, 'name': 'Romance'}, {'id': 35, 'name': 'Comedy'}]\n",
    "```\n",
    "should be transformed into:\n",
    "```\n",
    "['Romance','Comedy']\n",
    "```\n",
    "Empty entries should be transformed into the empty list `[]`.\n",
    "\n",
    "2. Create a separate column (in `train`) for each of the 20 genres, with name `genres_(nameofgenre)` (e.g. `genres_Comedy`). A movie should have a 1 on a genres column if the genre is one of the associated genres for that movie, and a 0 otherwise.\n",
    "    * To get started, consider what operations create a data frame with dimensions as `train` and columns as specified here, based on the list output from step 1. Then combine this data frame with `train`.\n",
    "\n",
    "You have to use Pandas built-in functions only (no explicit looping)."
   ]
  },
  {
   "cell_type": "code",
   "execution_count": null,
   "metadata": {
    "id": "EVXMvDv3Mk1t"
   },
   "outputs": [],
   "source": [
    "# your code goes here"
   ]
  },
  {
   "cell_type": "markdown",
   "metadata": {
    "id": "nN65zGfLnSe-"
   },
   "source": [
    "Visualise the number of movies per top 20 genre with a chart of your choice."
   ]
  },
  {
   "cell_type": "code",
   "execution_count": null,
   "metadata": {
    "id": "wEjJJkMZh9mF"
   },
   "outputs": [],
   "source": [
    "# your code goes here"
   ]
  },
  {
   "cell_type": "markdown",
   "metadata": {
    "id": "M79tzVdMDfXL"
   },
   "source": [
    "## Part 2: Adding more binary features (5 pts)"
   ]
  },
  {
   "cell_type": "markdown",
   "metadata": {
    "id": "7iZngZ3ZnAsG"
   },
   "source": [
    "You've now extracted binary features for all genres associated with a movie. But there's other information that we could use to base our predictions on. \n",
    "\n",
    "The `genres` column is just one out of several columns containing lists of dictionaries as entries. For example, the `production_companies` column also contains lists of dictionaries, providing names of the companies producing the movie. As you just did with genres, add new columns for:\n",
    " \n",
    "1.   The names of the 30 most common production companies\n",
    "2.   The names of the 30 most common production countries\n",
    "3.   The names of the 30 most common actors (`cast` column) \n",
    "4.   The names of the 30 most common crew members\n",
    "5.   The names of the 30 most common keywords\n",
    " \n",
    "We recommend you generalize the functionality implemented in the previous question (e.g. to other columns and to restrict to top 30 most common values)."
   ]
  },
  {
   "cell_type": "code",
   "execution_count": null,
   "metadata": {
    "id": "9sO8Tsqduatn"
   },
   "outputs": [],
   "source": [
    "# your code goes here"
   ]
  },
  {
   "cell_type": "markdown",
   "metadata": {
    "id": "KjFFSEJs93yJ"
   },
   "source": [
    "Check the result. You should now have a much wider table, with the new columns consisting of binary features."
   ]
  },
  {
   "cell_type": "code",
   "execution_count": null,
   "metadata": {
    "id": "IyORi5V27Mg0"
   },
   "outputs": [],
   "source": [
    "train.head()"
   ]
  },
  {
   "cell_type": "markdown",
   "metadata": {
    "id": "joEcHikdD5SY"
   },
   "source": [
    " ## Part 3: Adding numerical date features (5 points)"
   ]
  },
  {
   "cell_type": "markdown",
   "metadata": {
    "id": "nliC-9woDYd_"
   },
   "source": [
    "Next, we'll create some features based on the release date information. Create a new column storing the value for each of the following  aspects of a release date:\n",
    " \n",
    "```\n",
    "['year', 'weekday', 'month', 'weekofyear', 'day', 'quarter']\n",
    "```\n",
    " \n",
    "As usual, don't iterate explicitly to create these columns."
   ]
  },
  {
   "cell_type": "code",
   "execution_count": null,
   "metadata": {
    "id": "-K5u197bDX1A"
   },
   "outputs": [],
   "source": [
    "# your code goes here"
   ]
  },
  {
   "cell_type": "markdown",
   "metadata": {
    "id": "KWLi9-BW97VX"
   },
   "source": [
    "Next, we'll drop the columns that will not be used for learning. "
   ]
  },
  {
   "cell_type": "code",
   "execution_count": null,
   "metadata": {
    "ExecuteTime": {
     "end_time": "2021-09-27T15:27:05.446343Z",
     "start_time": "2021-09-27T15:27:05.426250Z"
    },
    "id": "MbycSRqu8dR5"
   },
   "outputs": [],
   "source": [
    "train = train.drop(['id', 'homepage', 'original_language',\n",
    "                    'title', 'imdb_id','crew', 'poster_path', \n",
    "                    'release_date', 'status', 'belongs_to_collection',\n",
    "                    'Keywords', 'original_title', 'overview',\n",
    "                    'production_companies', 'production_countries', \n",
    "                    'spoken_languages', 'tagline', 'cast','genres'], \n",
    "                   axis=1)"
   ]
  },
  {
   "cell_type": "markdown",
   "metadata": {
    "id": "lOlV7ho4-OR9"
   },
   "source": [
    "Lastly, drop any rows with missing values."
   ]
  },
  {
   "cell_type": "code",
   "execution_count": null,
   "metadata": {
    "id": "asrzvNYy-NO4"
   },
   "outputs": [],
   "source": [
    "# your code goes here"
   ]
  },
  {
   "cell_type": "markdown",
   "metadata": {
    "id": "tV_ANmOH0rQJ"
   },
   "source": [
    "## Part 4: Prediction (10 pts)"
   ]
  },
  {
   "cell_type": "markdown",
   "metadata": {
    "id": "9Y1XUwNX0rQL"
   },
   "source": [
    "Let's load the necessary `sklearn` libraries and prepare the training data for learning. Recall that your goal is to predict whether a movie has science fiction as an associated genre. So you're dealing with a binary classification task."
   ]
  },
  {
   "cell_type": "code",
   "execution_count": null,
   "metadata": {
    "id": "9Qpz2Cd60rQM"
   },
   "outputs": [],
   "source": [
    "from sklearn.model_selection import train_test_split"
   ]
  },
  {
   "cell_type": "markdown",
   "metadata": {
    "id": "dWzqddf90rQR"
   },
   "source": [
    "Use `sklearn` to prepare the training and test sets, setting aside 15% of the data for testing. Call the training input features, training labels, test input features and test labels as follows:\n",
    "\n",
    "```\n",
    "x_train, x_test, y_train, y_test\n",
    "```\n",
    "\n"
   ]
  },
  {
   "cell_type": "code",
   "execution_count": null,
   "metadata": {
    "id": "dDLDQWPl0rQS"
   },
   "outputs": [],
   "source": [
    "# your code goes here"
   ]
  },
  {
   "cell_type": "markdown",
   "metadata": {
    "id": "AKaGZrSuLg1K"
   },
   "source": [
    "Feature scaling is a common requirement for many machine learning estimators: they might behave badly if the individual features do not more or less look like standard normally distributed data (e.g. Gaussian with 0 mean and unit variance). Run the following code to feature scale your input data."
   ]
  },
  {
   "cell_type": "code",
   "execution_count": null,
   "metadata": {
    "id": "by0c0S7s0rQY"
   },
   "outputs": [],
   "source": [
    "from sklearn.preprocessing import StandardScaler  \n",
    "scaler = StandardScaler()  \n",
    "scaler.fit(x_train)  \n",
    "x_train = scaler.transform(x_train) \n",
    "x_test = scaler.transform(x_test)"
   ]
  },
  {
   "cell_type": "markdown",
   "metadata": {
    "id": "lxX0ugDuNR8o"
   },
   "source": [
    "Check that the shape of your data looks correct."
   ]
  },
  {
   "cell_type": "code",
   "execution_count": null,
   "metadata": {
    "id": "5tJHqw2M0rQf"
   },
   "outputs": [],
   "source": [
    "print(x_train.shape, y_train.shape)\n",
    "print(x_test.shape, y_test.shape)"
   ]
  },
  {
   "cell_type": "markdown",
   "metadata": {
    "id": "90SIHxqzN3Ht"
   },
   "source": [
    "Train a classifier of your choice. Then report results:\n",
    "* Display the confusion matrix over the test set in absolute numbers.\n",
    "    * These numbers reflect number of true positives, true negatives, false positives and false negatives.\n",
    "* Display a normalized confusion matrix over the test set, so [sensitivity and specificity](https://en.wikipedia.org/wiki/Evaluation_of_binary_classifiers) can be read from the diagonal (off-diagonal will contain type I and type II error rates).\n",
    "    * Note that sensitivity is recall for the positive class (1), whereas specificity is recall for the negative class (0).\n",
    "* State **in free-text** the sensitivity and specificity of your classifier."
   ]
  },
  {
   "cell_type": "code",
   "execution_count": null,
   "metadata": {
    "id": "lIg8WIm3NiKN"
   },
   "outputs": [],
   "source": [
    "# your code goes here"
   ]
  },
  {
   "cell_type": "markdown",
   "metadata": {
    "id": "lBkWn4WXA-QS"
   },
   "source": [
    "*Your explanation here*"
   ]
  },
  {
   "cell_type": "markdown",
   "metadata": {
    "id": "oP8IaWa9A-QS"
   },
   "source": [
    "## Part 5: Prediction with less leakage (5 points)"
   ]
  },
  {
   "cell_type": "markdown",
   "metadata": {
    "id": "ZKIGA3BOA-QS"
   },
   "source": [
    "From Wikipedia, [data leakage](https://en.wikipedia.org/wiki/Leakage_(machine_learning)) is the use of information in the model training process which would not be expected to be available at prediction time, causing the predictive scores (metrics) to overestimate the model's utility when run in a production environment.\n",
    "\n",
    "Feature or column-wise leakage is caused by the inclusion of columns which are one of the following: a duplicate label, a proxy for the label, or the label itself\n",
    "\n",
    "Considering we're doing binary classification of whether a movie is science fiction, identify the most prominent cause of feature leakage among the features added during Exercise 3. \n",
    "\n",
    "1) **Argue** for your choice, 2) train a classifier not subject to this feature leakage (it's OK to create a new train/test split) and 3) **report the results** as you did in Part 4."
   ]
  },
  {
   "cell_type": "markdown",
   "metadata": {
    "id": "Mb7FTGgTA-QS"
   },
   "source": [
    "*Your explanation here*"
   ]
  },
  {
   "cell_type": "code",
   "execution_count": null,
   "metadata": {
    "ExecuteTime": {
     "end_time": "2021-09-27T14:01:15.648444Z",
     "start_time": "2021-09-27T14:01:15.643363Z"
    },
    "id": "9CzDjF_pA-QS"
   },
   "outputs": [],
   "source": [
    "# your code goes here"
   ]
  },
  {
   "cell_type": "markdown",
   "metadata": {
    "id": "hc4EOB-gb5pp"
   },
   "source": [
    "# Exercise 4: Basic movie recommendation system (20 points)"
   ]
  },
  {
   "cell_type": "markdown",
   "metadata": {
    "id": "7PqirpLgVdN0"
   },
   "source": [
    "In this exercise, you'll build a simple movie recommendation system.  The system will take a movie as input and recommend a list of similar movies. In order to recommend similar movies, you will use the correlation between the ratings of movies as a similarity metric. We'll use Pearson's correlation. \n",
    " \n",
    "The data for this exercise is available in the following URLs. It contains basic info about movies, as well as ratings provided by several users."
   ]
  },
  {
   "cell_type": "code",
   "execution_count": null,
   "metadata": {
    "ExecuteTime": {
     "end_time": "2021-09-27T14:49:08.552678Z",
     "start_time": "2021-09-27T14:49:08.547286Z"
    },
    "id": "HOHERjo8cLQo"
   },
   "outputs": [],
   "source": [
    "url1 = 'http://courses.compute.dtu.dk/02807/2021/projects/project1/ratings.csv'\n",
    "url2 = 'http://courses.compute.dtu.dk/02807/2021/projects/project1/movies.csv'"
   ]
  },
  {
   "cell_type": "markdown",
   "metadata": {
    "id": "YOXKd22xXgo2"
   },
   "source": [
    "## Part 1: Preparing the ratings data (10 pts)"
   ]
  },
  {
   "cell_type": "markdown",
   "metadata": {
    "id": "Isn8M65HXi3i"
   },
   "source": [
    "Read the data from these two URLs, and create a single dataframe from them, with the following columns:\n",
    "\n",
    "| userId | movieId | rating | timestamp | title | genres |\n",
    "|--------|---------|--------|-----------|-------|--------|\n",
    "|        |         |        |           |       |        |\n",
    "\n",
    "Call the dataframe `movie_data`."
   ]
  },
  {
   "cell_type": "code",
   "execution_count": null,
   "metadata": {
    "id": "GwhdEsGUn1zz"
   },
   "outputs": [],
   "source": [
    "# your code goes here"
   ]
  },
  {
   "cell_type": "markdown",
   "metadata": {
    "id": "MFGc9VSzadHi"
   },
   "source": [
    "To find the correlation between the ratings of movies, create a dataframe where each column is a movie name and each row contains the rating assigned by a specific user to that movie. \n",
    "\n",
    "You'll notice that this dataframe has many NaN values, since each movie is not rated by every user. Call the dataframe `user_ratings`."
   ]
  },
  {
   "cell_type": "code",
   "execution_count": null,
   "metadata": {
    "id": "eTrrVPsrfn1Q"
   },
   "outputs": [],
   "source": [
    "# your code goes here"
   ]
  },
  {
   "cell_type": "markdown",
   "metadata": {
    "id": "hy61Luqyu2Te"
   },
   "source": [
    "## Part 2: Finding the most similar movies (10 pts)"
   ]
  },
  {
   "cell_type": "markdown",
   "metadata": {
    "id": "M7FBDshDd1j7"
   },
   "source": [
    "Each column contains all the user ratings for a particular movie. Let's take the user ratings for the movie Toy Story."
   ]
  },
  {
   "cell_type": "code",
   "execution_count": null,
   "metadata": {
    "id": "6e-9WXAro_4-"
   },
   "outputs": [],
   "source": [
    "toystory_ratings = user_ratings['Toy Story (1995)']\n",
    "toystory_ratings"
   ]
  },
  {
   "cell_type": "markdown",
   "metadata": {
    "id": "fljIQkJmpCJD"
   },
   "source": [
    "Next, find the correlation between the user ratings for Toy Story and the user ratings of all other movies. \n",
    " \n",
    "More specifically, create a dataframe that contains two columns, called `title` and `Correlation`. Each row should contain a movie title $x$, followed by the pairwise correlation between the column of ratings for Toy Story and the column of ratings for $x$.  Drop any rows with null values, and display the resulting dataframe.\n",
    " \n",
    "Use built-in functions to compute correlations and avoid explicit loops."
   ]
  },
  {
   "cell_type": "code",
   "execution_count": null,
   "metadata": {
    "id": "_yuX1U0Xh0nk"
   },
   "outputs": [],
   "source": [
    "# your code goes here"
   ]
  },
  {
   "cell_type": "markdown",
   "metadata": {
    "id": "aji7cUw-r-JG"
   },
   "source": [
    "Sort the movies by descending order of correlation to find out highly correlated movies at the top. Display the 5 most highly correlated movies.\n"
   ]
  },
  {
   "cell_type": "code",
   "execution_count": null,
   "metadata": {
    "id": "FU0Zm9fjg4BD"
   },
   "outputs": [],
   "source": [
    "# your code goes here"
   ]
  },
  {
   "cell_type": "markdown",
   "metadata": {
    "id": "qrvD_u63sVdD"
   },
   "source": [
    "If you computed correlations correctly, you will find that the recommended movies are not very well known. We can generate more popular recommendations by finding highly correlated movies that have a sensible number of ratings. \n",
    " \n",
    "Add a column to your correlation table, called `rating_counts`, which stores the number of ratings received by each movie."
   ]
  },
  {
   "cell_type": "code",
   "execution_count": null,
   "metadata": {
    "id": "WvMKUmBFg-Ow"
   },
   "outputs": [],
   "source": [
    "# your code goes here"
   ]
  },
  {
   "cell_type": "markdown",
   "metadata": {
    "id": "b_20nfFvt-7y"
   },
   "source": [
    "Now find the 5 movies with the highest correlation with Toy Story, which have strictly more than 100 ratings. Display the result below. "
   ]
  },
  {
   "cell_type": "code",
   "execution_count": null,
   "metadata": {
    "id": "KvE3c2lMhHNz"
   },
   "outputs": [],
   "source": [
    "# your code goes here"
   ]
  }
 ],
 "metadata": {
  "colab": {
   "collapsed_sections": [],
   "include_colab_link": true,
   "name": "02807_Project_1.ipynb의 사본",
   "provenance": []
  },
  "kernelspec": {
   "display_name": "Python 3 (ipykernel)",
   "language": "python",
   "name": "python3"
  },
  "language_info": {
   "codemirror_mode": {
    "name": "ipython",
    "version": 3
   },
   "file_extension": ".py",
   "mimetype": "text/x-python",
   "name": "python",
   "nbconvert_exporter": "python",
   "pygments_lexer": "ipython3",
   "version": "3.9.6"
  },
  "toc": {
   "base_numbering": 1,
   "nav_menu": {},
   "number_sections": true,
   "sideBar": true,
   "skip_h1_title": false,
   "title_cell": "Table of Contents",
   "title_sidebar": "Contents",
   "toc_cell": false,
   "toc_position": {
    "height": "calc(100% - 180px)",
    "left": "10px",
    "top": "150px",
    "width": "362px"
   },
   "toc_section_display": true,
   "toc_window_display": true
  }
 },
 "nbformat": 4,
 "nbformat_minor": 1
}
