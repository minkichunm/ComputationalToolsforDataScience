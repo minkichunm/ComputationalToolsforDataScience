{
  "nbformat": 4,
  "nbformat_minor": 0,
  "metadata": {
    "colab": {
      "name": "02807_Project_1.ipynb의 사본",
      "provenance": [],
      "collapsed_sections": [],
      "include_colab_link": true
    },
    "kernelspec": {
      "display_name": "Python 3",
      "language": "python",
      "name": "python3"
    },
    "language_info": {
      "codemirror_mode": {
        "name": "ipython",
        "version": 3
      },
      "file_extension": ".py",
      "mimetype": "text/x-python",
      "name": "python",
      "nbconvert_exporter": "python",
      "pygments_lexer": "ipython3",
      "version": "3.8.10"
    },
    "toc": {
      "base_numbering": 1,
      "nav_menu": {},
      "number_sections": true,
      "sideBar": true,
      "skip_h1_title": false,
      "title_cell": "Table of Contents",
      "title_sidebar": "Contents",
      "toc_cell": false,
      "toc_position": {
        "height": "calc(100% - 180px)",
        "left": "10px",
        "top": "150px",
        "width": "362px"
      },
      "toc_section_display": true,
      "toc_window_display": true
    }
  },
  "cells": [
    {
      "cell_type": "markdown",
      "metadata": {
        "id": "view-in-github",
        "colab_type": "text"
      },
      "source": [
        "<a href=\"https://colab.research.google.com/github/minkichunm/ComputationalToolsforDataScience/blob/main/02807_Project_1.ipynb\" target=\"_parent\"><img src=\"https://colab.research.google.com/assets/colab-badge.svg\" alt=\"Open In Colab\"/></a>"
      ]
    },
    {
      "cell_type": "markdown",
      "metadata": {
        "id": "PlsPJUw7wCWZ"
      },
      "source": [
        "# 02807: Project 1\n",
        " \n",
        "## Practical information\n",
        " \n",
        "* This project must be completed in groups of 3 students.\n",
        "    * The group must be registered on the course site on DTU Learn: My Course > Groups\n",
        "* This project must be handed in as a jupyter notebook to the course site on DTU Learn. \n",
        "    * Go to the Course Content > Assignments tab to upload your submission. \n",
        "* This project is due on Monday, November 1, 20:00.\n",
        "\n",
        "## Submission rules\n",
        "\n",
        "* Each group has to hand in *one* notebook (`.ipynb`) with their solutions, including a filled out Contribution table (see below).\n",
        "* Your solution must be written in Python.\n",
        "* For each question you should use the cells provided (\"`# your code goes here`\") for your solution\n",
        "    * It is allowed to add code cells within a question block, but consider if it's really necessary.\n",
        "* You should not remove the problem statements, and you should not modify the structure of the notebook.\n",
        "* Your notebook should be runnable and readable from top to bottom.\n",
        "    * Meaning that your code cells work when run in order (from top to bottom).\n",
        "    * Output of any cell depends only on itself and cells above it.\n",
        "* Your notebook should be submitted after having been run from top to bottom.\n",
        "    * This means outputs are interpretable without necessarily running your cells.\n",
        "    * The simplest way to achieve this is using the jupyter menu item Kernel > Restart & Run All just prior to submission. If any cell fails when you do this, your notebook is not ready for submission.\n",
        "* Failure to comply may make it impossible for us to evaluate your submission properly, which will likely negatively impact the points awarded.\n",
        "    \n",
        " \n",
        "## Colaboration policy\n",
        " \n",
        "* It is not allowed to collaborate on the exercises with students outside your group, except for discussing the text of the exercise with teachers and fellow students enrolled on the course in the same semester. \n",
        "* It is not allowed to exchange, hand-over or in any other way communicate solutions or parts of solutions to the exercises. \n",
        "* It is not allowed to use solutions from similar courses, or solutions found elsewhere."
      ]
    },
    {
      "cell_type": "markdown",
      "metadata": {
        "id": "ZP30rwxHDQyG"
      },
      "source": [
        "## Contribution table and grading\n",
        "\n",
        "* The total amount of points in the project is 110.\n",
        "* You have to indicate who has solved each part of each exercise in a **contribution table**. \n",
        "* The following is an example of a contributions table:\n",
        "\n",
        "|        | Exercise 1 | Exercise 2 | Exercise 3 | Exercise 4 |\n",
        "|--------|------------|------------|------------|------------|\n",
        "| **Part 1** | John       |    Mary        |     Ann       |   Mary, Ann         |\n",
        "| **Part 2** |     Mary       |    Mary        |   Ann         |    John, Ann        |\n",
        "| **Part 3** |     John, Mary, Ann       |      John, Ann      |   John         | **n.a.**      |\n",
        "| **Part 4** | **n.a.**       |  Ann          |     John, Mary       | **n.a.**       |\n",
        "| **Part 5** | **n.a.**     | John, Mary, Ann           | John       | **n.a.**       |\n",
        "\n",
        "* A group member can take credit for solving a part of an exercise only if they have contributed **substantially** to the solution. \n",
        "    * Simple contributions, such as correcting a small bug or double-checking the results of functions, are not sufficient for taking credit for a solution.\n",
        "    * Several group members can take credit for the same solution if they all have contributed substantially to it.\n",
        "* Each group member must contribute **at least 50 points**. \n",
        "    * If no name is provided for an exercise's part, **all group members** are considered contributors to it.\n",
        "* Group members should decide amongst themselves how to collaborate on the project to meet the above-mentioned constraints.  \n",
        "* Scores are individual. The score $\\text{score}(m)$ for a group member $m$ ranges from 0 to 10 and is calculated as follows: \n",
        "\n",
        "  * $\\text{individual-score}(m) = \\frac{\\text{total number of points for the parts correctly solved by }m}{\\text{total number of points for the parts contributed by }m}$\n",
        "\n",
        "  * $\\text{group-score} = \\frac{\\text{total number of points correctly solved by any group member}}{\\text{total number of points in the project}}$\n",
        "\n",
        "  * $\\text{score}(m) =  7.5 \\cdot \\text{individual-score}(m) + 2.5 \\cdot \\text{group-score}$\n",
        "\n",
        "* **Example**: in the contribution table above, suppose that all parts are solved correctly except for those of Exercise 4, which are both wrong. Then Ann's score is calculated as follows:\n",
        "\n",
        "  * $\\text{individual-score}(Ann) = \\frac{2.5+12.5+12.5+2.5+15+5}{2.5+12.5+12.5+2.5+15+5 + 10 + 10} = \\frac{50}{70} = 0.714$\n",
        "\n",
        "  * $\\text{group-score} = \\frac{90}{110} = 0.818$\n",
        "\n",
        "  * $\\text{score}(Ann) = 7.5\\cdot 0.714 + 2.5 \\cdot 0.818 = 7.4$\n"
      ]
    },
    {
      "cell_type": "markdown",
      "metadata": {
        "id": "vklet8XdRGVV"
      },
      "source": [
        "# Group declaration table \n",
        "\n",
        "This table must be filled before submission.\n",
        "\n"
      ]
    },
    {
      "cell_type": "code",
      "metadata": {
        "ExecuteTime": {
          "end_time": "2021-09-27T15:03:19.791917Z",
          "start_time": "2021-09-27T15:03:19.764408Z"
        },
        "id": "chiXA3CzRSA1",
        "colab": {
          "base_uri": "https://localhost:8080/",
          "height": 195
        },
        "outputId": "8a72a70b-f086-475e-a4b9-f4efb9e597d0"
      },
      "source": [
        "import pandas as pd\n",
        "\n",
        "d = {'Exercise 1' : [\"\", \"\", \"\", \"\", \"\"], \n",
        "     'Exercise 2' : [\"\", \"\", \"\", \"\", \"\"],\n",
        "     'Exercise 3' : [\"\", \"\", \"\", \"\", \"\"], \n",
        "     'Exercise 4' : [\"\", \"\", \"\", \"\", \"\"],\n",
        "     } \n",
        "  \n",
        "ct = pd.DataFrame(d, index =['Part 1','Part 2','Part 3','Part 4','Part 5']) \n",
        "\n",
        "ct"
      ],
      "execution_count": 2,
      "outputs": [
        {
          "output_type": "execute_result",
          "data": {
            "text/html": [
              "<div>\n",
              "<style scoped>\n",
              "    .dataframe tbody tr th:only-of-type {\n",
              "        vertical-align: middle;\n",
              "    }\n",
              "\n",
              "    .dataframe tbody tr th {\n",
              "        vertical-align: top;\n",
              "    }\n",
              "\n",
              "    .dataframe thead th {\n",
              "        text-align: right;\n",
              "    }\n",
              "</style>\n",
              "<table border=\"1\" class=\"dataframe\">\n",
              "  <thead>\n",
              "    <tr style=\"text-align: right;\">\n",
              "      <th></th>\n",
              "      <th>Exercise 1</th>\n",
              "      <th>Exercise 2</th>\n",
              "      <th>Exercise 3</th>\n",
              "      <th>Exercise 4</th>\n",
              "    </tr>\n",
              "  </thead>\n",
              "  <tbody>\n",
              "    <tr>\n",
              "      <th>Part 1</th>\n",
              "      <td></td>\n",
              "      <td></td>\n",
              "      <td></td>\n",
              "      <td></td>\n",
              "    </tr>\n",
              "    <tr>\n",
              "      <th>Part 2</th>\n",
              "      <td></td>\n",
              "      <td></td>\n",
              "      <td></td>\n",
              "      <td></td>\n",
              "    </tr>\n",
              "    <tr>\n",
              "      <th>Part 3</th>\n",
              "      <td></td>\n",
              "      <td></td>\n",
              "      <td></td>\n",
              "      <td></td>\n",
              "    </tr>\n",
              "    <tr>\n",
              "      <th>Part 4</th>\n",
              "      <td></td>\n",
              "      <td></td>\n",
              "      <td></td>\n",
              "      <td></td>\n",
              "    </tr>\n",
              "    <tr>\n",
              "      <th>Part 5</th>\n",
              "      <td></td>\n",
              "      <td></td>\n",
              "      <td></td>\n",
              "      <td></td>\n",
              "    </tr>\n",
              "  </tbody>\n",
              "</table>\n",
              "</div>"
            ],
            "text/plain": [
              "       Exercise 1 Exercise 2 Exercise 3 Exercise 4\n",
              "Part 1                                            \n",
              "Part 2                                            \n",
              "Part 3                                            \n",
              "Part 4                                            \n",
              "Part 5                                            "
            ]
          },
          "metadata": {},
          "execution_count": 2
        }
      ]
    },
    {
      "cell_type": "markdown",
      "metadata": {
        "_uuid": "d7aa1b0ad6979877450f9cd89e1e37289b51cf6e",
        "id": "CF8tC7Z8CgbW"
      },
      "source": [
        "# Introduction to the Datasets"
      ]
    },
    {
      "cell_type": "markdown",
      "metadata": {
        "id": "pO8N4lj29u9w"
      },
      "source": [
        "![link text](https://ph-files.imgix.net/069dd825-cddf-4048-adde-8e81396c2c68?auto=format)\n",
        "\n",
        "\n",
        "You will be working with datasets obtained through the [The Movie Database (TMDb) API](https://developers.themoviedb.org/3/getting-started/introduction). The first dataset is part of the MovieLens Latest Full Dataset, comprising 26 million ratings on 45.000 movies from 27.000 users. Let's look at the features in this dataset.\n",
        "\n",
        "**Features**\n",
        "\n",
        "* **adult**: Indicates if the movie is X-Rated.\n",
        "* **belongs_to_collection**: A stringified dictionary with info on the movie series a particular film belongs to (e.g.: Lord of the Rings).\n",
        "* **budget**: The movie budget in dollars.\n",
        "* **genres**: A stringified list of dictionaries describing all genres associated with the movie.\n",
        "* **homepage**: The movie's official homepage.\n",
        "* **id**: An identifier for the movie.\n",
        "* **imdb_id**: IMDB's identifier for the movie.\n",
        "* **original_language**: The language in which the movie was shot.\n",
        "* **original_title**: The original title of the movie.\n",
        "* **overview**: A brief text about the movie.\n",
        "* **popularity**: A Popularity Score given by TMDb.\n",
        "* **poster_path**: The URL of the poster image.\n",
        "* **production_companies**: A stringified list of production companies involved with making of the movie.\n",
        "* **production_countries**: A stringified list of countries in which the movie was produced.\n",
        "* **release_date**: Release date of the movie in theaters.\n",
        "* **revenue**: The total revenue of the movie in dollars.\n",
        "* **runtime**: The runtime of the movie in minutes.\n",
        "* **spoken_languages**: A stringified list of languages spoken in the film.\n",
        "* **status**: The status of the movie (Released, To Be Released, etc.)\n",
        "* **tagline**: The movie's tagline.\n",
        "* **title**: The official title of the movie.\n",
        "* **video**: Indicates whether there is a video of the movie in TMDb.\n",
        "* **vote_average**: The average rating of the movie, on a 0-10 scale.\n",
        "* **vote_count**: The number of votes by users, as counted by TMDb."
      ]
    },
    {
      "cell_type": "markdown",
      "metadata": {
        "_uuid": "6b418588e3f9139f74cb3a9546f5dca49729579b",
        "id": "2Clue5Z_Cgbc"
      },
      "source": [
        "# Imports\n",
        "\n",
        "First, let's make sure to import Pandas and NumPy. "
      ]
    },
    {
      "cell_type": "code",
      "metadata": {
        "ExecuteTime": {
          "end_time": "2021-09-27T10:09:32.802462Z",
          "start_time": "2021-09-27T10:09:30.598648Z"
        },
        "id": "A0K3Aw3eAf2B"
      },
      "source": [
        "import pandas as pd \n",
        "import numpy as np"
      ],
      "execution_count": 1,
      "outputs": []
    },
    {
      "cell_type": "markdown",
      "metadata": {
        "id": "PFlHk-e0BZME"
      },
      "source": [
        "# Exercise 1: Loading, preprocessing and cleaning the data (15 points)"
      ]
    },
    {
      "cell_type": "markdown",
      "metadata": {
        "id": "mGJnqtQD1BOs"
      },
      "source": [
        "Read the movie dataset from the following URL."
      ]
    },
    {
      "cell_type": "code",
      "metadata": {
        "ExecuteTime": {
          "end_time": "2021-09-27T10:09:34.147572Z",
          "start_time": "2021-09-27T10:09:34.145160Z"
        },
        "id": "sQb46KRIAkOB"
      },
      "source": [
        "url = 'http://courses.compute.dtu.dk/02807/2021/projects/project1/movies_metadata.csv'"
      ],
      "execution_count": 2,
      "outputs": []
    },
    {
      "cell_type": "markdown",
      "metadata": {
        "id": "KCYy8KL4LjbC"
      },
      "source": [
        ""
      ]
    },
    {
      "cell_type": "markdown",
      "metadata": {
        "id": "jQrm5PleClKz"
      },
      "source": [
        "## Part 1: Reading and preprocessing the data (10 pts)\n",
        "\n",
        "Pandas infers a data type for raw data from a `.csv`, defaulting to string type when no other `dtype` could be established. For example, the `genres` column in our dataset is read as a string with a *stringified* list of dictionaries as cell content. \n",
        "\n",
        "Some preprocessing steps are therefore needed, to convert the columns into their proper data types.\n",
        "\n",
        "Write a function `load_movies_data()` that reads the URL into a Pandas DataFrame and preprocesses its columns to ensure that:\n",
        "\n",
        "1. Data in the `release_date` column consists of Pandas `Timestamp` objects, except for missing values. For example, executing a code cell with `df.release_date[0]` should display the output `Timestamp('1995-10-30 00:00:00')`.\n",
        "\n",
        "2. Data in `belongs_to_collection` consists of dictionaries, except for missing values.\n",
        "\n",
        "3. Data in `genres`, `production_companies` and `production_countries` consists of lists of dictionaries, except for missing values. \n",
        "\n",
        "For example, executing a code cell with `df.genres[0]` should display the output \n",
        "```\n",
        "[{'id': 16, 'name': 'Animation'},\n",
        " {'id': 35, 'name': 'Comedy'},\n",
        " {'id': 10751, 'name': 'Family'}]\n",
        "```\n",
        "which is a list type, not a string. The elements of the list are dictionaries (executing `df.genres[0][0]['name']` returns `'Animation'`). \n",
        "\n",
        "**Hint**: for items 2 and 3, you should use `ast.literal_eval`.\n",
        "\n",
        "These conversions can be performed using Pandas' built-in functions and/or calling Pandas' `apply()` with appropriate arguments. Avoid explicit looping. You'll be asked below to time the loading and preprocessing step. "
      ]
    },
    {
      "cell_type": "code",
      "metadata": {
        "id": "2mC5hjGXJTZ0"
      },
      "source": [
        "# your code goes here\n",
        "from ast import literal_eval\n",
        "\n",
        "def f(x):\n",
        "    try:\n",
        "        return literal_eval(str(x))   \n",
        "    except Exception as e:\n",
        "        return np.nan\n",
        "\n",
        "def load_movies_data(url):\n",
        "  df = pd.read_csv(url, dtype='unicode',low_memory=False)\n",
        "  \n",
        "  df['release_date'] = pd.to_datetime(df['release_date'], errors='coerce')\n",
        "  df.belongs_to_collection=df.belongs_to_collection.fillna('{}').apply(lambda x: f(x))\n",
        "  df.genres=df.genres.fillna('[]').apply(lambda x: f(x))\n",
        "  df.production_companies=df.production_companies.fillna('[]').apply(lambda x: f(x))\n",
        "  df.production_countries=df.production_countries.fillna('[]').apply(lambda x: f(x))\n",
        "\n",
        "  return df"
      ],
      "execution_count": 54,
      "outputs": []
    },
    {
      "cell_type": "markdown",
      "metadata": {
        "id": "oZvSPPdzfScL"
      },
      "source": [
        "Now call `load_movies_data()` and load the data into a DataFrame `df`."
      ]
    },
    {
      "cell_type": "code",
      "metadata": {
        "id": "4-eOSqlhD-8J"
      },
      "source": [
        "# your code goes here\n",
        "df = load_movies_data(url)\n",
        "# df.head(n=2)\n",
        "# print(type(df.release_date[0]))\n",
        "# check release_date\n",
        "# df.release_date[0]\n",
        "# check belongs_to_collection\n",
        "# print(df.belongs_to_collection[0] + \"  ,\" + df.belongs_to_collection[1])\n",
        "# check genre\n",
        "# print(df.genres[0] ) \n",
        "# print(df.genres[0][0]['name']) doesn't work yet -> string indices must be integers"
      ],
      "execution_count": 49,
      "outputs": []
    },
    {
      "cell_type": "markdown",
      "metadata": {
        "id": "bnelY1bZzj-J"
      },
      "source": [
        "Display the DataFrame. You should check that it looks correct."
      ]
    },
    {
      "cell_type": "code",
      "metadata": {
        "id": "tP6zpeLxu4J-",
        "colab": {
          "base_uri": "https://localhost:8080/",
          "height": 1000
        },
        "outputId": "c0a90784-2b2b-4337-fd9f-b6288ecbb666"
      },
      "source": [
        "# your code goes here\n",
        "display(df)"
      ],
      "execution_count": 5,
      "outputs": [
        {
          "output_type": "display_data",
          "data": {
            "text/html": [
              "<div>\n",
              "<style scoped>\n",
              "    .dataframe tbody tr th:only-of-type {\n",
              "        vertical-align: middle;\n",
              "    }\n",
              "\n",
              "    .dataframe tbody tr th {\n",
              "        vertical-align: top;\n",
              "    }\n",
              "\n",
              "    .dataframe thead th {\n",
              "        text-align: right;\n",
              "    }\n",
              "</style>\n",
              "<table border=\"1\" class=\"dataframe\">\n",
              "  <thead>\n",
              "    <tr style=\"text-align: right;\">\n",
              "      <th></th>\n",
              "      <th>adult</th>\n",
              "      <th>belongs_to_collection</th>\n",
              "      <th>budget</th>\n",
              "      <th>genres</th>\n",
              "      <th>homepage</th>\n",
              "      <th>id</th>\n",
              "      <th>imdb_id</th>\n",
              "      <th>original_language</th>\n",
              "      <th>original_title</th>\n",
              "      <th>overview</th>\n",
              "      <th>popularity</th>\n",
              "      <th>poster_path</th>\n",
              "      <th>production_companies</th>\n",
              "      <th>production_countries</th>\n",
              "      <th>release_date</th>\n",
              "      <th>revenue</th>\n",
              "      <th>runtime</th>\n",
              "      <th>spoken_languages</th>\n",
              "      <th>status</th>\n",
              "      <th>tagline</th>\n",
              "      <th>title</th>\n",
              "      <th>video</th>\n",
              "      <th>vote_average</th>\n",
              "      <th>vote_count</th>\n",
              "    </tr>\n",
              "  </thead>\n",
              "  <tbody>\n",
              "    <tr>\n",
              "      <th>0</th>\n",
              "      <td>False</td>\n",
              "      <td>{'id': 10194, 'name': 'Toy Story Collection', ...</td>\n",
              "      <td>30000000</td>\n",
              "      <td>[{'id': 16, 'name': 'Animation'}, {'id': 35, '...</td>\n",
              "      <td>http://toystory.disney.com/toy-story</td>\n",
              "      <td>862</td>\n",
              "      <td>tt0114709</td>\n",
              "      <td>en</td>\n",
              "      <td>Toy Story</td>\n",
              "      <td>Led by Woody, Andy's toys live happily in his ...</td>\n",
              "      <td>21.946943</td>\n",
              "      <td>/rhIRbceoE9lR4veEXuwCC2wARtG.jpg</td>\n",
              "      <td>[{'name': 'Pixar Animation Studios', 'id': 3}]</td>\n",
              "      <td>[{'iso_3166_1': 'US', 'name': 'United States o...</td>\n",
              "      <td>1995-10-30</td>\n",
              "      <td>373554033</td>\n",
              "      <td>81.0</td>\n",
              "      <td>[{'iso_639_1': 'en', 'name': 'English'}]</td>\n",
              "      <td>Released</td>\n",
              "      <td>NaN</td>\n",
              "      <td>Toy Story</td>\n",
              "      <td>False</td>\n",
              "      <td>7.7</td>\n",
              "      <td>5415</td>\n",
              "    </tr>\n",
              "    <tr>\n",
              "      <th>2</th>\n",
              "      <td>False</td>\n",
              "      <td>{'id': 119050, 'name': 'Grumpy Old Men Collect...</td>\n",
              "      <td>0</td>\n",
              "      <td>[{'id': 10749, 'name': 'Romance'}, {'id': 35, ...</td>\n",
              "      <td>NaN</td>\n",
              "      <td>15602</td>\n",
              "      <td>tt0113228</td>\n",
              "      <td>en</td>\n",
              "      <td>Grumpier Old Men</td>\n",
              "      <td>A family wedding reignites the ancient feud be...</td>\n",
              "      <td>11.7129</td>\n",
              "      <td>/6ksm1sjKMFLbO7UY2i6G1ju9SML.jpg</td>\n",
              "      <td>[{'name': 'Warner Bros.', 'id': 6194}, {'name'...</td>\n",
              "      <td>[{'iso_3166_1': 'US', 'name': 'United States o...</td>\n",
              "      <td>1995-12-22</td>\n",
              "      <td>0</td>\n",
              "      <td>101.0</td>\n",
              "      <td>[{'iso_639_1': 'en', 'name': 'English'}]</td>\n",
              "      <td>Released</td>\n",
              "      <td>Still Yelling. Still Fighting. Still Ready for...</td>\n",
              "      <td>Grumpier Old Men</td>\n",
              "      <td>False</td>\n",
              "      <td>6.5</td>\n",
              "      <td>92</td>\n",
              "    </tr>\n",
              "    <tr>\n",
              "      <th>4</th>\n",
              "      <td>False</td>\n",
              "      <td>{'id': 96871, 'name': 'Father of the Bride Col...</td>\n",
              "      <td>0</td>\n",
              "      <td>[{'id': 35, 'name': 'Comedy'}]</td>\n",
              "      <td>NaN</td>\n",
              "      <td>11862</td>\n",
              "      <td>tt0113041</td>\n",
              "      <td>en</td>\n",
              "      <td>Father of the Bride Part II</td>\n",
              "      <td>Just when George Banks has recovered from his ...</td>\n",
              "      <td>8.387519</td>\n",
              "      <td>/e64sOI48hQXyru7naBFyssKFxVd.jpg</td>\n",
              "      <td>[{'name': 'Sandollar Productions', 'id': 5842}...</td>\n",
              "      <td>[{'iso_3166_1': 'US', 'name': 'United States o...</td>\n",
              "      <td>1995-02-10</td>\n",
              "      <td>76578911</td>\n",
              "      <td>106.0</td>\n",
              "      <td>[{'iso_639_1': 'en', 'name': 'English'}]</td>\n",
              "      <td>Released</td>\n",
              "      <td>Just When His World Is Back To Normal... He's ...</td>\n",
              "      <td>Father of the Bride Part II</td>\n",
              "      <td>False</td>\n",
              "      <td>5.7</td>\n",
              "      <td>173</td>\n",
              "    </tr>\n",
              "    <tr>\n",
              "      <th>9</th>\n",
              "      <td>False</td>\n",
              "      <td>{'id': 645, 'name': 'James Bond Collection', '...</td>\n",
              "      <td>58000000</td>\n",
              "      <td>[{'id': 12, 'name': 'Adventure'}, {'id': 28, '...</td>\n",
              "      <td>http://www.mgm.com/view/movie/757/Goldeneye/</td>\n",
              "      <td>710</td>\n",
              "      <td>tt0113189</td>\n",
              "      <td>en</td>\n",
              "      <td>GoldenEye</td>\n",
              "      <td>James Bond must unmask the mysterious head of ...</td>\n",
              "      <td>14.686036</td>\n",
              "      <td>/5c0ovjT41KnYIHYuF4AWsTe3sKh.jpg</td>\n",
              "      <td>[{'name': 'United Artists', 'id': 60}, {'name'...</td>\n",
              "      <td>[{'iso_3166_1': 'GB', 'name': 'United Kingdom'...</td>\n",
              "      <td>1995-11-16</td>\n",
              "      <td>352194034</td>\n",
              "      <td>130.0</td>\n",
              "      <td>[{'iso_639_1': 'en', 'name': 'English'}, {'iso...</td>\n",
              "      <td>Released</td>\n",
              "      <td>No limits. No fears. No substitutes.</td>\n",
              "      <td>GoldenEye</td>\n",
              "      <td>False</td>\n",
              "      <td>6.6</td>\n",
              "      <td>1194</td>\n",
              "    </tr>\n",
              "    <tr>\n",
              "      <th>12</th>\n",
              "      <td>False</td>\n",
              "      <td>{'id': 117693, 'name': 'Balto Collection', 'po...</td>\n",
              "      <td>0</td>\n",
              "      <td>[{'id': 10751, 'name': 'Family'}, {'id': 16, '...</td>\n",
              "      <td>NaN</td>\n",
              "      <td>21032</td>\n",
              "      <td>tt0112453</td>\n",
              "      <td>en</td>\n",
              "      <td>Balto</td>\n",
              "      <td>An outcast half-wolf risks his life to prevent...</td>\n",
              "      <td>12.140733</td>\n",
              "      <td>/gV5PCAVCPNxlOLFM1bKk50EqLXO.jpg</td>\n",
              "      <td>[{'name': 'Universal Pictures', 'id': 33}, {'n...</td>\n",
              "      <td>[{'iso_3166_1': 'US', 'name': 'United States o...</td>\n",
              "      <td>1995-12-22</td>\n",
              "      <td>11348324</td>\n",
              "      <td>78.0</td>\n",
              "      <td>[{'iso_639_1': 'en', 'name': 'English'}]</td>\n",
              "      <td>Released</td>\n",
              "      <td>Part Dog. Part Wolf. All Hero.</td>\n",
              "      <td>Balto</td>\n",
              "      <td>False</td>\n",
              "      <td>7.1</td>\n",
              "      <td>423</td>\n",
              "    </tr>\n",
              "    <tr>\n",
              "      <th>...</th>\n",
              "      <td>...</td>\n",
              "      <td>...</td>\n",
              "      <td>...</td>\n",
              "      <td>...</td>\n",
              "      <td>...</td>\n",
              "      <td>...</td>\n",
              "      <td>...</td>\n",
              "      <td>...</td>\n",
              "      <td>...</td>\n",
              "      <td>...</td>\n",
              "      <td>...</td>\n",
              "      <td>...</td>\n",
              "      <td>...</td>\n",
              "      <td>...</td>\n",
              "      <td>...</td>\n",
              "      <td>...</td>\n",
              "      <td>...</td>\n",
              "      <td>...</td>\n",
              "      <td>...</td>\n",
              "      <td>...</td>\n",
              "      <td>...</td>\n",
              "      <td>...</td>\n",
              "      <td>...</td>\n",
              "      <td>...</td>\n",
              "    </tr>\n",
              "    <tr>\n",
              "      <th>45355</th>\n",
              "      <td>False</td>\n",
              "      <td>{'id': 37261, 'name': 'The Carry On Collection...</td>\n",
              "      <td>0</td>\n",
              "      <td>[{'id': 35, 'name': 'Comedy'}]</td>\n",
              "      <td>NaN</td>\n",
              "      <td>24568</td>\n",
              "      <td>tt0061680</td>\n",
              "      <td>en</td>\n",
              "      <td>Follow That Camel</td>\n",
              "      <td>Bertram Oliphant West (also known as Bo West) ...</td>\n",
              "      <td>1.114848</td>\n",
              "      <td>/8nifhAeOQoTJReWuJTTnsUn2pBa.jpg</td>\n",
              "      <td>[{'name': 'The Rank Organisation', 'id': 364},...</td>\n",
              "      <td>[{'iso_3166_1': 'GB', 'name': 'United Kingdom'}]</td>\n",
              "      <td>1967-09-01</td>\n",
              "      <td>0</td>\n",
              "      <td>95.0</td>\n",
              "      <td>[{'iso_639_1': 'en', 'name': 'English'}]</td>\n",
              "      <td>Released</td>\n",
              "      <td>NaN</td>\n",
              "      <td>Carry On Follow That Camel</td>\n",
              "      <td>False</td>\n",
              "      <td>6.1</td>\n",
              "      <td>19</td>\n",
              "    </tr>\n",
              "    <tr>\n",
              "      <th>45358</th>\n",
              "      <td>False</td>\n",
              "      <td>{'id': 37261, 'name': 'The Carry On Collection...</td>\n",
              "      <td>0</td>\n",
              "      <td>[{'id': 35, 'name': 'Comedy'}]</td>\n",
              "      <td>NaN</td>\n",
              "      <td>19307</td>\n",
              "      <td>tt0064133</td>\n",
              "      <td>en</td>\n",
              "      <td>Carry On Camping</td>\n",
              "      <td>Sid and Bernie keep having their amorous inten...</td>\n",
              "      <td>4.103723</td>\n",
              "      <td>/dyas4yIxnhGarAhkuD7gsRCR7eQ.jpg</td>\n",
              "      <td>[{'name': 'The Rank Organisation', 'id': 364}]</td>\n",
              "      <td>[{'iso_3166_1': 'GB', 'name': 'United Kingdom'}]</td>\n",
              "      <td>1969-05-29</td>\n",
              "      <td>0</td>\n",
              "      <td>88.0</td>\n",
              "      <td>[{'iso_639_1': 'en', 'name': 'English'}]</td>\n",
              "      <td>Released</td>\n",
              "      <td>Fun and games in the great outdoors!</td>\n",
              "      <td>Carry On Camping</td>\n",
              "      <td>False</td>\n",
              "      <td>6.5</td>\n",
              "      <td>25</td>\n",
              "    </tr>\n",
              "    <tr>\n",
              "      <th>45369</th>\n",
              "      <td>False</td>\n",
              "      <td>{'id': 37261, 'name': 'The Carry On Collection...</td>\n",
              "      <td>0</td>\n",
              "      <td>[{'id': 35, 'name': 'Comedy'}]</td>\n",
              "      <td>NaN</td>\n",
              "      <td>21251</td>\n",
              "      <td>tt0074286</td>\n",
              "      <td>en</td>\n",
              "      <td>Carry On England</td>\n",
              "      <td>Captain S. Melly takes over as the new Command...</td>\n",
              "      <td>0.846154</td>\n",
              "      <td>/xd9qImTfWqQ1WzVtvo4CnLmH5IQ.jpg</td>\n",
              "      <td>[{'name': 'The Rank Organisation', 'id': 364}]</td>\n",
              "      <td>[{'iso_3166_1': 'GB', 'name': 'United Kingdom'}]</td>\n",
              "      <td>1976-10-01</td>\n",
              "      <td>0</td>\n",
              "      <td>89.0</td>\n",
              "      <td>[{'iso_639_1': 'en', 'name': 'English'}]</td>\n",
              "      <td>Released</td>\n",
              "      <td>NaN</td>\n",
              "      <td>Carry On England</td>\n",
              "      <td>False</td>\n",
              "      <td>4.8</td>\n",
              "      <td>15</td>\n",
              "    </tr>\n",
              "    <tr>\n",
              "      <th>45371</th>\n",
              "      <td>False</td>\n",
              "      <td>{'id': 477208, 'name': 'DC Super Hero Girls Co...</td>\n",
              "      <td>0</td>\n",
              "      <td>[{'id': 16, 'name': 'Animation'}]</td>\n",
              "      <td>NaN</td>\n",
              "      <td>460135</td>\n",
              "      <td>tt7158814</td>\n",
              "      <td>en</td>\n",
              "      <td>LEGO DC Super Hero Girls: Brain Drain</td>\n",
              "      <td>When Supergirl, Wonder Woman, Batgirl, Bumbleb...</td>\n",
              "      <td>8.413734</td>\n",
              "      <td>/niLX2txdI5GlVowJlnb5Hr26QpK.jpg</td>\n",
              "      <td>[{'name': 'Warner Bros. Animation', 'id': 2785}]</td>\n",
              "      <td>[{'iso_3166_1': 'US', 'name': 'United States o...</td>\n",
              "      <td>2017-08-30</td>\n",
              "      <td>0</td>\n",
              "      <td>0.0</td>\n",
              "      <td>[{'iso_639_1': 'en', 'name': 'English'}, {'iso...</td>\n",
              "      <td>Released</td>\n",
              "      <td>NaN</td>\n",
              "      <td>LEGO DC Super Hero Girls: Brain Drain</td>\n",
              "      <td>False</td>\n",
              "      <td>10.0</td>\n",
              "      <td>2</td>\n",
              "    </tr>\n",
              "    <tr>\n",
              "      <th>45382</th>\n",
              "      <td>False</td>\n",
              "      <td>{'id': 200641, 'name': 'Red Lotus Collection',...</td>\n",
              "      <td>0</td>\n",
              "      <td>[{'id': 28, 'name': 'Action'}, {'id': 10769, '...</td>\n",
              "      <td>NaN</td>\n",
              "      <td>182030</td>\n",
              "      <td>tt0059292</td>\n",
              "      <td>zh</td>\n",
              "      <td>火燒紅蓮寺之鴛鴦劍俠</td>\n",
              "      <td>Kwei Wu happens upon a kidnapping with his wif...</td>\n",
              "      <td>0.674934</td>\n",
              "      <td>/cnpSuGMeWNU8Mfs0CIVL38TqRZ7.jpg</td>\n",
              "      <td>[{'name': 'Shaw Brothers', 'id': 5798}]</td>\n",
              "      <td>[]</td>\n",
              "      <td>1965-12-22</td>\n",
              "      <td>0</td>\n",
              "      <td>88.0</td>\n",
              "      <td>[{'iso_639_1': 'zh', 'name': '普通话'}]</td>\n",
              "      <td>Released</td>\n",
              "      <td>NaN</td>\n",
              "      <td>The Twin Swords</td>\n",
              "      <td>False</td>\n",
              "      <td>5.6</td>\n",
              "      <td>4</td>\n",
              "    </tr>\n",
              "  </tbody>\n",
              "</table>\n",
              "<p>4493 rows × 24 columns</p>\n",
              "</div>"
            ],
            "text/plain": [
              "       adult  ... vote_count\n",
              "0      False  ...       5415\n",
              "2      False  ...         92\n",
              "4      False  ...        173\n",
              "9      False  ...       1194\n",
              "12     False  ...        423\n",
              "...      ...  ...        ...\n",
              "45355  False  ...         19\n",
              "45358  False  ...         25\n",
              "45369  False  ...         15\n",
              "45371  False  ...          2\n",
              "45382  False  ...          4\n",
              "\n",
              "[4493 rows x 24 columns]"
            ]
          },
          "metadata": {}
        }
      ]
    },
    {
      "cell_type": "markdown",
      "metadata": {
        "id": "PuzjOV7ffbpR"
      },
      "source": [
        "## Part 2: Timing your function (2.5 pts)\n",
        "\n",
        "Time the performance of your function. To get the points for this part, the time reported below must not exceed 40 seconds."
      ]
    },
    {
      "cell_type": "code",
      "metadata": {
        "id": "aIYWL17bO2Ih",
        "colab": {
          "base_uri": "https://localhost:8080/"
        },
        "outputId": "bc4559d6-fe2a-48f2-d1da-1bd241f9e2b2"
      },
      "source": [
        "load_time = %timeit -o -r 3 load_movies_data(url)\n",
        "print(\"Time (s):\", load_time.best)\n",
        "# 10.8s now"
      ],
      "execution_count": 7,
      "outputs": [
        {
          "output_type": "stream",
          "name": "stdout",
          "text": [
            "1 loop, best of 3: 10.8 s per loop\n",
            "Time (s): 10.843811889000108\n"
          ]
        }
      ]
    },
    {
      "cell_type": "markdown",
      "metadata": {
        "id": "7sVQeTkLYI2b"
      },
      "source": [
        "## Part 3: Cleaning the data (2.5 pts)"
      ]
    },
    {
      "cell_type": "markdown",
      "metadata": {
        "id": "6ydbZ-KFYlRX"
      },
      "source": [
        "Filter/drop all rows in `df` meeting any of these conditions:\n",
        "* The `adult` value is not `'False'`\n",
        "* The `vote_count` value is missing\n",
        "* The `vote_average` value is missing\n",
        "\n",
        "Do not loop over rows to perform these checks. Use Pandas' built-in functionality to do so. "
      ]
    },
    {
      "cell_type": "code",
      "metadata": {
        "id": "Qtb7AaaVY5nm"
      },
      "source": [
        "# your code goes here\n",
        "df = df[df.adult == 'False']\n",
        "df=df.dropna(subset=['vote_count','vote_average'],axis=0)"
      ],
      "execution_count": 66,
      "outputs": []
    },
    {
      "cell_type": "code",
      "metadata": {
        "id": "GryU1MItKxxG"
      },
      "source": [
        ""
      ],
      "execution_count": null,
      "outputs": []
    },
    {
      "cell_type": "markdown",
      "metadata": {
        "id": "mT8jdILukiBF"
      },
      "source": [
        "# Exercise 2: Computing IMDb's ratings (35 points)"
      ]
    },
    {
      "cell_type": "markdown",
      "metadata": {
        "id": "84SE_eMzkyC1"
      },
      "source": [
        "The Top Rated 250 titles in IMDb are calculated using [a formula](https://help.imdb.com/article/imdb/track-movies-tv/ratings-faq/G67Y87TFYYP6TWAV#calculatetop) that takes into account the number of votes that a title has received, the minimum votes required to be on the list, and the mean vote for all titles. The rating for a title is given as follows:\n",
        "\n",
        "$$ \\text{weighted rating } = \\left(\\frac{v}{v+m} \\cdot R\\right) + \\left(\\frac{m}{v+m} \\cdot C\\right)$$\n",
        "\n",
        "Where:\n",
        "\n",
        "$m$ = the minimum number of votes required to be listed in the Top Rated ranking. We'll let $m=1000$.\n",
        "\n",
        "$v$ = the number of votes received by the title (the title's **`vote_count`** value)\n",
        "\n",
        "$R$ = the average rating for the title (the title's **`vote_average`** value)\n",
        "\n",
        "$C$ = the mean vote across the whole list (the mean over the **`vote_average`** column)"
      ]
    },
    {
      "cell_type": "markdown",
      "metadata": {
        "id": "85J4HDO2rieA"
      },
      "source": [
        "We are going to compute the ratings for movies that could be listed in IMDb's Top Rated 250 ranking.  We want to do this as efficiently as possible. As a baseline for benchmarking, we'll use an approach that explicitly loops and indexes over the rows of the dataset and computes the weighted rating for the corresponding movie (if the movie has more than 1000 votes). "
      ]
    },
    {
      "cell_type": "code",
      "metadata": {
        "ExecuteTime": {
          "end_time": "2021-09-27T10:27:52.905697Z",
          "start_time": "2021-09-27T10:27:52.800529Z"
        },
        "id": "MyYhLdBksTec",
        "colab": {
          "base_uri": "https://localhost:8080/",
          "height": 582
        },
        "outputId": "f79bf15d-a042-4b9a-f48b-5d08c5a0e91d"
      },
      "source": [
        "# could not convert string to float:\n",
        "C = df['vote_average'].mean()\n",
        "m = 1000\n",
        "\n",
        "def weighted_rating(row):\n",
        "    if row['vote_count'] > m:\n",
        "        v = row['vote_count']\n",
        "        R = row['vote_average']\n",
        "        return (v/(v+m) * R) + (m/(v+m) * C)\n",
        "    else:\n",
        "        return np.nan\n",
        "\n",
        "def weighted_rating_loop(df):\n",
        "    rating_list = []\n",
        "    for i in range(len(df)):\n",
        "        rating = weighted_rating(df.iloc[i])\n",
        "        rating_list.append(rating)\n",
        "    df['imdb_rating'] = rating_list"
      ],
      "execution_count": 67,
      "outputs": [
        {
          "output_type": "error",
          "ename": "TypeError",
          "evalue": "ignored",
          "traceback": [
            "\u001b[0;31m---------------------------------------------------------------------------\u001b[0m",
            "\u001b[0;31mValueError\u001b[0m                                Traceback (most recent call last)",
            "\u001b[0;32m/usr/local/lib/python3.7/dist-packages/pandas/core/nanops.py\u001b[0m in \u001b[0;36m_ensure_numeric\u001b[0;34m(x)\u001b[0m\n\u001b[1;32m   1426\u001b[0m         \u001b[0;32mtry\u001b[0m\u001b[0;34m:\u001b[0m\u001b[0;34m\u001b[0m\u001b[0;34m\u001b[0m\u001b[0m\n\u001b[0;32m-> 1427\u001b[0;31m             \u001b[0mx\u001b[0m \u001b[0;34m=\u001b[0m \u001b[0mfloat\u001b[0m\u001b[0;34m(\u001b[0m\u001b[0mx\u001b[0m\u001b[0;34m)\u001b[0m\u001b[0;34m\u001b[0m\u001b[0;34m\u001b[0m\u001b[0m\n\u001b[0m\u001b[1;32m   1428\u001b[0m         \u001b[0;32mexcept\u001b[0m \u001b[0mValueError\u001b[0m\u001b[0;34m:\u001b[0m\u001b[0;34m\u001b[0m\u001b[0;34m\u001b[0m\u001b[0m\n",
            "\u001b[0;31mValueError\u001b[0m: could not convert string to float: '7.76.96.56.15.77.76.25.45.56.66.55.77.17.15.77.87.26.56.15.46.46.56.06.37.17.06.67.47.66.56.47.46.86.06.47.33.56.16.96.76.96.66.35.46.76.58.16.75.98.16.36.77.75.26.13.06.37.66.55.95.86.96.24.54.42.85.46.07.06.94.17.06.65.13.96.17.36.15.57.56.77.24.50.06.36.35.16.06.16.75.74.56.65.77.57.95.66.86.06.83.35.36.57.35.16.57.00.07.78.16.55.87.57.07.36.95.45.15.27.05.47.96.86.34.44.30.07.05.65.45.15.50.05.66.53.87.20.05.96.77.06.36.55.07.26.06.57.36.56.45.27.36.46.85.96.06.85.07.07.66.86.36.95.60.05.95.56.26.55.55.44.06.87.25.97.05.56.85.25.66.45.95.65.55.86.410.07.25.55.34.97.25.75.56.66.87.64.66.16.56.35.66.46.06.55.95.15.96.04.96.77.77.76.24.76.37.25.86.57.46.35.92.55.15.37.17.16.57.56.54.37.36.26.15.66.75.06.65.93.05.05.47.76.96.06.96.06.05.97.25.24.84.76.04.35.78.17.07.47.46.66.67.26.16.45.74.36.46.76.15.15.25.66.45.67.06.97.06.16.90.04.04.67.46.96.47.64.66.48.26.67.08.36.46.16.47.17.47.06.26.45.37.87.77.37.05.14.75.06.56.15.56.86.38.57.06.07.16.76.05.77.75.56.76.45.45.85.66.86.15.66.67.55.46.56.35.56.95.36.47.26.27.07.06.46.46.46.77.36.15.08.26.66.46.35.36.15.97.38.06.06.46.66.66.36.46.16.56.45.44.96.16.85.55.56.86.06.06.54.96.56.16.02.05.96.55.97.14.16.70.06.33.47.510.00.04.00.05.04.04.55.07.17.26.76.54.57.05.85.14.94.66.65.05.05.56.66.36.05.76.15.84.57.44.93.77.74.95.76.14.85.45.05.15.46.37.46.47.14.25.47.83.36.85.86.16.24.35.76.66.07.67.25.95.44.53.95.25.66.16.46.24.76.16.74.67.15.74.76.87.63.96.94.66.47.66.56.16....",
            "\nDuring handling of the above exception, another exception occurred:\n",
            "\u001b[0;31mValueError\u001b[0m                                Traceback (most recent call last)",
            "\u001b[0;32m/usr/local/lib/python3.7/dist-packages/pandas/core/nanops.py\u001b[0m in \u001b[0;36m_ensure_numeric\u001b[0;34m(x)\u001b[0m\n\u001b[1;32m   1430\u001b[0m             \u001b[0;32mtry\u001b[0m\u001b[0;34m:\u001b[0m\u001b[0;34m\u001b[0m\u001b[0;34m\u001b[0m\u001b[0m\n\u001b[0;32m-> 1431\u001b[0;31m                 \u001b[0mx\u001b[0m \u001b[0;34m=\u001b[0m \u001b[0mcomplex\u001b[0m\u001b[0;34m(\u001b[0m\u001b[0mx\u001b[0m\u001b[0;34m)\u001b[0m\u001b[0;34m\u001b[0m\u001b[0;34m\u001b[0m\u001b[0m\n\u001b[0m\u001b[1;32m   1432\u001b[0m             \u001b[0;32mexcept\u001b[0m \u001b[0mValueError\u001b[0m \u001b[0;32mas\u001b[0m \u001b[0merr\u001b[0m\u001b[0;34m:\u001b[0m\u001b[0;34m\u001b[0m\u001b[0;34m\u001b[0m\u001b[0m\n",
            "\u001b[0;31mValueError\u001b[0m: complex() arg is a malformed string",
            "\nThe above exception was the direct cause of the following exception:\n",
            "\u001b[0;31mTypeError\u001b[0m                                 Traceback (most recent call last)",
            "\u001b[0;32m<ipython-input-67-ba71cb442aad>\u001b[0m in \u001b[0;36m<module>\u001b[0;34m()\u001b[0m\n\u001b[1;32m      1\u001b[0m \u001b[0;31m# could not convert string to float:\u001b[0m\u001b[0;34m\u001b[0m\u001b[0;34m\u001b[0m\u001b[0;34m\u001b[0m\u001b[0m\n\u001b[0;32m----> 2\u001b[0;31m \u001b[0mC\u001b[0m \u001b[0;34m=\u001b[0m \u001b[0mdf\u001b[0m\u001b[0;34m[\u001b[0m\u001b[0;34m'vote_average'\u001b[0m\u001b[0;34m]\u001b[0m\u001b[0;34m.\u001b[0m\u001b[0mmean\u001b[0m\u001b[0;34m(\u001b[0m\u001b[0;34m)\u001b[0m\u001b[0;34m\u001b[0m\u001b[0;34m\u001b[0m\u001b[0m\n\u001b[0m\u001b[1;32m      3\u001b[0m \u001b[0mm\u001b[0m \u001b[0;34m=\u001b[0m \u001b[0;36m1000\u001b[0m\u001b[0;34m\u001b[0m\u001b[0;34m\u001b[0m\u001b[0m\n\u001b[1;32m      4\u001b[0m \u001b[0;34m\u001b[0m\u001b[0m\n\u001b[1;32m      5\u001b[0m \u001b[0;32mdef\u001b[0m \u001b[0mweighted_rating\u001b[0m\u001b[0;34m(\u001b[0m\u001b[0mrow\u001b[0m\u001b[0;34m)\u001b[0m\u001b[0;34m:\u001b[0m\u001b[0;34m\u001b[0m\u001b[0;34m\u001b[0m\u001b[0m\n",
            "\u001b[0;32m/usr/local/lib/python3.7/dist-packages/pandas/core/generic.py\u001b[0m in \u001b[0;36mstat_func\u001b[0;34m(self, axis, skipna, level, numeric_only, **kwargs)\u001b[0m\n\u001b[1;32m  11473\u001b[0m             \u001b[0;32mreturn\u001b[0m \u001b[0mself\u001b[0m\u001b[0;34m.\u001b[0m\u001b[0m_agg_by_level\u001b[0m\u001b[0;34m(\u001b[0m\u001b[0mname\u001b[0m\u001b[0;34m,\u001b[0m \u001b[0maxis\u001b[0m\u001b[0;34m=\u001b[0m\u001b[0maxis\u001b[0m\u001b[0;34m,\u001b[0m \u001b[0mlevel\u001b[0m\u001b[0;34m=\u001b[0m\u001b[0mlevel\u001b[0m\u001b[0;34m,\u001b[0m \u001b[0mskipna\u001b[0m\u001b[0;34m=\u001b[0m\u001b[0mskipna\u001b[0m\u001b[0;34m)\u001b[0m\u001b[0;34m\u001b[0m\u001b[0;34m\u001b[0m\u001b[0m\n\u001b[1;32m  11474\u001b[0m         return self._reduce(\n\u001b[0;32m> 11475\u001b[0;31m             \u001b[0mfunc\u001b[0m\u001b[0;34m,\u001b[0m \u001b[0mname\u001b[0m\u001b[0;34m=\u001b[0m\u001b[0mname\u001b[0m\u001b[0;34m,\u001b[0m \u001b[0maxis\u001b[0m\u001b[0;34m=\u001b[0m\u001b[0maxis\u001b[0m\u001b[0;34m,\u001b[0m \u001b[0mskipna\u001b[0m\u001b[0;34m=\u001b[0m\u001b[0mskipna\u001b[0m\u001b[0;34m,\u001b[0m \u001b[0mnumeric_only\u001b[0m\u001b[0;34m=\u001b[0m\u001b[0mnumeric_only\u001b[0m\u001b[0;34m\u001b[0m\u001b[0;34m\u001b[0m\u001b[0m\n\u001b[0m\u001b[1;32m  11476\u001b[0m         )\n\u001b[1;32m  11477\u001b[0m \u001b[0;34m\u001b[0m\u001b[0m\n",
            "\u001b[0;32m/usr/local/lib/python3.7/dist-packages/pandas/core/series.py\u001b[0m in \u001b[0;36m_reduce\u001b[0;34m(self, op, name, axis, skipna, numeric_only, filter_type, **kwds)\u001b[0m\n\u001b[1;32m   4247\u001b[0m                 )\n\u001b[1;32m   4248\u001b[0m             \u001b[0;32mwith\u001b[0m \u001b[0mnp\u001b[0m\u001b[0;34m.\u001b[0m\u001b[0merrstate\u001b[0m\u001b[0;34m(\u001b[0m\u001b[0mall\u001b[0m\u001b[0;34m=\u001b[0m\u001b[0;34m\"ignore\"\u001b[0m\u001b[0;34m)\u001b[0m\u001b[0;34m:\u001b[0m\u001b[0;34m\u001b[0m\u001b[0;34m\u001b[0m\u001b[0m\n\u001b[0;32m-> 4249\u001b[0;31m                 \u001b[0;32mreturn\u001b[0m \u001b[0mop\u001b[0m\u001b[0;34m(\u001b[0m\u001b[0mdelegate\u001b[0m\u001b[0;34m,\u001b[0m \u001b[0mskipna\u001b[0m\u001b[0;34m=\u001b[0m\u001b[0mskipna\u001b[0m\u001b[0;34m,\u001b[0m \u001b[0;34m**\u001b[0m\u001b[0mkwds\u001b[0m\u001b[0;34m)\u001b[0m\u001b[0;34m\u001b[0m\u001b[0;34m\u001b[0m\u001b[0m\n\u001b[0m\u001b[1;32m   4250\u001b[0m \u001b[0;34m\u001b[0m\u001b[0m\n\u001b[1;32m   4251\u001b[0m     \u001b[0;32mdef\u001b[0m \u001b[0m_reindex_indexer\u001b[0m\u001b[0;34m(\u001b[0m\u001b[0mself\u001b[0m\u001b[0;34m,\u001b[0m \u001b[0mnew_index\u001b[0m\u001b[0;34m,\u001b[0m \u001b[0mindexer\u001b[0m\u001b[0;34m,\u001b[0m \u001b[0mcopy\u001b[0m\u001b[0;34m)\u001b[0m\u001b[0;34m:\u001b[0m\u001b[0;34m\u001b[0m\u001b[0;34m\u001b[0m\u001b[0m\n",
            "\u001b[0;32m/usr/local/lib/python3.7/dist-packages/pandas/core/nanops.py\u001b[0m in \u001b[0;36m_f\u001b[0;34m(*args, **kwargs)\u001b[0m\n\u001b[1;32m     69\u001b[0m             \u001b[0;32mtry\u001b[0m\u001b[0;34m:\u001b[0m\u001b[0;34m\u001b[0m\u001b[0;34m\u001b[0m\u001b[0m\n\u001b[1;32m     70\u001b[0m                 \u001b[0;32mwith\u001b[0m \u001b[0mnp\u001b[0m\u001b[0;34m.\u001b[0m\u001b[0merrstate\u001b[0m\u001b[0;34m(\u001b[0m\u001b[0minvalid\u001b[0m\u001b[0;34m=\u001b[0m\u001b[0;34m\"ignore\"\u001b[0m\u001b[0;34m)\u001b[0m\u001b[0;34m:\u001b[0m\u001b[0;34m\u001b[0m\u001b[0;34m\u001b[0m\u001b[0m\n\u001b[0;32m---> 71\u001b[0;31m                     \u001b[0;32mreturn\u001b[0m \u001b[0mf\u001b[0m\u001b[0;34m(\u001b[0m\u001b[0;34m*\u001b[0m\u001b[0margs\u001b[0m\u001b[0;34m,\u001b[0m \u001b[0;34m**\u001b[0m\u001b[0mkwargs\u001b[0m\u001b[0;34m)\u001b[0m\u001b[0;34m\u001b[0m\u001b[0;34m\u001b[0m\u001b[0m\n\u001b[0m\u001b[1;32m     72\u001b[0m             \u001b[0;32mexcept\u001b[0m \u001b[0mValueError\u001b[0m \u001b[0;32mas\u001b[0m \u001b[0me\u001b[0m\u001b[0;34m:\u001b[0m\u001b[0;34m\u001b[0m\u001b[0;34m\u001b[0m\u001b[0m\n\u001b[1;32m     73\u001b[0m                 \u001b[0;31m# we want to transform an object array\u001b[0m\u001b[0;34m\u001b[0m\u001b[0;34m\u001b[0m\u001b[0;34m\u001b[0m\u001b[0m\n",
            "\u001b[0;32m/usr/local/lib/python3.7/dist-packages/pandas/core/nanops.py\u001b[0m in \u001b[0;36mf\u001b[0;34m(values, axis, skipna, **kwds)\u001b[0m\n\u001b[1;32m    127\u001b[0m                     \u001b[0mresult\u001b[0m \u001b[0;34m=\u001b[0m \u001b[0malt\u001b[0m\u001b[0;34m(\u001b[0m\u001b[0mvalues\u001b[0m\u001b[0;34m,\u001b[0m \u001b[0maxis\u001b[0m\u001b[0;34m=\u001b[0m\u001b[0maxis\u001b[0m\u001b[0;34m,\u001b[0m \u001b[0mskipna\u001b[0m\u001b[0;34m=\u001b[0m\u001b[0mskipna\u001b[0m\u001b[0;34m,\u001b[0m \u001b[0;34m**\u001b[0m\u001b[0mkwds\u001b[0m\u001b[0;34m)\u001b[0m\u001b[0;34m\u001b[0m\u001b[0;34m\u001b[0m\u001b[0m\n\u001b[1;32m    128\u001b[0m             \u001b[0;32melse\u001b[0m\u001b[0;34m:\u001b[0m\u001b[0;34m\u001b[0m\u001b[0;34m\u001b[0m\u001b[0m\n\u001b[0;32m--> 129\u001b[0;31m                 \u001b[0mresult\u001b[0m \u001b[0;34m=\u001b[0m \u001b[0malt\u001b[0m\u001b[0;34m(\u001b[0m\u001b[0mvalues\u001b[0m\u001b[0;34m,\u001b[0m \u001b[0maxis\u001b[0m\u001b[0;34m=\u001b[0m\u001b[0maxis\u001b[0m\u001b[0;34m,\u001b[0m \u001b[0mskipna\u001b[0m\u001b[0;34m=\u001b[0m\u001b[0mskipna\u001b[0m\u001b[0;34m,\u001b[0m \u001b[0;34m**\u001b[0m\u001b[0mkwds\u001b[0m\u001b[0;34m)\u001b[0m\u001b[0;34m\u001b[0m\u001b[0;34m\u001b[0m\u001b[0m\n\u001b[0m\u001b[1;32m    130\u001b[0m \u001b[0;34m\u001b[0m\u001b[0m\n\u001b[1;32m    131\u001b[0m             \u001b[0;32mreturn\u001b[0m \u001b[0mresult\u001b[0m\u001b[0;34m\u001b[0m\u001b[0;34m\u001b[0m\u001b[0m\n",
            "\u001b[0;32m/usr/local/lib/python3.7/dist-packages/pandas/core/nanops.py\u001b[0m in \u001b[0;36mnanmean\u001b[0;34m(values, axis, skipna, mask)\u001b[0m\n\u001b[1;32m    561\u001b[0m         \u001b[0mdtype_count\u001b[0m \u001b[0;34m=\u001b[0m \u001b[0mdtype\u001b[0m\u001b[0;34m\u001b[0m\u001b[0;34m\u001b[0m\u001b[0m\n\u001b[1;32m    562\u001b[0m     \u001b[0mcount\u001b[0m \u001b[0;34m=\u001b[0m \u001b[0m_get_counts\u001b[0m\u001b[0;34m(\u001b[0m\u001b[0mvalues\u001b[0m\u001b[0;34m.\u001b[0m\u001b[0mshape\u001b[0m\u001b[0;34m,\u001b[0m \u001b[0mmask\u001b[0m\u001b[0;34m,\u001b[0m \u001b[0maxis\u001b[0m\u001b[0;34m,\u001b[0m \u001b[0mdtype\u001b[0m\u001b[0;34m=\u001b[0m\u001b[0mdtype_count\u001b[0m\u001b[0;34m)\u001b[0m\u001b[0;34m\u001b[0m\u001b[0;34m\u001b[0m\u001b[0m\n\u001b[0;32m--> 563\u001b[0;31m     \u001b[0mthe_sum\u001b[0m \u001b[0;34m=\u001b[0m \u001b[0m_ensure_numeric\u001b[0m\u001b[0;34m(\u001b[0m\u001b[0mvalues\u001b[0m\u001b[0;34m.\u001b[0m\u001b[0msum\u001b[0m\u001b[0;34m(\u001b[0m\u001b[0maxis\u001b[0m\u001b[0;34m,\u001b[0m \u001b[0mdtype\u001b[0m\u001b[0;34m=\u001b[0m\u001b[0mdtype_sum\u001b[0m\u001b[0;34m)\u001b[0m\u001b[0;34m)\u001b[0m\u001b[0;34m\u001b[0m\u001b[0;34m\u001b[0m\u001b[0m\n\u001b[0m\u001b[1;32m    564\u001b[0m \u001b[0;34m\u001b[0m\u001b[0m\n\u001b[1;32m    565\u001b[0m     \u001b[0;32mif\u001b[0m \u001b[0maxis\u001b[0m \u001b[0;32mis\u001b[0m \u001b[0;32mnot\u001b[0m \u001b[0;32mNone\u001b[0m \u001b[0;32mand\u001b[0m \u001b[0mgetattr\u001b[0m\u001b[0;34m(\u001b[0m\u001b[0mthe_sum\u001b[0m\u001b[0;34m,\u001b[0m \u001b[0;34m\"ndim\"\u001b[0m\u001b[0;34m,\u001b[0m \u001b[0;32mFalse\u001b[0m\u001b[0;34m)\u001b[0m\u001b[0;34m:\u001b[0m\u001b[0;34m\u001b[0m\u001b[0;34m\u001b[0m\u001b[0m\n",
            "\u001b[0;32m/usr/local/lib/python3.7/dist-packages/pandas/core/nanops.py\u001b[0m in \u001b[0;36m_ensure_numeric\u001b[0;34m(x)\u001b[0m\n\u001b[1;32m   1432\u001b[0m             \u001b[0;32mexcept\u001b[0m \u001b[0mValueError\u001b[0m \u001b[0;32mas\u001b[0m \u001b[0merr\u001b[0m\u001b[0;34m:\u001b[0m\u001b[0;34m\u001b[0m\u001b[0;34m\u001b[0m\u001b[0m\n\u001b[1;32m   1433\u001b[0m                 \u001b[0;31m# e.g. \"foo\"\u001b[0m\u001b[0;34m\u001b[0m\u001b[0;34m\u001b[0m\u001b[0;34m\u001b[0m\u001b[0m\n\u001b[0;32m-> 1434\u001b[0;31m                 \u001b[0;32mraise\u001b[0m \u001b[0mTypeError\u001b[0m\u001b[0;34m(\u001b[0m\u001b[0;34mf\"Could not convert {x} to numeric\"\u001b[0m\u001b[0;34m)\u001b[0m \u001b[0;32mfrom\u001b[0m \u001b[0merr\u001b[0m\u001b[0;34m\u001b[0m\u001b[0;34m\u001b[0m\u001b[0m\n\u001b[0m\u001b[1;32m   1435\u001b[0m     \u001b[0;32mreturn\u001b[0m \u001b[0mx\u001b[0m\u001b[0;34m\u001b[0m\u001b[0;34m\u001b[0m\u001b[0m\n\u001b[1;32m   1436\u001b[0m \u001b[0;34m\u001b[0m\u001b[0m\n",
            "\u001b[0;31mTypeError\u001b[0m: Could not convert 7.76.96.56.15.77.76.25.45.56.66.55.77.17.15.77.87.26.56.15.46.46.56.06.37.17.06.67.47.66.56.47.46.86.06.47.33.56.16.96.76.96.66.35.46.76.58.16.75.98.16.36.77.75.26.13.06.37.66.55.95.86.96.24.54.42.85.46.07.06.94.17.06.65.13.96.17.36.15.57.56.77.24.50.06.36.35.16.06.16.75.74.56.65.77.57.95.66.86.06.83.35.36.57.35.16.57.00.07.78.16.55.87.57.07.36.95.45.15.27.05.47.96.86.34.44.30.07.05.65.45.15.50.05.66.53.87.20.05.96.77.06.36.55.07.26.06.57.36.56.45.27.36.46.85.96.06.85.07.07.66.86.36.95.60.05.95.56.26.55.55.44.06.87.25.97.05.56.85.25.66.45.95.65.55.86.410.07.25.55.34.97.25.75.56.66.87.64.66.16.56.35.66.46.06.55.95.15.96.04.96.77.77.76.24.76.37.25.86.57.46.35.92.55.15.37.17.16.57.56.54.37.36.26.15.66.75.06.65.93.05.05.47.76.96.06.96.06.05.97.25.24.84.76.04.35.78.17.07.47.46.66.67.26.16.45.74.36.46.76.15.15.25.66.45.67.06.97.06.16.90.04.04.67.46.96.47.64.66.48.26.67.08.36.46.16.47.17.47.06.26.45.37.87.77.37.05.14.75.06.56.15.56.86.38.57.06.07.16.76.05.77.75.56.76.45.45.85.66.86.15.66.67.55.46.56.35.56.95.36.47.26.27.07.06.46.46.46.77.36.15.08.26.66.46.35.36.15.97.38.06.06.46.66.66.36.46.16.56.45.44.96.16.85.55.56.86.06.06.54.96.56.16.02.05.96.55.97.14.16.70.06.33.47.510.00.04.00.05.04.04.55.07.17.26.76.54.57.05.85.14.94.66.65.05.05.56.66.36.05.76.15.84.57.44.93.77.74.95.76.14.85.45.05.15.46.37.46.47.14.25.47.83.36.85.86.16.24.35.76.66.07.67.25.95.44.53.95.25.66.16.46.24.76.16.74.67.15.74.76.87.63.96.94.66.47.66.56.16.46.16.15.15.76.65.3..."
          ]
        }
      ]
    },
    {
      "cell_type": "code",
      "metadata": {
        "id": "JIsei1w4r9Jz",
        "colab": {
          "base_uri": "https://localhost:8080/",
          "height": 369
        },
        "outputId": "73126bd7-b4fc-40a0-f81f-974be962e522"
      },
      "source": [
        "weighted_rating_loop(df)\n",
        "\n",
        "columns_to_show = ['id', 'original_title'] + \\\n",
        "                  list(df.columns[df.columns.str.startswith('imdb_rating')])\n",
        "df[columns_to_show].head()"
      ],
      "execution_count": 65,
      "outputs": [
        {
          "output_type": "error",
          "ename": "TypeError",
          "evalue": "ignored",
          "traceback": [
            "\u001b[0;31m---------------------------------------------------------------------------\u001b[0m",
            "\u001b[0;31mTypeError\u001b[0m                                 Traceback (most recent call last)",
            "\u001b[0;32m<ipython-input-65-83b336dc9eef>\u001b[0m in \u001b[0;36m<module>\u001b[0;34m()\u001b[0m\n\u001b[0;32m----> 1\u001b[0;31m \u001b[0mweighted_rating_loop\u001b[0m\u001b[0;34m(\u001b[0m\u001b[0mdf\u001b[0m\u001b[0;34m)\u001b[0m\u001b[0;34m\u001b[0m\u001b[0;34m\u001b[0m\u001b[0m\n\u001b[0m\u001b[1;32m      2\u001b[0m \u001b[0;34m\u001b[0m\u001b[0m\n\u001b[1;32m      3\u001b[0m \u001b[0mcolumns_to_show\u001b[0m \u001b[0;34m=\u001b[0m \u001b[0;34m[\u001b[0m\u001b[0;34m'id'\u001b[0m\u001b[0;34m,\u001b[0m \u001b[0;34m'original_title'\u001b[0m\u001b[0;34m]\u001b[0m \u001b[0;34m+\u001b[0m                   \u001b[0mlist\u001b[0m\u001b[0;34m(\u001b[0m\u001b[0mdf\u001b[0m\u001b[0;34m.\u001b[0m\u001b[0mcolumns\u001b[0m\u001b[0;34m[\u001b[0m\u001b[0mdf\u001b[0m\u001b[0;34m.\u001b[0m\u001b[0mcolumns\u001b[0m\u001b[0;34m.\u001b[0m\u001b[0mstr\u001b[0m\u001b[0;34m.\u001b[0m\u001b[0mstartswith\u001b[0m\u001b[0;34m(\u001b[0m\u001b[0;34m'imdb_rating'\u001b[0m\u001b[0;34m)\u001b[0m\u001b[0;34m]\u001b[0m\u001b[0;34m)\u001b[0m\u001b[0;34m\u001b[0m\u001b[0;34m\u001b[0m\u001b[0m\n\u001b[1;32m      4\u001b[0m \u001b[0mdf\u001b[0m\u001b[0;34m[\u001b[0m\u001b[0mcolumns_to_show\u001b[0m\u001b[0;34m]\u001b[0m\u001b[0;34m.\u001b[0m\u001b[0mhead\u001b[0m\u001b[0;34m(\u001b[0m\u001b[0;34m)\u001b[0m\u001b[0;34m\u001b[0m\u001b[0;34m\u001b[0m\u001b[0m\n",
            "\u001b[0;32m<ipython-input-37-ba71cb442aad>\u001b[0m in \u001b[0;36mweighted_rating_loop\u001b[0;34m(df)\u001b[0m\n\u001b[1;32m     14\u001b[0m     \u001b[0mrating_list\u001b[0m \u001b[0;34m=\u001b[0m \u001b[0;34m[\u001b[0m\u001b[0;34m]\u001b[0m\u001b[0;34m\u001b[0m\u001b[0;34m\u001b[0m\u001b[0m\n\u001b[1;32m     15\u001b[0m     \u001b[0;32mfor\u001b[0m \u001b[0mi\u001b[0m \u001b[0;32min\u001b[0m \u001b[0mrange\u001b[0m\u001b[0;34m(\u001b[0m\u001b[0mlen\u001b[0m\u001b[0;34m(\u001b[0m\u001b[0mdf\u001b[0m\u001b[0;34m)\u001b[0m\u001b[0;34m)\u001b[0m\u001b[0;34m:\u001b[0m\u001b[0;34m\u001b[0m\u001b[0;34m\u001b[0m\u001b[0m\n\u001b[0;32m---> 16\u001b[0;31m         \u001b[0mrating\u001b[0m \u001b[0;34m=\u001b[0m \u001b[0mweighted_rating\u001b[0m\u001b[0;34m(\u001b[0m\u001b[0mdf\u001b[0m\u001b[0;34m.\u001b[0m\u001b[0miloc\u001b[0m\u001b[0;34m[\u001b[0m\u001b[0mi\u001b[0m\u001b[0;34m]\u001b[0m\u001b[0;34m)\u001b[0m\u001b[0;34m\u001b[0m\u001b[0;34m\u001b[0m\u001b[0m\n\u001b[0m\u001b[1;32m     17\u001b[0m         \u001b[0mrating_list\u001b[0m\u001b[0;34m.\u001b[0m\u001b[0mappend\u001b[0m\u001b[0;34m(\u001b[0m\u001b[0mrating\u001b[0m\u001b[0;34m)\u001b[0m\u001b[0;34m\u001b[0m\u001b[0;34m\u001b[0m\u001b[0m\n\u001b[1;32m     18\u001b[0m     \u001b[0mdf\u001b[0m\u001b[0;34m[\u001b[0m\u001b[0;34m'imdb_rating'\u001b[0m\u001b[0;34m]\u001b[0m \u001b[0;34m=\u001b[0m \u001b[0mrating_list\u001b[0m\u001b[0;34m\u001b[0m\u001b[0;34m\u001b[0m\u001b[0m\n",
            "\u001b[0;32m<ipython-input-37-ba71cb442aad>\u001b[0m in \u001b[0;36mweighted_rating\u001b[0;34m(row)\u001b[0m\n\u001b[1;32m      4\u001b[0m \u001b[0;34m\u001b[0m\u001b[0m\n\u001b[1;32m      5\u001b[0m \u001b[0;32mdef\u001b[0m \u001b[0mweighted_rating\u001b[0m\u001b[0;34m(\u001b[0m\u001b[0mrow\u001b[0m\u001b[0;34m)\u001b[0m\u001b[0;34m:\u001b[0m\u001b[0;34m\u001b[0m\u001b[0;34m\u001b[0m\u001b[0m\n\u001b[0;32m----> 6\u001b[0;31m     \u001b[0;32mif\u001b[0m \u001b[0mrow\u001b[0m\u001b[0;34m[\u001b[0m\u001b[0;34m'vote_count'\u001b[0m\u001b[0;34m]\u001b[0m \u001b[0;34m>\u001b[0m \u001b[0mm\u001b[0m\u001b[0;34m:\u001b[0m\u001b[0;34m\u001b[0m\u001b[0;34m\u001b[0m\u001b[0m\n\u001b[0m\u001b[1;32m      7\u001b[0m         \u001b[0mv\u001b[0m \u001b[0;34m=\u001b[0m \u001b[0mrow\u001b[0m\u001b[0;34m[\u001b[0m\u001b[0;34m'vote_count'\u001b[0m\u001b[0;34m]\u001b[0m\u001b[0;34m\u001b[0m\u001b[0;34m\u001b[0m\u001b[0m\n\u001b[1;32m      8\u001b[0m         \u001b[0mR\u001b[0m \u001b[0;34m=\u001b[0m \u001b[0mrow\u001b[0m\u001b[0;34m[\u001b[0m\u001b[0;34m'vote_average'\u001b[0m\u001b[0;34m]\u001b[0m\u001b[0;34m\u001b[0m\u001b[0;34m\u001b[0m\u001b[0m\n",
            "\u001b[0;31mTypeError\u001b[0m: '>' not supported between instances of 'str' and 'int'"
          ]
        }
      ]
    },
    {
      "cell_type": "markdown",
      "metadata": {
        "id": "JdlffrsJyHvI"
      },
      "source": [
        "Let's look at the average performance of this function:"
      ]
    },
    {
      "cell_type": "code",
      "metadata": {
        "id": "su__dMpZyX5W",
        "colab": {
          "base_uri": "https://localhost:8080/",
          "height": 404
        },
        "outputId": "5f367557-79b4-4ae8-d74f-4580b2efb1dc"
      },
      "source": [
        "basic_time = %timeit -r 3 -o weighted_rating_loop(df)\n",
        "print(\"Best time:\", basic_time.best)"
      ],
      "execution_count": 58,
      "outputs": [
        {
          "output_type": "error",
          "ename": "TypeError",
          "evalue": "ignored",
          "traceback": [
            "\u001b[0;31m---------------------------------------------------------------------------\u001b[0m",
            "\u001b[0;31mTypeError\u001b[0m                                 Traceback (most recent call last)",
            "\u001b[0;32m<ipython-input-58-cd82378d756a>\u001b[0m in \u001b[0;36m<module>\u001b[0;34m()\u001b[0m\n\u001b[0;32m----> 1\u001b[0;31m \u001b[0mbasic_time\u001b[0m \u001b[0;34m=\u001b[0m \u001b[0mget_ipython\u001b[0m\u001b[0;34m(\u001b[0m\u001b[0;34m)\u001b[0m\u001b[0;34m.\u001b[0m\u001b[0mmagic\u001b[0m\u001b[0;34m(\u001b[0m\u001b[0;34m'timeit -r 3 -o weighted_rating_loop(df)'\u001b[0m\u001b[0;34m)\u001b[0m\u001b[0;34m\u001b[0m\u001b[0;34m\u001b[0m\u001b[0m\n\u001b[0m\u001b[1;32m      2\u001b[0m \u001b[0mprint\u001b[0m\u001b[0;34m(\u001b[0m\u001b[0;34m\"Best time:\"\u001b[0m\u001b[0;34m,\u001b[0m \u001b[0mbasic_time\u001b[0m\u001b[0;34m.\u001b[0m\u001b[0mbest\u001b[0m\u001b[0;34m)\u001b[0m\u001b[0;34m\u001b[0m\u001b[0;34m\u001b[0m\u001b[0m\n",
            "\u001b[0;32m/usr/local/lib/python3.7/dist-packages/IPython/core/interactiveshell.py\u001b[0m in \u001b[0;36mmagic\u001b[0;34m(self, arg_s)\u001b[0m\n\u001b[1;32m   2158\u001b[0m         \u001b[0mmagic_name\u001b[0m\u001b[0;34m,\u001b[0m \u001b[0m_\u001b[0m\u001b[0;34m,\u001b[0m \u001b[0mmagic_arg_s\u001b[0m \u001b[0;34m=\u001b[0m \u001b[0marg_s\u001b[0m\u001b[0;34m.\u001b[0m\u001b[0mpartition\u001b[0m\u001b[0;34m(\u001b[0m\u001b[0;34m' '\u001b[0m\u001b[0;34m)\u001b[0m\u001b[0;34m\u001b[0m\u001b[0;34m\u001b[0m\u001b[0m\n\u001b[1;32m   2159\u001b[0m         \u001b[0mmagic_name\u001b[0m \u001b[0;34m=\u001b[0m \u001b[0mmagic_name\u001b[0m\u001b[0;34m.\u001b[0m\u001b[0mlstrip\u001b[0m\u001b[0;34m(\u001b[0m\u001b[0mprefilter\u001b[0m\u001b[0;34m.\u001b[0m\u001b[0mESC_MAGIC\u001b[0m\u001b[0;34m)\u001b[0m\u001b[0;34m\u001b[0m\u001b[0;34m\u001b[0m\u001b[0m\n\u001b[0;32m-> 2160\u001b[0;31m         \u001b[0;32mreturn\u001b[0m \u001b[0mself\u001b[0m\u001b[0;34m.\u001b[0m\u001b[0mrun_line_magic\u001b[0m\u001b[0;34m(\u001b[0m\u001b[0mmagic_name\u001b[0m\u001b[0;34m,\u001b[0m \u001b[0mmagic_arg_s\u001b[0m\u001b[0;34m)\u001b[0m\u001b[0;34m\u001b[0m\u001b[0;34m\u001b[0m\u001b[0m\n\u001b[0m\u001b[1;32m   2161\u001b[0m \u001b[0;34m\u001b[0m\u001b[0m\n\u001b[1;32m   2162\u001b[0m     \u001b[0;31m#-------------------------------------------------------------------------\u001b[0m\u001b[0;34m\u001b[0m\u001b[0;34m\u001b[0m\u001b[0;34m\u001b[0m\u001b[0m\n",
            "\u001b[0;32m/usr/local/lib/python3.7/dist-packages/IPython/core/interactiveshell.py\u001b[0m in \u001b[0;36mrun_line_magic\u001b[0;34m(self, magic_name, line)\u001b[0m\n\u001b[1;32m   2079\u001b[0m                 \u001b[0mkwargs\u001b[0m\u001b[0;34m[\u001b[0m\u001b[0;34m'local_ns'\u001b[0m\u001b[0;34m]\u001b[0m \u001b[0;34m=\u001b[0m \u001b[0msys\u001b[0m\u001b[0;34m.\u001b[0m\u001b[0m_getframe\u001b[0m\u001b[0;34m(\u001b[0m\u001b[0mstack_depth\u001b[0m\u001b[0;34m)\u001b[0m\u001b[0;34m.\u001b[0m\u001b[0mf_locals\u001b[0m\u001b[0;34m\u001b[0m\u001b[0;34m\u001b[0m\u001b[0m\n\u001b[1;32m   2080\u001b[0m             \u001b[0;32mwith\u001b[0m \u001b[0mself\u001b[0m\u001b[0;34m.\u001b[0m\u001b[0mbuiltin_trap\u001b[0m\u001b[0;34m:\u001b[0m\u001b[0;34m\u001b[0m\u001b[0;34m\u001b[0m\u001b[0m\n\u001b[0;32m-> 2081\u001b[0;31m                 \u001b[0mresult\u001b[0m \u001b[0;34m=\u001b[0m \u001b[0mfn\u001b[0m\u001b[0;34m(\u001b[0m\u001b[0;34m*\u001b[0m\u001b[0margs\u001b[0m\u001b[0;34m,\u001b[0m\u001b[0;34m**\u001b[0m\u001b[0mkwargs\u001b[0m\u001b[0;34m)\u001b[0m\u001b[0;34m\u001b[0m\u001b[0;34m\u001b[0m\u001b[0m\n\u001b[0m\u001b[1;32m   2082\u001b[0m             \u001b[0;32mreturn\u001b[0m \u001b[0mresult\u001b[0m\u001b[0;34m\u001b[0m\u001b[0;34m\u001b[0m\u001b[0m\n\u001b[1;32m   2083\u001b[0m \u001b[0;34m\u001b[0m\u001b[0m\n",
            "\u001b[0;32m<decorator-gen-52>\u001b[0m in \u001b[0;36mtimeit\u001b[0;34m(self, line, cell)\u001b[0m\n",
            "\u001b[0;32m/usr/local/lib/python3.7/dist-packages/IPython/core/magic.py\u001b[0m in \u001b[0;36m<lambda>\u001b[0;34m(f, *a, **k)\u001b[0m\n\u001b[1;32m    186\u001b[0m     \u001b[0;31m# but it's overkill for just that one bit of state.\u001b[0m\u001b[0;34m\u001b[0m\u001b[0;34m\u001b[0m\u001b[0;34m\u001b[0m\u001b[0m\n\u001b[1;32m    187\u001b[0m     \u001b[0;32mdef\u001b[0m \u001b[0mmagic_deco\u001b[0m\u001b[0;34m(\u001b[0m\u001b[0marg\u001b[0m\u001b[0;34m)\u001b[0m\u001b[0;34m:\u001b[0m\u001b[0;34m\u001b[0m\u001b[0;34m\u001b[0m\u001b[0m\n\u001b[0;32m--> 188\u001b[0;31m         \u001b[0mcall\u001b[0m \u001b[0;34m=\u001b[0m \u001b[0;32mlambda\u001b[0m \u001b[0mf\u001b[0m\u001b[0;34m,\u001b[0m \u001b[0;34m*\u001b[0m\u001b[0ma\u001b[0m\u001b[0;34m,\u001b[0m \u001b[0;34m**\u001b[0m\u001b[0mk\u001b[0m\u001b[0;34m:\u001b[0m \u001b[0mf\u001b[0m\u001b[0;34m(\u001b[0m\u001b[0;34m*\u001b[0m\u001b[0ma\u001b[0m\u001b[0;34m,\u001b[0m \u001b[0;34m**\u001b[0m\u001b[0mk\u001b[0m\u001b[0;34m)\u001b[0m\u001b[0;34m\u001b[0m\u001b[0;34m\u001b[0m\u001b[0m\n\u001b[0m\u001b[1;32m    189\u001b[0m \u001b[0;34m\u001b[0m\u001b[0m\n\u001b[1;32m    190\u001b[0m         \u001b[0;32mif\u001b[0m \u001b[0mcallable\u001b[0m\u001b[0;34m(\u001b[0m\u001b[0marg\u001b[0m\u001b[0;34m)\u001b[0m\u001b[0;34m:\u001b[0m\u001b[0;34m\u001b[0m\u001b[0;34m\u001b[0m\u001b[0m\n",
            "\u001b[0;32m/usr/local/lib/python3.7/dist-packages/IPython/core/magics/execution.py\u001b[0m in \u001b[0;36mtimeit\u001b[0;34m(self, line, cell)\u001b[0m\n\u001b[1;32m   1055\u001b[0m             \u001b[0mnumber\u001b[0m \u001b[0;34m=\u001b[0m \u001b[0;36m1\u001b[0m\u001b[0;34m\u001b[0m\u001b[0;34m\u001b[0m\u001b[0m\n\u001b[1;32m   1056\u001b[0m             \u001b[0;32mfor\u001b[0m \u001b[0m_\u001b[0m \u001b[0;32min\u001b[0m \u001b[0mrange\u001b[0m\u001b[0;34m(\u001b[0m\u001b[0;36m1\u001b[0m\u001b[0;34m,\u001b[0m \u001b[0;36m10\u001b[0m\u001b[0;34m)\u001b[0m\u001b[0;34m:\u001b[0m\u001b[0;34m\u001b[0m\u001b[0;34m\u001b[0m\u001b[0m\n\u001b[0;32m-> 1057\u001b[0;31m                 \u001b[0mtime_number\u001b[0m \u001b[0;34m=\u001b[0m \u001b[0mtimer\u001b[0m\u001b[0;34m.\u001b[0m\u001b[0mtimeit\u001b[0m\u001b[0;34m(\u001b[0m\u001b[0mnumber\u001b[0m\u001b[0;34m)\u001b[0m\u001b[0;34m\u001b[0m\u001b[0;34m\u001b[0m\u001b[0m\n\u001b[0m\u001b[1;32m   1058\u001b[0m                 \u001b[0mworst_tuning\u001b[0m \u001b[0;34m=\u001b[0m \u001b[0mmax\u001b[0m\u001b[0;34m(\u001b[0m\u001b[0mworst_tuning\u001b[0m\u001b[0;34m,\u001b[0m \u001b[0mtime_number\u001b[0m \u001b[0;34m/\u001b[0m \u001b[0mnumber\u001b[0m\u001b[0;34m)\u001b[0m\u001b[0;34m\u001b[0m\u001b[0;34m\u001b[0m\u001b[0m\n\u001b[1;32m   1059\u001b[0m                 \u001b[0;32mif\u001b[0m \u001b[0mtime_number\u001b[0m \u001b[0;34m>=\u001b[0m \u001b[0;36m0.2\u001b[0m\u001b[0;34m:\u001b[0m\u001b[0;34m\u001b[0m\u001b[0;34m\u001b[0m\u001b[0m\n",
            "\u001b[0;32m/usr/local/lib/python3.7/dist-packages/IPython/core/magics/execution.py\u001b[0m in \u001b[0;36mtimeit\u001b[0;34m(self, number)\u001b[0m\n\u001b[1;32m    137\u001b[0m         \u001b[0mgc\u001b[0m\u001b[0;34m.\u001b[0m\u001b[0mdisable\u001b[0m\u001b[0;34m(\u001b[0m\u001b[0;34m)\u001b[0m\u001b[0;34m\u001b[0m\u001b[0;34m\u001b[0m\u001b[0m\n\u001b[1;32m    138\u001b[0m         \u001b[0;32mtry\u001b[0m\u001b[0;34m:\u001b[0m\u001b[0;34m\u001b[0m\u001b[0;34m\u001b[0m\u001b[0m\n\u001b[0;32m--> 139\u001b[0;31m             \u001b[0mtiming\u001b[0m \u001b[0;34m=\u001b[0m \u001b[0mself\u001b[0m\u001b[0;34m.\u001b[0m\u001b[0minner\u001b[0m\u001b[0;34m(\u001b[0m\u001b[0mit\u001b[0m\u001b[0;34m,\u001b[0m \u001b[0mself\u001b[0m\u001b[0;34m.\u001b[0m\u001b[0mtimer\u001b[0m\u001b[0;34m)\u001b[0m\u001b[0;34m\u001b[0m\u001b[0;34m\u001b[0m\u001b[0m\n\u001b[0m\u001b[1;32m    140\u001b[0m         \u001b[0;32mfinally\u001b[0m\u001b[0;34m:\u001b[0m\u001b[0;34m\u001b[0m\u001b[0;34m\u001b[0m\u001b[0m\n\u001b[1;32m    141\u001b[0m             \u001b[0;32mif\u001b[0m \u001b[0mgcold\u001b[0m\u001b[0;34m:\u001b[0m\u001b[0;34m\u001b[0m\u001b[0;34m\u001b[0m\u001b[0m\n",
            "\u001b[0;32m<magic-timeit>\u001b[0m in \u001b[0;36minner\u001b[0;34m(_it, _timer)\u001b[0m\n",
            "\u001b[0;32m<ipython-input-37-ba71cb442aad>\u001b[0m in \u001b[0;36mweighted_rating_loop\u001b[0;34m(df)\u001b[0m\n\u001b[1;32m     14\u001b[0m     \u001b[0mrating_list\u001b[0m \u001b[0;34m=\u001b[0m \u001b[0;34m[\u001b[0m\u001b[0;34m]\u001b[0m\u001b[0;34m\u001b[0m\u001b[0;34m\u001b[0m\u001b[0m\n\u001b[1;32m     15\u001b[0m     \u001b[0;32mfor\u001b[0m \u001b[0mi\u001b[0m \u001b[0;32min\u001b[0m \u001b[0mrange\u001b[0m\u001b[0;34m(\u001b[0m\u001b[0mlen\u001b[0m\u001b[0;34m(\u001b[0m\u001b[0mdf\u001b[0m\u001b[0;34m)\u001b[0m\u001b[0;34m)\u001b[0m\u001b[0;34m:\u001b[0m\u001b[0;34m\u001b[0m\u001b[0;34m\u001b[0m\u001b[0m\n\u001b[0;32m---> 16\u001b[0;31m         \u001b[0mrating\u001b[0m \u001b[0;34m=\u001b[0m \u001b[0mweighted_rating\u001b[0m\u001b[0;34m(\u001b[0m\u001b[0mdf\u001b[0m\u001b[0;34m.\u001b[0m\u001b[0miloc\u001b[0m\u001b[0;34m[\u001b[0m\u001b[0mi\u001b[0m\u001b[0;34m]\u001b[0m\u001b[0;34m)\u001b[0m\u001b[0;34m\u001b[0m\u001b[0;34m\u001b[0m\u001b[0m\n\u001b[0m\u001b[1;32m     17\u001b[0m         \u001b[0mrating_list\u001b[0m\u001b[0;34m.\u001b[0m\u001b[0mappend\u001b[0m\u001b[0;34m(\u001b[0m\u001b[0mrating\u001b[0m\u001b[0;34m)\u001b[0m\u001b[0;34m\u001b[0m\u001b[0;34m\u001b[0m\u001b[0m\n\u001b[1;32m     18\u001b[0m     \u001b[0mdf\u001b[0m\u001b[0;34m[\u001b[0m\u001b[0;34m'imdb_rating'\u001b[0m\u001b[0;34m]\u001b[0m \u001b[0;34m=\u001b[0m \u001b[0mrating_list\u001b[0m\u001b[0;34m\u001b[0m\u001b[0;34m\u001b[0m\u001b[0m\n",
            "\u001b[0;32m<ipython-input-37-ba71cb442aad>\u001b[0m in \u001b[0;36mweighted_rating\u001b[0;34m(row)\u001b[0m\n\u001b[1;32m      4\u001b[0m \u001b[0;34m\u001b[0m\u001b[0m\n\u001b[1;32m      5\u001b[0m \u001b[0;32mdef\u001b[0m \u001b[0mweighted_rating\u001b[0m\u001b[0;34m(\u001b[0m\u001b[0mrow\u001b[0m\u001b[0;34m)\u001b[0m\u001b[0;34m:\u001b[0m\u001b[0;34m\u001b[0m\u001b[0;34m\u001b[0m\u001b[0m\n\u001b[0;32m----> 6\u001b[0;31m     \u001b[0;32mif\u001b[0m \u001b[0mrow\u001b[0m\u001b[0;34m[\u001b[0m\u001b[0;34m'vote_count'\u001b[0m\u001b[0;34m]\u001b[0m \u001b[0;34m>\u001b[0m \u001b[0mm\u001b[0m\u001b[0;34m:\u001b[0m\u001b[0;34m\u001b[0m\u001b[0;34m\u001b[0m\u001b[0m\n\u001b[0m\u001b[1;32m      7\u001b[0m         \u001b[0mv\u001b[0m \u001b[0;34m=\u001b[0m \u001b[0mrow\u001b[0m\u001b[0;34m[\u001b[0m\u001b[0;34m'vote_count'\u001b[0m\u001b[0;34m]\u001b[0m\u001b[0;34m\u001b[0m\u001b[0;34m\u001b[0m\u001b[0m\n\u001b[1;32m      8\u001b[0m         \u001b[0mR\u001b[0m \u001b[0;34m=\u001b[0m \u001b[0mrow\u001b[0m\u001b[0;34m[\u001b[0m\u001b[0;34m'vote_average'\u001b[0m\u001b[0;34m]\u001b[0m\u001b[0;34m\u001b[0m\u001b[0;34m\u001b[0m\u001b[0m\n",
            "\u001b[0;31mTypeError\u001b[0m: '>' not supported between instances of 'str' and 'int'"
          ]
        }
      ]
    },
    {
      "cell_type": "markdown",
      "metadata": {
        "id": "HPjyKJ2zzPoQ"
      },
      "source": [
        "In the remaining parts of the exercise, you are going to be asked to come up with alternative ways to compute the ratings, using various methodologies. Let's create a score board to keep track of performance. Here's a description of the rows:\n",
        "\n",
        "*   **Best single run time (s)**:  The best time used by your solution, in seconds.\n",
        "*   **Marginal performance improvement**: The time improvement of your current solution over its immediately preceding solution. Given by: $\\frac{\\text{best single run time (s) of previous solution}}{\\text{best single run time (s) of current solution}}$\n",
        "*   **Performance improvement over basic looping**:  The time improvement over our baseline solution. Given by: $\\frac{\\text{best single run time (s) of weighted_rating_loop}}{\\text{best single run time (s) of current solution}}$\n",
        "*   **Best single run time (s, teacher)**: The time of a solution provided by the teacher. \n",
        "*   **Marginal performance improvement (teacher)**: The time improvement of the teacher's solution over its immediately preceding solution. \n",
        "*   **Performance improvement over basic looping (teacher)**:  The teacher's solution improvement over the baseline solution.\n",
        "\n"
      ]
    },
    {
      "cell_type": "code",
      "metadata": {
        "ExecuteTime": {
          "end_time": "2021-09-27T11:03:14.455052Z",
          "start_time": "2021-09-27T11:03:14.442251Z"
        },
        "id": "fV-xfrs53NBF",
        "colab": {
          "base_uri": "https://localhost:8080/",
          "height": 239
        },
        "outputId": "28cc271a-efd0-4035-83b6-20ae1993da18"
      },
      "source": [
        "timing_data = {\n",
        "    'Best single run time (s)': [basic_time.best, np.nan, np.nan, np.nan,np.nan],\n",
        "    'Marginal performance improvement': [np.nan,np.nan, np.nan, np.nan,np.nan],\n",
        "    'Performance improvement over basic looping': np.nan,\n",
        "    'Best single run time (s, teacher)': [9.37, 3.87, 0.562, 0.0054, 0.00084],\n",
        "    'Marginal performance improvement (teacher)': [np.nan, 'x2.42', 'x6.88', 'x103.8', 'x6.45'],\n",
        "    'Performance improvement over basic looping (teacher)': [np.nan, 'x2.42', 'x16.69', 'x1732.17','x11172.98']\n",
        "}\n",
        "\n",
        "indices = ['Basic looping', 'Iterrows looping', 'apply()', 'Pandas vectorisation', 'NumPy vectorisation']\n",
        "timings = pd.DataFrame(timing_data, index=indices)\n",
        "timings"
      ],
      "execution_count": 59,
      "outputs": [
        {
          "output_type": "error",
          "ename": "NameError",
          "evalue": "ignored",
          "traceback": [
            "\u001b[0;31m---------------------------------------------------------------------------\u001b[0m",
            "\u001b[0;31mNameError\u001b[0m                                 Traceback (most recent call last)",
            "\u001b[0;32m<ipython-input-59-310cebead339>\u001b[0m in \u001b[0;36m<module>\u001b[0;34m()\u001b[0m\n\u001b[1;32m      1\u001b[0m timing_data = {\n\u001b[0;32m----> 2\u001b[0;31m     \u001b[0;34m'Best single run time (s)'\u001b[0m\u001b[0;34m:\u001b[0m \u001b[0;34m[\u001b[0m\u001b[0mbasic_time\u001b[0m\u001b[0;34m.\u001b[0m\u001b[0mbest\u001b[0m\u001b[0;34m,\u001b[0m \u001b[0mnp\u001b[0m\u001b[0;34m.\u001b[0m\u001b[0mnan\u001b[0m\u001b[0;34m,\u001b[0m \u001b[0mnp\u001b[0m\u001b[0;34m.\u001b[0m\u001b[0mnan\u001b[0m\u001b[0;34m,\u001b[0m \u001b[0mnp\u001b[0m\u001b[0;34m.\u001b[0m\u001b[0mnan\u001b[0m\u001b[0;34m,\u001b[0m\u001b[0mnp\u001b[0m\u001b[0;34m.\u001b[0m\u001b[0mnan\u001b[0m\u001b[0;34m]\u001b[0m\u001b[0;34m,\u001b[0m\u001b[0;34m\u001b[0m\u001b[0;34m\u001b[0m\u001b[0m\n\u001b[0m\u001b[1;32m      3\u001b[0m     \u001b[0;34m'Marginal performance improvement'\u001b[0m\u001b[0;34m:\u001b[0m \u001b[0;34m[\u001b[0m\u001b[0mnp\u001b[0m\u001b[0;34m.\u001b[0m\u001b[0mnan\u001b[0m\u001b[0;34m,\u001b[0m\u001b[0mnp\u001b[0m\u001b[0;34m.\u001b[0m\u001b[0mnan\u001b[0m\u001b[0;34m,\u001b[0m \u001b[0mnp\u001b[0m\u001b[0;34m.\u001b[0m\u001b[0mnan\u001b[0m\u001b[0;34m,\u001b[0m \u001b[0mnp\u001b[0m\u001b[0;34m.\u001b[0m\u001b[0mnan\u001b[0m\u001b[0;34m,\u001b[0m\u001b[0mnp\u001b[0m\u001b[0;34m.\u001b[0m\u001b[0mnan\u001b[0m\u001b[0;34m]\u001b[0m\u001b[0;34m,\u001b[0m\u001b[0;34m\u001b[0m\u001b[0;34m\u001b[0m\u001b[0m\n\u001b[1;32m      4\u001b[0m     \u001b[0;34m'Performance improvement over basic looping'\u001b[0m\u001b[0;34m:\u001b[0m \u001b[0mnp\u001b[0m\u001b[0;34m.\u001b[0m\u001b[0mnan\u001b[0m\u001b[0;34m,\u001b[0m\u001b[0;34m\u001b[0m\u001b[0;34m\u001b[0m\u001b[0m\n\u001b[1;32m      5\u001b[0m     \u001b[0;34m'Best single run time (s, teacher)'\u001b[0m\u001b[0;34m:\u001b[0m \u001b[0;34m[\u001b[0m\u001b[0;36m9.37\u001b[0m\u001b[0;34m,\u001b[0m \u001b[0;36m3.87\u001b[0m\u001b[0;34m,\u001b[0m \u001b[0;36m0.562\u001b[0m\u001b[0;34m,\u001b[0m \u001b[0;36m0.0054\u001b[0m\u001b[0;34m,\u001b[0m \u001b[0;36m0.00084\u001b[0m\u001b[0;34m]\u001b[0m\u001b[0;34m,\u001b[0m\u001b[0;34m\u001b[0m\u001b[0;34m\u001b[0m\u001b[0m\n",
            "\u001b[0;31mNameError\u001b[0m: name 'basic_time' is not defined"
          ]
        }
      ]
    },
    {
      "cell_type": "markdown",
      "metadata": {
        "id": "ZfD0eUlHgz3l"
      },
      "source": [
        "**The grading for the following parts works as follows.**\n",
        "\n",
        "Let $m$ be the marginal performance improvement for the teacher's solution over basic looping, and let $m'$ be the marginal performance improvement for your solution over `basic_time`. If a part gives $n$ points, then you will get the $n$ points if $m' \\geq 0.4 m$, and 0 points otherwise.\n",
        "\n",
        "You don't get extra points for performing faster than the teacher's solution. But this is of course possible and you should feel free to optimise away as much as you want!"
      ]
    },
    {
      "cell_type": "markdown",
      "metadata": {
        "id": "JkiLI2QT7oNY"
      },
      "source": [
        "## Part 1: Looping with `iterrows` (2.5 pts)"
      ]
    },
    {
      "cell_type": "markdown",
      "metadata": {
        "id": "bmZIqPIf743q"
      },
      "source": [
        "Define a function `weighted_rating_iterrows(df)` that computes the ratings by looping over rows with the built-in iterator `iterrows`, and stores the results in a new column of the DataFrame called called `imdb_rating_iter`."
      ]
    },
    {
      "cell_type": "code",
      "metadata": {
        "id": "m4dTxRfW6Gc4"
      },
      "source": [
        "# your code goes here\n",
        "def weighted_rating_iterrows(df):\n",
        "    imdb_rating_iter = []\n",
        "    for index, row in df.iterrows(): \n",
        "        imdb_rating_iter.append(weighted_rating(row)) \n",
        "    df['imdb_rating_iter'] = imdb_rating_iter \n",
        "    return df\n",
        "\n"
      ],
      "execution_count": 60,
      "outputs": []
    },
    {
      "cell_type": "markdown",
      "metadata": {
        "id": "rsvOtN6y8Ycg"
      },
      "source": [
        "Call the function and make sure that it works as intended."
      ]
    },
    {
      "cell_type": "code",
      "metadata": {
        "id": "sLKzzVP86bza",
        "colab": {
          "base_uri": "https://localhost:8080/",
          "height": 386
        },
        "outputId": "6f71919d-ea5c-4577-bf04-7db1d9f3d723"
      },
      "source": [
        "weighted_rating_iterrows(df)\n",
        "\n",
        "pd.testing.assert_series_equal(\n",
        "    df.imdb_rating, df.imdb_rating_iter, check_names=False\n",
        ")\n",
        "\n",
        "columns_to_show = ['id', 'original_title'] + \\\n",
        "                  list(df.columns[df.columns.str.startswith('imdb_rating')])\n",
        "df[columns_to_show].head()"
      ],
      "execution_count": 61,
      "outputs": [
        {
          "output_type": "error",
          "ename": "TypeError",
          "evalue": "ignored",
          "traceback": [
            "\u001b[0;31m---------------------------------------------------------------------------\u001b[0m",
            "\u001b[0;31mTypeError\u001b[0m                                 Traceback (most recent call last)",
            "\u001b[0;32m<ipython-input-61-3f02a59f98bf>\u001b[0m in \u001b[0;36m<module>\u001b[0;34m()\u001b[0m\n\u001b[0;32m----> 1\u001b[0;31m \u001b[0mweighted_rating_iterrows\u001b[0m\u001b[0;34m(\u001b[0m\u001b[0mdf\u001b[0m\u001b[0;34m)\u001b[0m\u001b[0;34m\u001b[0m\u001b[0;34m\u001b[0m\u001b[0m\n\u001b[0m\u001b[1;32m      2\u001b[0m \u001b[0;34m\u001b[0m\u001b[0m\n\u001b[1;32m      3\u001b[0m pd.testing.assert_series_equal(\n\u001b[1;32m      4\u001b[0m     \u001b[0mdf\u001b[0m\u001b[0;34m.\u001b[0m\u001b[0mimdb_rating\u001b[0m\u001b[0;34m,\u001b[0m \u001b[0mdf\u001b[0m\u001b[0;34m.\u001b[0m\u001b[0mimdb_rating_iter\u001b[0m\u001b[0;34m,\u001b[0m \u001b[0mcheck_names\u001b[0m\u001b[0;34m=\u001b[0m\u001b[0;32mFalse\u001b[0m\u001b[0;34m\u001b[0m\u001b[0;34m\u001b[0m\u001b[0m\n\u001b[1;32m      5\u001b[0m )\n",
            "\u001b[0;32m<ipython-input-60-fa16c247e38c>\u001b[0m in \u001b[0;36mweighted_rating_iterrows\u001b[0;34m(df)\u001b[0m\n\u001b[1;32m      3\u001b[0m     \u001b[0mimdb_rating_iter\u001b[0m \u001b[0;34m=\u001b[0m \u001b[0;34m[\u001b[0m\u001b[0;34m]\u001b[0m\u001b[0;34m\u001b[0m\u001b[0;34m\u001b[0m\u001b[0m\n\u001b[1;32m      4\u001b[0m     \u001b[0;32mfor\u001b[0m \u001b[0mindex\u001b[0m\u001b[0;34m,\u001b[0m \u001b[0mrow\u001b[0m \u001b[0;32min\u001b[0m \u001b[0mdf\u001b[0m\u001b[0;34m.\u001b[0m\u001b[0miterrows\u001b[0m\u001b[0;34m(\u001b[0m\u001b[0;34m)\u001b[0m\u001b[0;34m:\u001b[0m\u001b[0;34m\u001b[0m\u001b[0;34m\u001b[0m\u001b[0m\n\u001b[0;32m----> 5\u001b[0;31m         \u001b[0mimdb_rating_iter\u001b[0m\u001b[0;34m.\u001b[0m\u001b[0mappend\u001b[0m\u001b[0;34m(\u001b[0m\u001b[0mweighted_rating\u001b[0m\u001b[0;34m(\u001b[0m\u001b[0mrow\u001b[0m\u001b[0;34m)\u001b[0m\u001b[0;34m)\u001b[0m\u001b[0;34m\u001b[0m\u001b[0;34m\u001b[0m\u001b[0m\n\u001b[0m\u001b[1;32m      6\u001b[0m     \u001b[0mdf\u001b[0m\u001b[0;34m[\u001b[0m\u001b[0;34m'imdb_rating_iter'\u001b[0m\u001b[0;34m]\u001b[0m \u001b[0;34m=\u001b[0m \u001b[0mimdb_rating_iter\u001b[0m\u001b[0;34m\u001b[0m\u001b[0;34m\u001b[0m\u001b[0m\n\u001b[1;32m      7\u001b[0m     \u001b[0;32mreturn\u001b[0m \u001b[0mdf\u001b[0m\u001b[0;34m\u001b[0m\u001b[0;34m\u001b[0m\u001b[0m\n",
            "\u001b[0;32m<ipython-input-37-ba71cb442aad>\u001b[0m in \u001b[0;36mweighted_rating\u001b[0;34m(row)\u001b[0m\n\u001b[1;32m      4\u001b[0m \u001b[0;34m\u001b[0m\u001b[0m\n\u001b[1;32m      5\u001b[0m \u001b[0;32mdef\u001b[0m \u001b[0mweighted_rating\u001b[0m\u001b[0;34m(\u001b[0m\u001b[0mrow\u001b[0m\u001b[0;34m)\u001b[0m\u001b[0;34m:\u001b[0m\u001b[0;34m\u001b[0m\u001b[0;34m\u001b[0m\u001b[0m\n\u001b[0;32m----> 6\u001b[0;31m     \u001b[0;32mif\u001b[0m \u001b[0mrow\u001b[0m\u001b[0;34m[\u001b[0m\u001b[0;34m'vote_count'\u001b[0m\u001b[0;34m]\u001b[0m \u001b[0;34m>\u001b[0m \u001b[0mm\u001b[0m\u001b[0;34m:\u001b[0m\u001b[0;34m\u001b[0m\u001b[0;34m\u001b[0m\u001b[0m\n\u001b[0m\u001b[1;32m      7\u001b[0m         \u001b[0mv\u001b[0m \u001b[0;34m=\u001b[0m \u001b[0mrow\u001b[0m\u001b[0;34m[\u001b[0m\u001b[0;34m'vote_count'\u001b[0m\u001b[0;34m]\u001b[0m\u001b[0;34m\u001b[0m\u001b[0;34m\u001b[0m\u001b[0m\n\u001b[1;32m      8\u001b[0m         \u001b[0mR\u001b[0m \u001b[0;34m=\u001b[0m \u001b[0mrow\u001b[0m\u001b[0;34m[\u001b[0m\u001b[0;34m'vote_average'\u001b[0m\u001b[0;34m]\u001b[0m\u001b[0;34m\u001b[0m\u001b[0;34m\u001b[0m\u001b[0m\n",
            "\u001b[0;31mTypeError\u001b[0m: '>' not supported between instances of 'str' and 'int'"
          ]
        }
      ]
    },
    {
      "cell_type": "markdown",
      "metadata": {
        "id": "AC-m0iR48jM6"
      },
      "source": [
        "Time the performance of the function."
      ]
    },
    {
      "cell_type": "code",
      "metadata": {
        "id": "9y3BWusJ8y70",
        "colab": {
          "base_uri": "https://localhost:8080/",
          "height": 404
        },
        "outputId": "253e7a99-0552-465e-cfe9-256cd454338f"
      },
      "source": [
        "iterrows_time = %timeit -r 3 -o weighted_rating_iterrows(df)\n",
        "print(\"Best time:\", iterrows_time.best)"
      ],
      "execution_count": 62,
      "outputs": [
        {
          "output_type": "error",
          "ename": "TypeError",
          "evalue": "ignored",
          "traceback": [
            "\u001b[0;31m---------------------------------------------------------------------------\u001b[0m",
            "\u001b[0;31mTypeError\u001b[0m                                 Traceback (most recent call last)",
            "\u001b[0;32m<ipython-input-62-d60b12386613>\u001b[0m in \u001b[0;36m<module>\u001b[0;34m()\u001b[0m\n\u001b[0;32m----> 1\u001b[0;31m \u001b[0miterrows_time\u001b[0m \u001b[0;34m=\u001b[0m \u001b[0mget_ipython\u001b[0m\u001b[0;34m(\u001b[0m\u001b[0;34m)\u001b[0m\u001b[0;34m.\u001b[0m\u001b[0mmagic\u001b[0m\u001b[0;34m(\u001b[0m\u001b[0;34m'timeit -r 3 -o weighted_rating_iterrows(df)'\u001b[0m\u001b[0;34m)\u001b[0m\u001b[0;34m\u001b[0m\u001b[0;34m\u001b[0m\u001b[0m\n\u001b[0m\u001b[1;32m      2\u001b[0m \u001b[0mprint\u001b[0m\u001b[0;34m(\u001b[0m\u001b[0;34m\"Best time:\"\u001b[0m\u001b[0;34m,\u001b[0m \u001b[0miterrows_time\u001b[0m\u001b[0;34m.\u001b[0m\u001b[0mbest\u001b[0m\u001b[0;34m)\u001b[0m\u001b[0;34m\u001b[0m\u001b[0;34m\u001b[0m\u001b[0m\n",
            "\u001b[0;32m/usr/local/lib/python3.7/dist-packages/IPython/core/interactiveshell.py\u001b[0m in \u001b[0;36mmagic\u001b[0;34m(self, arg_s)\u001b[0m\n\u001b[1;32m   2158\u001b[0m         \u001b[0mmagic_name\u001b[0m\u001b[0;34m,\u001b[0m \u001b[0m_\u001b[0m\u001b[0;34m,\u001b[0m \u001b[0mmagic_arg_s\u001b[0m \u001b[0;34m=\u001b[0m \u001b[0marg_s\u001b[0m\u001b[0;34m.\u001b[0m\u001b[0mpartition\u001b[0m\u001b[0;34m(\u001b[0m\u001b[0;34m' '\u001b[0m\u001b[0;34m)\u001b[0m\u001b[0;34m\u001b[0m\u001b[0;34m\u001b[0m\u001b[0m\n\u001b[1;32m   2159\u001b[0m         \u001b[0mmagic_name\u001b[0m \u001b[0;34m=\u001b[0m \u001b[0mmagic_name\u001b[0m\u001b[0;34m.\u001b[0m\u001b[0mlstrip\u001b[0m\u001b[0;34m(\u001b[0m\u001b[0mprefilter\u001b[0m\u001b[0;34m.\u001b[0m\u001b[0mESC_MAGIC\u001b[0m\u001b[0;34m)\u001b[0m\u001b[0;34m\u001b[0m\u001b[0;34m\u001b[0m\u001b[0m\n\u001b[0;32m-> 2160\u001b[0;31m         \u001b[0;32mreturn\u001b[0m \u001b[0mself\u001b[0m\u001b[0;34m.\u001b[0m\u001b[0mrun_line_magic\u001b[0m\u001b[0;34m(\u001b[0m\u001b[0mmagic_name\u001b[0m\u001b[0;34m,\u001b[0m \u001b[0mmagic_arg_s\u001b[0m\u001b[0;34m)\u001b[0m\u001b[0;34m\u001b[0m\u001b[0;34m\u001b[0m\u001b[0m\n\u001b[0m\u001b[1;32m   2161\u001b[0m \u001b[0;34m\u001b[0m\u001b[0m\n\u001b[1;32m   2162\u001b[0m     \u001b[0;31m#-------------------------------------------------------------------------\u001b[0m\u001b[0;34m\u001b[0m\u001b[0;34m\u001b[0m\u001b[0;34m\u001b[0m\u001b[0m\n",
            "\u001b[0;32m/usr/local/lib/python3.7/dist-packages/IPython/core/interactiveshell.py\u001b[0m in \u001b[0;36mrun_line_magic\u001b[0;34m(self, magic_name, line)\u001b[0m\n\u001b[1;32m   2079\u001b[0m                 \u001b[0mkwargs\u001b[0m\u001b[0;34m[\u001b[0m\u001b[0;34m'local_ns'\u001b[0m\u001b[0;34m]\u001b[0m \u001b[0;34m=\u001b[0m \u001b[0msys\u001b[0m\u001b[0;34m.\u001b[0m\u001b[0m_getframe\u001b[0m\u001b[0;34m(\u001b[0m\u001b[0mstack_depth\u001b[0m\u001b[0;34m)\u001b[0m\u001b[0;34m.\u001b[0m\u001b[0mf_locals\u001b[0m\u001b[0;34m\u001b[0m\u001b[0;34m\u001b[0m\u001b[0m\n\u001b[1;32m   2080\u001b[0m             \u001b[0;32mwith\u001b[0m \u001b[0mself\u001b[0m\u001b[0;34m.\u001b[0m\u001b[0mbuiltin_trap\u001b[0m\u001b[0;34m:\u001b[0m\u001b[0;34m\u001b[0m\u001b[0;34m\u001b[0m\u001b[0m\n\u001b[0;32m-> 2081\u001b[0;31m                 \u001b[0mresult\u001b[0m \u001b[0;34m=\u001b[0m \u001b[0mfn\u001b[0m\u001b[0;34m(\u001b[0m\u001b[0;34m*\u001b[0m\u001b[0margs\u001b[0m\u001b[0;34m,\u001b[0m\u001b[0;34m**\u001b[0m\u001b[0mkwargs\u001b[0m\u001b[0;34m)\u001b[0m\u001b[0;34m\u001b[0m\u001b[0;34m\u001b[0m\u001b[0m\n\u001b[0m\u001b[1;32m   2082\u001b[0m             \u001b[0;32mreturn\u001b[0m \u001b[0mresult\u001b[0m\u001b[0;34m\u001b[0m\u001b[0;34m\u001b[0m\u001b[0m\n\u001b[1;32m   2083\u001b[0m \u001b[0;34m\u001b[0m\u001b[0m\n",
            "\u001b[0;32m<decorator-gen-52>\u001b[0m in \u001b[0;36mtimeit\u001b[0;34m(self, line, cell)\u001b[0m\n",
            "\u001b[0;32m/usr/local/lib/python3.7/dist-packages/IPython/core/magic.py\u001b[0m in \u001b[0;36m<lambda>\u001b[0;34m(f, *a, **k)\u001b[0m\n\u001b[1;32m    186\u001b[0m     \u001b[0;31m# but it's overkill for just that one bit of state.\u001b[0m\u001b[0;34m\u001b[0m\u001b[0;34m\u001b[0m\u001b[0;34m\u001b[0m\u001b[0m\n\u001b[1;32m    187\u001b[0m     \u001b[0;32mdef\u001b[0m \u001b[0mmagic_deco\u001b[0m\u001b[0;34m(\u001b[0m\u001b[0marg\u001b[0m\u001b[0;34m)\u001b[0m\u001b[0;34m:\u001b[0m\u001b[0;34m\u001b[0m\u001b[0;34m\u001b[0m\u001b[0m\n\u001b[0;32m--> 188\u001b[0;31m         \u001b[0mcall\u001b[0m \u001b[0;34m=\u001b[0m \u001b[0;32mlambda\u001b[0m \u001b[0mf\u001b[0m\u001b[0;34m,\u001b[0m \u001b[0;34m*\u001b[0m\u001b[0ma\u001b[0m\u001b[0;34m,\u001b[0m \u001b[0;34m**\u001b[0m\u001b[0mk\u001b[0m\u001b[0;34m:\u001b[0m \u001b[0mf\u001b[0m\u001b[0;34m(\u001b[0m\u001b[0;34m*\u001b[0m\u001b[0ma\u001b[0m\u001b[0;34m,\u001b[0m \u001b[0;34m**\u001b[0m\u001b[0mk\u001b[0m\u001b[0;34m)\u001b[0m\u001b[0;34m\u001b[0m\u001b[0;34m\u001b[0m\u001b[0m\n\u001b[0m\u001b[1;32m    189\u001b[0m \u001b[0;34m\u001b[0m\u001b[0m\n\u001b[1;32m    190\u001b[0m         \u001b[0;32mif\u001b[0m \u001b[0mcallable\u001b[0m\u001b[0;34m(\u001b[0m\u001b[0marg\u001b[0m\u001b[0;34m)\u001b[0m\u001b[0;34m:\u001b[0m\u001b[0;34m\u001b[0m\u001b[0;34m\u001b[0m\u001b[0m\n",
            "\u001b[0;32m/usr/local/lib/python3.7/dist-packages/IPython/core/magics/execution.py\u001b[0m in \u001b[0;36mtimeit\u001b[0;34m(self, line, cell)\u001b[0m\n\u001b[1;32m   1055\u001b[0m             \u001b[0mnumber\u001b[0m \u001b[0;34m=\u001b[0m \u001b[0;36m1\u001b[0m\u001b[0;34m\u001b[0m\u001b[0;34m\u001b[0m\u001b[0m\n\u001b[1;32m   1056\u001b[0m             \u001b[0;32mfor\u001b[0m \u001b[0m_\u001b[0m \u001b[0;32min\u001b[0m \u001b[0mrange\u001b[0m\u001b[0;34m(\u001b[0m\u001b[0;36m1\u001b[0m\u001b[0;34m,\u001b[0m \u001b[0;36m10\u001b[0m\u001b[0;34m)\u001b[0m\u001b[0;34m:\u001b[0m\u001b[0;34m\u001b[0m\u001b[0;34m\u001b[0m\u001b[0m\n\u001b[0;32m-> 1057\u001b[0;31m                 \u001b[0mtime_number\u001b[0m \u001b[0;34m=\u001b[0m \u001b[0mtimer\u001b[0m\u001b[0;34m.\u001b[0m\u001b[0mtimeit\u001b[0m\u001b[0;34m(\u001b[0m\u001b[0mnumber\u001b[0m\u001b[0;34m)\u001b[0m\u001b[0;34m\u001b[0m\u001b[0;34m\u001b[0m\u001b[0m\n\u001b[0m\u001b[1;32m   1058\u001b[0m                 \u001b[0mworst_tuning\u001b[0m \u001b[0;34m=\u001b[0m \u001b[0mmax\u001b[0m\u001b[0;34m(\u001b[0m\u001b[0mworst_tuning\u001b[0m\u001b[0;34m,\u001b[0m \u001b[0mtime_number\u001b[0m \u001b[0;34m/\u001b[0m \u001b[0mnumber\u001b[0m\u001b[0;34m)\u001b[0m\u001b[0;34m\u001b[0m\u001b[0;34m\u001b[0m\u001b[0m\n\u001b[1;32m   1059\u001b[0m                 \u001b[0;32mif\u001b[0m \u001b[0mtime_number\u001b[0m \u001b[0;34m>=\u001b[0m \u001b[0;36m0.2\u001b[0m\u001b[0;34m:\u001b[0m\u001b[0;34m\u001b[0m\u001b[0;34m\u001b[0m\u001b[0m\n",
            "\u001b[0;32m/usr/local/lib/python3.7/dist-packages/IPython/core/magics/execution.py\u001b[0m in \u001b[0;36mtimeit\u001b[0;34m(self, number)\u001b[0m\n\u001b[1;32m    137\u001b[0m         \u001b[0mgc\u001b[0m\u001b[0;34m.\u001b[0m\u001b[0mdisable\u001b[0m\u001b[0;34m(\u001b[0m\u001b[0;34m)\u001b[0m\u001b[0;34m\u001b[0m\u001b[0;34m\u001b[0m\u001b[0m\n\u001b[1;32m    138\u001b[0m         \u001b[0;32mtry\u001b[0m\u001b[0;34m:\u001b[0m\u001b[0;34m\u001b[0m\u001b[0;34m\u001b[0m\u001b[0m\n\u001b[0;32m--> 139\u001b[0;31m             \u001b[0mtiming\u001b[0m \u001b[0;34m=\u001b[0m \u001b[0mself\u001b[0m\u001b[0;34m.\u001b[0m\u001b[0minner\u001b[0m\u001b[0;34m(\u001b[0m\u001b[0mit\u001b[0m\u001b[0;34m,\u001b[0m \u001b[0mself\u001b[0m\u001b[0;34m.\u001b[0m\u001b[0mtimer\u001b[0m\u001b[0;34m)\u001b[0m\u001b[0;34m\u001b[0m\u001b[0;34m\u001b[0m\u001b[0m\n\u001b[0m\u001b[1;32m    140\u001b[0m         \u001b[0;32mfinally\u001b[0m\u001b[0;34m:\u001b[0m\u001b[0;34m\u001b[0m\u001b[0;34m\u001b[0m\u001b[0m\n\u001b[1;32m    141\u001b[0m             \u001b[0;32mif\u001b[0m \u001b[0mgcold\u001b[0m\u001b[0;34m:\u001b[0m\u001b[0;34m\u001b[0m\u001b[0;34m\u001b[0m\u001b[0m\n",
            "\u001b[0;32m<magic-timeit>\u001b[0m in \u001b[0;36minner\u001b[0;34m(_it, _timer)\u001b[0m\n",
            "\u001b[0;32m<ipython-input-60-fa16c247e38c>\u001b[0m in \u001b[0;36mweighted_rating_iterrows\u001b[0;34m(df)\u001b[0m\n\u001b[1;32m      3\u001b[0m     \u001b[0mimdb_rating_iter\u001b[0m \u001b[0;34m=\u001b[0m \u001b[0;34m[\u001b[0m\u001b[0;34m]\u001b[0m\u001b[0;34m\u001b[0m\u001b[0;34m\u001b[0m\u001b[0m\n\u001b[1;32m      4\u001b[0m     \u001b[0;32mfor\u001b[0m \u001b[0mindex\u001b[0m\u001b[0;34m,\u001b[0m \u001b[0mrow\u001b[0m \u001b[0;32min\u001b[0m \u001b[0mdf\u001b[0m\u001b[0;34m.\u001b[0m\u001b[0miterrows\u001b[0m\u001b[0;34m(\u001b[0m\u001b[0;34m)\u001b[0m\u001b[0;34m:\u001b[0m\u001b[0;34m\u001b[0m\u001b[0;34m\u001b[0m\u001b[0m\n\u001b[0;32m----> 5\u001b[0;31m         \u001b[0mimdb_rating_iter\u001b[0m\u001b[0;34m.\u001b[0m\u001b[0mappend\u001b[0m\u001b[0;34m(\u001b[0m\u001b[0mweighted_rating\u001b[0m\u001b[0;34m(\u001b[0m\u001b[0mrow\u001b[0m\u001b[0;34m)\u001b[0m\u001b[0;34m)\u001b[0m\u001b[0;34m\u001b[0m\u001b[0;34m\u001b[0m\u001b[0m\n\u001b[0m\u001b[1;32m      6\u001b[0m     \u001b[0mdf\u001b[0m\u001b[0;34m[\u001b[0m\u001b[0;34m'imdb_rating_iter'\u001b[0m\u001b[0;34m]\u001b[0m \u001b[0;34m=\u001b[0m \u001b[0mimdb_rating_iter\u001b[0m\u001b[0;34m\u001b[0m\u001b[0;34m\u001b[0m\u001b[0m\n\u001b[1;32m      7\u001b[0m     \u001b[0;32mreturn\u001b[0m \u001b[0mdf\u001b[0m\u001b[0;34m\u001b[0m\u001b[0;34m\u001b[0m\u001b[0m\n",
            "\u001b[0;32m<ipython-input-37-ba71cb442aad>\u001b[0m in \u001b[0;36mweighted_rating\u001b[0;34m(row)\u001b[0m\n\u001b[1;32m      4\u001b[0m \u001b[0;34m\u001b[0m\u001b[0m\n\u001b[1;32m      5\u001b[0m \u001b[0;32mdef\u001b[0m \u001b[0mweighted_rating\u001b[0m\u001b[0;34m(\u001b[0m\u001b[0mrow\u001b[0m\u001b[0;34m)\u001b[0m\u001b[0;34m:\u001b[0m\u001b[0;34m\u001b[0m\u001b[0;34m\u001b[0m\u001b[0m\n\u001b[0;32m----> 6\u001b[0;31m     \u001b[0;32mif\u001b[0m \u001b[0mrow\u001b[0m\u001b[0;34m[\u001b[0m\u001b[0;34m'vote_count'\u001b[0m\u001b[0;34m]\u001b[0m \u001b[0;34m>\u001b[0m \u001b[0mm\u001b[0m\u001b[0;34m:\u001b[0m\u001b[0;34m\u001b[0m\u001b[0;34m\u001b[0m\u001b[0m\n\u001b[0m\u001b[1;32m      7\u001b[0m         \u001b[0mv\u001b[0m \u001b[0;34m=\u001b[0m \u001b[0mrow\u001b[0m\u001b[0;34m[\u001b[0m\u001b[0;34m'vote_count'\u001b[0m\u001b[0;34m]\u001b[0m\u001b[0;34m\u001b[0m\u001b[0;34m\u001b[0m\u001b[0m\n\u001b[1;32m      8\u001b[0m         \u001b[0mR\u001b[0m \u001b[0;34m=\u001b[0m \u001b[0mrow\u001b[0m\u001b[0;34m[\u001b[0m\u001b[0;34m'vote_average'\u001b[0m\u001b[0;34m]\u001b[0m\u001b[0;34m\u001b[0m\u001b[0;34m\u001b[0m\u001b[0m\n",
            "\u001b[0;31mTypeError\u001b[0m: '>' not supported between instances of 'str' and 'int'"
          ]
        }
      ]
    },
    {
      "cell_type": "markdown",
      "metadata": {
        "id": "HexMOOCB82e_"
      },
      "source": [
        "Update the score board with the best time, marginal and overall performance change you have obtained. Display the updated table below. "
      ]
    },
    {
      "cell_type": "code",
      "metadata": {
        "id": "_SQRS_gdJCbM"
      },
      "source": [
        "# your code goes here"
      ],
      "execution_count": 63,
      "outputs": []
    },
    {
      "cell_type": "markdown",
      "metadata": {
        "id": "7-FhuhB99em4"
      },
      "source": [
        "## Part 2: Using `apply()`. (5 pts)"
      ]
    },
    {
      "cell_type": "markdown",
      "metadata": {
        "id": "iZ294FYn9qhO"
      },
      "source": [
        "Define a function `weighted_rating_apply(df)` that computes the ratings using Pandas' `apply()` function, and stores the results in a new column of the DataFrame called `imdb_rating_apply`."
      ]
    },
    {
      "cell_type": "code",
      "metadata": {
        "id": "Gk3SdbQs8ghG"
      },
      "source": [
        "# your code goes here"
      ],
      "execution_count": null,
      "outputs": []
    },
    {
      "cell_type": "markdown",
      "metadata": {
        "id": "jBgP1e1uCMlF"
      },
      "source": [
        "Call the function and make sure that it works as intended."
      ]
    },
    {
      "cell_type": "code",
      "metadata": {
        "id": "wUaYXC_RCMlK"
      },
      "source": [
        "weighted_rating_apply(df)\n",
        "\n",
        "pd.testing.assert_series_equal(\n",
        "    df.imdb_rating, df.imdb_rating_apply, check_names=False\n",
        ")\n",
        "\n",
        "columns_to_show = ['id', 'original_title'] + \\\n",
        "                  list(df.columns[df.columns.str.startswith('imdb_rating')])\n",
        "df[columns_to_show].head()"
      ],
      "execution_count": null,
      "outputs": []
    },
    {
      "cell_type": "markdown",
      "metadata": {
        "id": "C9jjZI14CMlO"
      },
      "source": [
        "Time the performance of the function."
      ]
    },
    {
      "cell_type": "code",
      "metadata": {
        "id": "jqggBfTMCMlP"
      },
      "source": [
        "apply_time = %timeit -r 3 -o weighted_rating_apply(df)\n",
        "print(\"Best time:\", apply_time.best)"
      ],
      "execution_count": null,
      "outputs": []
    },
    {
      "cell_type": "markdown",
      "metadata": {
        "id": "9DzMnzf4CMlS"
      },
      "source": [
        "Update the score board with the best time, marginal and overall performance change you have obtained. Display the updated table below. "
      ]
    },
    {
      "cell_type": "code",
      "metadata": {
        "id": "-4RSuVOYV0JZ"
      },
      "source": [
        "# your code goes here"
      ],
      "execution_count": null,
      "outputs": []
    },
    {
      "cell_type": "markdown",
      "metadata": {
        "id": "TZHPgFMsED_6"
      },
      "source": [
        "## Part 3: Vectorised solution with Pandas (12.5 pts)"
      ]
    },
    {
      "cell_type": "markdown",
      "metadata": {
        "id": "CI7zQxGNGZnX"
      },
      "source": [
        "Let's find a vectorised solution using Pandas. You have to define a function `weighted_rating_pandas(df)` that computes the ratings in a vectorised way and stores them in a new column of the DataFrame called `imdb_rating_pandas`. Use Pandas operations only: don't transform your data into NumPy arrays."
      ]
    },
    {
      "cell_type": "code",
      "metadata": {
        "id": "WqIXsMGFGZnY"
      },
      "source": [
        "# your code goes here"
      ],
      "execution_count": null,
      "outputs": []
    },
    {
      "cell_type": "markdown",
      "metadata": {
        "id": "qKVGubslGZna"
      },
      "source": [
        "Call the function and make sure it works as intended."
      ]
    },
    {
      "cell_type": "code",
      "metadata": {
        "id": "yXf4KAj1GZna"
      },
      "source": [
        "weighted_rating_pandas(df)\n",
        "\n",
        "pd.testing.assert_series_equal(\n",
        "    df.imdb_rating, df.imdb_rating_pandas, check_names=False\n",
        ")\n",
        "\n",
        "columns_to_show = ['id', 'original_title'] + \\\n",
        "                  list(df.columns[df.columns.str.startswith('imdb_rating')])\n",
        "df[columns_to_show].head()"
      ],
      "execution_count": null,
      "outputs": []
    },
    {
      "cell_type": "markdown",
      "metadata": {
        "id": "scNFR7X8GZnc"
      },
      "source": [
        "Time the performance of the function."
      ]
    },
    {
      "cell_type": "code",
      "metadata": {
        "id": "TbhwZZ0mGZnf"
      },
      "source": [
        "pandas_time = %timeit -r 3 -o weighted_rating_pandas(df)\n",
        "print(\"Best time:\", pandas_time.best)"
      ],
      "execution_count": null,
      "outputs": []
    },
    {
      "cell_type": "markdown",
      "metadata": {
        "id": "Xsqz0kUJGZnh"
      },
      "source": [
        "Update the score board with the best time, marginal and overall performance change you have obtained. Display the updated table below. "
      ]
    },
    {
      "cell_type": "code",
      "metadata": {
        "id": "SxCI0nUXV3Lk"
      },
      "source": [
        "# your code goes here"
      ],
      "execution_count": null,
      "outputs": []
    },
    {
      "cell_type": "markdown",
      "metadata": {
        "id": "HvwaE7pIjzEa"
      },
      "source": [
        "Time to reflect on your solution. Do the following: \n",
        " \n",
        "* Explain in words what your function does and why it is a vectorised solution. In particular, break down each step involving ufuncs, broadcasting and other vectorized calls. \n",
        "    * If your explanation has major errors, we will substract points for this part.\n",
        " \n",
        "* Display profiler output and give an analysis of what you see."
      ]
    },
    {
      "cell_type": "code",
      "metadata": {
        "id": "bQHB_JqeV52E"
      },
      "source": [
        "# your code goes here"
      ],
      "execution_count": null,
      "outputs": []
    },
    {
      "cell_type": "markdown",
      "metadata": {
        "id": "DngbQA2eV770"
      },
      "source": [
        "*Your explanation goes here*"
      ]
    },
    {
      "cell_type": "markdown",
      "metadata": {
        "id": "QLwJEzATEKwi"
      },
      "source": [
        "## Part 4: Vectorised solution with NumPy (12.5 pts)"
      ]
    },
    {
      "cell_type": "markdown",
      "metadata": {
        "id": "GrAZ4OI2EPk8"
      },
      "source": [
        "Let's find a vectorised solution that uses NumPy to speed up the calculations. You have to define a function `weighted_rating_numpy(df)` that computes the ratings in a vectorised way and stores them in a new column of the DataFrame called `imdb_rating_numpy`."
      ]
    },
    {
      "cell_type": "code",
      "metadata": {
        "id": "9sJlkDYAzQr8"
      },
      "source": [
        "# your code goes here"
      ],
      "execution_count": null,
      "outputs": []
    },
    {
      "cell_type": "markdown",
      "metadata": {
        "id": "n2pAc_GEEudy"
      },
      "source": [
        "Call the function and make sure it works as intended."
      ]
    },
    {
      "cell_type": "code",
      "metadata": {
        "id": "IALbcsKO2RNt"
      },
      "source": [
        "weighted_rating_numpy(df)\n",
        "\n",
        "pd.testing.assert_series_equal(\n",
        "    df.imdb_rating, df.imdb_rating_numpy, check_names=False\n",
        ")\n",
        "\n",
        "columns_to_show = ['id', 'original_title'] + \\\n",
        "                  list(df.columns[df.columns.str.startswith('imdb_rating')])\n",
        "df[columns_to_show].head()"
      ],
      "execution_count": null,
      "outputs": []
    },
    {
      "cell_type": "markdown",
      "metadata": {
        "id": "r0ebRPwiFAfo"
      },
      "source": [
        "Time the best performance of the function."
      ]
    },
    {
      "cell_type": "code",
      "metadata": {
        "id": "eWe52oAQ6l8R"
      },
      "source": [
        "numpy_time = %timeit -r 3 -o weighted_rating_numpy(df)\n",
        "print(\"Best time:\", numpy_time.best)"
      ],
      "execution_count": null,
      "outputs": []
    },
    {
      "cell_type": "markdown",
      "metadata": {
        "id": "TB7tkhUDFAfr"
      },
      "source": [
        "Update the score board with the best time, marginal and overall performance change you have obtained. Display the updated table below. "
      ]
    },
    {
      "cell_type": "code",
      "metadata": {
        "id": "J8MBiqnvushL"
      },
      "source": [
        "# your code goes here"
      ],
      "execution_count": null,
      "outputs": []
    },
    {
      "cell_type": "markdown",
      "metadata": {
        "id": "8RSyEDTvA-QQ"
      },
      "source": [
        "Time to reflect on your solution. Do the following: \n",
        " \n",
        "* Explain in words what your function does and why it is a vectorised solution. In particular, break down each step involving ufuncs, broadcasting and other vectorized calls. \n",
        "    * If your explanation has major errors, we will substract points for this part.\n",
        "    * If applicable, you may refer back to the explanation you gave for `weighted_rating_pandas`.\n",
        " \n",
        "* Display profiler output and give an analysis of what you see.\n",
        "    * Contrast your findings with those from `weighted_rating_pandas`."
      ]
    },
    {
      "cell_type": "code",
      "metadata": {
        "id": "FV8aYhv5WEqA"
      },
      "source": [
        "# your code goes here"
      ],
      "execution_count": null,
      "outputs": []
    },
    {
      "cell_type": "markdown",
      "metadata": {
        "id": "k7lgegwDWFTt"
      },
      "source": [
        "*Your explanation goes here*"
      ]
    },
    {
      "cell_type": "markdown",
      "metadata": {
        "id": "rcGeZKuIRHe7"
      },
      "source": [
        "## Part 5: Find out the top 25 titles (2.5 pts)"
      ]
    },
    {
      "cell_type": "markdown",
      "metadata": {
        "id": "E-IE_GfsRMOG"
      },
      "source": [
        "What are the top 25 titles? Now that we have the IMDb ratings conveniently stored in a column, display the top 25 titles, together with their IMDb rating:"
      ]
    },
    {
      "cell_type": "code",
      "metadata": {
        "id": "svC-x1ZcRNJ4"
      },
      "source": [
        "# your code goes here"
      ],
      "execution_count": null,
      "outputs": []
    },
    {
      "cell_type": "markdown",
      "metadata": {
        "id": "2Ca4XaEtqvwt"
      },
      "source": [
        "# Exercise 3: Predicting the genre of movies (40 points)"
      ]
    },
    {
      "cell_type": "markdown",
      "metadata": {
        "id": "irkcmAfTHTzR"
      },
      "source": [
        "In this exercise, you'll be asked to create a number of features and use them to predict whether a movie is a science fiction movie or not. \n",
        "For this classification task, we'll work with a different part of the movies dataset, which contains more information for each movie."
      ]
    },
    {
      "cell_type": "code",
      "metadata": {
        "ExecuteTime": {
          "end_time": "2021-09-27T12:28:57.151965Z",
          "start_time": "2021-09-27T12:28:57.145452Z"
        },
        "id": "cs0dJMEG1PLL"
      },
      "source": [
        "train_url = 'http://courses.compute.dtu.dk/02807/2021/projects/project1/train.csv'"
      ],
      "execution_count": null,
      "outputs": []
    },
    {
      "cell_type": "markdown",
      "metadata": {
        "id": "SIcpNS2GCXUi"
      },
      "source": [
        "You'll try to predict whether a movie is a science fiction movie based on the other associated genres for the movie, the people and companies involved in making it, as well as its release date."
      ]
    },
    {
      "cell_type": "markdown",
      "metadata": {
        "id": "IkN5bCjoCPW9"
      },
      "source": [
        "## Part 1: Adding binary features for genres (15 pts)"
      ]
    },
    {
      "cell_type": "markdown",
      "metadata": {
        "id": "XA00jck22BKq"
      },
      "source": [
        "As in Exercise 1, the data on several columns is in a stringified format. Pre-process the following columns appropriately, as you did with the `genres` column in Part 1 of Exercise 1.\n",
        "```\n",
        "'belongs_to_collection', 'genres', 'production_companies','production_countries', 'spoken_languages', 'Keywords', 'cast', 'crew'\n",
        "```\n",
        " \n",
        "Don't loop explicitly over the rows to perform this preprocessing. Your dataframe should be named `train`."
      ]
    },
    {
      "cell_type": "code",
      "metadata": {
        "id": "tHi0Ejxb2bKM"
      },
      "source": [
        "# your code goes here"
      ],
      "execution_count": null,
      "outputs": []
    },
    {
      "cell_type": "markdown",
      "metadata": {
        "id": "Z57lsGZ5IL7b"
      },
      "source": [
        "Looking at the 'genres' column, you can see that movies have a varying number of associated genres."
      ]
    },
    {
      "cell_type": "code",
      "metadata": {
        "id": "amzV_VzSE0VL"
      },
      "source": [
        "# this will work only if you've already preprocessed the genres' column into lists of dicts\n",
        "for i, v in enumerate(train.genres.head()):\n",
        "    print(i, v)"
      ],
      "execution_count": null,
      "outputs": []
    },
    {
      "cell_type": "markdown",
      "metadata": {
        "id": "kPDjPDHlInOC"
      },
      "source": [
        "Count the number of movies that have $n$ associated genres, for each $n$ in the dataset. If a movie has no associated genres, assign it the number 0. \n",
        "\n",
        "You have to use Pandas built-in functions only (no explicit looping). For example, you could use `apply()` with an appropriate function to apply to each row. \n",
        "\n",
        "Once you have the counts, visualise them as a bar chart, with one bar per possible number of associated genres, and the height of the bar representing the number of movies with that number of genres.\n"
      ]
    },
    {
      "cell_type": "code",
      "metadata": {
        "id": "6cHqZJ8iImh1"
      },
      "source": [
        "# your code goes here"
      ],
      "execution_count": null,
      "outputs": []
    },
    {
      "cell_type": "markdown",
      "metadata": {
        "id": "EqA9UQ3rJyBQ"
      },
      "source": [
        "Let's create our binary features next. Complete the following steps:\n",
        " \n",
        "1.   Transform the `genres` column by replacing its current entries with the list of names of genres occurring in the entries.  For example, the entry \n",
        "```\n",
        "[{'id': 10749, 'name': 'Romance'}, {'id': 35, 'name': 'Comedy'}]\n",
        "```\n",
        "should be transformed into:\n",
        "```\n",
        "['Romance','Comedy']\n",
        "```\n",
        "Empty entries should be transformed into the empty list `[]`.\n",
        "\n",
        "2. Create a separate column (in `train`) for each of the 20 genres, with name `genres_(nameofgenre)` (e.g. `genres_Comedy`). A movie should have a 1 on a genres column if the genre is one of the associated genres for that movie, and a 0 otherwise.\n",
        "    * To get started, consider what operations create a data frame with dimensions as `train` and columns as specified here, based on the list output from step 1. Then combine this data frame with `train`.\n",
        "\n",
        "You have to use Pandas built-in functions only (no explicit looping)."
      ]
    },
    {
      "cell_type": "code",
      "metadata": {
        "id": "EVXMvDv3Mk1t"
      },
      "source": [
        "# your code goes here"
      ],
      "execution_count": null,
      "outputs": []
    },
    {
      "cell_type": "markdown",
      "metadata": {
        "id": "nN65zGfLnSe-"
      },
      "source": [
        "Visualise the number of movies per top 20 genre with a chart of your choice."
      ]
    },
    {
      "cell_type": "code",
      "metadata": {
        "id": "wEjJJkMZh9mF"
      },
      "source": [
        "# your code goes here"
      ],
      "execution_count": null,
      "outputs": []
    },
    {
      "cell_type": "markdown",
      "metadata": {
        "id": "M79tzVdMDfXL"
      },
      "source": [
        "## Part 2: Adding more binary features (5 pts)"
      ]
    },
    {
      "cell_type": "markdown",
      "metadata": {
        "id": "7iZngZ3ZnAsG"
      },
      "source": [
        "You've now extracted binary features for all genres associated with a movie. But there's other information that we could use to base our predictions on. \n",
        "\n",
        "The `genres` column is just one out of several columns containing lists of dictionaries as entries. For example, the `production_companies` column also contains lists of dictionaries, providing names of the companies producing the movie. As you just did with genres, add new columns for:\n",
        " \n",
        "1.   The names of the 30 most common production companies\n",
        "2.   The names of the 30 most common production countries\n",
        "3.   The names of the 30 most common actors (`cast` column) \n",
        "4.   The names of the 30 most common crew members\n",
        "5.   The names of the 30 most common keywords\n",
        " \n",
        "We recommend you generalize the functionality implemented in the previous question (e.g. to other columns and to restrict to top 30 most common values)."
      ]
    },
    {
      "cell_type": "code",
      "metadata": {
        "id": "9sO8Tsqduatn"
      },
      "source": [
        "# your code goes here"
      ],
      "execution_count": null,
      "outputs": []
    },
    {
      "cell_type": "markdown",
      "metadata": {
        "id": "KjFFSEJs93yJ"
      },
      "source": [
        "Check the result. You should now have a much wider table, with the new columns consisting of binary features."
      ]
    },
    {
      "cell_type": "code",
      "metadata": {
        "id": "IyORi5V27Mg0"
      },
      "source": [
        "train.head()"
      ],
      "execution_count": null,
      "outputs": []
    },
    {
      "cell_type": "markdown",
      "metadata": {
        "id": "joEcHikdD5SY"
      },
      "source": [
        " ## Part 3: Adding numerical date features (5 points)"
      ]
    },
    {
      "cell_type": "markdown",
      "metadata": {
        "id": "nliC-9woDYd_"
      },
      "source": [
        "Next, we'll create some features based on the release date information. Create a new column storing the value for each of the following  aspects of a release date:\n",
        " \n",
        "```\n",
        "['year', 'weekday', 'month', 'weekofyear', 'day', 'quarter']\n",
        "```\n",
        " \n",
        "As usual, don't iterate explicitly to create these columns."
      ]
    },
    {
      "cell_type": "code",
      "metadata": {
        "id": "-K5u197bDX1A"
      },
      "source": [
        "# your code goes here"
      ],
      "execution_count": null,
      "outputs": []
    },
    {
      "cell_type": "markdown",
      "metadata": {
        "id": "KWLi9-BW97VX"
      },
      "source": [
        "Next, we'll drop the columns that will not be used for learning. "
      ]
    },
    {
      "cell_type": "code",
      "metadata": {
        "ExecuteTime": {
          "end_time": "2021-09-27T15:27:05.446343Z",
          "start_time": "2021-09-27T15:27:05.426250Z"
        },
        "id": "MbycSRqu8dR5"
      },
      "source": [
        "train = train.drop(['id', 'homepage', 'original_language',\n",
        "                    'title', 'imdb_id','crew', 'poster_path', \n",
        "                    'release_date', 'status', 'belongs_to_collection',\n",
        "                    'Keywords', 'original_title', 'overview',\n",
        "                    'production_companies', 'production_countries', \n",
        "                    'spoken_languages', 'tagline', 'cast','genres'], \n",
        "                   axis=1)"
      ],
      "execution_count": null,
      "outputs": []
    },
    {
      "cell_type": "markdown",
      "metadata": {
        "id": "lOlV7ho4-OR9"
      },
      "source": [
        "Lastly, drop any rows with missing values."
      ]
    },
    {
      "cell_type": "code",
      "metadata": {
        "id": "asrzvNYy-NO4"
      },
      "source": [
        "# your code goes here"
      ],
      "execution_count": null,
      "outputs": []
    },
    {
      "cell_type": "markdown",
      "metadata": {
        "id": "tV_ANmOH0rQJ"
      },
      "source": [
        "## Part 4: Prediction (10 pts)"
      ]
    },
    {
      "cell_type": "markdown",
      "metadata": {
        "id": "9Y1XUwNX0rQL"
      },
      "source": [
        "Let's load the necessary `sklearn` libraries and prepare the training data for learning. Recall that your goal is to predict whether a movie has science fiction as an associated genre. So you're dealing with a binary classification task."
      ]
    },
    {
      "cell_type": "code",
      "metadata": {
        "id": "9Qpz2Cd60rQM"
      },
      "source": [
        "from sklearn.model_selection import train_test_split"
      ],
      "execution_count": null,
      "outputs": []
    },
    {
      "cell_type": "markdown",
      "metadata": {
        "id": "dWzqddf90rQR"
      },
      "source": [
        "Use `sklearn` to prepare the training and test sets, setting aside 15% of the data for testing. Call the training input features, training labels, test input features and test labels as follows:\n",
        "\n",
        "```\n",
        "x_train, x_test, y_train, y_test\n",
        "```\n",
        "\n"
      ]
    },
    {
      "cell_type": "code",
      "metadata": {
        "id": "dDLDQWPl0rQS"
      },
      "source": [
        "# your code goes here"
      ],
      "execution_count": null,
      "outputs": []
    },
    {
      "cell_type": "markdown",
      "metadata": {
        "id": "AKaGZrSuLg1K"
      },
      "source": [
        "Feature scaling is a common requirement for many machine learning estimators: they might behave badly if the individual features do not more or less look like standard normally distributed data (e.g. Gaussian with 0 mean and unit variance). Run the following code to feature scale your input data."
      ]
    },
    {
      "cell_type": "code",
      "metadata": {
        "id": "by0c0S7s0rQY"
      },
      "source": [
        "from sklearn.preprocessing import StandardScaler  \n",
        "scaler = StandardScaler()  \n",
        "scaler.fit(x_train)  \n",
        "x_train = scaler.transform(x_train) \n",
        "x_test = scaler.transform(x_test)"
      ],
      "execution_count": null,
      "outputs": []
    },
    {
      "cell_type": "markdown",
      "metadata": {
        "id": "lxX0ugDuNR8o"
      },
      "source": [
        "Check that the shape of your data looks correct."
      ]
    },
    {
      "cell_type": "code",
      "metadata": {
        "id": "5tJHqw2M0rQf"
      },
      "source": [
        "print(x_train.shape, y_train.shape)\n",
        "print(x_test.shape, y_test.shape)"
      ],
      "execution_count": null,
      "outputs": []
    },
    {
      "cell_type": "markdown",
      "metadata": {
        "id": "90SIHxqzN3Ht"
      },
      "source": [
        "Train a classifier of your choice. Then report results:\n",
        "* Display the confusion matrix over the test set in absolute numbers.\n",
        "    * These numbers reflect number of true positives, true negatives, false positives and false negatives.\n",
        "* Display a normalized confusion matrix over the test set, so [sensitivity and specificity](https://en.wikipedia.org/wiki/Evaluation_of_binary_classifiers) can be read from the diagonal (off-diagonal will contain type I and type II error rates).\n",
        "    * Note that sensitivity is recall for the positive class (1), whereas specificity is recall for the negative class (0).\n",
        "* State **in free-text** the sensitivity and specificity of your classifier."
      ]
    },
    {
      "cell_type": "code",
      "metadata": {
        "id": "lIg8WIm3NiKN"
      },
      "source": [
        "# your code goes here"
      ],
      "execution_count": null,
      "outputs": []
    },
    {
      "cell_type": "markdown",
      "metadata": {
        "id": "lBkWn4WXA-QS"
      },
      "source": [
        "*Your explanation here*"
      ]
    },
    {
      "cell_type": "markdown",
      "metadata": {
        "id": "oP8IaWa9A-QS"
      },
      "source": [
        "## Part 5: Prediction with less leakage (5 points)"
      ]
    },
    {
      "cell_type": "markdown",
      "metadata": {
        "id": "ZKIGA3BOA-QS"
      },
      "source": [
        "From Wikipedia, [data leakage](https://en.wikipedia.org/wiki/Leakage_(machine_learning)) is the use of information in the model training process which would not be expected to be available at prediction time, causing the predictive scores (metrics) to overestimate the model's utility when run in a production environment.\n",
        "\n",
        "Feature or column-wise leakage is caused by the inclusion of columns which are one of the following: a duplicate label, a proxy for the label, or the label itself\n",
        "\n",
        "Considering we're doing binary classification of whether a movie is science fiction, identify the most prominent cause of feature leakage among the features added during Exercise 3. \n",
        "\n",
        "1) **Argue** for your choice, 2) train a classifier not subject to this feature leakage (it's OK to create a new train/test split) and 3) **report the results** as you did in Part 4."
      ]
    },
    {
      "cell_type": "markdown",
      "metadata": {
        "id": "Mb7FTGgTA-QS"
      },
      "source": [
        "*Your explanation here*"
      ]
    },
    {
      "cell_type": "code",
      "metadata": {
        "ExecuteTime": {
          "end_time": "2021-09-27T14:01:15.648444Z",
          "start_time": "2021-09-27T14:01:15.643363Z"
        },
        "id": "9CzDjF_pA-QS"
      },
      "source": [
        "# your code goes here"
      ],
      "execution_count": null,
      "outputs": []
    },
    {
      "cell_type": "markdown",
      "metadata": {
        "id": "hc4EOB-gb5pp"
      },
      "source": [
        "# Exercise 4: Basic movie recommendation system (20 points)"
      ]
    },
    {
      "cell_type": "markdown",
      "metadata": {
        "id": "7PqirpLgVdN0"
      },
      "source": [
        "In this exercise, you'll build a simple movie recommendation system.  The system will take a movie as input and recommend a list of similar movies. In order to recommend similar movies, you will use the correlation between the ratings of movies as a similarity metric. We'll use Pearson's correlation. \n",
        " \n",
        "The data for this exercise is available in the following URLs. It contains basic info about movies, as well as ratings provided by several users."
      ]
    },
    {
      "cell_type": "code",
      "metadata": {
        "ExecuteTime": {
          "end_time": "2021-09-27T14:49:08.552678Z",
          "start_time": "2021-09-27T14:49:08.547286Z"
        },
        "id": "HOHERjo8cLQo"
      },
      "source": [
        "url1 = 'http://courses.compute.dtu.dk/02807/2021/projects/project1/ratings.csv'\n",
        "url2 = 'http://courses.compute.dtu.dk/02807/2021/projects/project1/movies.csv'"
      ],
      "execution_count": null,
      "outputs": []
    },
    {
      "cell_type": "markdown",
      "metadata": {
        "id": "YOXKd22xXgo2"
      },
      "source": [
        "## Part 1: Preparing the ratings data (10 pts)"
      ]
    },
    {
      "cell_type": "markdown",
      "metadata": {
        "id": "Isn8M65HXi3i"
      },
      "source": [
        "Read the data from these two URLs, and create a single dataframe from them, with the following columns:\n",
        "\n",
        "| userId | movieId | rating | timestamp | title | genres |\n",
        "|--------|---------|--------|-----------|-------|--------|\n",
        "|        |         |        |           |       |        |\n",
        "\n",
        "Call the dataframe `movie_data`."
      ]
    },
    {
      "cell_type": "code",
      "metadata": {
        "id": "GwhdEsGUn1zz"
      },
      "source": [
        "# your code goes here"
      ],
      "execution_count": null,
      "outputs": []
    },
    {
      "cell_type": "markdown",
      "metadata": {
        "id": "MFGc9VSzadHi"
      },
      "source": [
        "To find the correlation between the ratings of movies, create a dataframe where each column is a movie name and each row contains the rating assigned by a specific user to that movie. \n",
        "\n",
        "You'll notice that this dataframe has many NaN values, since each movie is not rated by every user. Call the dataframe `user_ratings`."
      ]
    },
    {
      "cell_type": "code",
      "metadata": {
        "id": "eTrrVPsrfn1Q"
      },
      "source": [
        "# your code goes here"
      ],
      "execution_count": null,
      "outputs": []
    },
    {
      "cell_type": "markdown",
      "metadata": {
        "id": "hy61Luqyu2Te"
      },
      "source": [
        "## Part 2: Finding the most similar movies (10 pts)"
      ]
    },
    {
      "cell_type": "markdown",
      "metadata": {
        "id": "M7FBDshDd1j7"
      },
      "source": [
        "Each column contains all the user ratings for a particular movie. Let's take the user ratings for the movie Toy Story."
      ]
    },
    {
      "cell_type": "code",
      "metadata": {
        "id": "6e-9WXAro_4-"
      },
      "source": [
        "toystory_ratings = user_ratings['Toy Story (1995)']\n",
        "toystory_ratings"
      ],
      "execution_count": null,
      "outputs": []
    },
    {
      "cell_type": "markdown",
      "metadata": {
        "id": "fljIQkJmpCJD"
      },
      "source": [
        "Next, find the correlation between the user ratings for Toy Story and the user ratings of all other movies. \n",
        " \n",
        "More specifically, create a dataframe that contains two columns, called `title` and `Correlation`. Each row should contain a movie title $x$, followed by the pairwise correlation between the column of ratings for Toy Story and the column of ratings for $x$.  Drop any rows with null values, and display the resulting dataframe.\n",
        " \n",
        "Use built-in functions to compute correlations and avoid explicit loops."
      ]
    },
    {
      "cell_type": "code",
      "metadata": {
        "id": "_yuX1U0Xh0nk"
      },
      "source": [
        "# your code goes here"
      ],
      "execution_count": null,
      "outputs": []
    },
    {
      "cell_type": "markdown",
      "metadata": {
        "id": "aji7cUw-r-JG"
      },
      "source": [
        "Sort the movies by descending order of correlation to find out highly correlated movies at the top. Display the 5 most highly correlated movies.\n"
      ]
    },
    {
      "cell_type": "code",
      "metadata": {
        "id": "FU0Zm9fjg4BD"
      },
      "source": [
        "# your code goes here"
      ],
      "execution_count": null,
      "outputs": []
    },
    {
      "cell_type": "markdown",
      "metadata": {
        "id": "qrvD_u63sVdD"
      },
      "source": [
        "If you computed correlations correctly, you will find that the recommended movies are not very well known. We can generate more popular recommendations by finding highly correlated movies that have a sensible number of ratings. \n",
        " \n",
        "Add a column to your correlation table, called `rating_counts`, which stores the number of ratings received by each movie."
      ]
    },
    {
      "cell_type": "code",
      "metadata": {
        "id": "WvMKUmBFg-Ow"
      },
      "source": [
        "# your code goes here"
      ],
      "execution_count": null,
      "outputs": []
    },
    {
      "cell_type": "markdown",
      "metadata": {
        "id": "b_20nfFvt-7y"
      },
      "source": [
        "Now find the 5 movies with the highest correlation with Toy Story, which have strictly more than 100 ratings. Display the result below. "
      ]
    },
    {
      "cell_type": "code",
      "metadata": {
        "id": "KvE3c2lMhHNz"
      },
      "source": [
        "# your code goes here"
      ],
      "execution_count": null,
      "outputs": []
    }
  ]
}