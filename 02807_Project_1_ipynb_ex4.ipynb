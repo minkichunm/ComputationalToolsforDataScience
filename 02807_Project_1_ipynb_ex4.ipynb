{
  "nbformat": 4,
  "nbformat_minor": 0,
  "metadata": {
    "colab": {
      "name": "02807_Project_1.ipynb의 사본의 사본",
      "provenance": [],
      "collapsed_sections": []
    },
    "kernelspec": {
      "display_name": "Python 3 (ipykernel)",
      "language": "python",
      "name": "python3"
    },
    "language_info": {
      "codemirror_mode": {
        "name": "ipython",
        "version": 3
      },
      "file_extension": ".py",
      "mimetype": "text/x-python",
      "name": "python",
      "nbconvert_exporter": "python",
      "pygments_lexer": "ipython3",
      "version": "3.9.6"
    },
    "toc": {
      "base_numbering": 1,
      "nav_menu": {},
      "number_sections": true,
      "sideBar": true,
      "skip_h1_title": false,
      "title_cell": "Table of Contents",
      "title_sidebar": "Contents",
      "toc_cell": false,
      "toc_position": {
        "height": "calc(100% - 180px)",
        "left": "10px",
        "top": "150px",
        "width": "362px"
      },
      "toc_section_display": true,
      "toc_window_display": true
    }
  },
  "cells": [
    {
      "cell_type": "markdown",
      "metadata": {
        "id": "PlsPJUw7wCWZ"
      },
      "source": [
        "# 02807: Project 1\n",
        " \n",
        "## Practical information\n",
        " \n",
        "* This project must be completed in groups of 3 students.\n",
        "    * The group must be registered on the course site on DTU Learn: My Course > Groups\n",
        "* This project must be handed in as a jupyter notebook to the course site on DTU Learn. \n",
        "    * Go to the Course Content > Assignments tab to upload your submission. \n",
        "* This project is due on Monday, November 1, 20:00.\n",
        "\n",
        "## Submission rules\n",
        "\n",
        "* Each group has to hand in *one* notebook (`.ipynb`) with their solutions, including a filled out Contribution table (see below).\n",
        "* Your solution must be written in Python.\n",
        "* For each question you should use the cells provided (\"`# your code goes here`\") for your solution\n",
        "    * It is allowed to add code cells within a question block, but consider if it's really necessary.\n",
        "* You should not remove the problem statements, and you should not modify the structure of the notebook.\n",
        "* Your notebook should be runnable and readable from top to bottom.\n",
        "    * Meaning that your code cells work when run in order (from top to bottom).\n",
        "    * Output of any cell depends only on itself and cells above it.\n",
        "* Your notebook should be submitted after having been run from top to bottom.\n",
        "    * This means outputs are interpretable without necessarily running your cells.\n",
        "    * The simplest way to achieve this is using the jupyter menu item Kernel > Restart & Run All just prior to submission. If any cell fails when you do this, your notebook is not ready for submission.\n",
        "* Failure to comply may make it impossible for us to evaluate your submission properly, which will likely negatively impact the points awarded.\n",
        "    \n",
        " \n",
        "## Colaboration policy\n",
        " \n",
        "* It is not allowed to collaborate on the exercises with students outside your group, except for discussing the text of the exercise with teachers and fellow students enrolled on the course in the same semester. \n",
        "* It is not allowed to exchange, hand-over or in any other way communicate solutions or parts of solutions to the exercises. \n",
        "* It is not allowed to use solutions from similar courses, or solutions found elsewhere."
      ]
    },
    {
      "cell_type": "markdown",
      "metadata": {
        "id": "ZP30rwxHDQyG"
      },
      "source": [
        "## Contribution table and grading\n",
        "\n",
        "* The total amount of points in the project is 110.\n",
        "* You have to indicate who has solved each part of each exercise in a **contribution table**. \n",
        "* The following is an example of a contributions table:\n",
        "\n",
        "|        | Exercise 1 | Exercise 2 | Exercise 3 | Exercise 4 |\n",
        "|--------|------------|------------|------------|------------|\n",
        "| **Part 1** | John       |    Mary        |     Ann       |   Mary, Ann         |\n",
        "| **Part 2** |     Mary       |    Mary        |   Ann         |    John, Ann        |\n",
        "| **Part 3** |     John, Mary, Ann       |      John, Ann      |   John         | **n.a.**      |\n",
        "| **Part 4** | **n.a.**       |  Ann          |     John, Mary       | **n.a.**       |\n",
        "| **Part 5** | **n.a.**     | John, Mary, Ann           | John       | **n.a.**       |\n",
        "\n",
        "* A group member can take credit for solving a part of an exercise only if they have contributed **substantially** to the solution. \n",
        "    * Simple contributions, such as correcting a small bug or double-checking the results of functions, are not sufficient for taking credit for a solution.\n",
        "    * Several group members can take credit for the same solution if they all have contributed substantially to it.\n",
        "* Each group member must contribute **at least 50 points**. \n",
        "    * If no name is provided for an exercise's part, **all group members** are considered contributors to it.\n",
        "* Group members should decide amongst themselves how to collaborate on the project to meet the above-mentioned constraints.  \n",
        "* Scores are individual. The score $\\text{score}(m)$ for a group member $m$ ranges from 0 to 10 and is calculated as follows: \n",
        "\n",
        "  * $\\text{individual-score}(m) = \\frac{\\text{total number of points for the parts correctly solved by }m}{\\text{total number of points for the parts contributed by }m}$\n",
        "\n",
        "  * $\\text{group-score} = \\frac{\\text{total number of points correctly solved by any group member}}{\\text{total number of points in the project}}$\n",
        "\n",
        "  * $\\text{score}(m) =  7.5 \\cdot \\text{individual-score}(m) + 2.5 \\cdot \\text{group-score}$\n",
        "\n",
        "* **Example**: in the contribution table above, suppose that all parts are solved correctly except for those of Exercise 4, which are both wrong. Then Ann's score is calculated as follows:\n",
        "\n",
        "  * $\\text{individual-score}(Ann) = \\frac{2.5+12.5+12.5+2.5+15+5}{2.5+12.5+12.5+2.5+15+5 + 10 + 10} = \\frac{50}{70} = 0.714$\n",
        "\n",
        "  * $\\text{group-score} = \\frac{90}{110} = 0.818$\n",
        "\n",
        "  * $\\text{score}(Ann) = 7.5\\cdot 0.714 + 2.5 \\cdot 0.818 = 7.4$\n"
      ]
    },
    {
      "cell_type": "markdown",
      "metadata": {
        "id": "vklet8XdRGVV"
      },
      "source": [
        "# Group declaration table \n",
        "\n",
        "This table must be filled before submission.\n",
        "\n"
      ]
    },
    {
      "cell_type": "code",
      "metadata": {
        "ExecuteTime": {
          "end_time": "2021-09-27T15:03:19.791917Z",
          "start_time": "2021-09-27T15:03:19.764408Z"
        },
        "colab": {
          "base_uri": "https://localhost:8080/",
          "height": 195
        },
        "id": "chiXA3CzRSA1",
        "outputId": "1558c489-5463-4190-d64c-d5a898717065"
      },
      "source": [
        "import pandas as pd\n",
        "\n",
        "d = {'Exercise 1' : [\"Minki\", \"Minki\", \"Minki\", \"n.a.\", \"n.a.\"], \n",
        "     'Exercise 2' : [\"\", \"\", \"\", \"\", \"\"],\n",
        "     'Exercise 3' : [\"Minki\", \"\", \"\", \"\", \"\"], \n",
        "     'Exercise 4' : [\"Minki\", \"Minki\", \"n.a.\", \"n.a.\", \"n.a.\"],\n",
        "     } \n",
        "  \n",
        "ct = pd.DataFrame(d, index =['Part 1','Part 2','Part 3','Part 4','Part 5']) \n",
        "\n",
        "ct"
      ],
      "execution_count": 10,
      "outputs": [
        {
          "output_type": "execute_result",
          "data": {
            "text/html": [
              "<div>\n",
              "<style scoped>\n",
              "    .dataframe tbody tr th:only-of-type {\n",
              "        vertical-align: middle;\n",
              "    }\n",
              "\n",
              "    .dataframe tbody tr th {\n",
              "        vertical-align: top;\n",
              "    }\n",
              "\n",
              "    .dataframe thead th {\n",
              "        text-align: right;\n",
              "    }\n",
              "</style>\n",
              "<table border=\"1\" class=\"dataframe\">\n",
              "  <thead>\n",
              "    <tr style=\"text-align: right;\">\n",
              "      <th></th>\n",
              "      <th>Exercise 1</th>\n",
              "      <th>Exercise 2</th>\n",
              "      <th>Exercise 3</th>\n",
              "      <th>Exercise 4</th>\n",
              "    </tr>\n",
              "  </thead>\n",
              "  <tbody>\n",
              "    <tr>\n",
              "      <th>Part 1</th>\n",
              "      <td>Minki</td>\n",
              "      <td></td>\n",
              "      <td>Minki</td>\n",
              "      <td>Minki</td>\n",
              "    </tr>\n",
              "    <tr>\n",
              "      <th>Part 2</th>\n",
              "      <td>Minki</td>\n",
              "      <td></td>\n",
              "      <td></td>\n",
              "      <td>Minki</td>\n",
              "    </tr>\n",
              "    <tr>\n",
              "      <th>Part 3</th>\n",
              "      <td>Minki</td>\n",
              "      <td></td>\n",
              "      <td></td>\n",
              "      <td>n.a.</td>\n",
              "    </tr>\n",
              "    <tr>\n",
              "      <th>Part 4</th>\n",
              "      <td>n.a.</td>\n",
              "      <td></td>\n",
              "      <td></td>\n",
              "      <td>n.a.</td>\n",
              "    </tr>\n",
              "    <tr>\n",
              "      <th>Part 5</th>\n",
              "      <td>n.a.</td>\n",
              "      <td></td>\n",
              "      <td></td>\n",
              "      <td>n.a.</td>\n",
              "    </tr>\n",
              "  </tbody>\n",
              "</table>\n",
              "</div>"
            ],
            "text/plain": [
              "       Exercise 1 Exercise 2 Exercise 3 Exercise 4\n",
              "Part 1      Minki                 Minki      Minki\n",
              "Part 2      Minki                            Minki\n",
              "Part 3      Minki                             n.a.\n",
              "Part 4       n.a.                             n.a.\n",
              "Part 5       n.a.                             n.a."
            ]
          },
          "metadata": {},
          "execution_count": 10
        }
      ]
    },
    {
      "cell_type": "markdown",
      "metadata": {
        "_uuid": "d7aa1b0ad6979877450f9cd89e1e37289b51cf6e",
        "id": "CF8tC7Z8CgbW"
      },
      "source": [
        "# Introduction to the Datasets"
      ]
    },
    {
      "cell_type": "markdown",
      "metadata": {
        "id": "pO8N4lj29u9w"
      },
      "source": [
        "![link text](https://ph-files.imgix.net/069dd825-cddf-4048-adde-8e81396c2c68?auto=format)\n",
        "\n",
        "\n",
        "You will be working with datasets obtained through the [The Movie Database (TMDb) API](https://developers.themoviedb.org/3/getting-started/introduction). The first dataset is part of the MovieLens Latest Full Dataset, comprising 26 million ratings on 45.000 movies from 27.000 users. Let's look at the features in this dataset.\n",
        "\n",
        "**Features**\n",
        "\n",
        "* **adult**: Indicates if the movie is X-Rated.\n",
        "* **belongs_to_collection**: A stringified dictionary with info on the movie series a particular film belongs to (e.g.: Lord of the Rings).\n",
        "* **budget**: The movie budget in dollars.\n",
        "* **genres**: A stringified list of dictionaries describing all genres associated with the movie.\n",
        "* **homepage**: The movie's official homepage.\n",
        "* **id**: An identifier for the movie.\n",
        "* **imdb_id**: IMDB's identifier for the movie.\n",
        "* **original_language**: The language in which the movie was shot.\n",
        "* **original_title**: The original title of the movie.\n",
        "* **overview**: A brief text about the movie.\n",
        "* **popularity**: A Popularity Score given by TMDb.\n",
        "* **poster_path**: The URL of the poster image.\n",
        "* **production_companies**: A stringified list of production companies involved with making of the movie.\n",
        "* **production_countries**: A stringified list of countries in which the movie was produced.\n",
        "* **release_date**: Release date of the movie in theaters.\n",
        "* **revenue**: The total revenue of the movie in dollars.\n",
        "* **runtime**: The runtime of the movie in minutes.\n",
        "* **spoken_languages**: A stringified list of languages spoken in the film.\n",
        "* **status**: The status of the movie (Released, To Be Released, etc.)\n",
        "* **tagline**: The movie's tagline.\n",
        "* **title**: The official title of the movie.\n",
        "* **video**: Indicates whether there is a video of the movie in TMDb.\n",
        "* **vote_average**: The average rating of the movie, on a 0-10 scale.\n",
        "* **vote_count**: The number of votes by users, as counted by TMDb."
      ]
    },
    {
      "cell_type": "markdown",
      "metadata": {
        "_uuid": "6b418588e3f9139f74cb3a9546f5dca49729579b",
        "id": "2Clue5Z_Cgbc"
      },
      "source": [
        "# Imports\n",
        "\n",
        "First, let's make sure to import Pandas and NumPy. "
      ]
    },
    {
      "cell_type": "code",
      "metadata": {
        "ExecuteTime": {
          "end_time": "2021-09-27T10:09:32.802462Z",
          "start_time": "2021-09-27T10:09:30.598648Z"
        },
        "id": "A0K3Aw3eAf2B"
      },
      "source": [
        "import pandas as pd \n",
        "import numpy as np"
      ],
      "execution_count": 5,
      "outputs": []
    },
    {
      "cell_type": "markdown",
      "metadata": {
        "id": "PFlHk-e0BZME"
      },
      "source": [
        "# Exercise 1: Loading, preprocessing and cleaning the data (15 points)"
      ]
    },
    {
      "cell_type": "markdown",
      "metadata": {
        "id": "mGJnqtQD1BOs"
      },
      "source": [
        "Read the movie dataset from the following URL."
      ]
    },
    {
      "cell_type": "code",
      "metadata": {
        "ExecuteTime": {
          "end_time": "2021-09-27T10:09:34.147572Z",
          "start_time": "2021-09-27T10:09:34.145160Z"
        },
        "id": "sQb46KRIAkOB"
      },
      "source": [
        "url = 'http://courses.compute.dtu.dk/02807/2021/projects/project1/movies_metadata.csv'"
      ],
      "execution_count": 64,
      "outputs": []
    },
    {
      "cell_type": "markdown",
      "metadata": {
        "id": "KCYy8KL4LjbC"
      },
      "source": [
        ""
      ]
    },
    {
      "cell_type": "markdown",
      "metadata": {
        "id": "jQrm5PleClKz"
      },
      "source": [
        "## Part 1: Reading and preprocessing the data (10 pts)\n",
        "\n",
        "Pandas infers a data type for raw data from a `.csv`, defaulting to string type when no other `dtype` could be established. For example, the `genres` column in our dataset is read as a string with a *stringified* list of dictionaries as cell content. \n",
        "\n",
        "Some preprocessing steps are therefore needed, to convert the columns into their proper data types.\n",
        "\n",
        "Write a function `load_movies_data()` that reads the URL into a Pandas DataFrame and preprocesses its columns to ensure that:\n",
        "\n",
        "1. Data in the `release_date` column consists of Pandas `Timestamp` objects, except for missing values. For example, executing a code cell with `df.release_date[0]` should display the output `Timestamp('1995-10-30 00:00:00')`.\n",
        "\n",
        "2. Data in `belongs_to_collection` consists of dictionaries, except for missing values.\n",
        "\n",
        "3. Data in `genres`, `production_companies` and `production_countries` consists of lists of dictionaries, except for missing values. \n",
        "\n",
        "For example, executing a code cell with `df.genres[0]` should display the output \n",
        "```\n",
        "[{'id': 16, 'name': 'Animation'},\n",
        " {'id': 35, 'name': 'Comedy'},\n",
        " {'id': 10751, 'name': 'Family'}]\n",
        "```\n",
        "which is a list type, not a string. The elements of the list are dictionaries (executing `df.genres[0][0]['name']` returns `'Animation'`). \n",
        "\n",
        "**Hint**: for items 2 and 3, you should use `ast.literal_eval`.\n",
        "\n",
        "These conversions can be performed using Pandas' built-in functions and/or calling Pandas' `apply()` with appropriate arguments. Avoid explicit looping. You'll be asked below to time the loading and preprocessing step. "
      ]
    },
    {
      "cell_type": "code",
      "metadata": {
        "id": "2mC5hjGXJTZ0"
      },
      "source": [
        "# your code goes here\n",
        "from ast import literal_eval\n",
        "\n",
        "def f(x):\n",
        "    try:\n",
        "        return literal_eval(str(x))   \n",
        "    except Exception as e:\n",
        "        return np.nan\n",
        "\n",
        "def load_movies_data(url):\n",
        "    df = pd.read_csv(url, dtype='unicode',low_memory=False)\n",
        "\n",
        "    df['release_date'] = pd.to_datetime(df['release_date'], errors='coerce')\n",
        "    df.belongs_to_collection=df.belongs_to_collection.fillna('{}').apply(lambda x: f(x))\n",
        "    df.genres=df.genres.fillna('[]').apply(lambda x: f(x))\n",
        "    df.production_companies=df.production_companies.fillna('[]').apply(lambda x: f(x))\n",
        "    df.production_countries=df.production_countries.fillna('[]').apply(lambda x: f(x))\n",
        "    \n",
        "    df.vote_average = df.vote_average.apply(lambda x: f(x))\n",
        "    df.vote_count = df.vote_count.apply(lambda x: f(x))\n",
        "    return df"
      ],
      "execution_count": 65,
      "outputs": []
    },
    {
      "cell_type": "markdown",
      "metadata": {
        "id": "oZvSPPdzfScL"
      },
      "source": [
        "Now call `load_movies_data()` and load the data into a DataFrame `df`."
      ]
    },
    {
      "cell_type": "code",
      "metadata": {
        "id": "4-eOSqlhD-8J"
      },
      "source": [
        "# your code goes here\n",
        "df = load_movies_data(url)\n",
        "# df.head(n=2)\n",
        "# print(type(df.release_date[0]))\n",
        "# check release_date\n",
        "# df.release_date[0]\n",
        "# check belongs_to_collection\n",
        "# print(df.belongs_to_collection[0] + \"  ,\" + df.belongs_to_collection[1])\n",
        "# check genre\n",
        "# print(df.genres[0] ) \n",
        "# print(df.genres[0][0]['name']) doesn't work yet -> string indices must be integers"
      ],
      "execution_count": 66,
      "outputs": []
    },
    {
      "cell_type": "markdown",
      "metadata": {
        "id": "bnelY1bZzj-J"
      },
      "source": [
        "Display the DataFrame. You should check that it looks correct."
      ]
    },
    {
      "cell_type": "code",
      "metadata": {
        "colab": {
          "base_uri": "https://localhost:8080/",
          "height": 1000
        },
        "id": "tP6zpeLxu4J-",
        "outputId": "80f6f851-37ef-42bb-f7db-7790a8a8ebe9"
      },
      "source": [
        "# your code goes here\n",
        "display(df)"
      ],
      "execution_count": 67,
      "outputs": [
        {
          "output_type": "display_data",
          "data": {
            "text/html": [
              "<div>\n",
              "<style scoped>\n",
              "    .dataframe tbody tr th:only-of-type {\n",
              "        vertical-align: middle;\n",
              "    }\n",
              "\n",
              "    .dataframe tbody tr th {\n",
              "        vertical-align: top;\n",
              "    }\n",
              "\n",
              "    .dataframe thead th {\n",
              "        text-align: right;\n",
              "    }\n",
              "</style>\n",
              "<table border=\"1\" class=\"dataframe\">\n",
              "  <thead>\n",
              "    <tr style=\"text-align: right;\">\n",
              "      <th></th>\n",
              "      <th>adult</th>\n",
              "      <th>belongs_to_collection</th>\n",
              "      <th>budget</th>\n",
              "      <th>genres</th>\n",
              "      <th>homepage</th>\n",
              "      <th>id</th>\n",
              "      <th>imdb_id</th>\n",
              "      <th>original_language</th>\n",
              "      <th>original_title</th>\n",
              "      <th>overview</th>\n",
              "      <th>popularity</th>\n",
              "      <th>poster_path</th>\n",
              "      <th>production_companies</th>\n",
              "      <th>production_countries</th>\n",
              "      <th>release_date</th>\n",
              "      <th>revenue</th>\n",
              "      <th>runtime</th>\n",
              "      <th>spoken_languages</th>\n",
              "      <th>status</th>\n",
              "      <th>tagline</th>\n",
              "      <th>title</th>\n",
              "      <th>video</th>\n",
              "      <th>vote_average</th>\n",
              "      <th>vote_count</th>\n",
              "    </tr>\n",
              "  </thead>\n",
              "  <tbody>\n",
              "    <tr>\n",
              "      <th>0</th>\n",
              "      <td>False</td>\n",
              "      <td>{'id': 10194, 'name': 'Toy Story Collection', ...</td>\n",
              "      <td>30000000</td>\n",
              "      <td>[{'id': 16, 'name': 'Animation'}, {'id': 35, '...</td>\n",
              "      <td>http://toystory.disney.com/toy-story</td>\n",
              "      <td>862</td>\n",
              "      <td>tt0114709</td>\n",
              "      <td>en</td>\n",
              "      <td>Toy Story</td>\n",
              "      <td>Led by Woody, Andy's toys live happily in his ...</td>\n",
              "      <td>21.946943</td>\n",
              "      <td>/rhIRbceoE9lR4veEXuwCC2wARtG.jpg</td>\n",
              "      <td>[{'name': 'Pixar Animation Studios', 'id': 3}]</td>\n",
              "      <td>[{'iso_3166_1': 'US', 'name': 'United States o...</td>\n",
              "      <td>1995-10-30</td>\n",
              "      <td>373554033</td>\n",
              "      <td>81.0</td>\n",
              "      <td>[{'iso_639_1': 'en', 'name': 'English'}]</td>\n",
              "      <td>Released</td>\n",
              "      <td>NaN</td>\n",
              "      <td>Toy Story</td>\n",
              "      <td>False</td>\n",
              "      <td>7.7</td>\n",
              "      <td>5415.0</td>\n",
              "    </tr>\n",
              "    <tr>\n",
              "      <th>1</th>\n",
              "      <td>False</td>\n",
              "      <td>{}</td>\n",
              "      <td>65000000</td>\n",
              "      <td>[{'id': 12, 'name': 'Adventure'}, {'id': 14, '...</td>\n",
              "      <td>NaN</td>\n",
              "      <td>8844</td>\n",
              "      <td>tt0113497</td>\n",
              "      <td>en</td>\n",
              "      <td>Jumanji</td>\n",
              "      <td>When siblings Judy and Peter discover an encha...</td>\n",
              "      <td>17.015539</td>\n",
              "      <td>/vzmL6fP7aPKNKPRTFnZmiUfciyV.jpg</td>\n",
              "      <td>[{'name': 'TriStar Pictures', 'id': 559}, {'na...</td>\n",
              "      <td>[{'iso_3166_1': 'US', 'name': 'United States o...</td>\n",
              "      <td>1995-12-15</td>\n",
              "      <td>262797249</td>\n",
              "      <td>104.0</td>\n",
              "      <td>[{'iso_639_1': 'en', 'name': 'English'}, {'iso...</td>\n",
              "      <td>Released</td>\n",
              "      <td>Roll the dice and unleash the excitement!</td>\n",
              "      <td>Jumanji</td>\n",
              "      <td>False</td>\n",
              "      <td>6.9</td>\n",
              "      <td>2413.0</td>\n",
              "    </tr>\n",
              "    <tr>\n",
              "      <th>2</th>\n",
              "      <td>False</td>\n",
              "      <td>{'id': 119050, 'name': 'Grumpy Old Men Collect...</td>\n",
              "      <td>0</td>\n",
              "      <td>[{'id': 10749, 'name': 'Romance'}, {'id': 35, ...</td>\n",
              "      <td>NaN</td>\n",
              "      <td>15602</td>\n",
              "      <td>tt0113228</td>\n",
              "      <td>en</td>\n",
              "      <td>Grumpier Old Men</td>\n",
              "      <td>A family wedding reignites the ancient feud be...</td>\n",
              "      <td>11.7129</td>\n",
              "      <td>/6ksm1sjKMFLbO7UY2i6G1ju9SML.jpg</td>\n",
              "      <td>[{'name': 'Warner Bros.', 'id': 6194}, {'name'...</td>\n",
              "      <td>[{'iso_3166_1': 'US', 'name': 'United States o...</td>\n",
              "      <td>1995-12-22</td>\n",
              "      <td>0</td>\n",
              "      <td>101.0</td>\n",
              "      <td>[{'iso_639_1': 'en', 'name': 'English'}]</td>\n",
              "      <td>Released</td>\n",
              "      <td>Still Yelling. Still Fighting. Still Ready for...</td>\n",
              "      <td>Grumpier Old Men</td>\n",
              "      <td>False</td>\n",
              "      <td>6.5</td>\n",
              "      <td>92.0</td>\n",
              "    </tr>\n",
              "    <tr>\n",
              "      <th>3</th>\n",
              "      <td>False</td>\n",
              "      <td>{}</td>\n",
              "      <td>16000000</td>\n",
              "      <td>[{'id': 35, 'name': 'Comedy'}, {'id': 18, 'nam...</td>\n",
              "      <td>NaN</td>\n",
              "      <td>31357</td>\n",
              "      <td>tt0114885</td>\n",
              "      <td>en</td>\n",
              "      <td>Waiting to Exhale</td>\n",
              "      <td>Cheated on, mistreated and stepped on, the wom...</td>\n",
              "      <td>3.859495</td>\n",
              "      <td>/16XOMpEaLWkrcPqSQqhTmeJuqQl.jpg</td>\n",
              "      <td>[{'name': 'Twentieth Century Fox Film Corporat...</td>\n",
              "      <td>[{'iso_3166_1': 'US', 'name': 'United States o...</td>\n",
              "      <td>1995-12-22</td>\n",
              "      <td>81452156</td>\n",
              "      <td>127.0</td>\n",
              "      <td>[{'iso_639_1': 'en', 'name': 'English'}]</td>\n",
              "      <td>Released</td>\n",
              "      <td>Friends are the people who let you be yourself...</td>\n",
              "      <td>Waiting to Exhale</td>\n",
              "      <td>False</td>\n",
              "      <td>6.1</td>\n",
              "      <td>34.0</td>\n",
              "    </tr>\n",
              "    <tr>\n",
              "      <th>4</th>\n",
              "      <td>False</td>\n",
              "      <td>{'id': 96871, 'name': 'Father of the Bride Col...</td>\n",
              "      <td>0</td>\n",
              "      <td>[{'id': 35, 'name': 'Comedy'}]</td>\n",
              "      <td>NaN</td>\n",
              "      <td>11862</td>\n",
              "      <td>tt0113041</td>\n",
              "      <td>en</td>\n",
              "      <td>Father of the Bride Part II</td>\n",
              "      <td>Just when George Banks has recovered from his ...</td>\n",
              "      <td>8.387519</td>\n",
              "      <td>/e64sOI48hQXyru7naBFyssKFxVd.jpg</td>\n",
              "      <td>[{'name': 'Sandollar Productions', 'id': 5842}...</td>\n",
              "      <td>[{'iso_3166_1': 'US', 'name': 'United States o...</td>\n",
              "      <td>1995-02-10</td>\n",
              "      <td>76578911</td>\n",
              "      <td>106.0</td>\n",
              "      <td>[{'iso_639_1': 'en', 'name': 'English'}]</td>\n",
              "      <td>Released</td>\n",
              "      <td>Just When His World Is Back To Normal... He's ...</td>\n",
              "      <td>Father of the Bride Part II</td>\n",
              "      <td>False</td>\n",
              "      <td>5.7</td>\n",
              "      <td>173.0</td>\n",
              "    </tr>\n",
              "    <tr>\n",
              "      <th>...</th>\n",
              "      <td>...</td>\n",
              "      <td>...</td>\n",
              "      <td>...</td>\n",
              "      <td>...</td>\n",
              "      <td>...</td>\n",
              "      <td>...</td>\n",
              "      <td>...</td>\n",
              "      <td>...</td>\n",
              "      <td>...</td>\n",
              "      <td>...</td>\n",
              "      <td>...</td>\n",
              "      <td>...</td>\n",
              "      <td>...</td>\n",
              "      <td>...</td>\n",
              "      <td>...</td>\n",
              "      <td>...</td>\n",
              "      <td>...</td>\n",
              "      <td>...</td>\n",
              "      <td>...</td>\n",
              "      <td>...</td>\n",
              "      <td>...</td>\n",
              "      <td>...</td>\n",
              "      <td>...</td>\n",
              "      <td>...</td>\n",
              "    </tr>\n",
              "    <tr>\n",
              "      <th>45461</th>\n",
              "      <td>False</td>\n",
              "      <td>{}</td>\n",
              "      <td>0</td>\n",
              "      <td>[{'id': 18, 'name': 'Drama'}, {'id': 10751, 'n...</td>\n",
              "      <td>http://www.imdb.com/title/tt6209470/</td>\n",
              "      <td>439050</td>\n",
              "      <td>tt6209470</td>\n",
              "      <td>fa</td>\n",
              "      <td>رگ خواب</td>\n",
              "      <td>Rising and falling between a man and woman.</td>\n",
              "      <td>0.072051</td>\n",
              "      <td>/jldsYflnId4tTWPx8es3uzsB1I8.jpg</td>\n",
              "      <td>[]</td>\n",
              "      <td>[{'iso_3166_1': 'IR', 'name': 'Iran'}]</td>\n",
              "      <td>NaT</td>\n",
              "      <td>0</td>\n",
              "      <td>90.0</td>\n",
              "      <td>[{'iso_639_1': 'fa', 'name': 'فارسی'}]</td>\n",
              "      <td>Released</td>\n",
              "      <td>Rising and falling between a man and woman</td>\n",
              "      <td>Subdue</td>\n",
              "      <td>False</td>\n",
              "      <td>4.0</td>\n",
              "      <td>1.0</td>\n",
              "    </tr>\n",
              "    <tr>\n",
              "      <th>45462</th>\n",
              "      <td>False</td>\n",
              "      <td>{}</td>\n",
              "      <td>0</td>\n",
              "      <td>[{'id': 18, 'name': 'Drama'}]</td>\n",
              "      <td>NaN</td>\n",
              "      <td>111109</td>\n",
              "      <td>tt2028550</td>\n",
              "      <td>tl</td>\n",
              "      <td>Siglo ng Pagluluwal</td>\n",
              "      <td>An artist struggles to finish his work while a...</td>\n",
              "      <td>0.178241</td>\n",
              "      <td>/xZkmxsNmYXJbKVsTRLLx3pqGHx7.jpg</td>\n",
              "      <td>[{'name': 'Sine Olivia', 'id': 19653}]</td>\n",
              "      <td>[{'iso_3166_1': 'PH', 'name': 'Philippines'}]</td>\n",
              "      <td>2011-11-17</td>\n",
              "      <td>0</td>\n",
              "      <td>360.0</td>\n",
              "      <td>[{'iso_639_1': 'tl', 'name': ''}]</td>\n",
              "      <td>Released</td>\n",
              "      <td>NaN</td>\n",
              "      <td>Century of Birthing</td>\n",
              "      <td>False</td>\n",
              "      <td>9.0</td>\n",
              "      <td>3.0</td>\n",
              "    </tr>\n",
              "    <tr>\n",
              "      <th>45463</th>\n",
              "      <td>False</td>\n",
              "      <td>{}</td>\n",
              "      <td>0</td>\n",
              "      <td>[{'id': 28, 'name': 'Action'}, {'id': 18, 'nam...</td>\n",
              "      <td>NaN</td>\n",
              "      <td>67758</td>\n",
              "      <td>tt0303758</td>\n",
              "      <td>en</td>\n",
              "      <td>Betrayal</td>\n",
              "      <td>When one of her hits goes wrong, a professiona...</td>\n",
              "      <td>0.903007</td>\n",
              "      <td>/d5bX92nDsISNhu3ZT69uHwmfCGw.jpg</td>\n",
              "      <td>[{'name': 'American World Pictures', 'id': 6165}]</td>\n",
              "      <td>[{'iso_3166_1': 'US', 'name': 'United States o...</td>\n",
              "      <td>2003-08-01</td>\n",
              "      <td>0</td>\n",
              "      <td>90.0</td>\n",
              "      <td>[{'iso_639_1': 'en', 'name': 'English'}]</td>\n",
              "      <td>Released</td>\n",
              "      <td>A deadly game of wits.</td>\n",
              "      <td>Betrayal</td>\n",
              "      <td>False</td>\n",
              "      <td>3.8</td>\n",
              "      <td>6.0</td>\n",
              "    </tr>\n",
              "    <tr>\n",
              "      <th>45464</th>\n",
              "      <td>False</td>\n",
              "      <td>{}</td>\n",
              "      <td>0</td>\n",
              "      <td>[]</td>\n",
              "      <td>NaN</td>\n",
              "      <td>227506</td>\n",
              "      <td>tt0008536</td>\n",
              "      <td>en</td>\n",
              "      <td>Satana likuyushchiy</td>\n",
              "      <td>In a small town live two brothers, one a minis...</td>\n",
              "      <td>0.003503</td>\n",
              "      <td>/aorBPO7ak8e8iJKT5OcqYxU3jlK.jpg</td>\n",
              "      <td>[{'name': 'Yermoliev', 'id': 88753}]</td>\n",
              "      <td>[{'iso_3166_1': 'RU', 'name': 'Russia'}]</td>\n",
              "      <td>1917-10-21</td>\n",
              "      <td>0</td>\n",
              "      <td>87.0</td>\n",
              "      <td>[]</td>\n",
              "      <td>Released</td>\n",
              "      <td>NaN</td>\n",
              "      <td>Satan Triumphant</td>\n",
              "      <td>False</td>\n",
              "      <td>0.0</td>\n",
              "      <td>0.0</td>\n",
              "    </tr>\n",
              "    <tr>\n",
              "      <th>45465</th>\n",
              "      <td>False</td>\n",
              "      <td>{}</td>\n",
              "      <td>0</td>\n",
              "      <td>[]</td>\n",
              "      <td>NaN</td>\n",
              "      <td>461257</td>\n",
              "      <td>tt6980792</td>\n",
              "      <td>en</td>\n",
              "      <td>Queerama</td>\n",
              "      <td>50 years after decriminalisation of homosexual...</td>\n",
              "      <td>0.163015</td>\n",
              "      <td>/s5UkZt6NTsrS7ZF0Rh8nzupRlIU.jpg</td>\n",
              "      <td>[]</td>\n",
              "      <td>[{'iso_3166_1': 'GB', 'name': 'United Kingdom'}]</td>\n",
              "      <td>2017-06-09</td>\n",
              "      <td>0</td>\n",
              "      <td>75.0</td>\n",
              "      <td>[{'iso_639_1': 'en', 'name': 'English'}]</td>\n",
              "      <td>Released</td>\n",
              "      <td>NaN</td>\n",
              "      <td>Queerama</td>\n",
              "      <td>False</td>\n",
              "      <td>0.0</td>\n",
              "      <td>0.0</td>\n",
              "    </tr>\n",
              "  </tbody>\n",
              "</table>\n",
              "<p>45466 rows × 24 columns</p>\n",
              "</div>"
            ],
            "text/plain": [
              "       adult  ... vote_count\n",
              "0      False  ...     5415.0\n",
              "1      False  ...     2413.0\n",
              "2      False  ...       92.0\n",
              "3      False  ...       34.0\n",
              "4      False  ...      173.0\n",
              "...      ...  ...        ...\n",
              "45461  False  ...        1.0\n",
              "45462  False  ...        3.0\n",
              "45463  False  ...        6.0\n",
              "45464  False  ...        0.0\n",
              "45465  False  ...        0.0\n",
              "\n",
              "[45466 rows x 24 columns]"
            ]
          },
          "metadata": {}
        }
      ]
    },
    {
      "cell_type": "markdown",
      "metadata": {
        "id": "PuzjOV7ffbpR"
      },
      "source": [
        "## Part 2: Timing your function (2.5 pts)\n",
        "\n",
        "Time the performance of your function. To get the points for this part, the time reported below must not exceed 40 seconds."
      ]
    },
    {
      "cell_type": "code",
      "metadata": {
        "colab": {
          "base_uri": "https://localhost:8080/"
        },
        "id": "aIYWL17bO2Ih",
        "outputId": "fa8971f2-10db-42bf-e9ed-2d70c9e4b462"
      },
      "source": [
        "load_time = %timeit -o -r 3 load_movies_data(url)\n",
        "print(\"Time (s):\", load_time.best)\n",
        "# 10.8s now"
      ],
      "execution_count": 68,
      "outputs": [
        {
          "output_type": "stream",
          "name": "stdout",
          "text": [
            "1 loop, best of 3: 9.32 s per loop\n",
            "Time (s): 9.315208080999582\n"
          ]
        }
      ]
    },
    {
      "cell_type": "markdown",
      "metadata": {
        "id": "7sVQeTkLYI2b"
      },
      "source": [
        "## Part 3: Cleaning the data (2.5 pts)"
      ]
    },
    {
      "cell_type": "markdown",
      "metadata": {
        "id": "6ydbZ-KFYlRX"
      },
      "source": [
        "Filter/drop all rows in `df` meeting any of these conditions:\n",
        "* The `adult` value is not `'False'`\n",
        "* The `vote_count` value is missing\n",
        "* The `vote_average` value is missing\n",
        "\n",
        "Do not loop over rows to perform these checks. Use Pandas' built-in functionality to do so. "
      ]
    },
    {
      "cell_type": "code",
      "metadata": {
        "id": "Qtb7AaaVY5nm"
      },
      "source": [
        "# your code goes here\n",
        "df = df[df.adult == 'False']\n",
        "df=df.dropna(subset=['vote_count','vote_average'],axis=0)"
      ],
      "execution_count": 69,
      "outputs": []
    },
    {
      "cell_type": "code",
      "metadata": {
        "id": "YsmQK1kEWFvh",
        "colab": {
          "base_uri": "https://localhost:8080/"
        },
        "outputId": "8309a7b6-e04c-4367-8589-1e1fd2d4ff6b"
      },
      "source": [
        "df.head()\n",
        "#print(df.dtypes)\n",
        "df.vote_average"
      ],
      "execution_count": 70,
      "outputs": [
        {
          "output_type": "execute_result",
          "data": {
            "text/plain": [
              "0        7.7\n",
              "1        6.9\n",
              "2        6.5\n",
              "3        6.1\n",
              "4        5.7\n",
              "        ... \n",
              "45461    4.0\n",
              "45462    9.0\n",
              "45463    3.8\n",
              "45464    0.0\n",
              "45465    0.0\n",
              "Name: vote_average, Length: 45451, dtype: float64"
            ]
          },
          "metadata": {},
          "execution_count": 70
        }
      ]
    },
    {
      "cell_type": "markdown",
      "metadata": {
        "id": "mT8jdILukiBF"
      },
      "source": [
        "# Exercise 2: Computing IMDb's ratings (35 points)"
      ]
    },
    {
      "cell_type": "markdown",
      "metadata": {
        "id": "84SE_eMzkyC1"
      },
      "source": [
        "The Top Rated 250 titles in IMDb are calculated using [a formula](https://help.imdb.com/article/imdb/track-movies-tv/ratings-faq/G67Y87TFYYP6TWAV#calculatetop) that takes into account the number of votes that a title has received, the minimum votes required to be on the list, and the mean vote for all titles. The rating for a title is given as follows:\n",
        "\n",
        "$$ \\text{weighted rating } = \\left(\\frac{v}{v+m} \\cdot R\\right) + \\left(\\frac{m}{v+m} \\cdot C\\right)$$\n",
        "\n",
        "Where:\n",
        "\n",
        "$m$ = the minimum number of votes required to be listed in the Top Rated ranking. We'll let $m=1000$.\n",
        "\n",
        "$v$ = the number of votes received by the title (the title's **`vote_count`** value)\n",
        "\n",
        "$R$ = the average rating for the title (the title's **`vote_average`** value)\n",
        "\n",
        "$C$ = the mean vote across the whole list (the mean over the **`vote_average`** column)"
      ]
    },
    {
      "cell_type": "markdown",
      "metadata": {
        "id": "85J4HDO2rieA"
      },
      "source": [
        "We are going to compute the ratings for movies that could be listed in IMDb's Top Rated 250 ranking.  We want to do this as efficiently as possible. As a baseline for benchmarking, we'll use an approach that explicitly loops and indexes over the rows of the dataset and computes the weighted rating for the corresponding movie (if the movie has more than 1000 votes). "
      ]
    },
    {
      "cell_type": "code",
      "metadata": {
        "ExecuteTime": {
          "end_time": "2021-09-27T10:27:52.905697Z",
          "start_time": "2021-09-27T10:27:52.800529Z"
        },
        "id": "MyYhLdBksTec"
      },
      "source": [
        "C = df['vote_average'].mean()\n",
        "m = 1000\n",
        "\n",
        "def weighted_rating(row):\n",
        "    if row['vote_count'] > m:\n",
        "        v = row['vote_count']\n",
        "        R = row['vote_average']\n",
        "        return (v/(v+m) * R) + (m/(v+m) * C)\n",
        "    else:\n",
        "        return np.nan\n",
        "\n",
        "def weighted_rating_loop(df):\n",
        "    rating_list = []\n",
        "    for i in range(len(df)):\n",
        "        rating = weighted_rating(df.iloc[i])\n",
        "        rating_list.append(rating)\n",
        "    df['imdb_rating'] = rating_list"
      ],
      "execution_count": 71,
      "outputs": []
    },
    {
      "cell_type": "code",
      "metadata": {
        "colab": {
          "base_uri": "https://localhost:8080/",
          "height": 195
        },
        "id": "JIsei1w4r9Jz",
        "outputId": "bac93849-6924-4720-f914-88fc7061ad9a"
      },
      "source": [
        "weighted_rating_loop(df)\n",
        "\n",
        "columns_to_show = ['id', 'original_title'] + \\\n",
        "                  list(df.columns[df.columns.str.startswith('imdb_rating')])\n",
        "df[columns_to_show].head()"
      ],
      "execution_count": 72,
      "outputs": [
        {
          "output_type": "execute_result",
          "data": {
            "text/html": [
              "<div>\n",
              "<style scoped>\n",
              "    .dataframe tbody tr th:only-of-type {\n",
              "        vertical-align: middle;\n",
              "    }\n",
              "\n",
              "    .dataframe tbody tr th {\n",
              "        vertical-align: top;\n",
              "    }\n",
              "\n",
              "    .dataframe thead th {\n",
              "        text-align: right;\n",
              "    }\n",
              "</style>\n",
              "<table border=\"1\" class=\"dataframe\">\n",
              "  <thead>\n",
              "    <tr style=\"text-align: right;\">\n",
              "      <th></th>\n",
              "      <th>id</th>\n",
              "      <th>original_title</th>\n",
              "      <th>imdb_rating</th>\n",
              "    </tr>\n",
              "  </thead>\n",
              "  <tbody>\n",
              "    <tr>\n",
              "      <th>0</th>\n",
              "      <td>862</td>\n",
              "      <td>Toy Story</td>\n",
              "      <td>7.375533</td>\n",
              "    </tr>\n",
              "    <tr>\n",
              "      <th>1</th>\n",
              "      <td>8844</td>\n",
              "      <td>Jumanji</td>\n",
              "      <td>6.524536</td>\n",
              "    </tr>\n",
              "    <tr>\n",
              "      <th>2</th>\n",
              "      <td>15602</td>\n",
              "      <td>Grumpier Old Men</td>\n",
              "      <td>NaN</td>\n",
              "    </tr>\n",
              "    <tr>\n",
              "      <th>3</th>\n",
              "      <td>31357</td>\n",
              "      <td>Waiting to Exhale</td>\n",
              "      <td>NaN</td>\n",
              "    </tr>\n",
              "    <tr>\n",
              "      <th>4</th>\n",
              "      <td>11862</td>\n",
              "      <td>Father of the Bride Part II</td>\n",
              "      <td>NaN</td>\n",
              "    </tr>\n",
              "  </tbody>\n",
              "</table>\n",
              "</div>"
            ],
            "text/plain": [
              "      id               original_title  imdb_rating\n",
              "0    862                    Toy Story     7.375533\n",
              "1   8844                      Jumanji     6.524536\n",
              "2  15602             Grumpier Old Men          NaN\n",
              "3  31357            Waiting to Exhale          NaN\n",
              "4  11862  Father of the Bride Part II          NaN"
            ]
          },
          "metadata": {},
          "execution_count": 72
        }
      ]
    },
    {
      "cell_type": "markdown",
      "metadata": {
        "id": "JdlffrsJyHvI"
      },
      "source": [
        "Let's look at the average performance of this function:"
      ]
    },
    {
      "cell_type": "code",
      "metadata": {
        "colab": {
          "base_uri": "https://localhost:8080/"
        },
        "id": "su__dMpZyX5W",
        "outputId": "333ffdf5-ef46-4fb5-99f9-610a22f6b157"
      },
      "source": [
        "basic_time = %timeit -r 3 -o weighted_rating_loop(df)\n",
        "print(\"Best time:\", basic_time.best)"
      ],
      "execution_count": 73,
      "outputs": [
        {
          "output_type": "stream",
          "name": "stdout",
          "text": [
            "1 loop, best of 3: 9.3 s per loop\n",
            "Best time: 9.29657449899969\n"
          ]
        }
      ]
    },
    {
      "cell_type": "markdown",
      "metadata": {
        "id": "HPjyKJ2zzPoQ"
      },
      "source": [
        "In the remaining parts of the exercise, you are going to be asked to come up with alternative ways to compute the ratings, using various methodologies. Let's create a score board to keep track of performance. Here's a description of the rows:\n",
        "\n",
        "*   **Best single run time (s)**:  The best time used by your solution, in seconds.\n",
        "*   **Marginal performance improvement**: The time improvement of your current solution over its immediately preceding solution. Given by: $\\frac{\\text{best single run time (s) of previous solution}}{\\text{best single run time (s) of current solution}}$\n",
        "*   **Performance improvement over basic looping**:  The time improvement over our baseline solution. Given by: $\\frac{\\text{best single run time (s) of weighted_rating_loop}}{\\text{best single run time (s) of current solution}}$\n",
        "*   **Best single run time (s, teacher)**: The time of a solution provided by the teacher. \n",
        "*   **Marginal performance improvement (teacher)**: The time improvement of the teacher's solution over its immediately preceding solution. \n",
        "*   **Performance improvement over basic looping (teacher)**:  The teacher's solution improvement over the baseline solution.\n",
        "\n"
      ]
    },
    {
      "cell_type": "code",
      "metadata": {
        "ExecuteTime": {
          "end_time": "2021-09-27T11:03:14.455052Z",
          "start_time": "2021-09-27T11:03:14.442251Z"
        },
        "colab": {
          "base_uri": "https://localhost:8080/",
          "height": 279
        },
        "id": "fV-xfrs53NBF",
        "outputId": "316678b2-dcd4-4021-9c98-3bb72b932405"
      },
      "source": [
        "timing_data = {\n",
        "    'Best single run time (s)': [basic_time.best, np.nan, np.nan, np.nan,np.nan],\n",
        "    'Marginal performance improvement': [np.nan,np.nan, np.nan, np.nan,np.nan],\n",
        "    'Performance improvement over basic looping': np.nan,\n",
        "    'Best single run time (s, teacher)': [9.37, 3.87, 0.562, 0.0054, 0.00084],\n",
        "    'Marginal performance improvement (teacher)': [np.nan, 'x2.42', 'x6.88', 'x103.8', 'x6.45'],\n",
        "    'Performance improvement over basic looping (teacher)': [np.nan, 'x2.42', 'x16.69', 'x1732.17','x11172.98']\n",
        "}\n",
        "\n",
        "indices = ['Basic looping', 'Iterrows looping', 'apply()', 'Pandas vectorisation', 'NumPy vectorisation']\n",
        "timings = pd.DataFrame(timing_data, index=indices)\n",
        "timings"
      ],
      "execution_count": 74,
      "outputs": [
        {
          "output_type": "execute_result",
          "data": {
            "text/html": [
              "<div>\n",
              "<style scoped>\n",
              "    .dataframe tbody tr th:only-of-type {\n",
              "        vertical-align: middle;\n",
              "    }\n",
              "\n",
              "    .dataframe tbody tr th {\n",
              "        vertical-align: top;\n",
              "    }\n",
              "\n",
              "    .dataframe thead th {\n",
              "        text-align: right;\n",
              "    }\n",
              "</style>\n",
              "<table border=\"1\" class=\"dataframe\">\n",
              "  <thead>\n",
              "    <tr style=\"text-align: right;\">\n",
              "      <th></th>\n",
              "      <th>Best single run time (s)</th>\n",
              "      <th>Marginal performance improvement</th>\n",
              "      <th>Performance improvement over basic looping</th>\n",
              "      <th>Best single run time (s, teacher)</th>\n",
              "      <th>Marginal performance improvement (teacher)</th>\n",
              "      <th>Performance improvement over basic looping (teacher)</th>\n",
              "    </tr>\n",
              "  </thead>\n",
              "  <tbody>\n",
              "    <tr>\n",
              "      <th>Basic looping</th>\n",
              "      <td>9.296574</td>\n",
              "      <td>NaN</td>\n",
              "      <td>NaN</td>\n",
              "      <td>9.37000</td>\n",
              "      <td>NaN</td>\n",
              "      <td>NaN</td>\n",
              "    </tr>\n",
              "    <tr>\n",
              "      <th>Iterrows looping</th>\n",
              "      <td>NaN</td>\n",
              "      <td>NaN</td>\n",
              "      <td>NaN</td>\n",
              "      <td>3.87000</td>\n",
              "      <td>x2.42</td>\n",
              "      <td>x2.42</td>\n",
              "    </tr>\n",
              "    <tr>\n",
              "      <th>apply()</th>\n",
              "      <td>NaN</td>\n",
              "      <td>NaN</td>\n",
              "      <td>NaN</td>\n",
              "      <td>0.56200</td>\n",
              "      <td>x6.88</td>\n",
              "      <td>x16.69</td>\n",
              "    </tr>\n",
              "    <tr>\n",
              "      <th>Pandas vectorisation</th>\n",
              "      <td>NaN</td>\n",
              "      <td>NaN</td>\n",
              "      <td>NaN</td>\n",
              "      <td>0.00540</td>\n",
              "      <td>x103.8</td>\n",
              "      <td>x1732.17</td>\n",
              "    </tr>\n",
              "    <tr>\n",
              "      <th>NumPy vectorisation</th>\n",
              "      <td>NaN</td>\n",
              "      <td>NaN</td>\n",
              "      <td>NaN</td>\n",
              "      <td>0.00084</td>\n",
              "      <td>x6.45</td>\n",
              "      <td>x11172.98</td>\n",
              "    </tr>\n",
              "  </tbody>\n",
              "</table>\n",
              "</div>"
            ],
            "text/plain": [
              "                      Best single run time (s)  ...  Performance improvement over basic looping (teacher)\n",
              "Basic looping                         9.296574  ...                                                NaN   \n",
              "Iterrows looping                           NaN  ...                                              x2.42   \n",
              "apply()                                    NaN  ...                                             x16.69   \n",
              "Pandas vectorisation                       NaN  ...                                           x1732.17   \n",
              "NumPy vectorisation                        NaN  ...                                          x11172.98   \n",
              "\n",
              "[5 rows x 6 columns]"
            ]
          },
          "metadata": {},
          "execution_count": 74
        }
      ]
    },
    {
      "cell_type": "markdown",
      "metadata": {
        "id": "ZfD0eUlHgz3l"
      },
      "source": [
        "**The grading for the following parts works as follows.**\n",
        "\n",
        "Let $m$ be the marginal performance improvement for the teacher's solution over basic looping, and let $m'$ be the marginal performance improvement for your solution over `basic_time`. If a part gives $n$ points, then you will get the $n$ points if $m' \\geq 0.4 m$, and 0 points otherwise.\n",
        "\n",
        "You don't get extra points for performing faster than the teacher's solution. But this is of course possible and you should feel free to optimise away as much as you want!"
      ]
    },
    {
      "cell_type": "markdown",
      "metadata": {
        "id": "JkiLI2QT7oNY"
      },
      "source": [
        "## Part 1: Looping with `iterrows` (2.5 pts)"
      ]
    },
    {
      "cell_type": "markdown",
      "metadata": {
        "id": "bmZIqPIf743q"
      },
      "source": [
        "Define a function `weighted_rating_iterrows(df)` that computes the ratings by looping over rows with the built-in iterator `iterrows`, and stores the results in a new column of the DataFrame called called `imdb_rating_iter`."
      ]
    },
    {
      "cell_type": "code",
      "metadata": {
        "id": "m4dTxRfW6Gc4"
      },
      "source": [
        "# your code goes here\n",
        "def weighted_rating_iterrows(df):\n",
        "    imdb_ratings = []\n",
        "    for _, row in df.iterrows(): \n",
        "        imdb_ratings.append(weighted_rating(row)) \n",
        "    df['imdb_rating_iter'] = imdb_ratings "
      ],
      "execution_count": 75,
      "outputs": []
    },
    {
      "cell_type": "markdown",
      "metadata": {
        "id": "rsvOtN6y8Ycg"
      },
      "source": [
        "Call the function and make sure that it works as intended."
      ]
    },
    {
      "cell_type": "code",
      "metadata": {
        "colab": {
          "base_uri": "https://localhost:8080/",
          "height": 195
        },
        "id": "sLKzzVP86bza",
        "outputId": "0f5af89e-cbcf-406d-dcf4-e06c25a45a0a"
      },
      "source": [
        "weighted_rating_iterrows(df)\n",
        "\n",
        "pd.testing.assert_series_equal(\n",
        "    df.imdb_rating, df.imdb_rating_iter, check_names=False\n",
        ")\n",
        "\n",
        "columns_to_show = ['id', 'original_title'] + \\\n",
        "                  list(df.columns[df.columns.str.startswith('imdb_rating')])\n",
        "df[columns_to_show].head()"
      ],
      "execution_count": 76,
      "outputs": [
        {
          "output_type": "execute_result",
          "data": {
            "text/html": [
              "<div>\n",
              "<style scoped>\n",
              "    .dataframe tbody tr th:only-of-type {\n",
              "        vertical-align: middle;\n",
              "    }\n",
              "\n",
              "    .dataframe tbody tr th {\n",
              "        vertical-align: top;\n",
              "    }\n",
              "\n",
              "    .dataframe thead th {\n",
              "        text-align: right;\n",
              "    }\n",
              "</style>\n",
              "<table border=\"1\" class=\"dataframe\">\n",
              "  <thead>\n",
              "    <tr style=\"text-align: right;\">\n",
              "      <th></th>\n",
              "      <th>id</th>\n",
              "      <th>original_title</th>\n",
              "      <th>imdb_rating</th>\n",
              "      <th>imdb_rating_iter</th>\n",
              "    </tr>\n",
              "  </thead>\n",
              "  <tbody>\n",
              "    <tr>\n",
              "      <th>0</th>\n",
              "      <td>862</td>\n",
              "      <td>Toy Story</td>\n",
              "      <td>7.375533</td>\n",
              "      <td>7.375533</td>\n",
              "    </tr>\n",
              "    <tr>\n",
              "      <th>1</th>\n",
              "      <td>8844</td>\n",
              "      <td>Jumanji</td>\n",
              "      <td>6.524536</td>\n",
              "      <td>6.524536</td>\n",
              "    </tr>\n",
              "    <tr>\n",
              "      <th>2</th>\n",
              "      <td>15602</td>\n",
              "      <td>Grumpier Old Men</td>\n",
              "      <td>NaN</td>\n",
              "      <td>NaN</td>\n",
              "    </tr>\n",
              "    <tr>\n",
              "      <th>3</th>\n",
              "      <td>31357</td>\n",
              "      <td>Waiting to Exhale</td>\n",
              "      <td>NaN</td>\n",
              "      <td>NaN</td>\n",
              "    </tr>\n",
              "    <tr>\n",
              "      <th>4</th>\n",
              "      <td>11862</td>\n",
              "      <td>Father of the Bride Part II</td>\n",
              "      <td>NaN</td>\n",
              "      <td>NaN</td>\n",
              "    </tr>\n",
              "  </tbody>\n",
              "</table>\n",
              "</div>"
            ],
            "text/plain": [
              "      id               original_title  imdb_rating  imdb_rating_iter\n",
              "0    862                    Toy Story     7.375533          7.375533\n",
              "1   8844                      Jumanji     6.524536          6.524536\n",
              "2  15602             Grumpier Old Men          NaN               NaN\n",
              "3  31357            Waiting to Exhale          NaN               NaN\n",
              "4  11862  Father of the Bride Part II          NaN               NaN"
            ]
          },
          "metadata": {},
          "execution_count": 76
        }
      ]
    },
    {
      "cell_type": "markdown",
      "metadata": {
        "id": "AC-m0iR48jM6"
      },
      "source": [
        "Time the performance of the function."
      ]
    },
    {
      "cell_type": "code",
      "metadata": {
        "colab": {
          "base_uri": "https://localhost:8080/"
        },
        "id": "9y3BWusJ8y70",
        "outputId": "9ce8a822-7baa-45dd-fabe-edc1447b4b38"
      },
      "source": [
        "iterrows_time = %timeit -r 3 -o weighted_rating_iterrows(df)\n",
        "print(\"Best time:\", iterrows_time.best)"
      ],
      "execution_count": 77,
      "outputs": [
        {
          "output_type": "stream",
          "name": "stdout",
          "text": [
            "1 loop, best of 3: 3.78 s per loop\n",
            "Best time: 3.775498790000711\n"
          ]
        }
      ]
    },
    {
      "cell_type": "markdown",
      "metadata": {
        "id": "HexMOOCB82e_"
      },
      "source": [
        " Update the score board with the best time, marginal and overall performance change you have obtained. Display the updated table below. "
      ]
    },
    {
      "cell_type": "code",
      "metadata": {
        "id": "cRtnt67ZWFvy"
      },
      "source": [
        "def update_scoreboard(scoreboard, algo, prev_algo, time_performance):\n",
        "    scoreboard.loc[algo, 'Best single run time (s)'] = time_performance.best\n",
        "    scoreboard.loc[algo, 'Marginal performance improvement'] = scoreboard.loc[prev_algo, 'Best single run time (s)'] / scoreboard.loc[algo, 'Best single run time (s)']\n",
        "    scoreboard.loc[algo, 'Performance improvement over basic looping'] = scoreboard.loc['Basic looping', 'Best single run time (s)'] / scoreboard.loc[algo, 'Best single run time (s)']\n",
        "    return scoreboard"
      ],
      "execution_count": 78,
      "outputs": []
    },
    {
      "cell_type": "code",
      "metadata": {
        "id": "_SQRS_gdJCbM",
        "colab": {
          "base_uri": "https://localhost:8080/",
          "height": 279
        },
        "outputId": "0ea9e885-5e0f-4e30-fa8e-9e10db8f138e"
      },
      "source": [
        "timings = update_scoreboard(timings, 'Iterrows looping', 'Basic looping', iterrows_time)\n",
        "timings"
      ],
      "execution_count": 79,
      "outputs": [
        {
          "output_type": "execute_result",
          "data": {
            "text/html": [
              "<div>\n",
              "<style scoped>\n",
              "    .dataframe tbody tr th:only-of-type {\n",
              "        vertical-align: middle;\n",
              "    }\n",
              "\n",
              "    .dataframe tbody tr th {\n",
              "        vertical-align: top;\n",
              "    }\n",
              "\n",
              "    .dataframe thead th {\n",
              "        text-align: right;\n",
              "    }\n",
              "</style>\n",
              "<table border=\"1\" class=\"dataframe\">\n",
              "  <thead>\n",
              "    <tr style=\"text-align: right;\">\n",
              "      <th></th>\n",
              "      <th>Best single run time (s)</th>\n",
              "      <th>Marginal performance improvement</th>\n",
              "      <th>Performance improvement over basic looping</th>\n",
              "      <th>Best single run time (s, teacher)</th>\n",
              "      <th>Marginal performance improvement (teacher)</th>\n",
              "      <th>Performance improvement over basic looping (teacher)</th>\n",
              "    </tr>\n",
              "  </thead>\n",
              "  <tbody>\n",
              "    <tr>\n",
              "      <th>Basic looping</th>\n",
              "      <td>9.296574</td>\n",
              "      <td>NaN</td>\n",
              "      <td>NaN</td>\n",
              "      <td>9.37000</td>\n",
              "      <td>NaN</td>\n",
              "      <td>NaN</td>\n",
              "    </tr>\n",
              "    <tr>\n",
              "      <th>Iterrows looping</th>\n",
              "      <td>3.775499</td>\n",
              "      <td>2.462343</td>\n",
              "      <td>2.462343</td>\n",
              "      <td>3.87000</td>\n",
              "      <td>x2.42</td>\n",
              "      <td>x2.42</td>\n",
              "    </tr>\n",
              "    <tr>\n",
              "      <th>apply()</th>\n",
              "      <td>NaN</td>\n",
              "      <td>NaN</td>\n",
              "      <td>NaN</td>\n",
              "      <td>0.56200</td>\n",
              "      <td>x6.88</td>\n",
              "      <td>x16.69</td>\n",
              "    </tr>\n",
              "    <tr>\n",
              "      <th>Pandas vectorisation</th>\n",
              "      <td>NaN</td>\n",
              "      <td>NaN</td>\n",
              "      <td>NaN</td>\n",
              "      <td>0.00540</td>\n",
              "      <td>x103.8</td>\n",
              "      <td>x1732.17</td>\n",
              "    </tr>\n",
              "    <tr>\n",
              "      <th>NumPy vectorisation</th>\n",
              "      <td>NaN</td>\n",
              "      <td>NaN</td>\n",
              "      <td>NaN</td>\n",
              "      <td>0.00084</td>\n",
              "      <td>x6.45</td>\n",
              "      <td>x11172.98</td>\n",
              "    </tr>\n",
              "  </tbody>\n",
              "</table>\n",
              "</div>"
            ],
            "text/plain": [
              "                      Best single run time (s)  ...  Performance improvement over basic looping (teacher)\n",
              "Basic looping                         9.296574  ...                                                NaN   \n",
              "Iterrows looping                      3.775499  ...                                              x2.42   \n",
              "apply()                                    NaN  ...                                             x16.69   \n",
              "Pandas vectorisation                       NaN  ...                                           x1732.17   \n",
              "NumPy vectorisation                        NaN  ...                                          x11172.98   \n",
              "\n",
              "[5 rows x 6 columns]"
            ]
          },
          "metadata": {},
          "execution_count": 79
        }
      ]
    },
    {
      "cell_type": "markdown",
      "metadata": {
        "id": "7-FhuhB99em4"
      },
      "source": [
        "## Part 2: Using `apply()`. (5 pts)"
      ]
    },
    {
      "cell_type": "markdown",
      "metadata": {
        "id": "iZ294FYn9qhO"
      },
      "source": [
        "Define a function `weighted_rating_apply(df)` that computes the ratings using Pandas' `apply()` function, and stores the results in a new column of the DataFrame called `imdb_rating_apply`."
      ]
    },
    {
      "cell_type": "code",
      "metadata": {
        "id": "Gk3SdbQs8ghG"
      },
      "source": [
        "# your code goes here\n",
        "def weighted_rating_apply(df):\n",
        "    df['imdb_rating_apply'] = df.apply(weighted_rating, axis='columns')"
      ],
      "execution_count": 80,
      "outputs": []
    },
    {
      "cell_type": "markdown",
      "metadata": {
        "id": "jBgP1e1uCMlF"
      },
      "source": [
        "Call the function and make sure that it works as intended."
      ]
    },
    {
      "cell_type": "code",
      "metadata": {
        "id": "wUaYXC_RCMlK",
        "colab": {
          "base_uri": "https://localhost:8080/",
          "height": 195
        },
        "outputId": "8b7c3eb3-fc3a-42f3-c085-0a6ca75c71d3"
      },
      "source": [
        "weighted_rating_apply(df)\n",
        "\n",
        "pd.testing.assert_series_equal(\n",
        "    df.imdb_rating, df.imdb_rating_apply, check_names=False\n",
        ")\n",
        "\n",
        "columns_to_show = ['id', 'original_title'] + \\\n",
        "                  list(df.columns[df.columns.str.startswith('imdb_rating')])\n",
        "df[columns_to_show].head()"
      ],
      "execution_count": 81,
      "outputs": [
        {
          "output_type": "execute_result",
          "data": {
            "text/html": [
              "<div>\n",
              "<style scoped>\n",
              "    .dataframe tbody tr th:only-of-type {\n",
              "        vertical-align: middle;\n",
              "    }\n",
              "\n",
              "    .dataframe tbody tr th {\n",
              "        vertical-align: top;\n",
              "    }\n",
              "\n",
              "    .dataframe thead th {\n",
              "        text-align: right;\n",
              "    }\n",
              "</style>\n",
              "<table border=\"1\" class=\"dataframe\">\n",
              "  <thead>\n",
              "    <tr style=\"text-align: right;\">\n",
              "      <th></th>\n",
              "      <th>id</th>\n",
              "      <th>original_title</th>\n",
              "      <th>imdb_rating</th>\n",
              "      <th>imdb_rating_iter</th>\n",
              "      <th>imdb_rating_apply</th>\n",
              "    </tr>\n",
              "  </thead>\n",
              "  <tbody>\n",
              "    <tr>\n",
              "      <th>0</th>\n",
              "      <td>862</td>\n",
              "      <td>Toy Story</td>\n",
              "      <td>7.375533</td>\n",
              "      <td>7.375533</td>\n",
              "      <td>7.375533</td>\n",
              "    </tr>\n",
              "    <tr>\n",
              "      <th>1</th>\n",
              "      <td>8844</td>\n",
              "      <td>Jumanji</td>\n",
              "      <td>6.524536</td>\n",
              "      <td>6.524536</td>\n",
              "      <td>6.524536</td>\n",
              "    </tr>\n",
              "    <tr>\n",
              "      <th>2</th>\n",
              "      <td>15602</td>\n",
              "      <td>Grumpier Old Men</td>\n",
              "      <td>NaN</td>\n",
              "      <td>NaN</td>\n",
              "      <td>NaN</td>\n",
              "    </tr>\n",
              "    <tr>\n",
              "      <th>3</th>\n",
              "      <td>31357</td>\n",
              "      <td>Waiting to Exhale</td>\n",
              "      <td>NaN</td>\n",
              "      <td>NaN</td>\n",
              "      <td>NaN</td>\n",
              "    </tr>\n",
              "    <tr>\n",
              "      <th>4</th>\n",
              "      <td>11862</td>\n",
              "      <td>Father of the Bride Part II</td>\n",
              "      <td>NaN</td>\n",
              "      <td>NaN</td>\n",
              "      <td>NaN</td>\n",
              "    </tr>\n",
              "  </tbody>\n",
              "</table>\n",
              "</div>"
            ],
            "text/plain": [
              "      id               original_title  ...  imdb_rating_iter  imdb_rating_apply\n",
              "0    862                    Toy Story  ...          7.375533           7.375533\n",
              "1   8844                      Jumanji  ...          6.524536           6.524536\n",
              "2  15602             Grumpier Old Men  ...               NaN                NaN\n",
              "3  31357            Waiting to Exhale  ...               NaN                NaN\n",
              "4  11862  Father of the Bride Part II  ...               NaN                NaN\n",
              "\n",
              "[5 rows x 5 columns]"
            ]
          },
          "metadata": {},
          "execution_count": 81
        }
      ]
    },
    {
      "cell_type": "markdown",
      "metadata": {
        "id": "C9jjZI14CMlO"
      },
      "source": [
        "Time the performance of the function."
      ]
    },
    {
      "cell_type": "code",
      "metadata": {
        "id": "jqggBfTMCMlP",
        "colab": {
          "base_uri": "https://localhost:8080/"
        },
        "outputId": "f3b991bd-5245-44a9-b83d-cb0a13afe3b6"
      },
      "source": [
        "apply_time = %timeit -r 3 -o weighted_rating_apply(df)\n",
        "print(\"Best time:\", apply_time.best)"
      ],
      "execution_count": 82,
      "outputs": [
        {
          "output_type": "stream",
          "name": "stdout",
          "text": [
            "1 loop, best of 3: 533 ms per loop\n",
            "Best time: 0.5333872930004873\n"
          ]
        }
      ]
    },
    {
      "cell_type": "markdown",
      "metadata": {
        "id": "9DzMnzf4CMlS"
      },
      "source": [
        "Update the score board with the best time, marginal and overall performance change you have obtained. Display the updated table below. "
      ]
    },
    {
      "cell_type": "code",
      "metadata": {
        "id": "-4RSuVOYV0JZ",
        "colab": {
          "base_uri": "https://localhost:8080/",
          "height": 279
        },
        "outputId": "6e45b41b-5829-4445-c61a-474493062449"
      },
      "source": [
        "# your code goes here\n",
        "timings = update_scoreboard(timings, 'apply()', 'Iterrows looping', apply_time)\n",
        "timings"
      ],
      "execution_count": 83,
      "outputs": [
        {
          "output_type": "execute_result",
          "data": {
            "text/html": [
              "<div>\n",
              "<style scoped>\n",
              "    .dataframe tbody tr th:only-of-type {\n",
              "        vertical-align: middle;\n",
              "    }\n",
              "\n",
              "    .dataframe tbody tr th {\n",
              "        vertical-align: top;\n",
              "    }\n",
              "\n",
              "    .dataframe thead th {\n",
              "        text-align: right;\n",
              "    }\n",
              "</style>\n",
              "<table border=\"1\" class=\"dataframe\">\n",
              "  <thead>\n",
              "    <tr style=\"text-align: right;\">\n",
              "      <th></th>\n",
              "      <th>Best single run time (s)</th>\n",
              "      <th>Marginal performance improvement</th>\n",
              "      <th>Performance improvement over basic looping</th>\n",
              "      <th>Best single run time (s, teacher)</th>\n",
              "      <th>Marginal performance improvement (teacher)</th>\n",
              "      <th>Performance improvement over basic looping (teacher)</th>\n",
              "    </tr>\n",
              "  </thead>\n",
              "  <tbody>\n",
              "    <tr>\n",
              "      <th>Basic looping</th>\n",
              "      <td>9.296574</td>\n",
              "      <td>NaN</td>\n",
              "      <td>NaN</td>\n",
              "      <td>9.37000</td>\n",
              "      <td>NaN</td>\n",
              "      <td>NaN</td>\n",
              "    </tr>\n",
              "    <tr>\n",
              "      <th>Iterrows looping</th>\n",
              "      <td>3.775499</td>\n",
              "      <td>2.462343</td>\n",
              "      <td>2.462343</td>\n",
              "      <td>3.87000</td>\n",
              "      <td>x2.42</td>\n",
              "      <td>x2.42</td>\n",
              "    </tr>\n",
              "    <tr>\n",
              "      <th>apply()</th>\n",
              "      <td>0.533387</td>\n",
              "      <td>7.078344</td>\n",
              "      <td>17.429314</td>\n",
              "      <td>0.56200</td>\n",
              "      <td>x6.88</td>\n",
              "      <td>x16.69</td>\n",
              "    </tr>\n",
              "    <tr>\n",
              "      <th>Pandas vectorisation</th>\n",
              "      <td>NaN</td>\n",
              "      <td>NaN</td>\n",
              "      <td>NaN</td>\n",
              "      <td>0.00540</td>\n",
              "      <td>x103.8</td>\n",
              "      <td>x1732.17</td>\n",
              "    </tr>\n",
              "    <tr>\n",
              "      <th>NumPy vectorisation</th>\n",
              "      <td>NaN</td>\n",
              "      <td>NaN</td>\n",
              "      <td>NaN</td>\n",
              "      <td>0.00084</td>\n",
              "      <td>x6.45</td>\n",
              "      <td>x11172.98</td>\n",
              "    </tr>\n",
              "  </tbody>\n",
              "</table>\n",
              "</div>"
            ],
            "text/plain": [
              "                      Best single run time (s)  ...  Performance improvement over basic looping (teacher)\n",
              "Basic looping                         9.296574  ...                                                NaN   \n",
              "Iterrows looping                      3.775499  ...                                              x2.42   \n",
              "apply()                               0.533387  ...                                             x16.69   \n",
              "Pandas vectorisation                       NaN  ...                                           x1732.17   \n",
              "NumPy vectorisation                        NaN  ...                                          x11172.98   \n",
              "\n",
              "[5 rows x 6 columns]"
            ]
          },
          "metadata": {},
          "execution_count": 83
        }
      ]
    },
    {
      "cell_type": "markdown",
      "metadata": {
        "id": "TZHPgFMsED_6"
      },
      "source": [
        "## Part 3: Vectorised solution with Pandas (12.5 pts)"
      ]
    },
    {
      "cell_type": "markdown",
      "metadata": {
        "id": "CI7zQxGNGZnX"
      },
      "source": [
        "Let's find a vectorised solution using Pandas. You have to define a function `weighted_rating_pandas(df)` that computes the ratings in a vectorised way and stores them in a new column of the DataFrame called `imdb_rating_pandas`. Use Pandas operations only: don't transform your data into NumPy arrays."
      ]
    },
    {
      "cell_type": "code",
      "metadata": {
        "id": "WqIXsMGFGZnY"
      },
      "source": [
        "def weighted_rating_pandas(df):\n",
        "    df['imdb_rating_pandas'] = np.nan\n",
        "    indeces = df.index[df['vote_count'] > m]\n",
        "    v = df.loc[indeces, 'vote_count']\n",
        "    R = df.loc[indeces, 'vote_average']\n",
        "    df.loc[indeces, 'imdb_rating_pandas'] = (v/(v+m) * R) + (m/(v+m) * C)"
      ],
      "execution_count": 84,
      "outputs": []
    },
    {
      "cell_type": "markdown",
      "metadata": {
        "id": "qKVGubslGZna"
      },
      "source": [
        "Call the function and make sure it works as intended."
      ]
    },
    {
      "cell_type": "code",
      "metadata": {
        "id": "yXf4KAj1GZna",
        "colab": {
          "base_uri": "https://localhost:8080/",
          "height": 195
        },
        "outputId": "6cbcbcf3-b9c2-4239-db12-464473ab5daf"
      },
      "source": [
        "weighted_rating_pandas(df)\n",
        "\n",
        "pd.testing.assert_series_equal(\n",
        "    df.imdb_rating, df.imdb_rating_pandas, check_names=False\n",
        ")\n",
        "\n",
        "columns_to_show = ['id', 'original_title'] + \\\n",
        "                  list(df.columns[df.columns.str.startswith('imdb_rating')])\n",
        "df[columns_to_show].head()"
      ],
      "execution_count": 85,
      "outputs": [
        {
          "output_type": "execute_result",
          "data": {
            "text/html": [
              "<div>\n",
              "<style scoped>\n",
              "    .dataframe tbody tr th:only-of-type {\n",
              "        vertical-align: middle;\n",
              "    }\n",
              "\n",
              "    .dataframe tbody tr th {\n",
              "        vertical-align: top;\n",
              "    }\n",
              "\n",
              "    .dataframe thead th {\n",
              "        text-align: right;\n",
              "    }\n",
              "</style>\n",
              "<table border=\"1\" class=\"dataframe\">\n",
              "  <thead>\n",
              "    <tr style=\"text-align: right;\">\n",
              "      <th></th>\n",
              "      <th>id</th>\n",
              "      <th>original_title</th>\n",
              "      <th>imdb_rating</th>\n",
              "      <th>imdb_rating_iter</th>\n",
              "      <th>imdb_rating_apply</th>\n",
              "      <th>imdb_rating_pandas</th>\n",
              "    </tr>\n",
              "  </thead>\n",
              "  <tbody>\n",
              "    <tr>\n",
              "      <th>0</th>\n",
              "      <td>862</td>\n",
              "      <td>Toy Story</td>\n",
              "      <td>7.375533</td>\n",
              "      <td>7.375533</td>\n",
              "      <td>7.375533</td>\n",
              "      <td>7.375533</td>\n",
              "    </tr>\n",
              "    <tr>\n",
              "      <th>1</th>\n",
              "      <td>8844</td>\n",
              "      <td>Jumanji</td>\n",
              "      <td>6.524536</td>\n",
              "      <td>6.524536</td>\n",
              "      <td>6.524536</td>\n",
              "      <td>6.524536</td>\n",
              "    </tr>\n",
              "    <tr>\n",
              "      <th>2</th>\n",
              "      <td>15602</td>\n",
              "      <td>Grumpier Old Men</td>\n",
              "      <td>NaN</td>\n",
              "      <td>NaN</td>\n",
              "      <td>NaN</td>\n",
              "      <td>NaN</td>\n",
              "    </tr>\n",
              "    <tr>\n",
              "      <th>3</th>\n",
              "      <td>31357</td>\n",
              "      <td>Waiting to Exhale</td>\n",
              "      <td>NaN</td>\n",
              "      <td>NaN</td>\n",
              "      <td>NaN</td>\n",
              "      <td>NaN</td>\n",
              "    </tr>\n",
              "    <tr>\n",
              "      <th>4</th>\n",
              "      <td>11862</td>\n",
              "      <td>Father of the Bride Part II</td>\n",
              "      <td>NaN</td>\n",
              "      <td>NaN</td>\n",
              "      <td>NaN</td>\n",
              "      <td>NaN</td>\n",
              "    </tr>\n",
              "  </tbody>\n",
              "</table>\n",
              "</div>"
            ],
            "text/plain": [
              "      id               original_title  ...  imdb_rating_apply  imdb_rating_pandas\n",
              "0    862                    Toy Story  ...           7.375533            7.375533\n",
              "1   8844                      Jumanji  ...           6.524536            6.524536\n",
              "2  15602             Grumpier Old Men  ...                NaN                 NaN\n",
              "3  31357            Waiting to Exhale  ...                NaN                 NaN\n",
              "4  11862  Father of the Bride Part II  ...                NaN                 NaN\n",
              "\n",
              "[5 rows x 6 columns]"
            ]
          },
          "metadata": {},
          "execution_count": 85
        }
      ]
    },
    {
      "cell_type": "markdown",
      "metadata": {
        "id": "scNFR7X8GZnc"
      },
      "source": [
        "Time the performance of the function."
      ]
    },
    {
      "cell_type": "code",
      "metadata": {
        "id": "TbhwZZ0mGZnf",
        "colab": {
          "base_uri": "https://localhost:8080/"
        },
        "outputId": "31e3f550-0f42-43e1-e583-adea4fbab306"
      },
      "source": [
        "pandas_time = %timeit -r 3 -o weighted_rating_pandas(df)\n",
        "print(\"Best time:\", pandas_time.best)"
      ],
      "execution_count": 86,
      "outputs": [
        {
          "output_type": "stream",
          "name": "stdout",
          "text": [
            "100 loops, best of 3: 3.37 ms per loop\n",
            "Best time: 0.0033679271999972117\n"
          ]
        }
      ]
    },
    {
      "cell_type": "markdown",
      "metadata": {
        "id": "Xsqz0kUJGZnh"
      },
      "source": [
        "Update the score board with the best time, marginal and overall performance change you have obtained. Display the updated table below. "
      ]
    },
    {
      "cell_type": "code",
      "metadata": {
        "id": "SxCI0nUXV3Lk",
        "colab": {
          "base_uri": "https://localhost:8080/",
          "height": 279
        },
        "outputId": "dba1311b-a947-4e01-e18c-5e1ef680458a"
      },
      "source": [
        "# your code goes here\n",
        "timings = update_scoreboard(timings, 'Pandas vectorisation', 'apply()', pandas_time)\n",
        "timings"
      ],
      "execution_count": 87,
      "outputs": [
        {
          "output_type": "execute_result",
          "data": {
            "text/html": [
              "<div>\n",
              "<style scoped>\n",
              "    .dataframe tbody tr th:only-of-type {\n",
              "        vertical-align: middle;\n",
              "    }\n",
              "\n",
              "    .dataframe tbody tr th {\n",
              "        vertical-align: top;\n",
              "    }\n",
              "\n",
              "    .dataframe thead th {\n",
              "        text-align: right;\n",
              "    }\n",
              "</style>\n",
              "<table border=\"1\" class=\"dataframe\">\n",
              "  <thead>\n",
              "    <tr style=\"text-align: right;\">\n",
              "      <th></th>\n",
              "      <th>Best single run time (s)</th>\n",
              "      <th>Marginal performance improvement</th>\n",
              "      <th>Performance improvement over basic looping</th>\n",
              "      <th>Best single run time (s, teacher)</th>\n",
              "      <th>Marginal performance improvement (teacher)</th>\n",
              "      <th>Performance improvement over basic looping (teacher)</th>\n",
              "    </tr>\n",
              "  </thead>\n",
              "  <tbody>\n",
              "    <tr>\n",
              "      <th>Basic looping</th>\n",
              "      <td>9.296574</td>\n",
              "      <td>NaN</td>\n",
              "      <td>NaN</td>\n",
              "      <td>9.37000</td>\n",
              "      <td>NaN</td>\n",
              "      <td>NaN</td>\n",
              "    </tr>\n",
              "    <tr>\n",
              "      <th>Iterrows looping</th>\n",
              "      <td>3.775499</td>\n",
              "      <td>2.462343</td>\n",
              "      <td>2.462343</td>\n",
              "      <td>3.87000</td>\n",
              "      <td>x2.42</td>\n",
              "      <td>x2.42</td>\n",
              "    </tr>\n",
              "    <tr>\n",
              "      <th>apply()</th>\n",
              "      <td>0.533387</td>\n",
              "      <td>7.078344</td>\n",
              "      <td>17.429314</td>\n",
              "      <td>0.56200</td>\n",
              "      <td>x6.88</td>\n",
              "      <td>x16.69</td>\n",
              "    </tr>\n",
              "    <tr>\n",
              "      <th>Pandas vectorisation</th>\n",
              "      <td>0.003368</td>\n",
              "      <td>158.372572</td>\n",
              "      <td>2760.325253</td>\n",
              "      <td>0.00540</td>\n",
              "      <td>x103.8</td>\n",
              "      <td>x1732.17</td>\n",
              "    </tr>\n",
              "    <tr>\n",
              "      <th>NumPy vectorisation</th>\n",
              "      <td>NaN</td>\n",
              "      <td>NaN</td>\n",
              "      <td>NaN</td>\n",
              "      <td>0.00084</td>\n",
              "      <td>x6.45</td>\n",
              "      <td>x11172.98</td>\n",
              "    </tr>\n",
              "  </tbody>\n",
              "</table>\n",
              "</div>"
            ],
            "text/plain": [
              "                      Best single run time (s)  ...  Performance improvement over basic looping (teacher)\n",
              "Basic looping                         9.296574  ...                                                NaN   \n",
              "Iterrows looping                      3.775499  ...                                              x2.42   \n",
              "apply()                               0.533387  ...                                             x16.69   \n",
              "Pandas vectorisation                  0.003368  ...                                           x1732.17   \n",
              "NumPy vectorisation                        NaN  ...                                          x11172.98   \n",
              "\n",
              "[5 rows x 6 columns]"
            ]
          },
          "metadata": {},
          "execution_count": 87
        }
      ]
    },
    {
      "cell_type": "markdown",
      "metadata": {
        "id": "HvwaE7pIjzEa"
      },
      "source": [
        "Time to reflect on your solution. Do the following: \n",
        " \n",
        "* Explain in words what your function does and why it is a vectorised solution. In particular, break down each step involving ufuncs, broadcasting and other vectorized calls. \n",
        "    * If your explanation has major errors, we will substract points for this part.\n",
        " \n",
        "* Display profiler output and give an analysis of what you see."
      ]
    },
    {
      "cell_type": "code",
      "metadata": {
        "id": "bQHB_JqeV52E",
        "colab": {
          "base_uri": "https://localhost:8080/"
        },
        "outputId": "ba33020a-98ab-449a-8572-9b4fabdc58d1"
      },
      "source": [
        "# your code goes here\n",
        "# %load_ext line_profiler\n",
        "%lprun -f weighted_rating_pandas weighted_rating_pandas(df)"
      ],
      "execution_count": 88,
      "outputs": [
        {
          "output_type": "stream",
          "name": "stderr",
          "text": [
            "UsageError: Line magic function `%lprun` not found.\n"
          ]
        }
      ]
    },
    {
      "cell_type": "markdown",
      "metadata": {
        "id": "tH2viRSoWFwA"
      },
      "source": [
        "### Timer unit: 1e-06 s\n",
        "\n",
        "Total time: 0.087067 s\n",
        "File: /var/folders/hf/9wq995zd4xz5zkwprjh2z0dm0000gn/T/ipykernel_60895/832349886.py\n",
        "Function: weighted_rating_pandas at line 1\n",
        "\n",
        "### Line | # Hits  | Time Per Hit  | % Time  | Line Contents\n",
        "     1                                   def weighted_rating_pandas(df):\n",
        "     2 1      15430.0  15430.0     17.7      df['imdb_rating_pandas'] = np.nan\n",
        "     3 1       8848.0   8848.0     10.2      indeces = df.index[df['vote_count'] > m]\n",
        "     4 1      14674.0  14674.0     16.9      v = df.loc[indeces, 'vote_count']\n",
        "     5 1       6595.0   6595.0      7.6      R = df.loc[indeces, 'vote_average']\n",
        "     6 1      41520.0  41520.0     47.7      df.loc[indeces, 'imdb_rating_pandas'] = (v/(v+m) * R) +(m/(v+m)*C)"
      ]
    },
    {
      "cell_type": "markdown",
      "metadata": {
        "id": "WzX_i1U3WFwA"
      },
      "source": [
        "The profiler shows that the pandas vectorization function uses the vast majority of the time (48%) on actually performing the imdb_rating computation and storing the values in the pandas dataframe. This also means that more than half of the time is actually used on initializing a placeholder for the imdb_ratings, finding the indeces that has a vote_count greater than m and initializing the v and R arrays for the computation. "
      ]
    },
    {
      "cell_type": "markdown",
      "metadata": {
        "id": "DngbQA2eV770"
      },
      "source": [
        "The code starts by finding all the row indeces which satifies the condition that the vote_count must be greater than m. This is computed and stored to avoid recomputing this in the rest of the function. Moreover, v and R are initialized as the vote_count and vote_average, respectively, where the condition of vote_average > m are met. This creates two arrays which we use in the last line to compute the imdb_rating and directly store these values in the imdb_rating_pandas column. This computation works by performing an arthimetic operation of the scalar elements (m, C) to each element in the array that the elments in the array that the scalar value performs an operation on (conceptually, the scalar elements are broadcasted into an array of equal dimensions as the array, but in practice this is memory inefficient). When doing the arthimetic operation, Python only needs to look up the dtype of the array elements once, since all elements in the array has the same dtype. Also, Pandas is under the hood running in optimized C code as well as multithreading the operations, which further improves the performance. "
      ]
    },
    {
      "cell_type": "markdown",
      "metadata": {
        "id": "QLwJEzATEKwi"
      },
      "source": [
        "## Part 4: Vectorised solution with NumPy (12.5 pts)"
      ]
    },
    {
      "cell_type": "markdown",
      "metadata": {
        "id": "GrAZ4OI2EPk8"
      },
      "source": [
        "Let's find a vectorised solution that uses NumPy to speed up the calculations. You have to define a function `weighted_rating_numpy(df)` that computes the ratings in a vectorised way and stores them in a new column of the DataFrame called `imdb_rating_numpy`."
      ]
    },
    {
      "cell_type": "code",
      "metadata": {
        "id": "9sJlkDYAzQr8"
      },
      "source": [
        "# your code goes here\n",
        "def weighted_rating_numpy(df):\n",
        "    df['imdb_rating_numpy'] = np.nan\n",
        "    indeces = np.argwhere(df['vote_count'].values > m).flatten()\n",
        "    imdb_rating_numpy = df.imdb_rating_numpy.values\n",
        "    v = df.vote_count.values[indeces]\n",
        "    R = df.vote_average.values[indeces]\n",
        "    imdb_rating_numpy[indeces] = (v/(v+m) * R) + (m/(v+m) * C)\n",
        "    df.loc[:, 'imdb_rating_numpy'] = imdb_rating_numpy"
      ],
      "execution_count": 89,
      "outputs": []
    },
    {
      "cell_type": "markdown",
      "metadata": {
        "id": "n2pAc_GEEudy"
      },
      "source": [
        "Call the function and make sure it works as intended."
      ]
    },
    {
      "cell_type": "code",
      "metadata": {
        "id": "IALbcsKO2RNt",
        "colab": {
          "base_uri": "https://localhost:8080/",
          "height": 195
        },
        "outputId": "6db3781d-d2fc-43fa-c94c-2b1e237acdd6"
      },
      "source": [
        "weighted_rating_numpy(df)\n",
        "\n",
        "pd.testing.assert_series_equal(\n",
        "    df.imdb_rating, df.imdb_rating_numpy, check_names=False\n",
        ")\n",
        "\n",
        "columns_to_show = ['id', 'original_title'] + \\\n",
        "                  list(df.columns[df.columns.str.startswith('imdb_rating')])\n",
        "df[columns_to_show].head()"
      ],
      "execution_count": 90,
      "outputs": [
        {
          "output_type": "execute_result",
          "data": {
            "text/html": [
              "<div>\n",
              "<style scoped>\n",
              "    .dataframe tbody tr th:only-of-type {\n",
              "        vertical-align: middle;\n",
              "    }\n",
              "\n",
              "    .dataframe tbody tr th {\n",
              "        vertical-align: top;\n",
              "    }\n",
              "\n",
              "    .dataframe thead th {\n",
              "        text-align: right;\n",
              "    }\n",
              "</style>\n",
              "<table border=\"1\" class=\"dataframe\">\n",
              "  <thead>\n",
              "    <tr style=\"text-align: right;\">\n",
              "      <th></th>\n",
              "      <th>id</th>\n",
              "      <th>original_title</th>\n",
              "      <th>imdb_rating</th>\n",
              "      <th>imdb_rating_iter</th>\n",
              "      <th>imdb_rating_apply</th>\n",
              "      <th>imdb_rating_pandas</th>\n",
              "      <th>imdb_rating_numpy</th>\n",
              "    </tr>\n",
              "  </thead>\n",
              "  <tbody>\n",
              "    <tr>\n",
              "      <th>0</th>\n",
              "      <td>862</td>\n",
              "      <td>Toy Story</td>\n",
              "      <td>7.375533</td>\n",
              "      <td>7.375533</td>\n",
              "      <td>7.375533</td>\n",
              "      <td>7.375533</td>\n",
              "      <td>7.375533</td>\n",
              "    </tr>\n",
              "    <tr>\n",
              "      <th>1</th>\n",
              "      <td>8844</td>\n",
              "      <td>Jumanji</td>\n",
              "      <td>6.524536</td>\n",
              "      <td>6.524536</td>\n",
              "      <td>6.524536</td>\n",
              "      <td>6.524536</td>\n",
              "      <td>6.524536</td>\n",
              "    </tr>\n",
              "    <tr>\n",
              "      <th>2</th>\n",
              "      <td>15602</td>\n",
              "      <td>Grumpier Old Men</td>\n",
              "      <td>NaN</td>\n",
              "      <td>NaN</td>\n",
              "      <td>NaN</td>\n",
              "      <td>NaN</td>\n",
              "      <td>NaN</td>\n",
              "    </tr>\n",
              "    <tr>\n",
              "      <th>3</th>\n",
              "      <td>31357</td>\n",
              "      <td>Waiting to Exhale</td>\n",
              "      <td>NaN</td>\n",
              "      <td>NaN</td>\n",
              "      <td>NaN</td>\n",
              "      <td>NaN</td>\n",
              "      <td>NaN</td>\n",
              "    </tr>\n",
              "    <tr>\n",
              "      <th>4</th>\n",
              "      <td>11862</td>\n",
              "      <td>Father of the Bride Part II</td>\n",
              "      <td>NaN</td>\n",
              "      <td>NaN</td>\n",
              "      <td>NaN</td>\n",
              "      <td>NaN</td>\n",
              "      <td>NaN</td>\n",
              "    </tr>\n",
              "  </tbody>\n",
              "</table>\n",
              "</div>"
            ],
            "text/plain": [
              "      id               original_title  ...  imdb_rating_pandas  imdb_rating_numpy\n",
              "0    862                    Toy Story  ...            7.375533           7.375533\n",
              "1   8844                      Jumanji  ...            6.524536           6.524536\n",
              "2  15602             Grumpier Old Men  ...                 NaN                NaN\n",
              "3  31357            Waiting to Exhale  ...                 NaN                NaN\n",
              "4  11862  Father of the Bride Part II  ...                 NaN                NaN\n",
              "\n",
              "[5 rows x 7 columns]"
            ]
          },
          "metadata": {},
          "execution_count": 90
        }
      ]
    },
    {
      "cell_type": "markdown",
      "metadata": {
        "id": "r0ebRPwiFAfo"
      },
      "source": [
        "Time the best performance of the function."
      ]
    },
    {
      "cell_type": "code",
      "metadata": {
        "id": "eWe52oAQ6l8R",
        "colab": {
          "base_uri": "https://localhost:8080/"
        },
        "outputId": "6308694e-b254-4fc3-d697-80988d0639ce"
      },
      "source": [
        "numpy_time = %timeit -r 3 -o weighted_rating_numpy(df)\n",
        "print(\"Best time:\", numpy_time.best)"
      ],
      "execution_count": 91,
      "outputs": [
        {
          "output_type": "stream",
          "name": "stdout",
          "text": [
            "The slowest run took 4.25 times longer than the fastest. This could mean that an intermediate result is being cached.\n",
            "1000 loops, best of 3: 761 µs per loop\n",
            "Best time: 0.000761178569000549\n"
          ]
        }
      ]
    },
    {
      "cell_type": "markdown",
      "metadata": {
        "id": "TB7tkhUDFAfr"
      },
      "source": [
        "Update the score board with the best time, marginal and overall performance change you have obtained. Display the updated table below. "
      ]
    },
    {
      "cell_type": "code",
      "metadata": {
        "id": "J8MBiqnvushL",
        "colab": {
          "base_uri": "https://localhost:8080/",
          "height": 279
        },
        "outputId": "40d52ad3-7339-4017-93a9-778357a24c8e"
      },
      "source": [
        "# your code goes here\n",
        "timings = update_scoreboard(timings, 'NumPy vectorisation', 'Pandas vectorisation', numpy_time)\n",
        "timings"
      ],
      "execution_count": 92,
      "outputs": [
        {
          "output_type": "execute_result",
          "data": {
            "text/html": [
              "<div>\n",
              "<style scoped>\n",
              "    .dataframe tbody tr th:only-of-type {\n",
              "        vertical-align: middle;\n",
              "    }\n",
              "\n",
              "    .dataframe tbody tr th {\n",
              "        vertical-align: top;\n",
              "    }\n",
              "\n",
              "    .dataframe thead th {\n",
              "        text-align: right;\n",
              "    }\n",
              "</style>\n",
              "<table border=\"1\" class=\"dataframe\">\n",
              "  <thead>\n",
              "    <tr style=\"text-align: right;\">\n",
              "      <th></th>\n",
              "      <th>Best single run time (s)</th>\n",
              "      <th>Marginal performance improvement</th>\n",
              "      <th>Performance improvement over basic looping</th>\n",
              "      <th>Best single run time (s, teacher)</th>\n",
              "      <th>Marginal performance improvement (teacher)</th>\n",
              "      <th>Performance improvement over basic looping (teacher)</th>\n",
              "    </tr>\n",
              "  </thead>\n",
              "  <tbody>\n",
              "    <tr>\n",
              "      <th>Basic looping</th>\n",
              "      <td>9.296574</td>\n",
              "      <td>NaN</td>\n",
              "      <td>NaN</td>\n",
              "      <td>9.37000</td>\n",
              "      <td>NaN</td>\n",
              "      <td>NaN</td>\n",
              "    </tr>\n",
              "    <tr>\n",
              "      <th>Iterrows looping</th>\n",
              "      <td>3.775499</td>\n",
              "      <td>2.462343</td>\n",
              "      <td>2.462343</td>\n",
              "      <td>3.87000</td>\n",
              "      <td>x2.42</td>\n",
              "      <td>x2.42</td>\n",
              "    </tr>\n",
              "    <tr>\n",
              "      <th>apply()</th>\n",
              "      <td>0.533387</td>\n",
              "      <td>7.078344</td>\n",
              "      <td>17.429314</td>\n",
              "      <td>0.56200</td>\n",
              "      <td>x6.88</td>\n",
              "      <td>x16.69</td>\n",
              "    </tr>\n",
              "    <tr>\n",
              "      <th>Pandas vectorisation</th>\n",
              "      <td>0.003368</td>\n",
              "      <td>158.372572</td>\n",
              "      <td>2760.325253</td>\n",
              "      <td>0.00540</td>\n",
              "      <td>x103.8</td>\n",
              "      <td>x1732.17</td>\n",
              "    </tr>\n",
              "    <tr>\n",
              "      <th>NumPy vectorisation</th>\n",
              "      <td>0.000761</td>\n",
              "      <td>4.424622</td>\n",
              "      <td>12213.394961</td>\n",
              "      <td>0.00084</td>\n",
              "      <td>x6.45</td>\n",
              "      <td>x11172.98</td>\n",
              "    </tr>\n",
              "  </tbody>\n",
              "</table>\n",
              "</div>"
            ],
            "text/plain": [
              "                      Best single run time (s)  ...  Performance improvement over basic looping (teacher)\n",
              "Basic looping                         9.296574  ...                                                NaN   \n",
              "Iterrows looping                      3.775499  ...                                              x2.42   \n",
              "apply()                               0.533387  ...                                             x16.69   \n",
              "Pandas vectorisation                  0.003368  ...                                           x1732.17   \n",
              "NumPy vectorisation                   0.000761  ...                                          x11172.98   \n",
              "\n",
              "[5 rows x 6 columns]"
            ]
          },
          "metadata": {},
          "execution_count": 92
        }
      ]
    },
    {
      "cell_type": "markdown",
      "metadata": {
        "id": "8RSyEDTvA-QQ"
      },
      "source": [
        "Time to reflect on your solution. Do the following: \n",
        " \n",
        "* Explain in words what your function does and why it is a vectorised solution. In particular, break down each step involving ufuncs, broadcasting and other vectorized calls. \n",
        "    * If your explanation has major errors, we will substract points for this part.\n",
        "    * If applicable, you may refer back to the explanation you gave for `weighted_rating_pandas`.\n",
        " \n",
        "* Display profiler output and give an analysis of what you see.\n",
        "    * Contrast your findings with those from `weighted_rating_pandas`."
      ]
    },
    {
      "cell_type": "code",
      "metadata": {
        "id": "FV8aYhv5WEqA"
      },
      "source": [
        "# your code goes here\n",
        "%lprun -f weighted_rating_numpy weighted_rating_numpy(df)"
      ],
      "execution_count": null,
      "outputs": []
    },
    {
      "cell_type": "markdown",
      "metadata": {
        "id": "k7lgegwDWFTt"
      },
      "source": [
        "Timer unit: 1e-06 s\n",
        "\n",
        "Total time: 0.052257 s\n",
        "File: /var/folders/hf/9wq995zd4xz5zkwprjh2z0dm0000gn/T/ipykernel_60895/874189283.py\n",
        "Function: weighted_rating_numpy at line 2\n",
        "\n",
        "### Line | # Hits | Time Per Hit | % Time | Line Contents\n",
        "     2                                    def weighted_rating_numpy(df):\n",
        "     3 1      11852.0  11852.0     22.7      df['imdb_rating_numpy'] = np.nan\n",
        "     5 1      28091.0  28091.0     53.8      indeces = np.argwhere(df['vote_count'].values > m).flatten()\n",
        "     6 1       3591.0   3591.0      6.9      imdb_rating_numpy = df.imdb_rating_numpy.values\n",
        "     7 1       1163.0   1163.0      2.2      v = df.vote_count.values[indeces]\n",
        "     8 1       1397.0   1397.0      2.7      R = df.vote_average.values[indeces]\n",
        "     9 1        309.0    309.0      0.6      imdb_rating_numpy[indeces] = (v/(v+m) * R) + (m/(v+m) * C)\n",
        "    10 1       5854.0   5854.0     11.2      df.loc[:, 'imdb_rating_numpy'] = imdb_rating_numpy"
      ]
    },
    {
      "cell_type": "markdown",
      "metadata": {
        "id": "jdgvpD5wWFwG"
      },
      "source": [
        "The profiling of the NumPy implementation shows that the majority of the time is now used on finding the indeces of the rows which has a vote_count > m. This is in contrast to the Pandas implementation, where this specific part of the function only accounted for 10% of the total time. Another worthy thing to mention is that the time on computing the ratings only accounts for 0.6% of the total time. And another 11% to store these values in the Pandas dataframe, i.e. approx 12% to do the last two lines compared to the Pandas implementation where this took 48% of the time. "
      ]
    },
    {
      "cell_type": "markdown",
      "metadata": {
        "id": "NEryFjwWWFwG"
      },
      "source": [
        "The NumPy implementation has many similarities to the Pandas implementation in the way that both are vectorizing the computations of the imdb_ratings by performing arthimetic operations on the v and R arrays, which are both NumPy arrays, with the scalars m and C, which are \"broadcasted\" (conceptually) and thus the performance are improved by performing the operations in C, multithreading and efficient memory allocation. The initialization of the imdb_rating placeholder column is also completely the same as in the pandas implementation. What is new is the use of the NumPy function to find the indeces of the rows that has a vote_count greater than m. Especially this new addition greatly improved the performance which indicates that the numpy.argwhere function is much more efficient than the pandas masking df[df.column > value]. "
      ]
    },
    {
      "cell_type": "markdown",
      "metadata": {
        "id": "rcGeZKuIRHe7"
      },
      "source": [
        "## Part 5: Find out the top 25 titles (2.5 pts)"
      ]
    },
    {
      "cell_type": "markdown",
      "metadata": {
        "id": "E-IE_GfsRMOG"
      },
      "source": [
        "What are the top 25 titles? Now that we have the IMDb ratings conveniently stored in a column, display the top 25 titles, together with their IMDb rating:"
      ]
    },
    {
      "cell_type": "code",
      "metadata": {
        "id": "svC-x1ZcRNJ4",
        "colab": {
          "base_uri": "https://localhost:8080/",
          "height": 787
        },
        "outputId": "1b20d7ab-e835-49b9-9e13-be43287cf928"
      },
      "source": [
        "# your code goes here\n",
        "top25 = df.sort_values(by='imdb_rating',ascending=False).iloc[:25, :]\n",
        "top25.index = range(1,len(top25)+1)\n",
        "top25.loc[:, ['title', 'imdb_rating']]"
      ],
      "execution_count": 93,
      "outputs": [
        {
          "output_type": "execute_result",
          "data": {
            "text/html": [
              "<div>\n",
              "<style scoped>\n",
              "    .dataframe tbody tr th:only-of-type {\n",
              "        vertical-align: middle;\n",
              "    }\n",
              "\n",
              "    .dataframe tbody tr th {\n",
              "        vertical-align: top;\n",
              "    }\n",
              "\n",
              "    .dataframe thead th {\n",
              "        text-align: right;\n",
              "    }\n",
              "</style>\n",
              "<table border=\"1\" class=\"dataframe\">\n",
              "  <thead>\n",
              "    <tr style=\"text-align: right;\">\n",
              "      <th></th>\n",
              "      <th>title</th>\n",
              "      <th>imdb_rating</th>\n",
              "    </tr>\n",
              "  </thead>\n",
              "  <tbody>\n",
              "    <tr>\n",
              "      <th>1</th>\n",
              "      <td>The Shawshank Redemption</td>\n",
              "      <td>8.192086</td>\n",
              "    </tr>\n",
              "    <tr>\n",
              "      <th>2</th>\n",
              "      <td>The Dark Knight</td>\n",
              "      <td>8.097916</td>\n",
              "    </tr>\n",
              "    <tr>\n",
              "      <th>3</th>\n",
              "      <td>The Godfather</td>\n",
              "      <td>8.089770</td>\n",
              "    </tr>\n",
              "    <tr>\n",
              "      <th>4</th>\n",
              "      <td>Fight Club</td>\n",
              "      <td>8.048880</td>\n",
              "    </tr>\n",
              "    <tr>\n",
              "      <th>5</th>\n",
              "      <td>Pulp Fiction</td>\n",
              "      <td>8.022704</td>\n",
              "    </tr>\n",
              "    <tr>\n",
              "      <th>6</th>\n",
              "      <td>Inception</td>\n",
              "      <td>7.935393</td>\n",
              "    </tr>\n",
              "    <tr>\n",
              "      <th>7</th>\n",
              "      <td>Forrest Gump</td>\n",
              "      <td>7.917781</td>\n",
              "    </tr>\n",
              "    <tr>\n",
              "      <th>8</th>\n",
              "      <td>Interstellar</td>\n",
              "      <td>7.896385</td>\n",
              "    </tr>\n",
              "    <tr>\n",
              "      <th>9</th>\n",
              "      <td>The Empire Strikes Back</td>\n",
              "      <td>7.831115</td>\n",
              "    </tr>\n",
              "    <tr>\n",
              "      <th>10</th>\n",
              "      <td>The Lord of the Rings: The Return of the King</td>\n",
              "      <td>7.831037</td>\n",
              "    </tr>\n",
              "    <tr>\n",
              "      <th>11</th>\n",
              "      <td>Schindler's List</td>\n",
              "      <td>7.806722</td>\n",
              "    </tr>\n",
              "    <tr>\n",
              "      <th>12</th>\n",
              "      <td>Whiplash</td>\n",
              "      <td>7.801217</td>\n",
              "    </tr>\n",
              "    <tr>\n",
              "      <th>13</th>\n",
              "      <td>The Intouchables</td>\n",
              "      <td>7.797277</td>\n",
              "    </tr>\n",
              "    <tr>\n",
              "      <th>14</th>\n",
              "      <td>Star Wars</td>\n",
              "      <td>7.780965</td>\n",
              "    </tr>\n",
              "    <tr>\n",
              "      <th>15</th>\n",
              "      <td>Spirited Away</td>\n",
              "      <td>7.760254</td>\n",
              "    </tr>\n",
              "    <tr>\n",
              "      <th>16</th>\n",
              "      <td>The Lord of the Rings: The Fellowship of the Ring</td>\n",
              "      <td>7.759254</td>\n",
              "    </tr>\n",
              "    <tr>\n",
              "      <th>17</th>\n",
              "      <td>Se7en</td>\n",
              "      <td>7.741149</td>\n",
              "    </tr>\n",
              "    <tr>\n",
              "      <th>18</th>\n",
              "      <td>The Lord of the Rings: The Two Towers</td>\n",
              "      <td>7.724400</td>\n",
              "    </tr>\n",
              "    <tr>\n",
              "      <th>19</th>\n",
              "      <td>Life Is Beautiful</td>\n",
              "      <td>7.722473</td>\n",
              "    </tr>\n",
              "    <tr>\n",
              "      <th>20</th>\n",
              "      <td>Leon: The Professional</td>\n",
              "      <td>7.712289</td>\n",
              "    </tr>\n",
              "    <tr>\n",
              "      <th>21</th>\n",
              "      <td>The Green Mile</td>\n",
              "      <td>7.700299</td>\n",
              "    </tr>\n",
              "    <tr>\n",
              "      <th>22</th>\n",
              "      <td>The Godfather: Part II</td>\n",
              "      <td>7.693061</td>\n",
              "    </tr>\n",
              "    <tr>\n",
              "      <th>23</th>\n",
              "      <td>Guardians of the Galaxy</td>\n",
              "      <td>7.692858</td>\n",
              "    </tr>\n",
              "    <tr>\n",
              "      <th>24</th>\n",
              "      <td>The Matrix</td>\n",
              "      <td>7.673643</td>\n",
              "    </tr>\n",
              "    <tr>\n",
              "      <th>25</th>\n",
              "      <td>Back to the Future</td>\n",
              "      <td>7.671024</td>\n",
              "    </tr>\n",
              "  </tbody>\n",
              "</table>\n",
              "</div>"
            ],
            "text/plain": [
              "                                                title  imdb_rating\n",
              "1                            The Shawshank Redemption     8.192086\n",
              "2                                     The Dark Knight     8.097916\n",
              "3                                       The Godfather     8.089770\n",
              "4                                          Fight Club     8.048880\n",
              "5                                        Pulp Fiction     8.022704\n",
              "6                                           Inception     7.935393\n",
              "7                                        Forrest Gump     7.917781\n",
              "8                                        Interstellar     7.896385\n",
              "9                             The Empire Strikes Back     7.831115\n",
              "10      The Lord of the Rings: The Return of the King     7.831037\n",
              "11                                   Schindler's List     7.806722\n",
              "12                                           Whiplash     7.801217\n",
              "13                                   The Intouchables     7.797277\n",
              "14                                          Star Wars     7.780965\n",
              "15                                      Spirited Away     7.760254\n",
              "16  The Lord of the Rings: The Fellowship of the Ring     7.759254\n",
              "17                                              Se7en     7.741149\n",
              "18              The Lord of the Rings: The Two Towers     7.724400\n",
              "19                                  Life Is Beautiful     7.722473\n",
              "20                             Leon: The Professional     7.712289\n",
              "21                                     The Green Mile     7.700299\n",
              "22                             The Godfather: Part II     7.693061\n",
              "23                            Guardians of the Galaxy     7.692858\n",
              "24                                         The Matrix     7.673643\n",
              "25                                 Back to the Future     7.671024"
            ]
          },
          "metadata": {},
          "execution_count": 93
        }
      ]
    },
    {
      "cell_type": "markdown",
      "metadata": {
        "id": "2Ca4XaEtqvwt"
      },
      "source": [
        "# Exercise 3: Predicting the genre of movies (40 points)"
      ]
    },
    {
      "cell_type": "markdown",
      "metadata": {
        "id": "irkcmAfTHTzR"
      },
      "source": [
        "In this exercise, you'll be asked to create a number of features and use them to predict whether a movie is a science fiction movie or not. \n",
        "For this classification task, we'll work with a different part of the movies dataset, which contains more information for each movie."
      ]
    },
    {
      "cell_type": "code",
      "metadata": {
        "ExecuteTime": {
          "end_time": "2021-09-27T12:28:57.151965Z",
          "start_time": "2021-09-27T12:28:57.145452Z"
        },
        "id": "cs0dJMEG1PLL"
      },
      "source": [
        "train_url = 'http://courses.compute.dtu.dk/02807/2021/projects/project1/train.csv'"
      ],
      "execution_count": 94,
      "outputs": []
    },
    {
      "cell_type": "markdown",
      "metadata": {
        "id": "SIcpNS2GCXUi"
      },
      "source": [
        "You'll try to predict whether a movie is a science fiction movie based on the other associated genres for the movie, the people and companies involved in making it, as well as its release date."
      ]
    },
    {
      "cell_type": "markdown",
      "metadata": {
        "id": "IkN5bCjoCPW9"
      },
      "source": [
        "## Part 1: Adding binary features for genres (15 pts)"
      ]
    },
    {
      "cell_type": "markdown",
      "metadata": {
        "id": "XA00jck22BKq"
      },
      "source": [
        "As in Exercise 1, the data on several columns is in a stringified format. Pre-process the following columns appropriately, as you did with the `genres` column in Part 1 of Exercise 1.\n",
        "```\n",
        "'belongs_to_collection', 'genres', 'production_companies','production_countries', 'spoken_languages', 'Keywords', 'cast', 'crew'\n",
        "```\n",
        " \n",
        "Don't loop explicitly over the rows to perform this preprocessing. Your dataframe should be named `train`."
      ]
    },
    {
      "cell_type": "code",
      "metadata": {
        "id": "tHi0Ejxb2bKM",
        "colab": {
          "base_uri": "https://localhost:8080/",
          "height": 345
        },
        "outputId": "534719e7-3d2e-429e-d1dc-6ae89319f12d"
      },
      "source": [
        "# your code goes here\n",
        "def load_movies_data(url):\n",
        "    df = pd.read_csv(url, dtype='unicode', low_memory=False)\n",
        "\n",
        "    df['release_date'] = pd.to_datetime(df['release_date'], errors='coerce')\n",
        "    df.belongs_to_collection = df.belongs_to_collection.fillna('{}').apply(lambda x: f(x))\n",
        "    df.genres = df.genres.fillna('[]').apply(lambda x: f(x))\n",
        "    df.production_companies = df.production_companies.fillna('[]').apply(lambda x: f(x))\n",
        "    df.production_countries = df.production_countries.fillna('[]').apply(lambda x: f(x))\n",
        "    df.spoken_languages = df.spoken_languages.apply(lambda x: f(x))\n",
        "    df.Keywords = df.Keywords.apply(lambda x: f(x))\n",
        "    df.cast = df.cast.fillna('[]').apply(lambda x: f(x))\n",
        "    df.crew = df.crew.fillna('[]').apply(lambda x: f(x))\n",
        "    return df\n",
        "\n",
        "train = load_movies_data(train_url) # dataframe name \"train\"\n",
        "train.head(2)"
      ],
      "execution_count": 95,
      "outputs": [
        {
          "output_type": "execute_result",
          "data": {
            "text/html": [
              "<div>\n",
              "<style scoped>\n",
              "    .dataframe tbody tr th:only-of-type {\n",
              "        vertical-align: middle;\n",
              "    }\n",
              "\n",
              "    .dataframe tbody tr th {\n",
              "        vertical-align: top;\n",
              "    }\n",
              "\n",
              "    .dataframe thead th {\n",
              "        text-align: right;\n",
              "    }\n",
              "</style>\n",
              "<table border=\"1\" class=\"dataframe\">\n",
              "  <thead>\n",
              "    <tr style=\"text-align: right;\">\n",
              "      <th></th>\n",
              "      <th>id</th>\n",
              "      <th>belongs_to_collection</th>\n",
              "      <th>budget</th>\n",
              "      <th>genres</th>\n",
              "      <th>homepage</th>\n",
              "      <th>imdb_id</th>\n",
              "      <th>original_language</th>\n",
              "      <th>original_title</th>\n",
              "      <th>overview</th>\n",
              "      <th>popularity</th>\n",
              "      <th>poster_path</th>\n",
              "      <th>production_companies</th>\n",
              "      <th>production_countries</th>\n",
              "      <th>release_date</th>\n",
              "      <th>runtime</th>\n",
              "      <th>spoken_languages</th>\n",
              "      <th>status</th>\n",
              "      <th>tagline</th>\n",
              "      <th>title</th>\n",
              "      <th>Keywords</th>\n",
              "      <th>cast</th>\n",
              "      <th>crew</th>\n",
              "      <th>revenue</th>\n",
              "    </tr>\n",
              "  </thead>\n",
              "  <tbody>\n",
              "    <tr>\n",
              "      <th>0</th>\n",
              "      <td>1</td>\n",
              "      <td>[{'id': 313576, 'name': 'Hot Tub Time Machine ...</td>\n",
              "      <td>14000000</td>\n",
              "      <td>[{'id': 35, 'name': 'Comedy'}]</td>\n",
              "      <td>NaN</td>\n",
              "      <td>tt2637294</td>\n",
              "      <td>en</td>\n",
              "      <td>Hot Tub Time Machine 2</td>\n",
              "      <td>When Lou, who has become the \"father of the In...</td>\n",
              "      <td>6.575393</td>\n",
              "      <td>/tQtWuwvMf0hCc2QR2tkolwl7c3c.jpg</td>\n",
              "      <td>[{'name': 'Paramount Pictures', 'id': 4}, {'na...</td>\n",
              "      <td>[{'iso_3166_1': 'US', 'name': 'United States o...</td>\n",
              "      <td>2015-02-20</td>\n",
              "      <td>93</td>\n",
              "      <td>[{'iso_639_1': 'en', 'name': 'English'}]</td>\n",
              "      <td>Released</td>\n",
              "      <td>The Laws of Space and Time are About to be Vio...</td>\n",
              "      <td>Hot Tub Time Machine 2</td>\n",
              "      <td>[{'id': 4379, 'name': 'time travel'}, {'id': 9...</td>\n",
              "      <td>[{'cast_id': 4, 'character': 'Lou', 'credit_id...</td>\n",
              "      <td>[{'credit_id': '59ac067c92514107af02c8c8', 'de...</td>\n",
              "      <td>12314651</td>\n",
              "    </tr>\n",
              "    <tr>\n",
              "      <th>1</th>\n",
              "      <td>2</td>\n",
              "      <td>[{'id': 107674, 'name': 'The Princess Diaries ...</td>\n",
              "      <td>40000000</td>\n",
              "      <td>[{'id': 35, 'name': 'Comedy'}, {'id': 18, 'nam...</td>\n",
              "      <td>NaN</td>\n",
              "      <td>tt0368933</td>\n",
              "      <td>en</td>\n",
              "      <td>The Princess Diaries 2: Royal Engagement</td>\n",
              "      <td>Mia Thermopolis is now a college graduate and ...</td>\n",
              "      <td>8.248895</td>\n",
              "      <td>/w9Z7A0GHEhIp7etpj0vyKOeU1Wx.jpg</td>\n",
              "      <td>[{'name': 'Walt Disney Pictures', 'id': 2}]</td>\n",
              "      <td>[{'iso_3166_1': 'US', 'name': 'United States o...</td>\n",
              "      <td>2004-08-06</td>\n",
              "      <td>113</td>\n",
              "      <td>[{'iso_639_1': 'en', 'name': 'English'}]</td>\n",
              "      <td>Released</td>\n",
              "      <td>It can take a lifetime to find true love; she'...</td>\n",
              "      <td>The Princess Diaries 2: Royal Engagement</td>\n",
              "      <td>[{'id': 2505, 'name': 'coronation'}, {'id': 42...</td>\n",
              "      <td>[{'cast_id': 1, 'character': 'Mia Thermopolis'...</td>\n",
              "      <td>[{'credit_id': '52fe43fe9251416c7502563d', 'de...</td>\n",
              "      <td>95149435</td>\n",
              "    </tr>\n",
              "  </tbody>\n",
              "</table>\n",
              "</div>"
            ],
            "text/plain": [
              "  id  ...   revenue\n",
              "0  1  ...  12314651\n",
              "1  2  ...  95149435\n",
              "\n",
              "[2 rows x 23 columns]"
            ]
          },
          "metadata": {},
          "execution_count": 95
        }
      ]
    },
    {
      "cell_type": "markdown",
      "metadata": {
        "id": "XEH3oCYAcWct"
      },
      "source": [
        ""
      ]
    },
    {
      "cell_type": "code",
      "metadata": {
        "id": "EP7Ucgc2cF1U"
      },
      "source": [
        ""
      ],
      "execution_count": null,
      "outputs": []
    },
    {
      "cell_type": "markdown",
      "metadata": {
        "id": "Z57lsGZ5IL7b"
      },
      "source": [
        "Looking at the 'genres' column, you can see that movies have a varying number of associated genres."
      ]
    },
    {
      "cell_type": "code",
      "metadata": {
        "id": "amzV_VzSE0VL",
        "colab": {
          "base_uri": "https://localhost:8080/"
        },
        "outputId": "035ba888-f0ce-4dfd-9813-ecd16cd633d7"
      },
      "source": [
        "# this will work only if you've already preprocessed the genres' column into lists of dicts\n",
        "for i, v in enumerate(train.genres.head()):\n",
        "    print(i, v)"
      ],
      "execution_count": 96,
      "outputs": [
        {
          "output_type": "stream",
          "name": "stdout",
          "text": [
            "0 [{'id': 35, 'name': 'Comedy'}]\n",
            "1 [{'id': 35, 'name': 'Comedy'}, {'id': 18, 'name': 'Drama'}, {'id': 10751, 'name': 'Family'}, {'id': 10749, 'name': 'Romance'}]\n",
            "2 [{'id': 18, 'name': 'Drama'}]\n",
            "3 [{'id': 53, 'name': 'Thriller'}, {'id': 18, 'name': 'Drama'}]\n",
            "4 [{'id': 28, 'name': 'Action'}, {'id': 53, 'name': 'Thriller'}]\n"
          ]
        }
      ]
    },
    {
      "cell_type": "markdown",
      "metadata": {
        "id": "kPDjPDHlInOC"
      },
      "source": [
        "Count the number of movies that have $n$ associated genres, for each $n$ in the dataset. If a movie has no associated genres, assign it the number 0. \n",
        "\n",
        "You have to use Pandas built-in functions only (no explicit looping). For example, you could use `apply()` with an appropriate function to apply to each row. \n",
        "\n",
        "Once you have the counts, visualise them as a bar chart, with one bar per possible number of associated genres, and the height of the bar representing the number of movies with that number of genres.\n"
      ]
    },
    {
      "cell_type": "code",
      "metadata": {
        "id": "6cHqZJ8iImh1",
        "colab": {
          "base_uri": "https://localhost:8080/",
          "height": 334
        },
        "outputId": "19a5cf86-3e53-4a32-d887-a49f2f741e45"
      },
      "source": [
        "# your code goes here\n",
        "import matplotlib.pyplot as plt\n",
        "%matplotlib inline\n",
        "\n",
        "gc = train.genres.apply(np.size, axis = 0)\n",
        "\n",
        "fig = plt.figure()\n",
        "ax = plt.axes()\n",
        "\n",
        "ax = gc.value_counts().sort_index().plot.bar(rot=0, color='orange', edgecolor='r')\n",
        "ax.set_xlabel('Number of movies')\n",
        "_ = ax.set_ylabel('Number of genres')\n",
        "fig.set_size_inches(8,5)"
      ],
      "execution_count": 97,
      "outputs": [
        {
          "output_type": "display_data",
          "data": {
            "image/png": "[encoded data removed]",
            "text/plain": [
              "<Figure size 576x360 with 1 Axes>"
            ]
          },
          "metadata": {
            "needs_background": "light"
          }
        }
      ]
    },
    {
      "cell_type": "markdown",
      "metadata": {
        "id": "EqA9UQ3rJyBQ"
      },
      "source": [
        "Let's create our binary features next. Complete the following steps:\n",
        " \n",
        "1.   Transform the `genres` column by replacing its current entries with the list of names of genres occurring in the entries.  For example, the entry \n",
        "```\n",
        "[{'id': 10749, 'name': 'Romance'}, {'id': 35, 'name': 'Comedy'}]\n",
        "```\n",
        "should be transformed into:\n",
        "```\n",
        "['Romance','Comedy']\n",
        "```\n",
        "Empty entries should be transformed into the empty list `[]`.\n",
        "\n",
        "2. Create a separate column (in `train`) for each of the 20 genres, with name `genres_(nameofgenre)` (e.g. `genres_Comedy`). A movie should have a 1 on a genres column if the genre is one of the associated genres for that movie, and a 0 otherwise.\n",
        "    * To get started, consider what operations create a data frame with dimensions as `train` and columns as specified here, based on the list output from step 1. Then combine this data frame with `train`.\n",
        "\n",
        "You have to use Pandas built-in functions only (no explicit looping)."
      ]
    },
    {
      "cell_type": "code",
      "metadata": {
        "id": "EVXMvDv3Mk1t",
        "colab": {
          "base_uri": "https://localhost:8080/"
        },
        "outputId": "fc39fa1e-4817-4c3c-f9b2-372011b001e0"
      },
      "source": [
        "# your code goes here\n",
        "# Transform the genres column by replacing its current entries with the list of names of genres occurring in the entries.\n",
        "# train.genres = train.genres.loc['name']\n",
        "print(train.genres)"
      ],
      "execution_count": 98,
      "outputs": [
        {
          "output_type": "stream",
          "name": "stdout",
          "text": [
            "0                          [{'id': 35, 'name': 'Comedy'}]\n",
            "1       [{'id': 35, 'name': 'Comedy'}, {'id': 18, 'nam...\n",
            "2                           [{'id': 18, 'name': 'Drama'}]\n",
            "3       [{'id': 53, 'name': 'Thriller'}, {'id': 18, 'n...\n",
            "4       [{'id': 28, 'name': 'Action'}, {'id': 53, 'nam...\n",
            "                              ...                        \n",
            "2995    [{'id': 35, 'name': 'Comedy'}, {'id': 10749, '...\n",
            "2996    [{'id': 18, 'name': 'Drama'}, {'id': 10402, 'n...\n",
            "2997    [{'id': 80, 'name': 'Crime'}, {'id': 28, 'name...\n",
            "2998    [{'id': 35, 'name': 'Comedy'}, {'id': 10749, '...\n",
            "2999    [{'id': 53, 'name': 'Thriller'}, {'id': 28, 'n...\n",
            "Name: genres, Length: 3000, dtype: object\n"
          ]
        }
      ]
    },
    {
      "cell_type": "markdown",
      "metadata": {
        "id": "nN65zGfLnSe-"
      },
      "source": [
        "Visualise the number of movies per top 20 genre with a chart of your choice."
      ]
    },
    {
      "cell_type": "code",
      "metadata": {
        "id": "wEjJJkMZh9mF"
      },
      "source": [
        "# your code goes here"
      ],
      "execution_count": null,
      "outputs": []
    },
    {
      "cell_type": "markdown",
      "metadata": {
        "id": "M79tzVdMDfXL"
      },
      "source": [
        "## Part 2: Adding more binary features (5 pts)"
      ]
    },
    {
      "cell_type": "markdown",
      "metadata": {
        "id": "7iZngZ3ZnAsG"
      },
      "source": [
        "You've now extracted binary features for all genres associated with a movie. But there's other information that we could use to base our predictions on. \n",
        "\n",
        "The `genres` column is just one out of several columns containing lists of dictionaries as entries. For example, the `production_companies` column also contains lists of dictionaries, providing names of the companies producing the movie. As you just did with genres, add new columns for:\n",
        " \n",
        "1.   The names of the 30 most common production companies\n",
        "2.   The names of the 30 most common production countries\n",
        "3.   The names of the 30 most common actors (`cast` column) \n",
        "4.   The names of the 30 most common crew members\n",
        "5.   The names of the 30 most common keywords\n",
        " \n",
        "We recommend you generalize the functionality implemented in the previous question (e.g. to other columns and to restrict to top 30 most common values)."
      ]
    },
    {
      "cell_type": "code",
      "metadata": {
        "id": "9sO8Tsqduatn"
      },
      "source": [
        "# your code goes here"
      ],
      "execution_count": null,
      "outputs": []
    },
    {
      "cell_type": "markdown",
      "metadata": {
        "id": "KjFFSEJs93yJ"
      },
      "source": [
        "Check the result. You should now have a much wider table, with the new columns consisting of binary features."
      ]
    },
    {
      "cell_type": "code",
      "metadata": {
        "id": "IyORi5V27Mg0",
        "colab": {
          "base_uri": "https://localhost:8080/",
          "height": 618
        },
        "outputId": "db70bbe3-7538-4896-94d4-47182be29ef8"
      },
      "source": [
        "train.head()"
      ],
      "execution_count": 99,
      "outputs": [
        {
          "output_type": "execute_result",
          "data": {
            "text/html": [
              "<div>\n",
              "<style scoped>\n",
              "    .dataframe tbody tr th:only-of-type {\n",
              "        vertical-align: middle;\n",
              "    }\n",
              "\n",
              "    .dataframe tbody tr th {\n",
              "        vertical-align: top;\n",
              "    }\n",
              "\n",
              "    .dataframe thead th {\n",
              "        text-align: right;\n",
              "    }\n",
              "</style>\n",
              "<table border=\"1\" class=\"dataframe\">\n",
              "  <thead>\n",
              "    <tr style=\"text-align: right;\">\n",
              "      <th></th>\n",
              "      <th>id</th>\n",
              "      <th>belongs_to_collection</th>\n",
              "      <th>budget</th>\n",
              "      <th>genres</th>\n",
              "      <th>homepage</th>\n",
              "      <th>imdb_id</th>\n",
              "      <th>original_language</th>\n",
              "      <th>original_title</th>\n",
              "      <th>overview</th>\n",
              "      <th>popularity</th>\n",
              "      <th>poster_path</th>\n",
              "      <th>production_companies</th>\n",
              "      <th>production_countries</th>\n",
              "      <th>release_date</th>\n",
              "      <th>runtime</th>\n",
              "      <th>spoken_languages</th>\n",
              "      <th>status</th>\n",
              "      <th>tagline</th>\n",
              "      <th>title</th>\n",
              "      <th>Keywords</th>\n",
              "      <th>cast</th>\n",
              "      <th>crew</th>\n",
              "      <th>revenue</th>\n",
              "    </tr>\n",
              "  </thead>\n",
              "  <tbody>\n",
              "    <tr>\n",
              "      <th>0</th>\n",
              "      <td>1</td>\n",
              "      <td>[{'id': 313576, 'name': 'Hot Tub Time Machine ...</td>\n",
              "      <td>14000000</td>\n",
              "      <td>[{'id': 35, 'name': 'Comedy'}]</td>\n",
              "      <td>NaN</td>\n",
              "      <td>tt2637294</td>\n",
              "      <td>en</td>\n",
              "      <td>Hot Tub Time Machine 2</td>\n",
              "      <td>When Lou, who has become the \"father of the In...</td>\n",
              "      <td>6.575393</td>\n",
              "      <td>/tQtWuwvMf0hCc2QR2tkolwl7c3c.jpg</td>\n",
              "      <td>[{'name': 'Paramount Pictures', 'id': 4}, {'na...</td>\n",
              "      <td>[{'iso_3166_1': 'US', 'name': 'United States o...</td>\n",
              "      <td>2015-02-20</td>\n",
              "      <td>93</td>\n",
              "      <td>[{'iso_639_1': 'en', 'name': 'English'}]</td>\n",
              "      <td>Released</td>\n",
              "      <td>The Laws of Space and Time are About to be Vio...</td>\n",
              "      <td>Hot Tub Time Machine 2</td>\n",
              "      <td>[{'id': 4379, 'name': 'time travel'}, {'id': 9...</td>\n",
              "      <td>[{'cast_id': 4, 'character': 'Lou', 'credit_id...</td>\n",
              "      <td>[{'credit_id': '59ac067c92514107af02c8c8', 'de...</td>\n",
              "      <td>12314651</td>\n",
              "    </tr>\n",
              "    <tr>\n",
              "      <th>1</th>\n",
              "      <td>2</td>\n",
              "      <td>[{'id': 107674, 'name': 'The Princess Diaries ...</td>\n",
              "      <td>40000000</td>\n",
              "      <td>[{'id': 35, 'name': 'Comedy'}, {'id': 18, 'nam...</td>\n",
              "      <td>NaN</td>\n",
              "      <td>tt0368933</td>\n",
              "      <td>en</td>\n",
              "      <td>The Princess Diaries 2: Royal Engagement</td>\n",
              "      <td>Mia Thermopolis is now a college graduate and ...</td>\n",
              "      <td>8.248895</td>\n",
              "      <td>/w9Z7A0GHEhIp7etpj0vyKOeU1Wx.jpg</td>\n",
              "      <td>[{'name': 'Walt Disney Pictures', 'id': 2}]</td>\n",
              "      <td>[{'iso_3166_1': 'US', 'name': 'United States o...</td>\n",
              "      <td>2004-08-06</td>\n",
              "      <td>113</td>\n",
              "      <td>[{'iso_639_1': 'en', 'name': 'English'}]</td>\n",
              "      <td>Released</td>\n",
              "      <td>It can take a lifetime to find true love; she'...</td>\n",
              "      <td>The Princess Diaries 2: Royal Engagement</td>\n",
              "      <td>[{'id': 2505, 'name': 'coronation'}, {'id': 42...</td>\n",
              "      <td>[{'cast_id': 1, 'character': 'Mia Thermopolis'...</td>\n",
              "      <td>[{'credit_id': '52fe43fe9251416c7502563d', 'de...</td>\n",
              "      <td>95149435</td>\n",
              "    </tr>\n",
              "    <tr>\n",
              "      <th>2</th>\n",
              "      <td>3</td>\n",
              "      <td>{}</td>\n",
              "      <td>3300000</td>\n",
              "      <td>[{'id': 18, 'name': 'Drama'}]</td>\n",
              "      <td>http://sonyclassics.com/whiplash/</td>\n",
              "      <td>tt2582802</td>\n",
              "      <td>en</td>\n",
              "      <td>Whiplash</td>\n",
              "      <td>Under the direction of a ruthless instructor, ...</td>\n",
              "      <td>64.29999</td>\n",
              "      <td>/lIv1QinFqz4dlp5U4lQ6HaiskOZ.jpg</td>\n",
              "      <td>[{'name': 'Bold Films', 'id': 2266}, {'name': ...</td>\n",
              "      <td>[{'iso_3166_1': 'US', 'name': 'United States o...</td>\n",
              "      <td>2014-10-10</td>\n",
              "      <td>105</td>\n",
              "      <td>[{'iso_639_1': 'en', 'name': 'English'}]</td>\n",
              "      <td>Released</td>\n",
              "      <td>The road to greatness can take you to the edge.</td>\n",
              "      <td>Whiplash</td>\n",
              "      <td>[{'id': 1416, 'name': 'jazz'}, {'id': 1523, 'n...</td>\n",
              "      <td>[{'cast_id': 5, 'character': 'Andrew Neimann',...</td>\n",
              "      <td>[{'credit_id': '54d5356ec3a3683ba0000039', 'de...</td>\n",
              "      <td>13092000</td>\n",
              "    </tr>\n",
              "    <tr>\n",
              "      <th>3</th>\n",
              "      <td>4</td>\n",
              "      <td>{}</td>\n",
              "      <td>1200000</td>\n",
              "      <td>[{'id': 53, 'name': 'Thriller'}, {'id': 18, 'n...</td>\n",
              "      <td>http://kahaanithefilm.com/</td>\n",
              "      <td>tt1821480</td>\n",
              "      <td>hi</td>\n",
              "      <td>Kahaani</td>\n",
              "      <td>Vidya Bagchi (Vidya Balan) arrives in Kolkata ...</td>\n",
              "      <td>3.174936</td>\n",
              "      <td>/aTXRaPrWSinhcmCrcfJK17urp3F.jpg</td>\n",
              "      <td>[]</td>\n",
              "      <td>[{'iso_3166_1': 'IN', 'name': 'India'}]</td>\n",
              "      <td>2012-03-09</td>\n",
              "      <td>122</td>\n",
              "      <td>[{'iso_639_1': 'en', 'name': 'English'}, {'iso...</td>\n",
              "      <td>Released</td>\n",
              "      <td>NaN</td>\n",
              "      <td>Kahaani</td>\n",
              "      <td>[{'id': 10092, 'name': 'mystery'}, {'id': 1054...</td>\n",
              "      <td>[{'cast_id': 1, 'character': 'Vidya Bagchi', '...</td>\n",
              "      <td>[{'credit_id': '52fe48779251416c9108d6eb', 'de...</td>\n",
              "      <td>16000000</td>\n",
              "    </tr>\n",
              "    <tr>\n",
              "      <th>4</th>\n",
              "      <td>5</td>\n",
              "      <td>{}</td>\n",
              "      <td>0</td>\n",
              "      <td>[{'id': 28, 'name': 'Action'}, {'id': 53, 'nam...</td>\n",
              "      <td>NaN</td>\n",
              "      <td>tt1380152</td>\n",
              "      <td>ko</td>\n",
              "      <td>마린보이</td>\n",
              "      <td>Marine Boy is the story of a former national s...</td>\n",
              "      <td>1.14807</td>\n",
              "      <td>/m22s7zvkVFDU9ir56PiiqIEWFdT.jpg</td>\n",
              "      <td>[]</td>\n",
              "      <td>[{'iso_3166_1': 'KR', 'name': 'South Korea'}]</td>\n",
              "      <td>2009-02-05</td>\n",
              "      <td>118</td>\n",
              "      <td>[{'iso_639_1': 'ko', 'name': '한국어/조선말'}]</td>\n",
              "      <td>Released</td>\n",
              "      <td>NaN</td>\n",
              "      <td>Marine Boy</td>\n",
              "      <td>NaN</td>\n",
              "      <td>[{'cast_id': 3, 'character': 'Chun-soo', 'cred...</td>\n",
              "      <td>[{'credit_id': '52fe464b9251416c75073b43', 'de...</td>\n",
              "      <td>3923970</td>\n",
              "    </tr>\n",
              "  </tbody>\n",
              "</table>\n",
              "</div>"
            ],
            "text/plain": [
              "  id  ...   revenue\n",
              "0  1  ...  12314651\n",
              "1  2  ...  95149435\n",
              "2  3  ...  13092000\n",
              "3  4  ...  16000000\n",
              "4  5  ...   3923970\n",
              "\n",
              "[5 rows x 23 columns]"
            ]
          },
          "metadata": {},
          "execution_count": 99
        }
      ]
    },
    {
      "cell_type": "markdown",
      "metadata": {
        "id": "joEcHikdD5SY"
      },
      "source": [
        " ## Part 3: Adding numerical date features (5 points)"
      ]
    },
    {
      "cell_type": "markdown",
      "metadata": {
        "id": "nliC-9woDYd_"
      },
      "source": [
        "Next, we'll create some features based on the release date information. Create a new column storing the value for each of the following  aspects of a release date:\n",
        " \n",
        "```\n",
        "['year', 'weekday', 'month', 'weekofyear', 'day', 'quarter']\n",
        "```\n",
        " \n",
        "As usual, don't iterate explicitly to create these columns."
      ]
    },
    {
      "cell_type": "code",
      "metadata": {
        "id": "-K5u197bDX1A"
      },
      "source": [
        "# your code goes here"
      ],
      "execution_count": null,
      "outputs": []
    },
    {
      "cell_type": "markdown",
      "metadata": {
        "id": "KWLi9-BW97VX"
      },
      "source": [
        "Next, we'll drop the columns that will not be used for learning. "
      ]
    },
    {
      "cell_type": "code",
      "metadata": {
        "ExecuteTime": {
          "end_time": "2021-09-27T15:27:05.446343Z",
          "start_time": "2021-09-27T15:27:05.426250Z"
        },
        "id": "MbycSRqu8dR5"
      },
      "source": [
        "train = train.drop(['id', 'homepage', 'original_language',\n",
        "                    'title', 'imdb_id','crew', 'poster_path', \n",
        "                    'release_date', 'status', 'belongs_to_collection',\n",
        "                    'Keywords', 'original_title', 'overview',\n",
        "                    'production_companies', 'production_countries', \n",
        "                    'spoken_languages', 'tagline', 'cast','genres'], \n",
        "                   axis=1)"
      ],
      "execution_count": 100,
      "outputs": []
    },
    {
      "cell_type": "markdown",
      "metadata": {
        "id": "lOlV7ho4-OR9"
      },
      "source": [
        "Lastly, drop any rows with missing values."
      ]
    },
    {
      "cell_type": "code",
      "metadata": {
        "id": "asrzvNYy-NO4"
      },
      "source": [
        "# your code goes here"
      ],
      "execution_count": null,
      "outputs": []
    },
    {
      "cell_type": "markdown",
      "metadata": {
        "id": "tV_ANmOH0rQJ"
      },
      "source": [
        "## Part 4: Prediction (10 pts)"
      ]
    },
    {
      "cell_type": "markdown",
      "metadata": {
        "id": "9Y1XUwNX0rQL"
      },
      "source": [
        "Let's load the necessary `sklearn` libraries and prepare the training data for learning. Recall that your goal is to predict whether a movie has science fiction as an associated genre. So you're dealing with a binary classification task."
      ]
    },
    {
      "cell_type": "code",
      "metadata": {
        "id": "9Qpz2Cd60rQM"
      },
      "source": [
        "from sklearn.model_selection import train_test_split"
      ],
      "execution_count": 101,
      "outputs": []
    },
    {
      "cell_type": "markdown",
      "metadata": {
        "id": "dWzqddf90rQR"
      },
      "source": [
        "Use `sklearn` to prepare the training and test sets, setting aside 15% of the data for testing. Call the training input features, training labels, test input features and test labels as follows:\n",
        "\n",
        "```\n",
        "x_train, x_test, y_train, y_test\n",
        "```\n",
        "\n"
      ]
    },
    {
      "cell_type": "code",
      "metadata": {
        "id": "dDLDQWPl0rQS"
      },
      "source": [
        "# your code goes here"
      ],
      "execution_count": null,
      "outputs": []
    },
    {
      "cell_type": "markdown",
      "metadata": {
        "id": "AKaGZrSuLg1K"
      },
      "source": [
        "Feature scaling is a common requirement for many machine learning estimators: they might behave badly if the individual features do not more or less look like standard normally distributed data (e.g. Gaussian with 0 mean and unit variance). Run the following code to feature scale your input data."
      ]
    },
    {
      "cell_type": "code",
      "metadata": {
        "id": "by0c0S7s0rQY",
        "colab": {
          "base_uri": "https://localhost:8080/",
          "height": 239
        },
        "outputId": "ce1d78bb-a76a-4905-9767-a1f62ef6f35a"
      },
      "source": [
        "from sklearn.preprocessing import StandardScaler  \n",
        "scaler = StandardScaler()  \n",
        "scaler.fit(x_train)  \n",
        "x_train = scaler.transform(x_train) \n",
        "x_test = scaler.transform(x_test)"
      ],
      "execution_count": 102,
      "outputs": [
        {
          "output_type": "error",
          "ename": "NameError",
          "evalue": "ignored",
          "traceback": [
            "\u001b[0;31m---------------------------------------------------------------------------\u001b[0m",
            "\u001b[0;31mNameError\u001b[0m                                 Traceback (most recent call last)",
            "\u001b[0;32m<ipython-input-102-15b413fc9d21>\u001b[0m in \u001b[0;36m<module>\u001b[0;34m()\u001b[0m\n\u001b[1;32m      1\u001b[0m \u001b[0;32mfrom\u001b[0m \u001b[0msklearn\u001b[0m\u001b[0;34m.\u001b[0m\u001b[0mpreprocessing\u001b[0m \u001b[0;32mimport\u001b[0m \u001b[0mStandardScaler\u001b[0m\u001b[0;34m\u001b[0m\u001b[0;34m\u001b[0m\u001b[0m\n\u001b[1;32m      2\u001b[0m \u001b[0mscaler\u001b[0m \u001b[0;34m=\u001b[0m \u001b[0mStandardScaler\u001b[0m\u001b[0;34m(\u001b[0m\u001b[0;34m)\u001b[0m\u001b[0;34m\u001b[0m\u001b[0;34m\u001b[0m\u001b[0m\n\u001b[0;32m----> 3\u001b[0;31m \u001b[0mscaler\u001b[0m\u001b[0;34m.\u001b[0m\u001b[0mfit\u001b[0m\u001b[0;34m(\u001b[0m\u001b[0mx_train\u001b[0m\u001b[0;34m)\u001b[0m\u001b[0;34m\u001b[0m\u001b[0;34m\u001b[0m\u001b[0m\n\u001b[0m\u001b[1;32m      4\u001b[0m \u001b[0mx_train\u001b[0m \u001b[0;34m=\u001b[0m \u001b[0mscaler\u001b[0m\u001b[0;34m.\u001b[0m\u001b[0mtransform\u001b[0m\u001b[0;34m(\u001b[0m\u001b[0mx_train\u001b[0m\u001b[0;34m)\u001b[0m\u001b[0;34m\u001b[0m\u001b[0;34m\u001b[0m\u001b[0m\n\u001b[1;32m      5\u001b[0m \u001b[0mx_test\u001b[0m \u001b[0;34m=\u001b[0m \u001b[0mscaler\u001b[0m\u001b[0;34m.\u001b[0m\u001b[0mtransform\u001b[0m\u001b[0;34m(\u001b[0m\u001b[0mx_test\u001b[0m\u001b[0;34m)\u001b[0m\u001b[0;34m\u001b[0m\u001b[0;34m\u001b[0m\u001b[0m\n",
            "\u001b[0;31mNameError\u001b[0m: name 'x_train' is not defined"
          ]
        }
      ]
    },
    {
      "cell_type": "markdown",
      "metadata": {
        "id": "lxX0ugDuNR8o"
      },
      "source": [
        "Check that the shape of your data looks correct."
      ]
    },
    {
      "cell_type": "code",
      "metadata": {
        "id": "5tJHqw2M0rQf"
      },
      "source": [
        "print(x_train.shape, y_train.shape)\n",
        "print(x_test.shape, y_test.shape)"
      ],
      "execution_count": null,
      "outputs": []
    },
    {
      "cell_type": "markdown",
      "metadata": {
        "id": "90SIHxqzN3Ht"
      },
      "source": [
        "Train a classifier of your choice. Then report results:\n",
        "* Display the confusion matrix over the test set in absolute numbers.\n",
        "    * These numbers reflect number of true positives, true negatives, false positives and false negatives.\n",
        "* Display a normalized confusion matrix over the test set, so [sensitivity and specificity](https://en.wikipedia.org/wiki/Evaluation_of_binary_classifiers) can be read from the diagonal (off-diagonal will contain type I and type II error rates).\n",
        "    * Note that sensitivity is recall for the positive class (1), whereas specificity is recall for the negative class (0).\n",
        "* State **in free-text** the sensitivity and specificity of your classifier."
      ]
    },
    {
      "cell_type": "code",
      "metadata": {
        "id": "lIg8WIm3NiKN"
      },
      "source": [
        "# your code goes here"
      ],
      "execution_count": null,
      "outputs": []
    },
    {
      "cell_type": "markdown",
      "metadata": {
        "id": "lBkWn4WXA-QS"
      },
      "source": [
        "*Your explanation here*"
      ]
    },
    {
      "cell_type": "markdown",
      "metadata": {
        "id": "oP8IaWa9A-QS"
      },
      "source": [
        "## Part 5: Prediction with less leakage (5 points)"
      ]
    },
    {
      "cell_type": "markdown",
      "metadata": {
        "id": "ZKIGA3BOA-QS"
      },
      "source": [
        "From Wikipedia, [data leakage](https://en.wikipedia.org/wiki/Leakage_(machine_learning)) is the use of information in the model training process which would not be expected to be available at prediction time, causing the predictive scores (metrics) to overestimate the model's utility when run in a production environment.\n",
        "\n",
        "Feature or column-wise leakage is caused by the inclusion of columns which are one of the following: a duplicate label, a proxy for the label, or the label itself\n",
        "\n",
        "Considering we're doing binary classification of whether a movie is science fiction, identify the most prominent cause of feature leakage among the features added during Exercise 3. \n",
        "\n",
        "1) **Argue** for your choice, 2) train a classifier not subject to this feature leakage (it's OK to create a new train/test split) and 3) **report the results** as you did in Part 4."
      ]
    },
    {
      "cell_type": "markdown",
      "metadata": {
        "id": "Mb7FTGgTA-QS"
      },
      "source": [
        "*Your explanation here*"
      ]
    },
    {
      "cell_type": "code",
      "metadata": {
        "ExecuteTime": {
          "end_time": "2021-09-27T14:01:15.648444Z",
          "start_time": "2021-09-27T14:01:15.643363Z"
        },
        "id": "9CzDjF_pA-QS"
      },
      "source": [
        "# your code goes here"
      ],
      "execution_count": null,
      "outputs": []
    },
    {
      "cell_type": "markdown",
      "metadata": {
        "id": "hc4EOB-gb5pp"
      },
      "source": [
        "# Exercise 4: Basic movie recommendation system (20 points)"
      ]
    },
    {
      "cell_type": "markdown",
      "metadata": {
        "id": "7PqirpLgVdN0"
      },
      "source": [
        "In this exercise, you'll build a simple movie recommendation system.  The system will take a movie as input and recommend a list of similar movies. In order to recommend similar movies, you will use the correlation between the ratings of movies as a similarity metric. We'll use Pearson's correlation. \n",
        " \n",
        "The data for this exercise is available in the following URLs. It contains basic info about movies, as well as ratings provided by several users."
      ]
    },
    {
      "cell_type": "code",
      "metadata": {
        "ExecuteTime": {
          "end_time": "2021-09-27T14:49:08.552678Z",
          "start_time": "2021-09-27T14:49:08.547286Z"
        },
        "id": "HOHERjo8cLQo"
      },
      "source": [
        "url1 = 'http://courses.compute.dtu.dk/02807/2021/projects/project1/ratings.csv'\n",
        "url2 = 'http://courses.compute.dtu.dk/02807/2021/projects/project1/movies.csv'"
      ],
      "execution_count": 1,
      "outputs": []
    },
    {
      "cell_type": "markdown",
      "metadata": {
        "id": "YOXKd22xXgo2"
      },
      "source": [
        "## Part 1: Preparing the ratings data (10 pts)"
      ]
    },
    {
      "cell_type": "markdown",
      "metadata": {
        "id": "Isn8M65HXi3i"
      },
      "source": [
        "Read the data from these two URLs, and create a single dataframe from them, with the following columns:\n",
        "\n",
        "| userId | movieId | rating | timestamp | title | genres |\n",
        "|--------|---------|--------|-----------|-------|--------|\n",
        "|        |         |        |           |       |        |\n",
        "\n",
        "Call the dataframe `movie_data`."
      ]
    },
    {
      "cell_type": "code",
      "metadata": {
        "id": "GwhdEsGUn1zz",
        "colab": {
          "base_uri": "https://localhost:8080/",
          "height": 195
        },
        "outputId": "339e20fe-2076-41da-d3f7-c211e17dfb8a"
      },
      "source": [
        "# your code goes here\n",
        "movie_data = pd.merge(pd.read_csv(url1),pd.read_csv(url2)) # Call the dataframe movie_data.\n",
        "movie_data.head()"
      ],
      "execution_count": 7,
      "outputs": [
        {
          "output_type": "execute_result",
          "data": {
            "text/html": [
              "<div>\n",
              "<style scoped>\n",
              "    .dataframe tbody tr th:only-of-type {\n",
              "        vertical-align: middle;\n",
              "    }\n",
              "\n",
              "    .dataframe tbody tr th {\n",
              "        vertical-align: top;\n",
              "    }\n",
              "\n",
              "    .dataframe thead th {\n",
              "        text-align: right;\n",
              "    }\n",
              "</style>\n",
              "<table border=\"1\" class=\"dataframe\">\n",
              "  <thead>\n",
              "    <tr style=\"text-align: right;\">\n",
              "      <th></th>\n",
              "      <th>userId</th>\n",
              "      <th>movieId</th>\n",
              "      <th>rating</th>\n",
              "      <th>timestamp</th>\n",
              "      <th>title</th>\n",
              "      <th>genres</th>\n",
              "    </tr>\n",
              "  </thead>\n",
              "  <tbody>\n",
              "    <tr>\n",
              "      <th>0</th>\n",
              "      <td>1</td>\n",
              "      <td>1</td>\n",
              "      <td>4.0</td>\n",
              "      <td>964982703</td>\n",
              "      <td>Toy Story (1995)</td>\n",
              "      <td>Adventure|Animation|Children|Comedy|Fantasy</td>\n",
              "    </tr>\n",
              "    <tr>\n",
              "      <th>1</th>\n",
              "      <td>5</td>\n",
              "      <td>1</td>\n",
              "      <td>4.0</td>\n",
              "      <td>847434962</td>\n",
              "      <td>Toy Story (1995)</td>\n",
              "      <td>Adventure|Animation|Children|Comedy|Fantasy</td>\n",
              "    </tr>\n",
              "    <tr>\n",
              "      <th>2</th>\n",
              "      <td>7</td>\n",
              "      <td>1</td>\n",
              "      <td>4.5</td>\n",
              "      <td>1106635946</td>\n",
              "      <td>Toy Story (1995)</td>\n",
              "      <td>Adventure|Animation|Children|Comedy|Fantasy</td>\n",
              "    </tr>\n",
              "    <tr>\n",
              "      <th>3</th>\n",
              "      <td>15</td>\n",
              "      <td>1</td>\n",
              "      <td>2.5</td>\n",
              "      <td>1510577970</td>\n",
              "      <td>Toy Story (1995)</td>\n",
              "      <td>Adventure|Animation|Children|Comedy|Fantasy</td>\n",
              "    </tr>\n",
              "    <tr>\n",
              "      <th>4</th>\n",
              "      <td>17</td>\n",
              "      <td>1</td>\n",
              "      <td>4.5</td>\n",
              "      <td>1305696483</td>\n",
              "      <td>Toy Story (1995)</td>\n",
              "      <td>Adventure|Animation|Children|Comedy|Fantasy</td>\n",
              "    </tr>\n",
              "  </tbody>\n",
              "</table>\n",
              "</div>"
            ],
            "text/plain": [
              "   userId  ...                                       genres\n",
              "0       1  ...  Adventure|Animation|Children|Comedy|Fantasy\n",
              "1       5  ...  Adventure|Animation|Children|Comedy|Fantasy\n",
              "2       7  ...  Adventure|Animation|Children|Comedy|Fantasy\n",
              "3      15  ...  Adventure|Animation|Children|Comedy|Fantasy\n",
              "4      17  ...  Adventure|Animation|Children|Comedy|Fantasy\n",
              "\n",
              "[5 rows x 6 columns]"
            ]
          },
          "metadata": {},
          "execution_count": 7
        }
      ]
    },
    {
      "cell_type": "markdown",
      "metadata": {
        "id": "MFGc9VSzadHi"
      },
      "source": [
        "To find the correlation between the ratings of movies, create a dataframe where each column is a movie name and each row contains the rating assigned by a specific user to that movie. \n",
        "\n",
        "You'll notice that this dataframe has many NaN values, since each movie is not rated by every user. Call the dataframe `user_ratings`."
      ]
    },
    {
      "cell_type": "code",
      "metadata": {
        "id": "eTrrVPsrfn1Q",
        "colab": {
          "base_uri": "https://localhost:8080/",
          "height": 239
        },
        "outputId": "eaa77dc2-66a9-41c6-e5c1-5acbdfbd0bed"
      },
      "source": [
        "# your code goes here\n",
        "user_ratings = movie_data.pivot_table(values=['rating'],\n",
        "               index=['userId'],\n",
        "               columns=['title']) # Call the dataframe user_ratings.\n",
        "user_ratings.head(7)"
      ],
      "execution_count": 6,
      "outputs": [
        {
          "output_type": "error",
          "ename": "NameError",
          "evalue": "ignored",
          "traceback": [
            "\u001b[0;31m---------------------------------------------------------------------------\u001b[0m",
            "\u001b[0;31mNameError\u001b[0m                                 Traceback (most recent call last)",
            "\u001b[0;32m<ipython-input-6-722de3f8fd18>\u001b[0m in \u001b[0;36m<module>\u001b[0;34m()\u001b[0m\n\u001b[1;32m      1\u001b[0m \u001b[0;31m# your code goes here\u001b[0m\u001b[0;34m\u001b[0m\u001b[0;34m\u001b[0m\u001b[0;34m\u001b[0m\u001b[0m\n\u001b[0;32m----> 2\u001b[0;31m user_ratings = movie_data.pivot_table(values=['rating'],\n\u001b[0m\u001b[1;32m      3\u001b[0m                \u001b[0mindex\u001b[0m\u001b[0;34m=\u001b[0m\u001b[0;34m[\u001b[0m\u001b[0;34m'userId'\u001b[0m\u001b[0;34m]\u001b[0m\u001b[0;34m,\u001b[0m\u001b[0;34m\u001b[0m\u001b[0;34m\u001b[0m\u001b[0m\n\u001b[1;32m      4\u001b[0m                columns=['title']) # Call the dataframe user_ratings.\n\u001b[1;32m      5\u001b[0m \u001b[0muser_ratings\u001b[0m\u001b[0;34m.\u001b[0m\u001b[0mhead\u001b[0m\u001b[0;34m(\u001b[0m\u001b[0;36m7\u001b[0m\u001b[0;34m)\u001b[0m\u001b[0;34m\u001b[0m\u001b[0;34m\u001b[0m\u001b[0m\n",
            "\u001b[0;31mNameError\u001b[0m: name 'movie_data' is not defined"
          ]
        }
      ]
    },
    {
      "cell_type": "markdown",
      "metadata": {
        "id": "05b7IEesQz7i"
      },
      "source": [
        ""
      ]
    },
    {
      "cell_type": "markdown",
      "metadata": {
        "id": "hy61Luqyu2Te"
      },
      "source": [
        "## Part 2: Finding the most similar movies (10 pts)"
      ]
    },
    {
      "cell_type": "markdown",
      "metadata": {
        "id": "M7FBDshDd1j7"
      },
      "source": [
        "Each column contains all the user ratings for a particular movie. Let's take the user ratings for the movie Toy Story."
      ]
    },
    {
      "cell_type": "code",
      "metadata": {
        "id": "6e-9WXAro_4-",
        "colab": {
          "base_uri": "https://localhost:8080/"
        },
        "outputId": "10d6b2b3-a07b-4992-9b9e-108073772343"
      },
      "source": [
        "toystory_ratings = user_ratings['Toy Story (1995)']\n",
        "toystory_ratings"
      ],
      "execution_count": 106,
      "outputs": [
        {
          "output_type": "execute_result",
          "data": {
            "text/plain": [
              "0      4.0\n",
              "1      4.0\n",
              "2      4.5\n",
              "3      2.5\n",
              "4      4.5\n",
              "      ... \n",
              "324    NaN\n",
              "325    NaN\n",
              "326    NaN\n",
              "327    NaN\n",
              "328    NaN\n",
              "Name: Toy Story (1995), Length: 329, dtype: float64"
            ]
          },
          "metadata": {},
          "execution_count": 106
        }
      ]
    },
    {
      "cell_type": "markdown",
      "metadata": {
        "id": "fljIQkJmpCJD"
      },
      "source": [
        "Next, find the correlation between the user ratings for Toy Story and the user ratings of all other movies. \n",
        " \n",
        "More specifically, create a dataframe that contains two columns, called `title` and `Correlation`. Each row should contain a movie title $x$, followed by the pairwise correlation between the column of ratings for Toy Story and the column of ratings for $x$.  Drop any rows with null values, and display the resulting dataframe.\n",
        " \n",
        "Use built-in functions to compute correlations and avoid explicit loops."
      ]
    },
    {
      "cell_type": "code",
      "metadata": {
        "id": "_yuX1U0Xh0nk",
        "colab": {
          "base_uri": "https://localhost:8080/",
          "height": 266
        },
        "outputId": "d4f76692-e623-4e18-abf6-cbadaba72600"
      },
      "source": [
        "# your code goes here\n",
        "df_movies = user_ratings.corrwith(toystory_ratings)\n",
        "\n",
        "df_corr = pd.DataFrame(df_movies, columns=['Correlation']).dropna()\n",
        "df_corr.head()"
      ],
      "execution_count": 107,
      "outputs": [
        {
          "output_type": "stream",
          "name": "stderr",
          "text": [
            "/usr/local/lib/python3.7/dist-packages/numpy/lib/function_base.py:2551: RuntimeWarning: Degrees of freedom <= 0 for slice\n",
            "  c = cov(x, y, rowvar)\n",
            "/usr/local/lib/python3.7/dist-packages/numpy/lib/function_base.py:2480: RuntimeWarning: divide by zero encountered in true_divide\n",
            "  c *= np.true_divide(1, fact)\n"
          ]
        },
        {
          "output_type": "execute_result",
          "data": {
            "text/html": [
              "<div>\n",
              "<style scoped>\n",
              "    .dataframe tbody tr th:only-of-type {\n",
              "        vertical-align: middle;\n",
              "    }\n",
              "\n",
              "    .dataframe tbody tr th {\n",
              "        vertical-align: top;\n",
              "    }\n",
              "\n",
              "    .dataframe thead th {\n",
              "        text-align: right;\n",
              "    }\n",
              "</style>\n",
              "<table border=\"1\" class=\"dataframe\">\n",
              "  <thead>\n",
              "    <tr style=\"text-align: right;\">\n",
              "      <th></th>\n",
              "      <th>Correlation</th>\n",
              "    </tr>\n",
              "  </thead>\n",
              "  <tbody>\n",
              "    <tr>\n",
              "      <th>'burbs, The (1989)</th>\n",
              "      <td>0.076676</td>\n",
              "    </tr>\n",
              "    <tr>\n",
              "      <th>(500) Days of Summer (2009)</th>\n",
              "      <td>0.142422</td>\n",
              "    </tr>\n",
              "    <tr>\n",
              "      <th>*batteries not included (1987)</th>\n",
              "      <td>0.141421</td>\n",
              "    </tr>\n",
              "    <tr>\n",
              "      <th>...And Justice for All (1979)</th>\n",
              "      <td>-0.755929</td>\n",
              "    </tr>\n",
              "    <tr>\n",
              "      <th>10 (1979)</th>\n",
              "      <td>0.140028</td>\n",
              "    </tr>\n",
              "  </tbody>\n",
              "</table>\n",
              "</div>"
            ],
            "text/plain": [
              "                                Correlation\n",
              "'burbs, The (1989)                 0.076676\n",
              "(500) Days of Summer (2009)        0.142422\n",
              "*batteries not included (1987)     0.141421\n",
              "...And Justice for All (1979)     -0.755929\n",
              "10 (1979)                          0.140028"
            ]
          },
          "metadata": {},
          "execution_count": 107
        }
      ]
    },
    {
      "cell_type": "markdown",
      "metadata": {
        "id": "aji7cUw-r-JG"
      },
      "source": [
        "Sort the movies by descending order of correlation to find out highly correlated movies at the top. Display the 5 most highly correlated movies.\n"
      ]
    },
    {
      "cell_type": "code",
      "metadata": {
        "id": "FU0Zm9fjg4BD",
        "colab": {
          "base_uri": "https://localhost:8080/",
          "height": 195
        },
        "outputId": "7f599f58-69f9-49df-9a60-756b26c5ec03"
      },
      "source": [
        "# your code goes here\n",
        "df_corr.sort_values(by=['Correlation'],ascending=False).head(5) # display 5 most highly correlated movies."
      ],
      "execution_count": 108,
      "outputs": [
        {
          "output_type": "execute_result",
          "data": {
            "text/html": [
              "<div>\n",
              "<style scoped>\n",
              "    .dataframe tbody tr th:only-of-type {\n",
              "        vertical-align: middle;\n",
              "    }\n",
              "\n",
              "    .dataframe tbody tr th {\n",
              "        vertical-align: top;\n",
              "    }\n",
              "\n",
              "    .dataframe thead th {\n",
              "        text-align: right;\n",
              "    }\n",
              "</style>\n",
              "<table border=\"1\" class=\"dataframe\">\n",
              "  <thead>\n",
              "    <tr style=\"text-align: right;\">\n",
              "      <th></th>\n",
              "      <th>Correlation</th>\n",
              "    </tr>\n",
              "  </thead>\n",
              "  <tbody>\n",
              "    <tr>\n",
              "      <th>Heaven's Prisoners (1996)</th>\n",
              "      <td>1.0</td>\n",
              "    </tr>\n",
              "    <tr>\n",
              "      <th>Tristram Shandy: A Cock and Bull Story (2005)</th>\n",
              "      <td>1.0</td>\n",
              "    </tr>\n",
              "    <tr>\n",
              "      <th>Urban Legends: Final Cut (2000)</th>\n",
              "      <td>1.0</td>\n",
              "    </tr>\n",
              "    <tr>\n",
              "      <th>Date with an Angel (1987)</th>\n",
              "      <td>1.0</td>\n",
              "    </tr>\n",
              "    <tr>\n",
              "      <th>Deuce Bigalow: European Gigolo (2005)</th>\n",
              "      <td>1.0</td>\n",
              "    </tr>\n",
              "  </tbody>\n",
              "</table>\n",
              "</div>"
            ],
            "text/plain": [
              "                                               Correlation\n",
              "Heaven's Prisoners (1996)                              1.0\n",
              "Tristram Shandy: A Cock and Bull Story (2005)          1.0\n",
              "Urban Legends: Final Cut (2000)                        1.0\n",
              "Date with an Angel (1987)                              1.0\n",
              "Deuce Bigalow: European Gigolo (2005)                  1.0"
            ]
          },
          "metadata": {},
          "execution_count": 108
        }
      ]
    },
    {
      "cell_type": "markdown",
      "metadata": {
        "id": "qrvD_u63sVdD"
      },
      "source": [
        "If you computed correlations correctly, you will find that the recommended movies are not very well known. We can generate more popular recommendations by finding highly correlated movies that have a sensible number of ratings. \n",
        " \n",
        "Add a column to your correlation table, called `rating_counts`, which stores the number of ratings received by each movie."
      ]
    },
    {
      "cell_type": "code",
      "metadata": {
        "id": "WvMKUmBFg-Ow",
        "colab": {
          "base_uri": "https://localhost:8080/",
          "height": 195
        },
        "outputId": "c08727cf-35d0-44d3-ee1d-ebfc434de13b"
      },
      "source": [
        "# your code goes here\n",
        "df_corr['rating_counts'] = movie_data.groupby('title')['rating'].count()\n",
        "df_corr.head()"
      ],
      "execution_count": 109,
      "outputs": [
        {
          "output_type": "execute_result",
          "data": {
            "text/html": [
              "<div>\n",
              "<style scoped>\n",
              "    .dataframe tbody tr th:only-of-type {\n",
              "        vertical-align: middle;\n",
              "    }\n",
              "\n",
              "    .dataframe tbody tr th {\n",
              "        vertical-align: top;\n",
              "    }\n",
              "\n",
              "    .dataframe thead th {\n",
              "        text-align: right;\n",
              "    }\n",
              "</style>\n",
              "<table border=\"1\" class=\"dataframe\">\n",
              "  <thead>\n",
              "    <tr style=\"text-align: right;\">\n",
              "      <th></th>\n",
              "      <th>Correlation</th>\n",
              "      <th>rating_counts</th>\n",
              "    </tr>\n",
              "  </thead>\n",
              "  <tbody>\n",
              "    <tr>\n",
              "      <th>'burbs, The (1989)</th>\n",
              "      <td>0.076676</td>\n",
              "      <td>17</td>\n",
              "    </tr>\n",
              "    <tr>\n",
              "      <th>(500) Days of Summer (2009)</th>\n",
              "      <td>0.142422</td>\n",
              "      <td>42</td>\n",
              "    </tr>\n",
              "    <tr>\n",
              "      <th>*batteries not included (1987)</th>\n",
              "      <td>0.141421</td>\n",
              "      <td>7</td>\n",
              "    </tr>\n",
              "    <tr>\n",
              "      <th>...And Justice for All (1979)</th>\n",
              "      <td>-0.755929</td>\n",
              "      <td>3</td>\n",
              "    </tr>\n",
              "    <tr>\n",
              "      <th>10 (1979)</th>\n",
              "      <td>0.140028</td>\n",
              "      <td>4</td>\n",
              "    </tr>\n",
              "  </tbody>\n",
              "</table>\n",
              "</div>"
            ],
            "text/plain": [
              "                                Correlation  rating_counts\n",
              "'burbs, The (1989)                 0.076676             17\n",
              "(500) Days of Summer (2009)        0.142422             42\n",
              "*batteries not included (1987)     0.141421              7\n",
              "...And Justice for All (1979)     -0.755929              3\n",
              "10 (1979)                          0.140028              4"
            ]
          },
          "metadata": {},
          "execution_count": 109
        }
      ]
    },
    {
      "cell_type": "markdown",
      "metadata": {
        "id": "b_20nfFvt-7y"
      },
      "source": [
        "Now find the 5 movies with the highest correlation with Toy Story, which have strictly more than 100 ratings. Display the result below. "
      ]
    },
    {
      "cell_type": "code",
      "metadata": {
        "id": "KvE3c2lMhHNz",
        "colab": {
          "base_uri": "https://localhost:8080/",
          "height": 195
        },
        "outputId": "af11cc05-1be9-4238-d96f-f657af5de38f"
      },
      "source": [
        "# your code goes here\n",
        "df_corr[df_corr ['rating_counts']>100].sort_values('Correlation', ascending=False).head(5) # 5 movies with the highest correlation which have strictly more than 100 ratings"
      ],
      "execution_count": 110,
      "outputs": [
        {
          "output_type": "execute_result",
          "data": {
            "text/html": [
              "<div>\n",
              "<style scoped>\n",
              "    .dataframe tbody tr th:only-of-type {\n",
              "        vertical-align: middle;\n",
              "    }\n",
              "\n",
              "    .dataframe tbody tr th {\n",
              "        vertical-align: top;\n",
              "    }\n",
              "\n",
              "    .dataframe thead th {\n",
              "        text-align: right;\n",
              "    }\n",
              "</style>\n",
              "<table border=\"1\" class=\"dataframe\">\n",
              "  <thead>\n",
              "    <tr style=\"text-align: right;\">\n",
              "      <th></th>\n",
              "      <th>Correlation</th>\n",
              "      <th>rating_counts</th>\n",
              "    </tr>\n",
              "  </thead>\n",
              "  <tbody>\n",
              "    <tr>\n",
              "      <th>Toy Story (1995)</th>\n",
              "      <td>1.000000</td>\n",
              "      <td>215</td>\n",
              "    </tr>\n",
              "    <tr>\n",
              "      <th>American Pie (1999)</th>\n",
              "      <td>0.212504</td>\n",
              "      <td>103</td>\n",
              "    </tr>\n",
              "    <tr>\n",
              "      <th>Apocalypse Now (1979)</th>\n",
              "      <td>0.198007</td>\n",
              "      <td>107</td>\n",
              "    </tr>\n",
              "    <tr>\n",
              "      <th>Stargate (1994)</th>\n",
              "      <td>0.190996</td>\n",
              "      <td>140</td>\n",
              "    </tr>\n",
              "    <tr>\n",
              "      <th>Home Alone (1990)</th>\n",
              "      <td>0.183715</td>\n",
              "      <td>116</td>\n",
              "    </tr>\n",
              "  </tbody>\n",
              "</table>\n",
              "</div>"
            ],
            "text/plain": [
              "                       Correlation  rating_counts\n",
              "Toy Story (1995)          1.000000            215\n",
              "American Pie (1999)       0.212504            103\n",
              "Apocalypse Now (1979)     0.198007            107\n",
              "Stargate (1994)           0.190996            140\n",
              "Home Alone (1990)         0.183715            116"
            ]
          },
          "metadata": {},
          "execution_count": 110
        }
      ]
    }
  ]
}